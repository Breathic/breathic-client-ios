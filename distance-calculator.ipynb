{
 "cells": [
  {
   "cell_type": "code",
   "execution_count": 1,
   "id": "ba1fcb11",
   "metadata": {},
   "outputs": [],
   "source": [
    "import os\n",
    "import numpy as np\n",
    "import seaborn as sns\n",
    "import pandas as pd\n",
    "import subprocess\n",
    "from dtw import correlate\n",
    "import json\n",
    "import librosa\n",
    "import IPython.display as ipd\n",
    "from random import random\n",
    "import math\n",
    "\n",
    "MAX_AUDIO_DURATION = 2.5\n",
    "MAX_SAMPLE_COUNT_PER_ARTIST = 100\n",
    "MAX_SAMPLE_COMPARISON_COUNT = 100\n",
    "\n",
    "apppath = os.path.expanduser('/Users/andrusasumets/projects/experiments/pacemaker/')\n",
    "processedpath = os.path.join(apppath, 'processed/')\n",
    "soxipath = os.path.join(processedpath, 'soxi/')\n",
    "wavpath = os.path.join(processedpath, 'wav/')\n",
    "audiopath = os.path.join(processedpath, 'audio/')\n",
    "normalizedpath = os.path.join(processedpath, 'normalized/')\n",
    "dtwpath = os.path.join(processedpath, 'dtw/')\n",
    "extensionpath = os.path.join(apppath, 'pacemaker WatchKit Extension/data/')\n",
    "extensionsamplepath = os.path.join(extensionpath, 'samples/')\n",
    "librarypath = os.path.expanduser('/Volumes/LaCie/freesound-crawler/downloads/')\n",
    "allowedfileformats = ['wav', 'aiff', 'flac', 'ogg', 'mp3', 'm4a']\n",
    "audiofileformat = 'm4a'\n",
    "\n",
    "for p in [processedpath, soxipath, wavpath, audiopath, normalizedpath, dtwpath, extensionpath, extensionsamplepath]:\n",
    "    if not os.path.exists(p):\n",
    "        os.makedirs(p)"
   ]
  },
  {
   "cell_type": "code",
   "execution_count": 2,
   "id": "630d2b7e",
   "metadata": {},
   "outputs": [
    {
     "name": "stdout",
     "output_type": "stream",
     "text": [
      "artists: 53\n",
      "['gameaudio', 'egolessdub', 'batchku', 'dneproman', 'walter-odington', 'errorcell', 'drfx', 'adcbicycle', 'potentjello', 'phr4kture', 'rutgermuller', 'sturmankin', 'ianstargem', 'pjcohen', 'the-very-real-horst', 'felix-blume', 'firnwald', 'suicidity', 'veiler', 'ecodtr', 'martian', 'kanito', 'soneproject', 'cormi', 'john-scott', 'kyles', 'rucisko', 'spankmyfilth', 'samplecat', 'schafferdavid', 'galeku', 'jjbbllkk', 'hello-flowers', 'psysofastia', 'growingup', 'adcbicycle', 'ianstargem', 'ecodtr', 'owlstorm', 'nox-sound', 'chaad', 'giomilko', 'carlmartin', 'art6nik', 'unfav', 'deadrobotmusic', 'kreutzkamp', 'staticpony1', 'the-sacha', 'vinjatovix', 'owstu', 'phantastonia', 'cpolcyn']\n"
     ]
    }
   ],
   "source": [
    "f = open(apppath + 'artists.txt')\n",
    "artists = ''.join(f.readlines()).strip().replace('\\n', ',').split(',')\n",
    "print('artists:', len(artists))\n",
    "print(artists)"
   ]
  },
  {
   "cell_type": "code",
   "execution_count": 3,
   "id": "f948d2e8",
   "metadata": {},
   "outputs": [
    {
     "name": "stdout",
     "output_type": "stream",
     "text": [
      "fileformats {'wav': 43017, 'mp3': 2756, 'aiff': 17770, 'flac': 2696, 'ogg': 588, 'm4a': 141, 'crdownload': 7, 'DS_Store': 1}\n",
      "all_filenames: 66976\n"
     ]
    }
   ],
   "source": [
    "def get_fileformat(filename):\n",
    "    return filename.split('.')[len(filename.split('.')) - 1]\n",
    "\n",
    "all_filenames = [f for f in os.listdir(librarypath)]\n",
    "fileformats = {}\n",
    "for filename in all_filenames:\n",
    "    fileformat = get_fileformat(filename)\n",
    "    \n",
    "    if fileformat not in fileformats:\n",
    "        fileformats[fileformat] = 0\n",
    "         \n",
    "    fileformats[fileformat] = fileformats[fileformat] + 1\n",
    "    \n",
    "print('fileformats', fileformats)\n",
    "print('all_filenames:', len(all_filenames))\n",
    "\n",
    "filenames = [f for f in os.listdir(librarypath) if f.endswith(tuple(allowedfileformats))]\n",
    "filenames = [f for f in filenames if f.count('__') == 2]\n",
    "processedfilenames = [f for f in os.listdir(audiopath) if f.endswith(audiofileformat)]"
   ]
  },
  {
   "cell_type": "code",
   "execution_count": 4,
   "id": "0480e41a",
   "metadata": {},
   "outputs": [],
   "source": [
    "def create_or_read_file(command, outfilename):\n",
    "    if os.path.exists(outfilename):\n",
    "        f = open(outfilename, \"r\")\n",
    "        out = ''.join(f.readlines())\n",
    "        f.close()\n",
    "        return out\n",
    "    else:\n",
    "        try:\n",
    "            out = str(subprocess.check_output(command).decode(encoding=\"utf-8\")).strip().replace('\\\\n', '').replace(\"'\", \"\")\n",
    "\n",
    "            with open(outfilename, 'w') as file:\n",
    "                file.write(out)\n",
    "\n",
    "            return out\n",
    "        except Exception as e:\n",
    "            return "
   ]
  },
  {
   "cell_type": "code",
   "execution_count": null,
   "id": "3cc3ebeb",
   "metadata": {
    "scrolled": true
   },
   "outputs": [
    {
     "name": "stdout",
     "output_type": "stream",
     "text": [
      "['ffmpeg-normalize', '/Volumes/LaCie/freesound-crawler/downloads/188650__soniktec__freesound-set-marker-15.wav', '-o', '/Users/andrusasumets/projects/experiments/pacemaker/processed/normalized/188650__soniktec__freesound-set-marker-15.wav']\n"
     ]
    },
    {
     "name": "stderr",
     "output_type": "stream",
     "text": [
      "\u001b[1;33m\u001b[1;33m\u001b[1;33m\u001b[1;33m\u001b[1;33m\u001b[1;33mWARNING\u001b[1;0m\u001b[1;0m\u001b[1;0m\u001b[1;0m\u001b[1;0m\u001b[1;0m: Audio stream has a duration of less than 3 seconds. Normalization may not work. See https://github.com/slhck/ffmpeg-normalize/issues/87 for more info.\n"
     ]
    },
    {
     "name": "stdout",
     "output_type": "stream",
     "text": [
      "['ffmpeg', '-loglevel', 'error', '-i', '/Users/andrusasumets/projects/experiments/pacemaker/processed/normalized/188650__soniktec__freesound-set-marker-15.wav', '-acodec', 'pcm_s16le', '-ac', '1', '-ar', '100', '-threads', '6', '-y', '/Users/andrusasumets/projects/experiments/pacemaker/processed/wav/188650.wav']\n",
      "['ffmpeg', '-loglevel', 'error', '-i', '/Users/andrusasumets/projects/experiments/pacemaker/processed/normalized/188650__soniktec__freesound-set-marker-15.wav', '-c:a', 'aac', '-ar', '44100', '-threads', '6', '-y', '/Users/andrusasumets/projects/experiments/pacemaker/processed/audio/188650.m4a']\n",
      "['ffmpeg-normalize', '/Volumes/LaCie/freesound-crawler/downloads/189537__tinga__turdus-merula-26.wav', '-o', '/Users/andrusasumets/projects/experiments/pacemaker/processed/normalized/189537__tinga__turdus-merula-26.wav']\n"
     ]
    },
    {
     "name": "stderr",
     "output_type": "stream",
     "text": [
      "\u001b[1;33m\u001b[1;33m\u001b[1;33m\u001b[1;33m\u001b[1;33m\u001b[1;33mWARNING\u001b[1;0m\u001b[1;0m\u001b[1;0m\u001b[1;0m\u001b[1;0m\u001b[1;0m: Audio stream has a duration of less than 3 seconds. Normalization may not work. See https://github.com/slhck/ffmpeg-normalize/issues/87 for more info.\n"
     ]
    },
    {
     "name": "stdout",
     "output_type": "stream",
     "text": [
      "['ffmpeg', '-loglevel', 'error', '-i', '/Users/andrusasumets/projects/experiments/pacemaker/processed/normalized/189537__tinga__turdus-merula-26.wav', '-acodec', 'pcm_s16le', '-ac', '1', '-ar', '100', '-threads', '6', '-y', '/Users/andrusasumets/projects/experiments/pacemaker/processed/wav/189537.wav']\n",
      "['ffmpeg', '-loglevel', 'error', '-i', '/Users/andrusasumets/projects/experiments/pacemaker/processed/normalized/189537__tinga__turdus-merula-26.wav', '-c:a', 'aac', '-ar', '44100', '-threads', '6', '-y', '/Users/andrusasumets/projects/experiments/pacemaker/processed/audio/189537.m4a']\n",
      "['ffmpeg-normalize', '/Volumes/LaCie/freesound-crawler/downloads/345365__jalastram__kick-010.wav', '-o', '/Users/andrusasumets/projects/experiments/pacemaker/processed/normalized/345365__jalastram__kick-010.wav']\n"
     ]
    },
    {
     "name": "stderr",
     "output_type": "stream",
     "text": [
      "\u001b[1;33m\u001b[1;33m\u001b[1;33m\u001b[1;33m\u001b[1;33m\u001b[1;33mWARNING\u001b[1;0m\u001b[1;0m\u001b[1;0m\u001b[1;0m\u001b[1;0m\u001b[1;0m: Audio stream has a duration of less than 3 seconds. Normalization may not work. See https://github.com/slhck/ffmpeg-normalize/issues/87 for more info.\n"
     ]
    },
    {
     "name": "stdout",
     "output_type": "stream",
     "text": [
      "['ffmpeg', '-loglevel', 'error', '-i', '/Users/andrusasumets/projects/experiments/pacemaker/processed/normalized/345365__jalastram__kick-010.wav', '-acodec', 'pcm_s16le', '-ac', '1', '-ar', '100', '-threads', '6', '-y', '/Users/andrusasumets/projects/experiments/pacemaker/processed/wav/345365.wav']\n",
      "['ffmpeg', '-loglevel', 'error', '-i', '/Users/andrusasumets/projects/experiments/pacemaker/processed/normalized/345365__jalastram__kick-010.wav', '-c:a', 'aac', '-ar', '44100', '-threads', '6', '-y', '/Users/andrusasumets/projects/experiments/pacemaker/processed/audio/345365.m4a']\n",
      "['ffmpeg-normalize', '/Volumes/LaCie/freesound-crawler/downloads/426517__shintaboy__56-piedras.wav', '-o', '/Users/andrusasumets/projects/experiments/pacemaker/processed/normalized/426517__shintaboy__56-piedras.wav']\n"
     ]
    },
    {
     "name": "stderr",
     "output_type": "stream",
     "text": [
      "\u001b[1;33m\u001b[1;33m\u001b[1;33m\u001b[1;33m\u001b[1;33m\u001b[1;33mWARNING\u001b[1;0m\u001b[1;0m\u001b[1;0m\u001b[1;0m\u001b[1;0m\u001b[1;0m: Audio stream has a duration of less than 3 seconds. Normalization may not work. See https://github.com/slhck/ffmpeg-normalize/issues/87 for more info.\n"
     ]
    },
    {
     "name": "stdout",
     "output_type": "stream",
     "text": [
      "['ffmpeg', '-loglevel', 'error', '-i', '/Users/andrusasumets/projects/experiments/pacemaker/processed/normalized/426517__shintaboy__56-piedras.wav', '-acodec', 'pcm_s16le', '-ac', '1', '-ar', '100', '-threads', '6', '-y', '/Users/andrusasumets/projects/experiments/pacemaker/processed/wav/426517.wav']\n",
      "['ffmpeg', '-loglevel', 'error', '-i', '/Users/andrusasumets/projects/experiments/pacemaker/processed/normalized/426517__shintaboy__56-piedras.wav', '-c:a', 'aac', '-ar', '44100', '-threads', '6', '-y', '/Users/andrusasumets/projects/experiments/pacemaker/processed/audio/426517.m4a']\n",
      "['ffmpeg-normalize', '/Volumes/LaCie/freesound-crawler/downloads/557982__zzztefanos__zzzbeats-miscellaneous-music-fragments-0217.wav', '-o', '/Users/andrusasumets/projects/experiments/pacemaker/processed/normalized/557982__zzztefanos__zzzbeats-miscellaneous-music-fragments-0217.wav']\n"
     ]
    },
    {
     "name": "stderr",
     "output_type": "stream",
     "text": [
      "\u001b[1;33m\u001b[1;33m\u001b[1;33m\u001b[1;33m\u001b[1;33m\u001b[1;33mWARNING\u001b[1;0m\u001b[1;0m\u001b[1;0m\u001b[1;0m\u001b[1;0m\u001b[1;0m: Audio stream has a duration of less than 3 seconds. Normalization may not work. See https://github.com/slhck/ffmpeg-normalize/issues/87 for more info.\n"
     ]
    },
    {
     "name": "stdout",
     "output_type": "stream",
     "text": [
      "['ffmpeg', '-loglevel', 'error', '-i', '/Users/andrusasumets/projects/experiments/pacemaker/processed/normalized/557982__zzztefanos__zzzbeats-miscellaneous-music-fragments-0217.wav', '-acodec', 'pcm_s16le', '-ac', '1', '-ar', '100', '-threads', '6', '-y', '/Users/andrusasumets/projects/experiments/pacemaker/processed/wav/557982.wav']\n",
      "['ffmpeg', '-loglevel', 'error', '-i', '/Users/andrusasumets/projects/experiments/pacemaker/processed/normalized/557982__zzztefanos__zzzbeats-miscellaneous-music-fragments-0217.wav', '-c:a', 'aac', '-ar', '44100', '-threads', '6', '-y', '/Users/andrusasumets/projects/experiments/pacemaker/processed/audio/557982.m4a']\n",
      "['ffmpeg-normalize', '/Volumes/LaCie/freesound-crawler/downloads/463766__hz37__up-swish-x2-hza-07-03-2019.wav', '-o', '/Users/andrusasumets/projects/experiments/pacemaker/processed/normalized/463766__hz37__up-swish-x2-hza-07-03-2019.wav']\n"
     ]
    },
    {
     "name": "stderr",
     "output_type": "stream",
     "text": [
      "\u001b[1;33m\u001b[1;33m\u001b[1;33m\u001b[1;33m\u001b[1;33m\u001b[1;33mWARNING\u001b[1;0m\u001b[1;0m\u001b[1;0m\u001b[1;0m\u001b[1;0m\u001b[1;0m: Audio stream has a duration of less than 3 seconds. Normalization may not work. See https://github.com/slhck/ffmpeg-normalize/issues/87 for more info.\n"
     ]
    },
    {
     "name": "stdout",
     "output_type": "stream",
     "text": [
      "['ffmpeg', '-loglevel', 'error', '-i', '/Users/andrusasumets/projects/experiments/pacemaker/processed/normalized/463766__hz37__up-swish-x2-hza-07-03-2019.wav', '-acodec', 'pcm_s16le', '-ac', '1', '-ar', '100', '-threads', '6', '-y', '/Users/andrusasumets/projects/experiments/pacemaker/processed/wav/463766.wav']\n",
      "['ffmpeg', '-loglevel', 'error', '-i', '/Users/andrusasumets/projects/experiments/pacemaker/processed/normalized/463766__hz37__up-swish-x2-hza-07-03-2019.wav', '-c:a', 'aac', '-ar', '44100', '-threads', '6', '-y', '/Users/andrusasumets/projects/experiments/pacemaker/processed/audio/463766.m4a']\n",
      "['ffmpeg-normalize', '/Volumes/LaCie/freesound-crawler/downloads/428025__newagesoup__newagesoup-fx-gui-23.wav', '-o', '/Users/andrusasumets/projects/experiments/pacemaker/processed/normalized/428025__newagesoup__newagesoup-fx-gui-23.wav']\n"
     ]
    },
    {
     "name": "stderr",
     "output_type": "stream",
     "text": [
      "\u001b[1;33m\u001b[1;33m\u001b[1;33m\u001b[1;33m\u001b[1;33m\u001b[1;33mWARNING\u001b[1;0m\u001b[1;0m\u001b[1;0m\u001b[1;0m\u001b[1;0m\u001b[1;0m: Audio stream has a duration of less than 3 seconds. Normalization may not work. See https://github.com/slhck/ffmpeg-normalize/issues/87 for more info.\n"
     ]
    },
    {
     "name": "stdout",
     "output_type": "stream",
     "text": [
      "['ffmpeg', '-loglevel', 'error', '-i', '/Users/andrusasumets/projects/experiments/pacemaker/processed/normalized/428025__newagesoup__newagesoup-fx-gui-23.wav', '-acodec', 'pcm_s16le', '-ac', '1', '-ar', '100', '-threads', '6', '-y', '/Users/andrusasumets/projects/experiments/pacemaker/processed/wav/428025.wav']\n",
      "['ffmpeg', '-loglevel', 'error', '-i', '/Users/andrusasumets/projects/experiments/pacemaker/processed/normalized/428025__newagesoup__newagesoup-fx-gui-23.wav', '-c:a', 'aac', '-ar', '44100', '-threads', '6', '-y', '/Users/andrusasumets/projects/experiments/pacemaker/processed/audio/428025.m4a']\n",
      "['ffmpeg-normalize', '/Volumes/LaCie/freesound-crawler/downloads/589738__mrfossy__sfx-squelch-slayer-117.wav', '-o', '/Users/andrusasumets/projects/experiments/pacemaker/processed/normalized/589738__mrfossy__sfx-squelch-slayer-117.wav']\n"
     ]
    },
    {
     "name": "stderr",
     "output_type": "stream",
     "text": [
      "\u001b[1;33m\u001b[1;33m\u001b[1;33m\u001b[1;33m\u001b[1;33m\u001b[1;33mWARNING\u001b[1;0m\u001b[1;0m\u001b[1;0m\u001b[1;0m\u001b[1;0m\u001b[1;0m: Audio stream has a duration of less than 3 seconds. Normalization may not work. See https://github.com/slhck/ffmpeg-normalize/issues/87 for more info.\n"
     ]
    },
    {
     "name": "stdout",
     "output_type": "stream",
     "text": [
      "['ffmpeg', '-loglevel', 'error', '-i', '/Users/andrusasumets/projects/experiments/pacemaker/processed/normalized/589738__mrfossy__sfx-squelch-slayer-117.wav', '-acodec', 'pcm_s16le', '-ac', '1', '-ar', '100', '-threads', '6', '-y', '/Users/andrusasumets/projects/experiments/pacemaker/processed/wav/589738.wav']\n",
      "['ffmpeg', '-loglevel', 'error', '-i', '/Users/andrusasumets/projects/experiments/pacemaker/processed/normalized/589738__mrfossy__sfx-squelch-slayer-117.wav', '-c:a', 'aac', '-ar', '44100', '-threads', '6', '-y', '/Users/andrusasumets/projects/experiments/pacemaker/processed/audio/589738.m4a']\n",
      "['ffmpeg-normalize', '/Volumes/LaCie/freesound-crawler/downloads/253495__iykqic0__pringle-5-swide-side.wav', '-o', '/Users/andrusasumets/projects/experiments/pacemaker/processed/normalized/253495__iykqic0__pringle-5-swide-side.wav']\n"
     ]
    },
    {
     "name": "stderr",
     "output_type": "stream",
     "text": [
      "\u001b[1;33m\u001b[1;33m\u001b[1;33m\u001b[1;33m\u001b[1;33m\u001b[1;33mWARNING\u001b[1;0m\u001b[1;0m\u001b[1;0m\u001b[1;0m\u001b[1;0m\u001b[1;0m: Audio stream has a duration of less than 3 seconds. Normalization may not work. See https://github.com/slhck/ffmpeg-normalize/issues/87 for more info.\n"
     ]
    },
    {
     "name": "stdout",
     "output_type": "stream",
     "text": [
      "['ffmpeg', '-loglevel', 'error', '-i', '/Users/andrusasumets/projects/experiments/pacemaker/processed/normalized/253495__iykqic0__pringle-5-swide-side.wav', '-acodec', 'pcm_s16le', '-ac', '1', '-ar', '100', '-threads', '6', '-y', '/Users/andrusasumets/projects/experiments/pacemaker/processed/wav/253495.wav']\n",
      "['ffmpeg', '-loglevel', 'error', '-i', '/Users/andrusasumets/projects/experiments/pacemaker/processed/normalized/253495__iykqic0__pringle-5-swide-side.wav', '-c:a', 'aac', '-ar', '44100', '-threads', '6', '-y', '/Users/andrusasumets/projects/experiments/pacemaker/processed/audio/253495.m4a']\n",
      "['ffmpeg-normalize', '/Volumes/LaCie/freesound-crawler/downloads/314073__modularsamples__yamaha-cs-30l-pw-action-f3-pw-action-54-127.aiff', '-o', '/Users/andrusasumets/projects/experiments/pacemaker/processed/normalized/314073__modularsamples__yamaha-cs-30l-pw-action-f3-pw-action-54-127.aiff']\n"
     ]
    },
    {
     "name": "stderr",
     "output_type": "stream",
     "text": [
      "\u001b[1;33m\u001b[1;33m\u001b[1;33m\u001b[1;33m\u001b[1;33m\u001b[1;33mWARNING\u001b[1;0m\u001b[1;0m\u001b[1;0m\u001b[1;0m\u001b[1;0m\u001b[1;0m: Audio stream has a duration of less than 3 seconds. Normalization may not work. See https://github.com/slhck/ffmpeg-normalize/issues/87 for more info.\n",
      "\u001b[1;31m\u001b[1;31m\u001b[1;31m\u001b[1;31m\u001b[1;31m\u001b[1;31mERROR\u001b[1;0m\u001b[1;0m\u001b[1;0m\u001b[1;0m\u001b[1;0m\u001b[1;0m: Error while running command /usr/local/bin/ffmpeg -y -nostdin -i /Volumes/LaCie/freesound-crawler/downloads/314073__modularsamples__yamaha-cs-30l-pw-action-f3-pw-action-54-127.aiff -filter_complex '[0:0]loudnorm=i=-23.0:lra=7.0:tp=-2.0:offset=16.85:measured_i=-34.05:measured_lra=0.0:measured_tp=-10.97:measured_thresh=-52.37:linear=true:print_format=json[norm0]' -map_metadata 0 -map_metadata:s:a:0 0:s:a:0 -map_chapters 0 -map '[norm0]' -c:a:0 pcm_s24le -c:s copy /var/folders/94/c53y6yld37z20wdsvhhlk58c0000gn/T/nvio_531.aiff! Error: Error running command ['/usr/local/bin/ffmpeg', '-y', '-nostdin', '-i', '/Volumes/LaCie/freesound-crawler/downloads/314073__modularsamples__yamaha-cs-30l-pw-action-f3-pw-action-54-127.aiff', '-filter_complex', '[0:0]loudnorm=i=-23.0:lra=7.0:tp=-2.0:offset=16.85:measured_i=-34.05:measured_lra=0.0:measured_tp=-10.97:measured_thresh=-52.37:linear=true:print_format=json[norm0]', '-map_metadata', '0', '-map_metadata:s:a:0', '0:s:a:0', '-map_chapters', '0', '-map', '[norm0]', '-c:a:0', 'pcm_s24le', '-c:s', 'copy', '/var/folders/94/c53y6yld37z20wdsvhhlk58c0000gn/T/nvio_531.aiff']: ffmpeg version 5.1.1 Copyright (c) 2000-2022 the FFmpeg developers\n",
      "built with Apple clang version 13.1.6 (clang-1316.0.21.2.5)\n",
      "configuration: --prefix=/usr/local/Cellar/ffmpeg/5.1.1-with-options --enable-shared --cc=clang --host-cflags= --host-ldflags= --enable-gpl --enable-libaom --enable-libdav1d --enable-libmp3lame --enable-libopus --enable-libsnappy --enable-libtheora --enable-libvorbis --enable-libvpx --enable-libx264 --enable-libx265 --enable-libfontconfig --enable-libfreetype --enable-frei0r --enable-libass --enable-demuxer=dash --enable-opencl --enable-audiotoolbox --enable-videotoolbox --disable-htmlpages --enable-libfdk-aac --enable-nonfree\n",
      "libavutil      57. 28.100 / 57. 28.100\n",
      "libavcodec     59. 37.100 / 59. 37.100\n",
      "libavformat    59. 27.100 / 59. 27.100\n",
      "libavdevice    59.  7.100 / 59.  7.100\n",
      "libavfilter     8. 44.100 /  8. 44.100\n",
      "libswscale      6.  7.100 /  6.  7.100\n",
      "libswresample   4.  7.100 /  4.  7.100\n",
      "libpostproc    56.  6.100 / 56.  6.100\n",
      "Guessed Channel Layout for Input Stream #0.0 : mono\n",
      "Input #0, aiff, from '/Volumes/LaCie/freesound-crawler/downloads/314073__modularsamples__yamaha-cs-30l-pw-action-f3-pw-action-54-127.aiff':\n",
      "Duration: 00:00:01.34, start: 0.000000, bitrate: 1082 kb/s\n",
      "Stream #0:0: Audio: pcm_s24be, 44100 Hz, mono, s32 (24 bit), 1058 kb/s\n",
      "Stream mapping:\n",
      "Stream #0:0 (pcm_s24be) -> loudnorm:default\n",
      "loudnorm:default -> Stream #0:0 (pcm_s24le)\n",
      "Could not write header for output file #0 (incorrect codec parameters ?): Invalid argument\n",
      "Error initializing output stream 0:0 --\n",
      "[Parsed_loudnorm_0 @ 0x7f820a10b040]\n",
      "{\n",
      "\"input_i\" : \"-inf\",\n",
      "\"input_tp\" : \"-inf\",\n",
      "\"input_lra\" : \"0.00\",\n",
      "\"input_thresh\" : \"-70.00\",\n",
      "\"output_i\" : \"-inf\",\n",
      "\"output_tp\" : \"-inf\",\n",
      "\"output_lra\" : \"0.00\",\n",
      "\"output_thresh\" : \"-70.00\",\n",
      "\"normalization_type\" : \"dynamic\",\n",
      "\"target_offset\" : \"inf\"\n",
      "}\n",
      "Conversion failed!\n",
      "Traceback (most recent call last):\n",
      "  File \"/usr/local/bin/ffmpeg-normalize\", line 8, in <module>\n",
      "    sys.exit(main())\n",
      "  File \"/usr/local/lib/python3.9/site-packages/ffmpeg_normalize/__main__.py\", line 554, in main\n",
      "    ffmpeg_normalize.run_normalization()\n",
      "  File \"/usr/local/lib/python3.9/site-packages/ffmpeg_normalize/_ffmpeg_normalize.py\", line 205, in run_normalization\n",
      "    raise e\n",
      "  File \"/usr/local/lib/python3.9/site-packages/ffmpeg_normalize/_ffmpeg_normalize.py\", line 194, in run_normalization\n",
      "    media_file.run_normalization()\n",
      "  File \"/usr/local/lib/python3.9/site-packages/ffmpeg_normalize/_media_file.py\", line 165, in run_normalization\n",
      "    for _ in self._second_pass():\n",
      "  File \"/usr/local/lib/python3.9/site-packages/ffmpeg_normalize/_media_file.py\", line 381, in _second_pass\n",
      "    raise e\n",
      "  File \"/usr/local/lib/python3.9/site-packages/ffmpeg_normalize/_media_file.py\", line 370, in _second_pass\n",
      "    raise e\n",
      "  File \"/usr/local/lib/python3.9/site-packages/ffmpeg_normalize/_media_file.py\", line 362, in _second_pass\n",
      "    for progress in cmd_runner.run_ffmpeg_command():\n",
      "  File \"/usr/local/lib/python3.9/site-packages/ffmpeg_normalize/_cmd_utils.py\", line 78, in run_ffmpeg_command\n",
      "    for progress in ff.run_command_with_progress():\n",
      "  File \"/usr/local/lib/python3.9/site-packages/ffmpeg_progress_yield/ffmpeg_progress_yield.py\", line 107, in run_command_with_progress\n",
      "    raise RuntimeError(\n",
      "RuntimeError: Error running command ['/usr/local/bin/ffmpeg', '-y', '-nostdin', '-i', '/Volumes/LaCie/freesound-crawler/downloads/314073__modularsamples__yamaha-cs-30l-pw-action-f3-pw-action-54-127.aiff', '-filter_complex', '[0:0]loudnorm=i=-23.0:lra=7.0:tp=-2.0:offset=16.85:measured_i=-34.05:measured_lra=0.0:measured_tp=-10.97:measured_thresh=-52.37:linear=true:print_format=json[norm0]', '-map_metadata', '0', '-map_metadata:s:a:0', '0:s:a:0', '-map_chapters', '0', '-map', '[norm0]', '-c:a:0', 'pcm_s24le', '-c:s', 'copy', '/var/folders/94/c53y6yld37z20wdsvhhlk58c0000gn/T/nvio_531.aiff']: ffmpeg version 5.1.1 Copyright (c) 2000-2022 the FFmpeg developers\n",
      "built with Apple clang version 13.1.6 (clang-1316.0.21.2.5)\n",
      "configuration: --prefix=/usr/local/Cellar/ffmpeg/5.1.1-with-options --enable-shared --cc=clang --host-cflags= --host-ldflags= --enable-gpl --enable-libaom --enable-libdav1d --enable-libmp3lame --enable-libopus --enable-libsnappy --enable-libtheora --enable-libvorbis --enable-libvpx --enable-libx264 --enable-libx265 --enable-libfontconfig --enable-libfreetype --enable-frei0r --enable-libass --enable-demuxer=dash --enable-opencl --enable-audiotoolbox --enable-videotoolbox --disable-htmlpages --enable-libfdk-aac --enable-nonfree\n",
      "libavutil      57. 28.100 / 57. 28.100\n",
      "libavcodec     59. 37.100 / 59. 37.100\n",
      "libavformat    59. 27.100 / 59. 27.100\n",
      "libavdevice    59.  7.100 / 59.  7.100\n",
      "libavfilter     8. 44.100 /  8. 44.100\n",
      "libswscale      6.  7.100 /  6.  7.100\n",
      "libswresample   4.  7.100 /  4.  7.100\n",
      "libpostproc    56.  6.100 / 56.  6.100\n",
      "Guessed Channel Layout for Input Stream #0.0 : mono\n",
      "Input #0, aiff, from '/Volumes/LaCie/freesound-crawler/downloads/314073__modularsamples__yamaha-cs-30l-pw-action-f3-pw-action-54-127.aiff':\n",
      "Duration: 00:00:01.34, start: 0.000000, bitrate: 1082 kb/s\n",
      "Stream #0:0: Audio: pcm_s24be, 44100 Hz, mono, s32 (24 bit), 1058 kb/s\n",
      "Stream mapping:\n",
      "Stream #0:0 (pcm_s24be) -> loudnorm:default\n",
      "loudnorm:default -> Stream #0:0 (pcm_s24le)\n",
      "Could not write header for output file #0 (incorrect codec parameters ?): Invalid argument\n",
      "Error initializing output stream 0:0 --\n",
      "[Parsed_loudnorm_0 @ 0x7f820a10b040]\n",
      "{\n",
      "\"input_i\" : \"-inf\",\n",
      "\"input_tp\" : \"-inf\",\n",
      "\"input_lra\" : \"0.00\",\n",
      "\"input_thresh\" : \"-70.00\",\n",
      "\"output_i\" : \"-inf\",\n",
      "\"output_tp\" : \"-inf\",\n",
      "\"output_lra\" : \"0.00\",\n",
      "\"output_thresh\" : \"-70.00\",\n",
      "\"normalization_type\" : \"dynamic\",\n",
      "\"target_offset\" : \"inf\"\n",
      "}\n",
      "Conversion failed!\n"
     ]
    },
    {
     "name": "stdout",
     "output_type": "stream",
     "text": [
      "Command '['ffmpeg-normalize', '/Volumes/LaCie/freesound-crawler/downloads/314073__modularsamples__yamaha-cs-30l-pw-action-f3-pw-action-54-127.aiff', '-o', '/Users/andrusasumets/projects/experiments/pacemaker/processed/normalized/314073__modularsamples__yamaha-cs-30l-pw-action-f3-pw-action-54-127.aiff']' returned non-zero exit status 1.\n",
      "['ffmpeg-normalize', '/Volumes/LaCie/freesound-crawler/downloads/133628__samuelburt__gesture-1234-12.aiff', '-o', '/Users/andrusasumets/projects/experiments/pacemaker/processed/normalized/133628__samuelburt__gesture-1234-12.aiff']\n"
     ]
    },
    {
     "name": "stderr",
     "output_type": "stream",
     "text": [
      "\u001b[1;33m\u001b[1;33m\u001b[1;33m\u001b[1;33m\u001b[1;33m\u001b[1;33mWARNING\u001b[1;0m\u001b[1;0m\u001b[1;0m\u001b[1;0m\u001b[1;0m\u001b[1;0m: Audio stream has a duration of less than 3 seconds. Normalization may not work. See https://github.com/slhck/ffmpeg-normalize/issues/87 for more info.\n"
     ]
    },
    {
     "name": "stdout",
     "output_type": "stream",
     "text": [
      "['ffmpeg', '-loglevel', 'error', '-i', '/Users/andrusasumets/projects/experiments/pacemaker/processed/normalized/133628__samuelburt__gesture-1234-12.aiff', '-acodec', 'pcm_s16le', '-ac', '1', '-ar', '100', '-threads', '6', '-y', '/Users/andrusasumets/projects/experiments/pacemaker/processed/wav/133628.wav']\n",
      "['ffmpeg', '-loglevel', 'error', '-i', '/Users/andrusasumets/projects/experiments/pacemaker/processed/normalized/133628__samuelburt__gesture-1234-12.aiff', '-c:a', 'aac', '-ar', '44100', '-threads', '6', '-y', '/Users/andrusasumets/projects/experiments/pacemaker/processed/audio/133628.m4a']\n",
      "['ffmpeg-normalize', '/Volumes/LaCie/freesound-crawler/downloads/331264__modularsamples__modular-hits-09-85.aiff', '-o', '/Users/andrusasumets/projects/experiments/pacemaker/processed/normalized/331264__modularsamples__modular-hits-09-85.aiff']\n"
     ]
    },
    {
     "name": "stderr",
     "output_type": "stream",
     "text": [
      "\u001b[1;33m\u001b[1;33m\u001b[1;33m\u001b[1;33m\u001b[1;33m\u001b[1;33mWARNING\u001b[1;0m\u001b[1;0m\u001b[1;0m\u001b[1;0m\u001b[1;0m\u001b[1;0m: Audio stream has a duration of less than 3 seconds. Normalization may not work. See https://github.com/slhck/ffmpeg-normalize/issues/87 for more info.\n",
      "\u001b[1;31m\u001b[1;31m\u001b[1;31m\u001b[1;31m\u001b[1;31m\u001b[1;31mERROR\u001b[1;0m\u001b[1;0m\u001b[1;0m\u001b[1;0m\u001b[1;0m\u001b[1;0m: Error while running command /usr/local/bin/ffmpeg -y -nostdin -i /Volumes/LaCie/freesound-crawler/downloads/331264__modularsamples__modular-hits-09-85.aiff -filter_complex '[0:0]loudnorm=i=-23.0:lra=7.0:tp=-2.0:offset=-0.01:measured_i=-14.26:measured_lra=0.0:measured_tp=0.0:measured_thresh=-24.26:linear=true:print_format=json[norm0]' -map_metadata 0 -map_metadata:s:a:0 0:s:a:0 -map_chapters 0 -map '[norm0]' -c:a:0 pcm_s24le -c:s copy /var/folders/94/c53y6yld37z20wdsvhhlk58c0000gn/T/u2j7smc4.aiff! Error: Error running command ['/usr/local/bin/ffmpeg', '-y', '-nostdin', '-i', '/Volumes/LaCie/freesound-crawler/downloads/331264__modularsamples__modular-hits-09-85.aiff', '-filter_complex', '[0:0]loudnorm=i=-23.0:lra=7.0:tp=-2.0:offset=-0.01:measured_i=-14.26:measured_lra=0.0:measured_tp=0.0:measured_thresh=-24.26:linear=true:print_format=json[norm0]', '-map_metadata', '0', '-map_metadata:s:a:0', '0:s:a:0', '-map_chapters', '0', '-map', '[norm0]', '-c:a:0', 'pcm_s24le', '-c:s', 'copy', '/var/folders/94/c53y6yld37z20wdsvhhlk58c0000gn/T/u2j7smc4.aiff']: ffmpeg version 5.1.1 Copyright (c) 2000-2022 the FFmpeg developers\n",
      "built with Apple clang version 13.1.6 (clang-1316.0.21.2.5)\n",
      "configuration: --prefix=/usr/local/Cellar/ffmpeg/5.1.1-with-options --enable-shared --cc=clang --host-cflags= --host-ldflags= --enable-gpl --enable-libaom --enable-libdav1d --enable-libmp3lame --enable-libopus --enable-libsnappy --enable-libtheora --enable-libvorbis --enable-libvpx --enable-libx264 --enable-libx265 --enable-libfontconfig --enable-libfreetype --enable-frei0r --enable-libass --enable-demuxer=dash --enable-opencl --enable-audiotoolbox --enable-videotoolbox --disable-htmlpages --enable-libfdk-aac --enable-nonfree\n",
      "libavutil      57. 28.100 / 57. 28.100\n",
      "libavcodec     59. 37.100 / 59. 37.100\n",
      "libavformat    59. 27.100 / 59. 27.100\n",
      "libavdevice    59.  7.100 / 59.  7.100\n",
      "libavfilter     8. 44.100 /  8. 44.100\n",
      "libswscale      6.  7.100 /  6.  7.100\n",
      "libswresample   4.  7.100 /  4.  7.100\n",
      "libpostproc    56.  6.100 / 56.  6.100\n",
      "Input #0, aiff, from '/Volumes/LaCie/freesound-crawler/downloads/331264__modularsamples__modular-hits-09-85.aiff':\n",
      "Metadata:\n",
      "comment         : Creator: Logic\n",
      "Duration: 00:00:00.91, start: 0.000000, bitrate: 1094 kb/s\n",
      "Stream #0:0: Audio: pcm_s24be, 44100 Hz, mono, s32 (24 bit), 1058 kb/s\n",
      "Stream mapping:\n",
      "Stream #0:0 (pcm_s24be) -> loudnorm:default\n",
      "loudnorm:default -> Stream #0:0 (pcm_s24le)\n",
      "Could not write header for output file #0 (incorrect codec parameters ?): Invalid argument\n",
      "Error initializing output stream 0:0 --\n",
      "[Parsed_loudnorm_0 @ 0x7f8890904080]\n",
      "{\n",
      "\"input_i\" : \"-inf\",\n",
      "\"input_tp\" : \"-inf\",\n",
      "\"input_lra\" : \"0.00\",\n",
      "\"input_thresh\" : \"-70.00\",\n",
      "\"output_i\" : \"-inf\",\n",
      "\"output_tp\" : \"-inf\",\n",
      "\"output_lra\" : \"0.00\",\n",
      "\"output_thresh\" : \"-70.00\",\n",
      "\"normalization_type\" : \"dynamic\",\n",
      "\"target_offset\" : \"inf\"\n",
      "}\n",
      "Conversion failed!\n",
      "Traceback (most recent call last):\n",
      "  File \"/usr/local/bin/ffmpeg-normalize\", line 8, in <module>\n",
      "    sys.exit(main())\n",
      "  File \"/usr/local/lib/python3.9/site-packages/ffmpeg_normalize/__main__.py\", line 554, in main\n",
      "    ffmpeg_normalize.run_normalization()\n",
      "  File \"/usr/local/lib/python3.9/site-packages/ffmpeg_normalize/_ffmpeg_normalize.py\", line 205, in run_normalization\n",
      "    raise e\n",
      "  File \"/usr/local/lib/python3.9/site-packages/ffmpeg_normalize/_ffmpeg_normalize.py\", line 194, in run_normalization\n",
      "    media_file.run_normalization()\n",
      "  File \"/usr/local/lib/python3.9/site-packages/ffmpeg_normalize/_media_file.py\", line 165, in run_normalization\n",
      "    for _ in self._second_pass():\n",
      "  File \"/usr/local/lib/python3.9/site-packages/ffmpeg_normalize/_media_file.py\", line 381, in _second_pass\n",
      "    raise e\n",
      "  File \"/usr/local/lib/python3.9/site-packages/ffmpeg_normalize/_media_file.py\", line 370, in _second_pass\n",
      "    raise e\n",
      "  File \"/usr/local/lib/python3.9/site-packages/ffmpeg_normalize/_media_file.py\", line 362, in _second_pass\n",
      "    for progress in cmd_runner.run_ffmpeg_command():\n",
      "  File \"/usr/local/lib/python3.9/site-packages/ffmpeg_normalize/_cmd_utils.py\", line 78, in run_ffmpeg_command\n",
      "    for progress in ff.run_command_with_progress():\n",
      "  File \"/usr/local/lib/python3.9/site-packages/ffmpeg_progress_yield/ffmpeg_progress_yield.py\", line 107, in run_command_with_progress\n",
      "    raise RuntimeError(\n",
      "RuntimeError: Error running command ['/usr/local/bin/ffmpeg', '-y', '-nostdin', '-i', '/Volumes/LaCie/freesound-crawler/downloads/331264__modularsamples__modular-hits-09-85.aiff', '-filter_complex', '[0:0]loudnorm=i=-23.0:lra=7.0:tp=-2.0:offset=-0.01:measured_i=-14.26:measured_lra=0.0:measured_tp=0.0:measured_thresh=-24.26:linear=true:print_format=json[norm0]', '-map_metadata', '0', '-map_metadata:s:a:0', '0:s:a:0', '-map_chapters', '0', '-map', '[norm0]', '-c:a:0', 'pcm_s24le', '-c:s', 'copy', '/var/folders/94/c53y6yld37z20wdsvhhlk58c0000gn/T/u2j7smc4.aiff']: ffmpeg version 5.1.1 Copyright (c) 2000-2022 the FFmpeg developers\n",
      "built with Apple clang version 13.1.6 (clang-1316.0.21.2.5)\n",
      "configuration: --prefix=/usr/local/Cellar/ffmpeg/5.1.1-with-options --enable-shared --cc=clang --host-cflags= --host-ldflags= --enable-gpl --enable-libaom --enable-libdav1d --enable-libmp3lame --enable-libopus --enable-libsnappy --enable-libtheora --enable-libvorbis --enable-libvpx --enable-libx264 --enable-libx265 --enable-libfontconfig --enable-libfreetype --enable-frei0r --enable-libass --enable-demuxer=dash --enable-opencl --enable-audiotoolbox --enable-videotoolbox --disable-htmlpages --enable-libfdk-aac --enable-nonfree\n",
      "libavutil      57. 28.100 / 57. 28.100\n",
      "libavcodec     59. 37.100 / 59. 37.100\n",
      "libavformat    59. 27.100 / 59. 27.100\n",
      "libavdevice    59.  7.100 / 59.  7.100\n",
      "libavfilter     8. 44.100 /  8. 44.100\n",
      "libswscale      6.  7.100 /  6.  7.100\n",
      "libswresample   4.  7.100 /  4.  7.100\n",
      "libpostproc    56.  6.100 / 56.  6.100\n",
      "Input #0, aiff, from '/Volumes/LaCie/freesound-crawler/downloads/331264__modularsamples__modular-hits-09-85.aiff':\n",
      "Metadata:\n",
      "comment         : Creator: Logic\n",
      "Duration: 00:00:00.91, start: 0.000000, bitrate: 1094 kb/s\n",
      "Stream #0:0: Audio: pcm_s24be, 44100 Hz, mono, s32 (24 bit), 1058 kb/s\n",
      "Stream mapping:\n",
      "Stream #0:0 (pcm_s24be) -> loudnorm:default\n",
      "loudnorm:default -> Stream #0:0 (pcm_s24le)\n",
      "Could not write header for output file #0 (incorrect codec parameters ?): Invalid argument\n",
      "Error initializing output stream 0:0 --\n",
      "[Parsed_loudnorm_0 @ 0x7f8890904080]\n",
      "{\n",
      "\"input_i\" : \"-inf\",\n",
      "\"input_tp\" : \"-inf\",\n",
      "\"input_lra\" : \"0.00\",\n",
      "\"input_thresh\" : \"-70.00\",\n",
      "\"output_i\" : \"-inf\",\n",
      "\"output_tp\" : \"-inf\",\n",
      "\"output_lra\" : \"0.00\",\n",
      "\"output_thresh\" : \"-70.00\",\n",
      "\"normalization_type\" : \"dynamic\",\n",
      "\"target_offset\" : \"inf\"\n",
      "}\n",
      "Conversion failed!\n"
     ]
    },
    {
     "name": "stdout",
     "output_type": "stream",
     "text": [
      "Command '['ffmpeg-normalize', '/Volumes/LaCie/freesound-crawler/downloads/331264__modularsamples__modular-hits-09-85.aiff', '-o', '/Users/andrusasumets/projects/experiments/pacemaker/processed/normalized/331264__modularsamples__modular-hits-09-85.aiff']' returned non-zero exit status 1.\n",
      "['ffmpeg-normalize', '/Volumes/LaCie/freesound-crawler/downloads/294717__modularsamples__korg-mono-poly-punchy-e-4-punchy-65-127.aiff', '-o', '/Users/andrusasumets/projects/experiments/pacemaker/processed/normalized/294717__modularsamples__korg-mono-poly-punchy-e-4-punchy-65-127.aiff']\n"
     ]
    },
    {
     "name": "stderr",
     "output_type": "stream",
     "text": [
      "\u001b[1;33m\u001b[1;33m\u001b[1;33m\u001b[1;33m\u001b[1;33m\u001b[1;33mWARNING\u001b[1;0m\u001b[1;0m\u001b[1;0m\u001b[1;0m\u001b[1;0m\u001b[1;0m: Audio stream has a duration of less than 3 seconds. Normalization may not work. See https://github.com/slhck/ffmpeg-normalize/issues/87 for more info.\n",
      "\u001b[1;31m\u001b[1;31m\u001b[1;31m\u001b[1;31m\u001b[1;31m\u001b[1;31mERROR\u001b[1;0m\u001b[1;0m\u001b[1;0m\u001b[1;0m\u001b[1;0m\u001b[1;0m: Error while running command /usr/local/bin/ffmpeg -y -nostdin -i /Volumes/LaCie/freesound-crawler/downloads/294717__modularsamples__korg-mono-poly-punchy-e-4-punchy-65-127.aiff -filter_complex '[0:0]loudnorm=i=-23.0:lra=7.0:tp=-2.0:offset=-0.05:measured_i=-14.75:measured_lra=0.0:measured_tp=-3.86:measured_thresh=-28.88:linear=true:print_format=json[norm0]' -map_metadata 0 -map_metadata:s:a:0 0:s:a:0 -map_chapters 0 -map '[norm0]' -c:a:0 pcm_s24le -c:s copy /var/folders/94/c53y6yld37z20wdsvhhlk58c0000gn/T/niipt9no.aiff! Error: Error running command ['/usr/local/bin/ffmpeg', '-y', '-nostdin', '-i', '/Volumes/LaCie/freesound-crawler/downloads/294717__modularsamples__korg-mono-poly-punchy-e-4-punchy-65-127.aiff', '-filter_complex', '[0:0]loudnorm=i=-23.0:lra=7.0:tp=-2.0:offset=-0.05:measured_i=-14.75:measured_lra=0.0:measured_tp=-3.86:measured_thresh=-28.88:linear=true:print_format=json[norm0]', '-map_metadata', '0', '-map_metadata:s:a:0', '0:s:a:0', '-map_chapters', '0', '-map', '[norm0]', '-c:a:0', 'pcm_s24le', '-c:s', 'copy', '/var/folders/94/c53y6yld37z20wdsvhhlk58c0000gn/T/niipt9no.aiff']: ffmpeg version 5.1.1 Copyright (c) 2000-2022 the FFmpeg developers\n",
      "built with Apple clang version 13.1.6 (clang-1316.0.21.2.5)\n",
      "configuration: --prefix=/usr/local/Cellar/ffmpeg/5.1.1-with-options --enable-shared --cc=clang --host-cflags= --host-ldflags= --enable-gpl --enable-libaom --enable-libdav1d --enable-libmp3lame --enable-libopus --enable-libsnappy --enable-libtheora --enable-libvorbis --enable-libvpx --enable-libx264 --enable-libx265 --enable-libfontconfig --enable-libfreetype --enable-frei0r --enable-libass --enable-demuxer=dash --enable-opencl --enable-audiotoolbox --enable-videotoolbox --disable-htmlpages --enable-libfdk-aac --enable-nonfree\n",
      "libavutil      57. 28.100 / 57. 28.100\n",
      "libavcodec     59. 37.100 / 59. 37.100\n",
      "libavformat    59. 27.100 / 59. 27.100\n",
      "libavdevice    59.  7.100 / 59.  7.100\n",
      "libavfilter     8. 44.100 /  8. 44.100\n",
      "libswscale      6.  7.100 /  6.  7.100\n",
      "libswresample   4.  7.100 /  4.  7.100\n",
      "libpostproc    56.  6.100 / 56.  6.100\n",
      "Guessed Channel Layout for Input Stream #0.0 : mono\n",
      "Input #0, aiff, from '/Volumes/LaCie/freesound-crawler/downloads/294717__modularsamples__korg-mono-poly-punchy-e-4-punchy-65-127.aiff':\n",
      "Duration: 00:00:01.95, start: 0.000000, bitrate: 1075 kb/s\n",
      "Stream #0:0: Audio: pcm_s24be, 44100 Hz, mono, s32 (24 bit), 1058 kb/s\n",
      "Stream mapping:\n",
      "Stream #0:0 (pcm_s24be) -> loudnorm:default\n",
      "loudnorm:default -> Stream #0:0 (pcm_s24le)\n",
      "Could not write header for output file #0 (incorrect codec parameters ?): Invalid argument\n",
      "Error initializing output stream 0:0 --\n",
      "[Parsed_loudnorm_0 @ 0x7fd85a904080]\n",
      "{\n",
      "\"input_i\" : \"-inf\",\n",
      "\"input_tp\" : \"-inf\",\n",
      "\"input_lra\" : \"0.00\",\n",
      "\"input_thresh\" : \"-70.00\",\n",
      "\"output_i\" : \"-inf\",\n",
      "\"output_tp\" : \"-inf\",\n",
      "\"output_lra\" : \"0.00\",\n",
      "\"output_thresh\" : \"-70.00\",\n",
      "\"normalization_type\" : \"dynamic\",\n",
      "\"target_offset\" : \"inf\"\n",
      "}\n",
      "Conversion failed!\n",
      "Traceback (most recent call last):\n",
      "  File \"/usr/local/bin/ffmpeg-normalize\", line 8, in <module>\n",
      "    sys.exit(main())\n",
      "  File \"/usr/local/lib/python3.9/site-packages/ffmpeg_normalize/__main__.py\", line 554, in main\n",
      "    ffmpeg_normalize.run_normalization()\n",
      "  File \"/usr/local/lib/python3.9/site-packages/ffmpeg_normalize/_ffmpeg_normalize.py\", line 205, in run_normalization\n",
      "    raise e\n",
      "  File \"/usr/local/lib/python3.9/site-packages/ffmpeg_normalize/_ffmpeg_normalize.py\", line 194, in run_normalization\n",
      "    media_file.run_normalization()\n",
      "  File \"/usr/local/lib/python3.9/site-packages/ffmpeg_normalize/_media_file.py\", line 165, in run_normalization\n",
      "    for _ in self._second_pass():\n",
      "  File \"/usr/local/lib/python3.9/site-packages/ffmpeg_normalize/_media_file.py\", line 381, in _second_pass\n",
      "    raise e\n",
      "  File \"/usr/local/lib/python3.9/site-packages/ffmpeg_normalize/_media_file.py\", line 370, in _second_pass\n",
      "    raise e\n",
      "  File \"/usr/local/lib/python3.9/site-packages/ffmpeg_normalize/_media_file.py\", line 362, in _second_pass\n",
      "    for progress in cmd_runner.run_ffmpeg_command():\n",
      "  File \"/usr/local/lib/python3.9/site-packages/ffmpeg_normalize/_cmd_utils.py\", line 78, in run_ffmpeg_command\n",
      "    for progress in ff.run_command_with_progress():\n",
      "  File \"/usr/local/lib/python3.9/site-packages/ffmpeg_progress_yield/ffmpeg_progress_yield.py\", line 107, in run_command_with_progress\n",
      "    raise RuntimeError(\n",
      "RuntimeError: Error running command ['/usr/local/bin/ffmpeg', '-y', '-nostdin', '-i', '/Volumes/LaCie/freesound-crawler/downloads/294717__modularsamples__korg-mono-poly-punchy-e-4-punchy-65-127.aiff', '-filter_complex', '[0:0]loudnorm=i=-23.0:lra=7.0:tp=-2.0:offset=-0.05:measured_i=-14.75:measured_lra=0.0:measured_tp=-3.86:measured_thresh=-28.88:linear=true:print_format=json[norm0]', '-map_metadata', '0', '-map_metadata:s:a:0', '0:s:a:0', '-map_chapters', '0', '-map', '[norm0]', '-c:a:0', 'pcm_s24le', '-c:s', 'copy', '/var/folders/94/c53y6yld37z20wdsvhhlk58c0000gn/T/niipt9no.aiff']: ffmpeg version 5.1.1 Copyright (c) 2000-2022 the FFmpeg developers\n",
      "built with Apple clang version 13.1.6 (clang-1316.0.21.2.5)\n",
      "configuration: --prefix=/usr/local/Cellar/ffmpeg/5.1.1-with-options --enable-shared --cc=clang --host-cflags= --host-ldflags= --enable-gpl --enable-libaom --enable-libdav1d --enable-libmp3lame --enable-libopus --enable-libsnappy --enable-libtheora --enable-libvorbis --enable-libvpx --enable-libx264 --enable-libx265 --enable-libfontconfig --enable-libfreetype --enable-frei0r --enable-libass --enable-demuxer=dash --enable-opencl --enable-audiotoolbox --enable-videotoolbox --disable-htmlpages --enable-libfdk-aac --enable-nonfree\n",
      "libavutil      57. 28.100 / 57. 28.100\n",
      "libavcodec     59. 37.100 / 59. 37.100\n",
      "libavformat    59. 27.100 / 59. 27.100\n",
      "libavdevice    59.  7.100 / 59.  7.100\n",
      "libavfilter     8. 44.100 /  8. 44.100\n",
      "libswscale      6.  7.100 /  6.  7.100\n",
      "libswresample   4.  7.100 /  4.  7.100\n",
      "libpostproc    56.  6.100 / 56.  6.100\n",
      "Guessed Channel Layout for Input Stream #0.0 : mono\n",
      "Input #0, aiff, from '/Volumes/LaCie/freesound-crawler/downloads/294717__modularsamples__korg-mono-poly-punchy-e-4-punchy-65-127.aiff':\n",
      "Duration: 00:00:01.95, start: 0.000000, bitrate: 1075 kb/s\n",
      "Stream #0:0: Audio: pcm_s24be, 44100 Hz, mono, s32 (24 bit), 1058 kb/s\n",
      "Stream mapping:\n",
      "Stream #0:0 (pcm_s24be) -> loudnorm:default\n",
      "loudnorm:default -> Stream #0:0 (pcm_s24le)\n",
      "Could not write header for output file #0 (incorrect codec parameters ?): Invalid argument\n",
      "Error initializing output stream 0:0 --\n",
      "[Parsed_loudnorm_0 @ 0x7fd85a904080]\n",
      "{\n",
      "\"input_i\" : \"-inf\",\n",
      "\"input_tp\" : \"-inf\",\n",
      "\"input_lra\" : \"0.00\",\n",
      "\"input_thresh\" : \"-70.00\",\n",
      "\"output_i\" : \"-inf\",\n",
      "\"output_tp\" : \"-inf\",\n",
      "\"output_lra\" : \"0.00\",\n",
      "\"output_thresh\" : \"-70.00\",\n",
      "\"normalization_type\" : \"dynamic\",\n",
      "\"target_offset\" : \"inf\"\n",
      "}\n",
      "Conversion failed!\n"
     ]
    },
    {
     "name": "stdout",
     "output_type": "stream",
     "text": [
      "Command '['ffmpeg-normalize', '/Volumes/LaCie/freesound-crawler/downloads/294717__modularsamples__korg-mono-poly-punchy-e-4-punchy-65-127.aiff', '-o', '/Users/andrusasumets/projects/experiments/pacemaker/processed/normalized/294717__modularsamples__korg-mono-poly-punchy-e-4-punchy-65-127.aiff']' returned non-zero exit status 1.\n",
      "['ffmpeg-normalize', '/Volumes/LaCie/freesound-crawler/downloads/353738__giomilko__kick-077.wav', '-o', '/Users/andrusasumets/projects/experiments/pacemaker/processed/normalized/353738__giomilko__kick-077.wav']\n"
     ]
    },
    {
     "name": "stderr",
     "output_type": "stream",
     "text": [
      "\u001b[1;33m\u001b[1;33m\u001b[1;33m\u001b[1;33m\u001b[1;33m\u001b[1;33mWARNING\u001b[1;0m\u001b[1;0m\u001b[1;0m\u001b[1;0m\u001b[1;0m\u001b[1;0m: Audio stream has a duration of less than 3 seconds. Normalization may not work. See https://github.com/slhck/ffmpeg-normalize/issues/87 for more info.\n"
     ]
    },
    {
     "name": "stdout",
     "output_type": "stream",
     "text": [
      "['ffmpeg', '-loglevel', 'error', '-i', '/Users/andrusasumets/projects/experiments/pacemaker/processed/normalized/353738__giomilko__kick-077.wav', '-acodec', 'pcm_s16le', '-ac', '1', '-ar', '100', '-threads', '6', '-y', '/Users/andrusasumets/projects/experiments/pacemaker/processed/wav/353738.wav']\n",
      "['ffmpeg', '-loglevel', 'error', '-i', '/Users/andrusasumets/projects/experiments/pacemaker/processed/normalized/353738__giomilko__kick-077.wav', '-c:a', 'aac', '-ar', '44100', '-threads', '6', '-y', '/Users/andrusasumets/projects/experiments/pacemaker/processed/audio/353738.m4a']\n",
      "['ffmpeg-normalize', '/Volumes/LaCie/freesound-crawler/downloads/619481__strangehorizon__retriggered-syntar-2.wav', '-o', '/Users/andrusasumets/projects/experiments/pacemaker/processed/normalized/619481__strangehorizon__retriggered-syntar-2.wav']\n"
     ]
    },
    {
     "name": "stderr",
     "output_type": "stream",
     "text": [
      "\u001b[1;33m\u001b[1;33m\u001b[1;33m\u001b[1;33m\u001b[1;33m\u001b[1;33mWARNING\u001b[1;0m\u001b[1;0m\u001b[1;0m\u001b[1;0m\u001b[1;0m\u001b[1;0m: Audio stream has a duration of less than 3 seconds. Normalization may not work. See https://github.com/slhck/ffmpeg-normalize/issues/87 for more info.\n"
     ]
    },
    {
     "name": "stdout",
     "output_type": "stream",
     "text": [
      "['ffmpeg', '-loglevel', 'error', '-i', '/Users/andrusasumets/projects/experiments/pacemaker/processed/normalized/619481__strangehorizon__retriggered-syntar-2.wav', '-acodec', 'pcm_s16le', '-ac', '1', '-ar', '100', '-threads', '6', '-y', '/Users/andrusasumets/projects/experiments/pacemaker/processed/wav/619481.wav']\n",
      "['ffmpeg', '-loglevel', 'error', '-i', '/Users/andrusasumets/projects/experiments/pacemaker/processed/normalized/619481__strangehorizon__retriggered-syntar-2.wav', '-c:a', 'aac', '-ar', '44100', '-threads', '6', '-y', '/Users/andrusasumets/projects/experiments/pacemaker/processed/audio/619481.m4a']\n",
      "['ffmpeg-normalize', '/Volumes/LaCie/freesound-crawler/downloads/252099__pepingrillin__tuba-note11.ogg', '-o', '/Users/andrusasumets/projects/experiments/pacemaker/processed/normalized/252099__pepingrillin__tuba-note11.ogg']\n"
     ]
    },
    {
     "name": "stderr",
     "output_type": "stream",
     "text": [
      "\u001b[1;31m\u001b[1;31m\u001b[1;31m\u001b[1;31m\u001b[1;31m\u001b[1;31mERROR\u001b[1;0m\u001b[1;0m\u001b[1;0m\u001b[1;0m\u001b[1;0m\u001b[1;0m: Output extension ogg does not support PCM audio. Please choose a suitable audio codec with the -c:a option.\n",
      "\u001b[1;33m\u001b[1;33m\u001b[1;33m\u001b[1;33m\u001b[1;33m\u001b[1;33mWARNING\u001b[1;0m\u001b[1;0m\u001b[1;0m\u001b[1;0m\u001b[1;0m\u001b[1;0m: Audio stream has a duration of less than 3 seconds. Normalization may not work. See https://github.com/slhck/ffmpeg-normalize/issues/87 for more info.\n"
     ]
    },
    {
     "name": "stdout",
     "output_type": "stream",
     "text": [
      "Command '['ffmpeg-normalize', '/Volumes/LaCie/freesound-crawler/downloads/252099__pepingrillin__tuba-note11.ogg', '-o', '/Users/andrusasumets/projects/experiments/pacemaker/processed/normalized/252099__pepingrillin__tuba-note11.ogg']' returned non-zero exit status 1.\n",
      "['ffmpeg-normalize', '/Volumes/LaCie/freesound-crawler/downloads/452332__bananplyte__death-4-the-ridge-host.wav', '-o', '/Users/andrusasumets/projects/experiments/pacemaker/processed/normalized/452332__bananplyte__death-4-the-ridge-host.wav']\n",
      "['ffmpeg', '-loglevel', 'error', '-i', '/Users/andrusasumets/projects/experiments/pacemaker/processed/normalized/452332__bananplyte__death-4-the-ridge-host.wav', '-acodec', 'pcm_s16le', '-ac', '1', '-ar', '100', '-threads', '6', '-y', '/Users/andrusasumets/projects/experiments/pacemaker/processed/wav/452332.wav']\n",
      "['ffmpeg', '-loglevel', 'error', '-i', '/Users/andrusasumets/projects/experiments/pacemaker/processed/normalized/452332__bananplyte__death-4-the-ridge-host.wav', '-c:a', 'aac', '-ar', '44100', '-threads', '6', '-y', '/Users/andrusasumets/projects/experiments/pacemaker/processed/audio/452332.m4a']\n",
      "['ffmpeg-normalize', '/Volumes/LaCie/freesound-crawler/downloads/294715__modularsamples__korg-mono-poly-punchy-d-4-punchy-63-127.aiff', '-o', '/Users/andrusasumets/projects/experiments/pacemaker/processed/normalized/294715__modularsamples__korg-mono-poly-punchy-d-4-punchy-63-127.aiff']\n"
     ]
    },
    {
     "name": "stderr",
     "output_type": "stream",
     "text": [
      "\u001b[1;33m\u001b[1;33m\u001b[1;33m\u001b[1;33m\u001b[1;33m\u001b[1;33mWARNING\u001b[1;0m\u001b[1;0m\u001b[1;0m\u001b[1;0m\u001b[1;0m\u001b[1;0m: Audio stream has a duration of less than 3 seconds. Normalization may not work. See https://github.com/slhck/ffmpeg-normalize/issues/87 for more info.\n",
      "\u001b[1;31m\u001b[1;31m\u001b[1;31m\u001b[1;31m\u001b[1;31m\u001b[1;31mERROR\u001b[1;0m\u001b[1;0m\u001b[1;0m\u001b[1;0m\u001b[1;0m\u001b[1;0m: Error while running command /usr/local/bin/ffmpeg -y -nostdin -i /Volumes/LaCie/freesound-crawler/downloads/294715__modularsamples__korg-mono-poly-punchy-d-4-punchy-63-127.aiff -filter_complex '[0:0]loudnorm=i=-23.0:lra=7.0:tp=-2.0:offset=0.0:measured_i=-15.5:measured_lra=0.0:measured_tp=-4.98:measured_thresh=-29.63:linear=true:print_format=json[norm0]' -map_metadata 0 -map_metadata:s:a:0 0:s:a:0 -map_chapters 0 -map '[norm0]' -c:a:0 pcm_s24le -c:s copy /var/folders/94/c53y6yld37z20wdsvhhlk58c0000gn/T/7vz5ykh_.aiff! Error: Error running command ['/usr/local/bin/ffmpeg', '-y', '-nostdin', '-i', '/Volumes/LaCie/freesound-crawler/downloads/294715__modularsamples__korg-mono-poly-punchy-d-4-punchy-63-127.aiff', '-filter_complex', '[0:0]loudnorm=i=-23.0:lra=7.0:tp=-2.0:offset=0.0:measured_i=-15.5:measured_lra=0.0:measured_tp=-4.98:measured_thresh=-29.63:linear=true:print_format=json[norm0]', '-map_metadata', '0', '-map_metadata:s:a:0', '0:s:a:0', '-map_chapters', '0', '-map', '[norm0]', '-c:a:0', 'pcm_s24le', '-c:s', 'copy', '/var/folders/94/c53y6yld37z20wdsvhhlk58c0000gn/T/7vz5ykh_.aiff']: ffmpeg version 5.1.1 Copyright (c) 2000-2022 the FFmpeg developers\n",
      "built with Apple clang version 13.1.6 (clang-1316.0.21.2.5)\n",
      "configuration: --prefix=/usr/local/Cellar/ffmpeg/5.1.1-with-options --enable-shared --cc=clang --host-cflags= --host-ldflags= --enable-gpl --enable-libaom --enable-libdav1d --enable-libmp3lame --enable-libopus --enable-libsnappy --enable-libtheora --enable-libvorbis --enable-libvpx --enable-libx264 --enable-libx265 --enable-libfontconfig --enable-libfreetype --enable-frei0r --enable-libass --enable-demuxer=dash --enable-opencl --enable-audiotoolbox --enable-videotoolbox --disable-htmlpages --enable-libfdk-aac --enable-nonfree\n",
      "libavutil      57. 28.100 / 57. 28.100\n",
      "libavcodec     59. 37.100 / 59. 37.100\n",
      "libavformat    59. 27.100 / 59. 27.100\n",
      "libavdevice    59.  7.100 / 59.  7.100\n",
      "libavfilter     8. 44.100 /  8. 44.100\n",
      "libswscale      6.  7.100 /  6.  7.100\n",
      "libswresample   4.  7.100 /  4.  7.100\n",
      "libpostproc    56.  6.100 / 56.  6.100\n",
      "Guessed Channel Layout for Input Stream #0.0 : mono\n",
      "Input #0, aiff, from '/Volumes/LaCie/freesound-crawler/downloads/294715__modularsamples__korg-mono-poly-punchy-d-4-punchy-63-127.aiff':\n",
      "Duration: 00:00:02.16, start: 0.000000, bitrate: 1073 kb/s\n",
      "Stream #0:0: Audio: pcm_s24be, 44100 Hz, mono, s32 (24 bit), 1058 kb/s\n",
      "Stream mapping:\n",
      "Stream #0:0 (pcm_s24be) -> loudnorm:default\n",
      "loudnorm:default -> Stream #0:0 (pcm_s24le)\n",
      "Could not write header for output file #0 (incorrect codec parameters ?): Invalid argument\n",
      "Error initializing output stream 0:0 --\n",
      "[Parsed_loudnorm_0 @ 0x7fcd2aa04080]\n",
      "{\n",
      "\"input_i\" : \"-inf\",\n",
      "\"input_tp\" : \"-inf\",\n",
      "\"input_lra\" : \"0.00\",\n",
      "\"input_thresh\" : \"-70.00\",\n",
      "\"output_i\" : \"-inf\",\n",
      "\"output_tp\" : \"-inf\",\n",
      "\"output_lra\" : \"0.00\",\n",
      "\"output_thresh\" : \"-70.00\",\n",
      "\"normalization_type\" : \"dynamic\",\n",
      "\"target_offset\" : \"inf\"\n",
      "}\n",
      "Conversion failed!\n",
      "Traceback (most recent call last):\n",
      "  File \"/usr/local/bin/ffmpeg-normalize\", line 8, in <module>\n",
      "    sys.exit(main())\n",
      "  File \"/usr/local/lib/python3.9/site-packages/ffmpeg_normalize/__main__.py\", line 554, in main\n",
      "    ffmpeg_normalize.run_normalization()\n",
      "  File \"/usr/local/lib/python3.9/site-packages/ffmpeg_normalize/_ffmpeg_normalize.py\", line 205, in run_normalization\n",
      "    raise e\n",
      "  File \"/usr/local/lib/python3.9/site-packages/ffmpeg_normalize/_ffmpeg_normalize.py\", line 194, in run_normalization\n",
      "    media_file.run_normalization()\n",
      "  File \"/usr/local/lib/python3.9/site-packages/ffmpeg_normalize/_media_file.py\", line 165, in run_normalization\n",
      "    for _ in self._second_pass():\n",
      "  File \"/usr/local/lib/python3.9/site-packages/ffmpeg_normalize/_media_file.py\", line 381, in _second_pass\n",
      "    raise e\n",
      "  File \"/usr/local/lib/python3.9/site-packages/ffmpeg_normalize/_media_file.py\", line 370, in _second_pass\n",
      "    raise e\n",
      "  File \"/usr/local/lib/python3.9/site-packages/ffmpeg_normalize/_media_file.py\", line 362, in _second_pass\n",
      "    for progress in cmd_runner.run_ffmpeg_command():\n",
      "  File \"/usr/local/lib/python3.9/site-packages/ffmpeg_normalize/_cmd_utils.py\", line 78, in run_ffmpeg_command\n",
      "    for progress in ff.run_command_with_progress():\n",
      "  File \"/usr/local/lib/python3.9/site-packages/ffmpeg_progress_yield/ffmpeg_progress_yield.py\", line 107, in run_command_with_progress\n",
      "    raise RuntimeError(\n",
      "RuntimeError: Error running command ['/usr/local/bin/ffmpeg', '-y', '-nostdin', '-i', '/Volumes/LaCie/freesound-crawler/downloads/294715__modularsamples__korg-mono-poly-punchy-d-4-punchy-63-127.aiff', '-filter_complex', '[0:0]loudnorm=i=-23.0:lra=7.0:tp=-2.0:offset=0.0:measured_i=-15.5:measured_lra=0.0:measured_tp=-4.98:measured_thresh=-29.63:linear=true:print_format=json[norm0]', '-map_metadata', '0', '-map_metadata:s:a:0', '0:s:a:0', '-map_chapters', '0', '-map', '[norm0]', '-c:a:0', 'pcm_s24le', '-c:s', 'copy', '/var/folders/94/c53y6yld37z20wdsvhhlk58c0000gn/T/7vz5ykh_.aiff']: ffmpeg version 5.1.1 Copyright (c) 2000-2022 the FFmpeg developers\n",
      "built with Apple clang version 13.1.6 (clang-1316.0.21.2.5)\n",
      "configuration: --prefix=/usr/local/Cellar/ffmpeg/5.1.1-with-options --enable-shared --cc=clang --host-cflags= --host-ldflags= --enable-gpl --enable-libaom --enable-libdav1d --enable-libmp3lame --enable-libopus --enable-libsnappy --enable-libtheora --enable-libvorbis --enable-libvpx --enable-libx264 --enable-libx265 --enable-libfontconfig --enable-libfreetype --enable-frei0r --enable-libass --enable-demuxer=dash --enable-opencl --enable-audiotoolbox --enable-videotoolbox --disable-htmlpages --enable-libfdk-aac --enable-nonfree\n",
      "libavutil      57. 28.100 / 57. 28.100\n",
      "libavcodec     59. 37.100 / 59. 37.100\n",
      "libavformat    59. 27.100 / 59. 27.100\n",
      "libavdevice    59.  7.100 / 59.  7.100\n",
      "libavfilter     8. 44.100 /  8. 44.100\n",
      "libswscale      6.  7.100 /  6.  7.100\n",
      "libswresample   4.  7.100 /  4.  7.100\n",
      "libpostproc    56.  6.100 / 56.  6.100\n",
      "Guessed Channel Layout for Input Stream #0.0 : mono\n",
      "Input #0, aiff, from '/Volumes/LaCie/freesound-crawler/downloads/294715__modularsamples__korg-mono-poly-punchy-d-4-punchy-63-127.aiff':\n",
      "Duration: 00:00:02.16, start: 0.000000, bitrate: 1073 kb/s\n",
      "Stream #0:0: Audio: pcm_s24be, 44100 Hz, mono, s32 (24 bit), 1058 kb/s\n",
      "Stream mapping:\n",
      "Stream #0:0 (pcm_s24be) -> loudnorm:default\n",
      "loudnorm:default -> Stream #0:0 (pcm_s24le)\n",
      "Could not write header for output file #0 (incorrect codec parameters ?): Invalid argument\n",
      "Error initializing output stream 0:0 --\n",
      "[Parsed_loudnorm_0 @ 0x7fcd2aa04080]\n",
      "{\n",
      "\"input_i\" : \"-inf\",\n",
      "\"input_tp\" : \"-inf\",\n",
      "\"input_lra\" : \"0.00\",\n",
      "\"input_thresh\" : \"-70.00\",\n",
      "\"output_i\" : \"-inf\",\n",
      "\"output_tp\" : \"-inf\",\n",
      "\"output_lra\" : \"0.00\",\n",
      "\"output_thresh\" : \"-70.00\",\n",
      "\"normalization_type\" : \"dynamic\",\n",
      "\"target_offset\" : \"inf\"\n",
      "}\n",
      "Conversion failed!\n"
     ]
    },
    {
     "name": "stdout",
     "output_type": "stream",
     "text": [
      "Command '['ffmpeg-normalize', '/Volumes/LaCie/freesound-crawler/downloads/294715__modularsamples__korg-mono-poly-punchy-d-4-punchy-63-127.aiff', '-o', '/Users/andrusasumets/projects/experiments/pacemaker/processed/normalized/294715__modularsamples__korg-mono-poly-punchy-d-4-punchy-63-127.aiff']' returned non-zero exit status 1.\n",
      "['ffmpeg-normalize', '/Volumes/LaCie/freesound-crawler/downloads/408567__miguelab1998__41-sigh-fear.wav', '-o', '/Users/andrusasumets/projects/experiments/pacemaker/processed/normalized/408567__miguelab1998__41-sigh-fear.wav']\n"
     ]
    },
    {
     "name": "stderr",
     "output_type": "stream",
     "text": [
      "\u001b[1;33m\u001b[1;33m\u001b[1;33m\u001b[1;33m\u001b[1;33m\u001b[1;33mWARNING\u001b[1;0m\u001b[1;0m\u001b[1;0m\u001b[1;0m\u001b[1;0m\u001b[1;0m: Audio stream has a duration of less than 3 seconds. Normalization may not work. See https://github.com/slhck/ffmpeg-normalize/issues/87 for more info.\n"
     ]
    },
    {
     "name": "stdout",
     "output_type": "stream",
     "text": [
      "['ffmpeg', '-loglevel', 'error', '-i', '/Users/andrusasumets/projects/experiments/pacemaker/processed/normalized/408567__miguelab1998__41-sigh-fear.wav', '-acodec', 'pcm_s16le', '-ac', '1', '-ar', '100', '-threads', '6', '-y', '/Users/andrusasumets/projects/experiments/pacemaker/processed/wav/408567.wav']\n",
      "['ffmpeg', '-loglevel', 'error', '-i', '/Users/andrusasumets/projects/experiments/pacemaker/processed/normalized/408567__miguelab1998__41-sigh-fear.wav', '-c:a', 'aac', '-ar', '44100', '-threads', '6', '-y', '/Users/andrusasumets/projects/experiments/pacemaker/processed/audio/408567.m4a']\n",
      "['ffmpeg-normalize', '/Volumes/LaCie/freesound-crawler/downloads/252179__pepingrillin__tuba-note22.ogg', '-o', '/Users/andrusasumets/projects/experiments/pacemaker/processed/normalized/252179__pepingrillin__tuba-note22.ogg']\n"
     ]
    },
    {
     "name": "stderr",
     "output_type": "stream",
     "text": [
      "\u001b[1;31m\u001b[1;31m\u001b[1;31m\u001b[1;31m\u001b[1;31m\u001b[1;31mERROR\u001b[1;0m\u001b[1;0m\u001b[1;0m\u001b[1;0m\u001b[1;0m\u001b[1;0m: Output extension ogg does not support PCM audio. Please choose a suitable audio codec with the -c:a option.\n"
     ]
    },
    {
     "name": "stdout",
     "output_type": "stream",
     "text": [
      "Command '['ffmpeg-normalize', '/Volumes/LaCie/freesound-crawler/downloads/252179__pepingrillin__tuba-note22.ogg', '-o', '/Users/andrusasumets/projects/experiments/pacemaker/processed/normalized/252179__pepingrillin__tuba-note22.ogg']' returned non-zero exit status 1.\n",
      "['ffmpeg-normalize', '/Volumes/LaCie/freesound-crawler/downloads/446590__nicolas4677__suit-object.wav', '-o', '/Users/andrusasumets/projects/experiments/pacemaker/processed/normalized/446590__nicolas4677__suit-object.wav']\n"
     ]
    },
    {
     "name": "stderr",
     "output_type": "stream",
     "text": [
      "\u001b[1;33m\u001b[1;33m\u001b[1;33m\u001b[1;33m\u001b[1;33m\u001b[1;33mWARNING\u001b[1;0m\u001b[1;0m\u001b[1;0m\u001b[1;0m\u001b[1;0m\u001b[1;0m: Audio stream has a duration of less than 3 seconds. Normalization may not work. See https://github.com/slhck/ffmpeg-normalize/issues/87 for more info.\n"
     ]
    },
    {
     "name": "stdout",
     "output_type": "stream",
     "text": [
      "['ffmpeg', '-loglevel', 'error', '-i', '/Users/andrusasumets/projects/experiments/pacemaker/processed/normalized/446590__nicolas4677__suit-object.wav', '-acodec', 'pcm_s16le', '-ac', '1', '-ar', '100', '-threads', '6', '-y', '/Users/andrusasumets/projects/experiments/pacemaker/processed/wav/446590.wav']\n",
      "['ffmpeg', '-loglevel', 'error', '-i', '/Users/andrusasumets/projects/experiments/pacemaker/processed/normalized/446590__nicolas4677__suit-object.wav', '-c:a', 'aac', '-ar', '44100', '-threads', '6', '-y', '/Users/andrusasumets/projects/experiments/pacemaker/processed/audio/446590.m4a']\n",
      "['ffmpeg-normalize', '/Volumes/LaCie/freesound-crawler/downloads/530939__dj-somar__inflador-bicicleta-15.wav', '-o', '/Users/andrusasumets/projects/experiments/pacemaker/processed/normalized/530939__dj-somar__inflador-bicicleta-15.wav']\n"
     ]
    },
    {
     "name": "stderr",
     "output_type": "stream",
     "text": [
      "\u001b[1;33m\u001b[1;33m\u001b[1;33m\u001b[1;33m\u001b[1;33m\u001b[1;33mWARNING\u001b[1;0m\u001b[1;0m\u001b[1;0m\u001b[1;0m\u001b[1;0m\u001b[1;0m: Audio stream has a duration of less than 3 seconds. Normalization may not work. See https://github.com/slhck/ffmpeg-normalize/issues/87 for more info.\n"
     ]
    },
    {
     "name": "stdout",
     "output_type": "stream",
     "text": [
      "['ffmpeg', '-loglevel', 'error', '-i', '/Users/andrusasumets/projects/experiments/pacemaker/processed/normalized/530939__dj-somar__inflador-bicicleta-15.wav', '-acodec', 'pcm_s16le', '-ac', '1', '-ar', '100', '-threads', '6', '-y', '/Users/andrusasumets/projects/experiments/pacemaker/processed/wav/530939.wav']\n",
      "['ffmpeg', '-loglevel', 'error', '-i', '/Users/andrusasumets/projects/experiments/pacemaker/processed/normalized/530939__dj-somar__inflador-bicicleta-15.wav', '-c:a', 'aac', '-ar', '44100', '-threads', '6', '-y', '/Users/andrusasumets/projects/experiments/pacemaker/processed/audio/530939.m4a']\n",
      "['ffmpeg-normalize', '/Volumes/LaCie/freesound-crawler/downloads/295416__modularsamples__korg-mono-poly-tri-force-d-4-triforce-63-127.aiff', '-o', '/Users/andrusasumets/projects/experiments/pacemaker/processed/normalized/295416__modularsamples__korg-mono-poly-tri-force-d-4-triforce-63-127.aiff']\n"
     ]
    },
    {
     "name": "stderr",
     "output_type": "stream",
     "text": [
      "\u001b[1;33m\u001b[1;33m\u001b[1;33m\u001b[1;33m\u001b[1;33m\u001b[1;33mWARNING\u001b[1;0m\u001b[1;0m\u001b[1;0m\u001b[1;0m\u001b[1;0m\u001b[1;0m: Audio stream has a duration of less than 3 seconds. Normalization may not work. See https://github.com/slhck/ffmpeg-normalize/issues/87 for more info.\n",
      "\u001b[1;31m\u001b[1;31m\u001b[1;31m\u001b[1;31m\u001b[1;31m\u001b[1;31mERROR\u001b[1;0m\u001b[1;0m\u001b[1;0m\u001b[1;0m\u001b[1;0m\u001b[1;0m: Error while running command /usr/local/bin/ffmpeg -y -nostdin -i /Volumes/LaCie/freesound-crawler/downloads/295416__modularsamples__korg-mono-poly-tri-force-d-4-triforce-63-127.aiff -filter_complex '[0:0]loudnorm=i=-23.0:lra=7.0:tp=-2.0:offset=0.02:measured_i=-26.02:measured_lra=0.0:measured_tp=-6.66:measured_thresh=-38.37:linear=true:print_format=json[norm0]' -map_metadata 0 -map_metadata:s:a:0 0:s:a:0 -map_chapters 0 -map '[norm0]' -c:a:0 pcm_s24le -c:s copy /var/folders/94/c53y6yld37z20wdsvhhlk58c0000gn/T/z2lfcjzq.aiff! Error: Error running command ['/usr/local/bin/ffmpeg', '-y', '-nostdin', '-i', '/Volumes/LaCie/freesound-crawler/downloads/295416__modularsamples__korg-mono-poly-tri-force-d-4-triforce-63-127.aiff', '-filter_complex', '[0:0]loudnorm=i=-23.0:lra=7.0:tp=-2.0:offset=0.02:measured_i=-26.02:measured_lra=0.0:measured_tp=-6.66:measured_thresh=-38.37:linear=true:print_format=json[norm0]', '-map_metadata', '0', '-map_metadata:s:a:0', '0:s:a:0', '-map_chapters', '0', '-map', '[norm0]', '-c:a:0', 'pcm_s24le', '-c:s', 'copy', '/var/folders/94/c53y6yld37z20wdsvhhlk58c0000gn/T/z2lfcjzq.aiff']: ffmpeg version 5.1.1 Copyright (c) 2000-2022 the FFmpeg developers\n",
      "built with Apple clang version 13.1.6 (clang-1316.0.21.2.5)\n",
      "configuration: --prefix=/usr/local/Cellar/ffmpeg/5.1.1-with-options --enable-shared --cc=clang --host-cflags= --host-ldflags= --enable-gpl --enable-libaom --enable-libdav1d --enable-libmp3lame --enable-libopus --enable-libsnappy --enable-libtheora --enable-libvorbis --enable-libvpx --enable-libx264 --enable-libx265 --enable-libfontconfig --enable-libfreetype --enable-frei0r --enable-libass --enable-demuxer=dash --enable-opencl --enable-audiotoolbox --enable-videotoolbox --disable-htmlpages --enable-libfdk-aac --enable-nonfree\n",
      "libavutil      57. 28.100 / 57. 28.100\n",
      "libavcodec     59. 37.100 / 59. 37.100\n",
      "libavformat    59. 27.100 / 59. 27.100\n",
      "libavdevice    59.  7.100 / 59.  7.100\n",
      "libavfilter     8. 44.100 /  8. 44.100\n",
      "libswscale      6.  7.100 /  6.  7.100\n",
      "libswresample   4.  7.100 /  4.  7.100\n",
      "libpostproc    56.  6.100 / 56.  6.100\n",
      "Guessed Channel Layout for Input Stream #0.0 : mono\n",
      "Input #0, aiff, from '/Volumes/LaCie/freesound-crawler/downloads/295416__modularsamples__korg-mono-poly-tri-force-d-4-triforce-63-127.aiff':\n",
      "Duration: 00:00:01.07, start: 0.000000, bitrate: 1089 kb/s\n",
      "Stream #0:0: Audio: pcm_s24be, 44100 Hz, mono, s32 (24 bit), 1058 kb/s\n",
      "Stream mapping:\n",
      "Stream #0:0 (pcm_s24be) -> loudnorm:default\n",
      "loudnorm:default -> Stream #0:0 (pcm_s24le)\n",
      "Could not write header for output file #0 (incorrect codec parameters ?): Invalid argument\n",
      "Error initializing output stream 0:0 --\n",
      "[Parsed_loudnorm_0 @ 0x7f9debf04dc0]\n",
      "{\n",
      "\"input_i\" : \"-inf\",\n",
      "\"input_tp\" : \"-inf\",\n",
      "\"input_lra\" : \"0.00\",\n",
      "\"input_thresh\" : \"-70.00\",\n",
      "\"output_i\" : \"-inf\",\n",
      "\"output_tp\" : \"-inf\",\n",
      "\"output_lra\" : \"0.00\",\n",
      "\"output_thresh\" : \"-70.00\",\n",
      "\"normalization_type\" : \"dynamic\",\n",
      "\"target_offset\" : \"inf\"\n",
      "}\n",
      "Conversion failed!\n",
      "Traceback (most recent call last):\n",
      "  File \"/usr/local/bin/ffmpeg-normalize\", line 8, in <module>\n",
      "    sys.exit(main())\n",
      "  File \"/usr/local/lib/python3.9/site-packages/ffmpeg_normalize/__main__.py\", line 554, in main\n",
      "    ffmpeg_normalize.run_normalization()\n",
      "  File \"/usr/local/lib/python3.9/site-packages/ffmpeg_normalize/_ffmpeg_normalize.py\", line 205, in run_normalization\n",
      "    raise e\n",
      "  File \"/usr/local/lib/python3.9/site-packages/ffmpeg_normalize/_ffmpeg_normalize.py\", line 194, in run_normalization\n",
      "    media_file.run_normalization()\n",
      "  File \"/usr/local/lib/python3.9/site-packages/ffmpeg_normalize/_media_file.py\", line 165, in run_normalization\n",
      "    for _ in self._second_pass():\n",
      "  File \"/usr/local/lib/python3.9/site-packages/ffmpeg_normalize/_media_file.py\", line 381, in _second_pass\n",
      "    raise e\n",
      "  File \"/usr/local/lib/python3.9/site-packages/ffmpeg_normalize/_media_file.py\", line 370, in _second_pass\n",
      "    raise e\n",
      "  File \"/usr/local/lib/python3.9/site-packages/ffmpeg_normalize/_media_file.py\", line 362, in _second_pass\n",
      "    for progress in cmd_runner.run_ffmpeg_command():\n",
      "  File \"/usr/local/lib/python3.9/site-packages/ffmpeg_normalize/_cmd_utils.py\", line 78, in run_ffmpeg_command\n",
      "    for progress in ff.run_command_with_progress():\n",
      "  File \"/usr/local/lib/python3.9/site-packages/ffmpeg_progress_yield/ffmpeg_progress_yield.py\", line 107, in run_command_with_progress\n",
      "    raise RuntimeError(\n",
      "RuntimeError: Error running command ['/usr/local/bin/ffmpeg', '-y', '-nostdin', '-i', '/Volumes/LaCie/freesound-crawler/downloads/295416__modularsamples__korg-mono-poly-tri-force-d-4-triforce-63-127.aiff', '-filter_complex', '[0:0]loudnorm=i=-23.0:lra=7.0:tp=-2.0:offset=0.02:measured_i=-26.02:measured_lra=0.0:measured_tp=-6.66:measured_thresh=-38.37:linear=true:print_format=json[norm0]', '-map_metadata', '0', '-map_metadata:s:a:0', '0:s:a:0', '-map_chapters', '0', '-map', '[norm0]', '-c:a:0', 'pcm_s24le', '-c:s', 'copy', '/var/folders/94/c53y6yld37z20wdsvhhlk58c0000gn/T/z2lfcjzq.aiff']: ffmpeg version 5.1.1 Copyright (c) 2000-2022 the FFmpeg developers\n",
      "built with Apple clang version 13.1.6 (clang-1316.0.21.2.5)\n",
      "configuration: --prefix=/usr/local/Cellar/ffmpeg/5.1.1-with-options --enable-shared --cc=clang --host-cflags= --host-ldflags= --enable-gpl --enable-libaom --enable-libdav1d --enable-libmp3lame --enable-libopus --enable-libsnappy --enable-libtheora --enable-libvorbis --enable-libvpx --enable-libx264 --enable-libx265 --enable-libfontconfig --enable-libfreetype --enable-frei0r --enable-libass --enable-demuxer=dash --enable-opencl --enable-audiotoolbox --enable-videotoolbox --disable-htmlpages --enable-libfdk-aac --enable-nonfree\n",
      "libavutil      57. 28.100 / 57. 28.100\n",
      "libavcodec     59. 37.100 / 59. 37.100\n",
      "libavformat    59. 27.100 / 59. 27.100\n",
      "libavdevice    59.  7.100 / 59.  7.100\n",
      "libavfilter     8. 44.100 /  8. 44.100\n",
      "libswscale      6.  7.100 /  6.  7.100\n",
      "libswresample   4.  7.100 /  4.  7.100\n",
      "libpostproc    56.  6.100 / 56.  6.100\n",
      "Guessed Channel Layout for Input Stream #0.0 : mono\n",
      "Input #0, aiff, from '/Volumes/LaCie/freesound-crawler/downloads/295416__modularsamples__korg-mono-poly-tri-force-d-4-triforce-63-127.aiff':\n",
      "Duration: 00:00:01.07, start: 0.000000, bitrate: 1089 kb/s\n",
      "Stream #0:0: Audio: pcm_s24be, 44100 Hz, mono, s32 (24 bit), 1058 kb/s\n",
      "Stream mapping:\n",
      "Stream #0:0 (pcm_s24be) -> loudnorm:default\n",
      "loudnorm:default -> Stream #0:0 (pcm_s24le)\n",
      "Could not write header for output file #0 (incorrect codec parameters ?): Invalid argument\n",
      "Error initializing output stream 0:0 --\n",
      "[Parsed_loudnorm_0 @ 0x7f9debf04dc0]\n",
      "{\n",
      "\"input_i\" : \"-inf\",\n",
      "\"input_tp\" : \"-inf\",\n",
      "\"input_lra\" : \"0.00\",\n",
      "\"input_thresh\" : \"-70.00\",\n",
      "\"output_i\" : \"-inf\",\n",
      "\"output_tp\" : \"-inf\",\n",
      "\"output_lra\" : \"0.00\",\n",
      "\"output_thresh\" : \"-70.00\",\n",
      "\"normalization_type\" : \"dynamic\",\n",
      "\"target_offset\" : \"inf\"\n",
      "}\n",
      "Conversion failed!\n"
     ]
    },
    {
     "name": "stdout",
     "output_type": "stream",
     "text": [
      "Command '['ffmpeg-normalize', '/Volumes/LaCie/freesound-crawler/downloads/295416__modularsamples__korg-mono-poly-tri-force-d-4-triforce-63-127.aiff', '-o', '/Users/andrusasumets/projects/experiments/pacemaker/processed/normalized/295416__modularsamples__korg-mono-poly-tri-force-d-4-triforce-63-127.aiff']' returned non-zero exit status 1.\n",
      "['ffmpeg-normalize', '/Volumes/LaCie/freesound-crawler/downloads/90494__suicidity__metal-timbale-left-open-033.wav', '-o', '/Users/andrusasumets/projects/experiments/pacemaker/processed/normalized/90494__suicidity__metal-timbale-left-open-033.wav']\n"
     ]
    },
    {
     "name": "stderr",
     "output_type": "stream",
     "text": [
      "\u001b[1;33m\u001b[1;33m\u001b[1;33m\u001b[1;33m\u001b[1;33m\u001b[1;33mWARNING\u001b[1;0m\u001b[1;0m\u001b[1;0m\u001b[1;0m\u001b[1;0m\u001b[1;0m: Audio stream has a duration of less than 3 seconds. Normalization may not work. See https://github.com/slhck/ffmpeg-normalize/issues/87 for more info.\n"
     ]
    },
    {
     "name": "stdout",
     "output_type": "stream",
     "text": [
      "['ffmpeg', '-loglevel', 'error', '-i', '/Users/andrusasumets/projects/experiments/pacemaker/processed/normalized/90494__suicidity__metal-timbale-left-open-033.wav', '-acodec', 'pcm_s16le', '-ac', '1', '-ar', '100', '-threads', '6', '-y', '/Users/andrusasumets/projects/experiments/pacemaker/processed/wav/90494.wav']\n",
      "['ffmpeg', '-loglevel', 'error', '-i', '/Users/andrusasumets/projects/experiments/pacemaker/processed/normalized/90494__suicidity__metal-timbale-left-open-033.wav', '-c:a', 'aac', '-ar', '44100', '-threads', '6', '-y', '/Users/andrusasumets/projects/experiments/pacemaker/processed/audio/90494.m4a']\n",
      "['ffmpeg-normalize', '/Volumes/LaCie/freesound-crawler/downloads/208359__crispydinner__ppu-snare-marker-148.wav', '-o', '/Users/andrusasumets/projects/experiments/pacemaker/processed/normalized/208359__crispydinner__ppu-snare-marker-148.wav']\n"
     ]
    },
    {
     "name": "stderr",
     "output_type": "stream",
     "text": [
      "\u001b[1;33m\u001b[1;33m\u001b[1;33m\u001b[1;33m\u001b[1;33m\u001b[1;33mWARNING\u001b[1;0m\u001b[1;0m\u001b[1;0m\u001b[1;0m\u001b[1;0m\u001b[1;0m: Audio stream has a duration of less than 3 seconds. Normalization may not work. See https://github.com/slhck/ffmpeg-normalize/issues/87 for more info.\n"
     ]
    },
    {
     "name": "stdout",
     "output_type": "stream",
     "text": [
      "['ffmpeg', '-loglevel', 'error', '-i', '/Users/andrusasumets/projects/experiments/pacemaker/processed/normalized/208359__crispydinner__ppu-snare-marker-148.wav', '-acodec', 'pcm_s16le', '-ac', '1', '-ar', '100', '-threads', '6', '-y', '/Users/andrusasumets/projects/experiments/pacemaker/processed/wav/208359.wav']\n",
      "['ffmpeg', '-loglevel', 'error', '-i', '/Users/andrusasumets/projects/experiments/pacemaker/processed/normalized/208359__crispydinner__ppu-snare-marker-148.wav', '-c:a', 'aac', '-ar', '44100', '-threads', '6', '-y', '/Users/andrusasumets/projects/experiments/pacemaker/processed/audio/208359.m4a']\n",
      "['ffmpeg-normalize', '/Volumes/LaCie/freesound-crawler/downloads/373337__samulis__flute-staccato-e5-ldflute-stac-e4-v3-rr1.wav', '-o', '/Users/andrusasumets/projects/experiments/pacemaker/processed/normalized/373337__samulis__flute-staccato-e5-ldflute-stac-e4-v3-rr1.wav']\n"
     ]
    },
    {
     "name": "stderr",
     "output_type": "stream",
     "text": [
      "\u001b[1;33m\u001b[1;33m\u001b[1;33m\u001b[1;33m\u001b[1;33m\u001b[1;33mWARNING\u001b[1;0m\u001b[1;0m\u001b[1;0m\u001b[1;0m\u001b[1;0m\u001b[1;0m: Audio stream has a duration of less than 3 seconds. Normalization may not work. See https://github.com/slhck/ffmpeg-normalize/issues/87 for more info.\n"
     ]
    },
    {
     "name": "stdout",
     "output_type": "stream",
     "text": [
      "['ffmpeg', '-loglevel', 'error', '-i', '/Users/andrusasumets/projects/experiments/pacemaker/processed/normalized/373337__samulis__flute-staccato-e5-ldflute-stac-e4-v3-rr1.wav', '-acodec', 'pcm_s16le', '-ac', '1', '-ar', '100', '-threads', '6', '-y', '/Users/andrusasumets/projects/experiments/pacemaker/processed/wav/373337.wav']\n",
      "['ffmpeg', '-loglevel', 'error', '-i', '/Users/andrusasumets/projects/experiments/pacemaker/processed/normalized/373337__samulis__flute-staccato-e5-ldflute-stac-e4-v3-rr1.wav', '-c:a', 'aac', '-ar', '44100', '-threads', '6', '-y', '/Users/andrusasumets/projects/experiments/pacemaker/processed/audio/373337.m4a']\n",
      "['ffmpeg-normalize', '/Volumes/LaCie/freesound-crawler/downloads/383606__pjcohen__standup-bass-effects-slide2.wav', '-o', '/Users/andrusasumets/projects/experiments/pacemaker/processed/normalized/383606__pjcohen__standup-bass-effects-slide2.wav']\n"
     ]
    },
    {
     "name": "stderr",
     "output_type": "stream",
     "text": [
      "\u001b[1;33m\u001b[1;33m\u001b[1;33m\u001b[1;33m\u001b[1;33m\u001b[1;33mWARNING\u001b[1;0m\u001b[1;0m\u001b[1;0m\u001b[1;0m\u001b[1;0m\u001b[1;0m: Audio stream has a duration of less than 3 seconds. Normalization may not work. See https://github.com/slhck/ffmpeg-normalize/issues/87 for more info.\n"
     ]
    },
    {
     "name": "stdout",
     "output_type": "stream",
     "text": [
      "['ffmpeg', '-loglevel', 'error', '-i', '/Users/andrusasumets/projects/experiments/pacemaker/processed/normalized/383606__pjcohen__standup-bass-effects-slide2.wav', '-acodec', 'pcm_s16le', '-ac', '1', '-ar', '100', '-threads', '6', '-y', '/Users/andrusasumets/projects/experiments/pacemaker/processed/wav/383606.wav']\n",
      "['ffmpeg', '-loglevel', 'error', '-i', '/Users/andrusasumets/projects/experiments/pacemaker/processed/normalized/383606__pjcohen__standup-bass-effects-slide2.wav', '-c:a', 'aac', '-ar', '44100', '-threads', '6', '-y', '/Users/andrusasumets/projects/experiments/pacemaker/processed/audio/383606.m4a']\n",
      "['ffmpeg-normalize', '/Volumes/LaCie/freesound-crawler/downloads/551049__akusmatech__knarren-01.wav', '-o', '/Users/andrusasumets/projects/experiments/pacemaker/processed/normalized/551049__akusmatech__knarren-01.wav']\n"
     ]
    },
    {
     "name": "stderr",
     "output_type": "stream",
     "text": [
      "\u001b[1;33m\u001b[1;33m\u001b[1;33m\u001b[1;33m\u001b[1;33m\u001b[1;33mWARNING\u001b[1;0m\u001b[1;0m\u001b[1;0m\u001b[1;0m\u001b[1;0m\u001b[1;0m: Audio stream has a duration of less than 3 seconds. Normalization may not work. See https://github.com/slhck/ffmpeg-normalize/issues/87 for more info.\n"
     ]
    },
    {
     "name": "stdout",
     "output_type": "stream",
     "text": [
      "['ffmpeg', '-loglevel', 'error', '-i', '/Users/andrusasumets/projects/experiments/pacemaker/processed/normalized/551049__akusmatech__knarren-01.wav', '-acodec', 'pcm_s16le', '-ac', '1', '-ar', '100', '-threads', '6', '-y', '/Users/andrusasumets/projects/experiments/pacemaker/processed/wav/551049.wav']\n",
      "['ffmpeg', '-loglevel', 'error', '-i', '/Users/andrusasumets/projects/experiments/pacemaker/processed/normalized/551049__akusmatech__knarren-01.wav', '-c:a', 'aac', '-ar', '44100', '-threads', '6', '-y', '/Users/andrusasumets/projects/experiments/pacemaker/processed/audio/551049.m4a']\n",
      "['ffmpeg-normalize', '/Volumes/LaCie/freesound-crawler/downloads/576917__maciaac__mid-tom-sample-with-akg-c414.wav', '-o', '/Users/andrusasumets/projects/experiments/pacemaker/processed/normalized/576917__maciaac__mid-tom-sample-with-akg-c414.wav']\n"
     ]
    },
    {
     "name": "stderr",
     "output_type": "stream",
     "text": [
      "\u001b[1;33m\u001b[1;33m\u001b[1;33m\u001b[1;33m\u001b[1;33m\u001b[1;33mWARNING\u001b[1;0m\u001b[1;0m\u001b[1;0m\u001b[1;0m\u001b[1;0m\u001b[1;0m: Audio stream has a duration of less than 3 seconds. Normalization may not work. See https://github.com/slhck/ffmpeg-normalize/issues/87 for more info.\n"
     ]
    },
    {
     "name": "stdout",
     "output_type": "stream",
     "text": [
      "['ffmpeg', '-loglevel', 'error', '-i', '/Users/andrusasumets/projects/experiments/pacemaker/processed/normalized/576917__maciaac__mid-tom-sample-with-akg-c414.wav', '-acodec', 'pcm_s16le', '-ac', '1', '-ar', '100', '-threads', '6', '-y', '/Users/andrusasumets/projects/experiments/pacemaker/processed/wav/576917.wav']\n",
      "['ffmpeg', '-loglevel', 'error', '-i', '/Users/andrusasumets/projects/experiments/pacemaker/processed/normalized/576917__maciaac__mid-tom-sample-with-akg-c414.wav', '-c:a', 'aac', '-ar', '44100', '-threads', '6', '-y', '/Users/andrusasumets/projects/experiments/pacemaker/processed/audio/576917.m4a']\n",
      "['ffmpeg-normalize', '/Volumes/LaCie/freesound-crawler/downloads/616724__frenkfurth__21-jan-fart-30.mp3', '-o', '/Users/andrusasumets/projects/experiments/pacemaker/processed/normalized/616724__frenkfurth__21-jan-fart-30.mp3']\n"
     ]
    },
    {
     "name": "stderr",
     "output_type": "stream",
     "text": [
      "\u001b[1;31m\u001b[1;31m\u001b[1;31m\u001b[1;31m\u001b[1;31m\u001b[1;31mERROR\u001b[1;0m\u001b[1;0m\u001b[1;0m\u001b[1;0m\u001b[1;0m\u001b[1;0m: Output extension mp3 does not support PCM audio. Please choose a suitable audio codec with the -c:a option.\n"
     ]
    },
    {
     "name": "stdout",
     "output_type": "stream",
     "text": [
      "Command '['ffmpeg-normalize', '/Volumes/LaCie/freesound-crawler/downloads/616724__frenkfurth__21-jan-fart-30.mp3', '-o', '/Users/andrusasumets/projects/experiments/pacemaker/processed/normalized/616724__frenkfurth__21-jan-fart-30.mp3']' returned non-zero exit status 1.\n",
      "['ffmpeg-normalize', '/Volumes/LaCie/freesound-crawler/downloads/310982__modularsamples__roland-sh-2-rezzy-sqr-f2-42f-1-fm60.aiff', '-o', '/Users/andrusasumets/projects/experiments/pacemaker/processed/normalized/310982__modularsamples__roland-sh-2-rezzy-sqr-f2-42f-1-fm60.aiff']\n"
     ]
    },
    {
     "name": "stderr",
     "output_type": "stream",
     "text": [
      "\u001b[1;33m\u001b[1;33m\u001b[1;33m\u001b[1;33m\u001b[1;33m\u001b[1;33mWARNING\u001b[1;0m\u001b[1;0m\u001b[1;0m\u001b[1;0m\u001b[1;0m\u001b[1;0m: Audio stream has a duration of less than 3 seconds. Normalization may not work. See https://github.com/slhck/ffmpeg-normalize/issues/87 for more info.\n",
      "\u001b[1;31m\u001b[1;31m\u001b[1;31m\u001b[1;31m\u001b[1;31m\u001b[1;31mERROR\u001b[1;0m\u001b[1;0m\u001b[1;0m\u001b[1;0m\u001b[1;0m\u001b[1;0m: Error while running command /usr/local/bin/ffmpeg -y -nostdin -i /Volumes/LaCie/freesound-crawler/downloads/310982__modularsamples__roland-sh-2-rezzy-sqr-f2-42f-1-fm60.aiff -filter_complex '[0:0]loudnorm=i=-23.0:lra=7.0:tp=-2.0:offset=-0.0:measured_i=-32.66:measured_lra=0.0:measured_tp=-13.71:measured_thresh=-43.53:linear=true:print_format=json[norm0]' -map_metadata 0 -map_metadata:s:a:0 0:s:a:0 -map_chapters 0 -map '[norm0]' -c:a:0 pcm_s24le -c:s copy /var/folders/94/c53y6yld37z20wdsvhhlk58c0000gn/T/nu31fuba.aiff! Error: Error running command ['/usr/local/bin/ffmpeg', '-y', '-nostdin', '-i', '/Volumes/LaCie/freesound-crawler/downloads/310982__modularsamples__roland-sh-2-rezzy-sqr-f2-42f-1-fm60.aiff', '-filter_complex', '[0:0]loudnorm=i=-23.0:lra=7.0:tp=-2.0:offset=-0.0:measured_i=-32.66:measured_lra=0.0:measured_tp=-13.71:measured_thresh=-43.53:linear=true:print_format=json[norm0]', '-map_metadata', '0', '-map_metadata:s:a:0', '0:s:a:0', '-map_chapters', '0', '-map', '[norm0]', '-c:a:0', 'pcm_s24le', '-c:s', 'copy', '/var/folders/94/c53y6yld37z20wdsvhhlk58c0000gn/T/nu31fuba.aiff']: ffmpeg version 5.1.1 Copyright (c) 2000-2022 the FFmpeg developers\n",
      "built with Apple clang version 13.1.6 (clang-1316.0.21.2.5)\n",
      "configuration: --prefix=/usr/local/Cellar/ffmpeg/5.1.1-with-options --enable-shared --cc=clang --host-cflags= --host-ldflags= --enable-gpl --enable-libaom --enable-libdav1d --enable-libmp3lame --enable-libopus --enable-libsnappy --enable-libtheora --enable-libvorbis --enable-libvpx --enable-libx264 --enable-libx265 --enable-libfontconfig --enable-libfreetype --enable-frei0r --enable-libass --enable-demuxer=dash --enable-opencl --enable-audiotoolbox --enable-videotoolbox --disable-htmlpages --enable-libfdk-aac --enable-nonfree\n",
      "libavutil      57. 28.100 / 57. 28.100\n",
      "libavcodec     59. 37.100 / 59. 37.100\n",
      "libavformat    59. 27.100 / 59. 27.100\n",
      "libavdevice    59.  7.100 / 59.  7.100\n",
      "libavfilter     8. 44.100 /  8. 44.100\n",
      "libswscale      6.  7.100 /  6.  7.100\n",
      "libswresample   4.  7.100 /  4.  7.100\n",
      "libpostproc    56.  6.100 / 56.  6.100\n",
      "Guessed Channel Layout for Input Stream #0.0 : mono\n",
      "Input #0, aiff, from '/Volumes/LaCie/freesound-crawler/downloads/310982__modularsamples__roland-sh-2-rezzy-sqr-f2-42f-1-fm60.aiff':\n",
      "Duration: 00:00:01.60, start: 0.000000, bitrate: 1078 kb/s\n",
      "Stream #0:0: Audio: pcm_s24be, 44100 Hz, mono, s32 (24 bit), 1058 kb/s\n",
      "Stream mapping:\n",
      "Stream #0:0 (pcm_s24be) -> loudnorm:default\n",
      "loudnorm:default -> Stream #0:0 (pcm_s24le)\n",
      "Could not write header for output file #0 (incorrect codec parameters ?): Invalid argument\n",
      "Error initializing output stream 0:0 --\n",
      "[Parsed_loudnorm_0 @ 0x7faff1705180]\n",
      "{\n",
      "\"input_i\" : \"-inf\",\n",
      "\"input_tp\" : \"-inf\",\n",
      "\"input_lra\" : \"0.00\",\n",
      "\"input_thresh\" : \"-70.00\",\n",
      "\"output_i\" : \"-inf\",\n",
      "\"output_tp\" : \"-inf\",\n",
      "\"output_lra\" : \"0.00\",\n",
      "\"output_thresh\" : \"-70.00\",\n",
      "\"normalization_type\" : \"dynamic\",\n",
      "\"target_offset\" : \"inf\"\n",
      "}\n",
      "Conversion failed!\n",
      "Traceback (most recent call last):\n",
      "  File \"/usr/local/bin/ffmpeg-normalize\", line 8, in <module>\n",
      "    sys.exit(main())\n",
      "  File \"/usr/local/lib/python3.9/site-packages/ffmpeg_normalize/__main__.py\", line 554, in main\n",
      "    ffmpeg_normalize.run_normalization()\n",
      "  File \"/usr/local/lib/python3.9/site-packages/ffmpeg_normalize/_ffmpeg_normalize.py\", line 205, in run_normalization\n",
      "    raise e\n",
      "  File \"/usr/local/lib/python3.9/site-packages/ffmpeg_normalize/_ffmpeg_normalize.py\", line 194, in run_normalization\n",
      "    media_file.run_normalization()\n",
      "  File \"/usr/local/lib/python3.9/site-packages/ffmpeg_normalize/_media_file.py\", line 165, in run_normalization\n",
      "    for _ in self._second_pass():\n",
      "  File \"/usr/local/lib/python3.9/site-packages/ffmpeg_normalize/_media_file.py\", line 381, in _second_pass\n",
      "    raise e\n",
      "  File \"/usr/local/lib/python3.9/site-packages/ffmpeg_normalize/_media_file.py\", line 370, in _second_pass\n",
      "    raise e\n",
      "  File \"/usr/local/lib/python3.9/site-packages/ffmpeg_normalize/_media_file.py\", line 362, in _second_pass\n",
      "    for progress in cmd_runner.run_ffmpeg_command():\n",
      "  File \"/usr/local/lib/python3.9/site-packages/ffmpeg_normalize/_cmd_utils.py\", line 78, in run_ffmpeg_command\n",
      "    for progress in ff.run_command_with_progress():\n",
      "  File \"/usr/local/lib/python3.9/site-packages/ffmpeg_progress_yield/ffmpeg_progress_yield.py\", line 107, in run_command_with_progress\n",
      "    raise RuntimeError(\n",
      "RuntimeError: Error running command ['/usr/local/bin/ffmpeg', '-y', '-nostdin', '-i', '/Volumes/LaCie/freesound-crawler/downloads/310982__modularsamples__roland-sh-2-rezzy-sqr-f2-42f-1-fm60.aiff', '-filter_complex', '[0:0]loudnorm=i=-23.0:lra=7.0:tp=-2.0:offset=-0.0:measured_i=-32.66:measured_lra=0.0:measured_tp=-13.71:measured_thresh=-43.53:linear=true:print_format=json[norm0]', '-map_metadata', '0', '-map_metadata:s:a:0', '0:s:a:0', '-map_chapters', '0', '-map', '[norm0]', '-c:a:0', 'pcm_s24le', '-c:s', 'copy', '/var/folders/94/c53y6yld37z20wdsvhhlk58c0000gn/T/nu31fuba.aiff']: ffmpeg version 5.1.1 Copyright (c) 2000-2022 the FFmpeg developers\n",
      "built with Apple clang version 13.1.6 (clang-1316.0.21.2.5)\n",
      "configuration: --prefix=/usr/local/Cellar/ffmpeg/5.1.1-with-options --enable-shared --cc=clang --host-cflags= --host-ldflags= --enable-gpl --enable-libaom --enable-libdav1d --enable-libmp3lame --enable-libopus --enable-libsnappy --enable-libtheora --enable-libvorbis --enable-libvpx --enable-libx264 --enable-libx265 --enable-libfontconfig --enable-libfreetype --enable-frei0r --enable-libass --enable-demuxer=dash --enable-opencl --enable-audiotoolbox --enable-videotoolbox --disable-htmlpages --enable-libfdk-aac --enable-nonfree\n",
      "libavutil      57. 28.100 / 57. 28.100\n",
      "libavcodec     59. 37.100 / 59. 37.100\n",
      "libavformat    59. 27.100 / 59. 27.100\n",
      "libavdevice    59.  7.100 / 59.  7.100\n",
      "libavfilter     8. 44.100 /  8. 44.100\n",
      "libswscale      6.  7.100 /  6.  7.100\n",
      "libswresample   4.  7.100 /  4.  7.100\n",
      "libpostproc    56.  6.100 / 56.  6.100\n",
      "Guessed Channel Layout for Input Stream #0.0 : mono\n",
      "Input #0, aiff, from '/Volumes/LaCie/freesound-crawler/downloads/310982__modularsamples__roland-sh-2-rezzy-sqr-f2-42f-1-fm60.aiff':\n",
      "Duration: 00:00:01.60, start: 0.000000, bitrate: 1078 kb/s\n",
      "Stream #0:0: Audio: pcm_s24be, 44100 Hz, mono, s32 (24 bit), 1058 kb/s\n",
      "Stream mapping:\n",
      "Stream #0:0 (pcm_s24be) -> loudnorm:default\n",
      "loudnorm:default -> Stream #0:0 (pcm_s24le)\n",
      "Could not write header for output file #0 (incorrect codec parameters ?): Invalid argument\n",
      "Error initializing output stream 0:0 --\n",
      "[Parsed_loudnorm_0 @ 0x7faff1705180]\n",
      "{\n",
      "\"input_i\" : \"-inf\",\n",
      "\"input_tp\" : \"-inf\",\n",
      "\"input_lra\" : \"0.00\",\n",
      "\"input_thresh\" : \"-70.00\",\n",
      "\"output_i\" : \"-inf\",\n",
      "\"output_tp\" : \"-inf\",\n",
      "\"output_lra\" : \"0.00\",\n",
      "\"output_thresh\" : \"-70.00\",\n",
      "\"normalization_type\" : \"dynamic\",\n",
      "\"target_offset\" : \"inf\"\n",
      "}\n",
      "Conversion failed!\n"
     ]
    },
    {
     "name": "stdout",
     "output_type": "stream",
     "text": [
      "Command '['ffmpeg-normalize', '/Volumes/LaCie/freesound-crawler/downloads/310982__modularsamples__roland-sh-2-rezzy-sqr-f2-42f-1-fm60.aiff', '-o', '/Users/andrusasumets/projects/experiments/pacemaker/processed/normalized/310982__modularsamples__roland-sh-2-rezzy-sqr-f2-42f-1-fm60.aiff']' returned non-zero exit status 1.\n",
      "['ffmpeg-normalize', '/Volumes/LaCie/freesound-crawler/downloads/315784__bevibeldesign__dragon-roar-mild-8.aiff', '-o', '/Users/andrusasumets/projects/experiments/pacemaker/processed/normalized/315784__bevibeldesign__dragon-roar-mild-8.aiff']\n"
     ]
    },
    {
     "name": "stderr",
     "output_type": "stream",
     "text": [
      "\u001b[1;33m\u001b[1;33m\u001b[1;33m\u001b[1;33m\u001b[1;33m\u001b[1;33mWARNING\u001b[1;0m\u001b[1;0m\u001b[1;0m\u001b[1;0m\u001b[1;0m\u001b[1;0m: Audio stream has a duration of less than 3 seconds. Normalization may not work. See https://github.com/slhck/ffmpeg-normalize/issues/87 for more info.\n"
     ]
    },
    {
     "name": "stdout",
     "output_type": "stream",
     "text": [
      "['ffmpeg', '-loglevel', 'error', '-i', '/Users/andrusasumets/projects/experiments/pacemaker/processed/normalized/315784__bevibeldesign__dragon-roar-mild-8.aiff', '-acodec', 'pcm_s16le', '-ac', '1', '-ar', '100', '-threads', '6', '-y', '/Users/andrusasumets/projects/experiments/pacemaker/processed/wav/315784.wav']\n",
      "['ffmpeg', '-loglevel', 'error', '-i', '/Users/andrusasumets/projects/experiments/pacemaker/processed/normalized/315784__bevibeldesign__dragon-roar-mild-8.aiff', '-c:a', 'aac', '-ar', '44100', '-threads', '6', '-y', '/Users/andrusasumets/projects/experiments/pacemaker/processed/audio/315784.m4a']\n",
      "['ffmpeg-normalize', '/Volumes/LaCie/freesound-crawler/downloads/295404__modularsamples__korg-mono-poly-tri-force-d-3-triforce-51-127.aiff', '-o', '/Users/andrusasumets/projects/experiments/pacemaker/processed/normalized/295404__modularsamples__korg-mono-poly-tri-force-d-3-triforce-51-127.aiff']\n"
     ]
    },
    {
     "name": "stderr",
     "output_type": "stream",
     "text": [
      "\u001b[1;33m\u001b[1;33m\u001b[1;33m\u001b[1;33m\u001b[1;33m\u001b[1;33mWARNING\u001b[1;0m\u001b[1;0m\u001b[1;0m\u001b[1;0m\u001b[1;0m\u001b[1;0m: Audio stream has a duration of less than 3 seconds. Normalization may not work. See https://github.com/slhck/ffmpeg-normalize/issues/87 for more info.\n",
      "\u001b[1;31m\u001b[1;31m\u001b[1;31m\u001b[1;31m\u001b[1;31m\u001b[1;31mERROR\u001b[1;0m\u001b[1;0m\u001b[1;0m\u001b[1;0m\u001b[1;0m\u001b[1;0m: Error while running command /usr/local/bin/ffmpeg -y -nostdin -i /Volumes/LaCie/freesound-crawler/downloads/295404__modularsamples__korg-mono-poly-tri-force-d-3-triforce-51-127.aiff -filter_complex '[0:0]loudnorm=i=-23.0:lra=7.0:tp=-2.0:offset=0.04:measured_i=-24.14:measured_lra=0.0:measured_tp=-7.3:measured_thresh=-36.5:linear=true:print_format=json[norm0]' -map_metadata 0 -map_metadata:s:a:0 0:s:a:0 -map_chapters 0 -map '[norm0]' -c:a:0 pcm_s24le -c:s copy /var/folders/94/c53y6yld37z20wdsvhhlk58c0000gn/T/i5npv2mn.aiff! Error: Error running command ['/usr/local/bin/ffmpeg', '-y', '-nostdin', '-i', '/Volumes/LaCie/freesound-crawler/downloads/295404__modularsamples__korg-mono-poly-tri-force-d-3-triforce-51-127.aiff', '-filter_complex', '[0:0]loudnorm=i=-23.0:lra=7.0:tp=-2.0:offset=0.04:measured_i=-24.14:measured_lra=0.0:measured_tp=-7.3:measured_thresh=-36.5:linear=true:print_format=json[norm0]', '-map_metadata', '0', '-map_metadata:s:a:0', '0:s:a:0', '-map_chapters', '0', '-map', '[norm0]', '-c:a:0', 'pcm_s24le', '-c:s', 'copy', '/var/folders/94/c53y6yld37z20wdsvhhlk58c0000gn/T/i5npv2mn.aiff']: ffmpeg version 5.1.1 Copyright (c) 2000-2022 the FFmpeg developers\n",
      "built with Apple clang version 13.1.6 (clang-1316.0.21.2.5)\n",
      "configuration: --prefix=/usr/local/Cellar/ffmpeg/5.1.1-with-options --enable-shared --cc=clang --host-cflags= --host-ldflags= --enable-gpl --enable-libaom --enable-libdav1d --enable-libmp3lame --enable-libopus --enable-libsnappy --enable-libtheora --enable-libvorbis --enable-libvpx --enable-libx264 --enable-libx265 --enable-libfontconfig --enable-libfreetype --enable-frei0r --enable-libass --enable-demuxer=dash --enable-opencl --enable-audiotoolbox --enable-videotoolbox --disable-htmlpages --enable-libfdk-aac --enable-nonfree\n",
      "libavutil      57. 28.100 / 57. 28.100\n",
      "libavcodec     59. 37.100 / 59. 37.100\n",
      "libavformat    59. 27.100 / 59. 27.100\n",
      "libavdevice    59.  7.100 / 59.  7.100\n",
      "libavfilter     8. 44.100 /  8. 44.100\n",
      "libswscale      6.  7.100 /  6.  7.100\n",
      "libswresample   4.  7.100 /  4.  7.100\n",
      "libpostproc    56.  6.100 / 56.  6.100\n",
      "Guessed Channel Layout for Input Stream #0.0 : mono\n",
      "Input #0, aiff, from '/Volumes/LaCie/freesound-crawler/downloads/295404__modularsamples__korg-mono-poly-tri-force-d-3-triforce-51-127.aiff':\n",
      "Duration: 00:00:01.08, start: 0.000000, bitrate: 1088 kb/s\n",
      "Stream #0:0: Audio: pcm_s24be, 44100 Hz, mono, s32 (24 bit), 1058 kb/s\n",
      "Stream mapping:\n",
      "Stream #0:0 (pcm_s24be) -> loudnorm:default\n",
      "loudnorm:default -> Stream #0:0 (pcm_s24le)\n",
      "Could not write header for output file #0 (incorrect codec parameters ?): Invalid argument\n",
      "Error initializing output stream 0:0 --\n",
      "[Parsed_loudnorm_0 @ 0x7fc35ff04dc0]\n",
      "{\n",
      "\"input_i\" : \"-inf\",\n",
      "\"input_tp\" : \"-inf\",\n",
      "\"input_lra\" : \"0.00\",\n",
      "\"input_thresh\" : \"-70.00\",\n",
      "\"output_i\" : \"-inf\",\n",
      "\"output_tp\" : \"-inf\",\n",
      "\"output_lra\" : \"0.00\",\n",
      "\"output_thresh\" : \"-70.00\",\n",
      "\"normalization_type\" : \"dynamic\",\n",
      "\"target_offset\" : \"inf\"\n",
      "}\n",
      "Conversion failed!\n",
      "Traceback (most recent call last):\n",
      "  File \"/usr/local/bin/ffmpeg-normalize\", line 8, in <module>\n",
      "    sys.exit(main())\n",
      "  File \"/usr/local/lib/python3.9/site-packages/ffmpeg_normalize/__main__.py\", line 554, in main\n",
      "    ffmpeg_normalize.run_normalization()\n",
      "  File \"/usr/local/lib/python3.9/site-packages/ffmpeg_normalize/_ffmpeg_normalize.py\", line 205, in run_normalization\n",
      "    raise e\n",
      "  File \"/usr/local/lib/python3.9/site-packages/ffmpeg_normalize/_ffmpeg_normalize.py\", line 194, in run_normalization\n",
      "    media_file.run_normalization()\n",
      "  File \"/usr/local/lib/python3.9/site-packages/ffmpeg_normalize/_media_file.py\", line 165, in run_normalization\n",
      "    for _ in self._second_pass():\n",
      "  File \"/usr/local/lib/python3.9/site-packages/ffmpeg_normalize/_media_file.py\", line 381, in _second_pass\n",
      "    raise e\n",
      "  File \"/usr/local/lib/python3.9/site-packages/ffmpeg_normalize/_media_file.py\", line 370, in _second_pass\n",
      "    raise e\n",
      "  File \"/usr/local/lib/python3.9/site-packages/ffmpeg_normalize/_media_file.py\", line 362, in _second_pass\n",
      "    for progress in cmd_runner.run_ffmpeg_command():\n",
      "  File \"/usr/local/lib/python3.9/site-packages/ffmpeg_normalize/_cmd_utils.py\", line 78, in run_ffmpeg_command\n",
      "    for progress in ff.run_command_with_progress():\n",
      "  File \"/usr/local/lib/python3.9/site-packages/ffmpeg_progress_yield/ffmpeg_progress_yield.py\", line 107, in run_command_with_progress\n",
      "    raise RuntimeError(\n",
      "RuntimeError: Error running command ['/usr/local/bin/ffmpeg', '-y', '-nostdin', '-i', '/Volumes/LaCie/freesound-crawler/downloads/295404__modularsamples__korg-mono-poly-tri-force-d-3-triforce-51-127.aiff', '-filter_complex', '[0:0]loudnorm=i=-23.0:lra=7.0:tp=-2.0:offset=0.04:measured_i=-24.14:measured_lra=0.0:measured_tp=-7.3:measured_thresh=-36.5:linear=true:print_format=json[norm0]', '-map_metadata', '0', '-map_metadata:s:a:0', '0:s:a:0', '-map_chapters', '0', '-map', '[norm0]', '-c:a:0', 'pcm_s24le', '-c:s', 'copy', '/var/folders/94/c53y6yld37z20wdsvhhlk58c0000gn/T/i5npv2mn.aiff']: ffmpeg version 5.1.1 Copyright (c) 2000-2022 the FFmpeg developers\n",
      "built with Apple clang version 13.1.6 (clang-1316.0.21.2.5)\n",
      "configuration: --prefix=/usr/local/Cellar/ffmpeg/5.1.1-with-options --enable-shared --cc=clang --host-cflags= --host-ldflags= --enable-gpl --enable-libaom --enable-libdav1d --enable-libmp3lame --enable-libopus --enable-libsnappy --enable-libtheora --enable-libvorbis --enable-libvpx --enable-libx264 --enable-libx265 --enable-libfontconfig --enable-libfreetype --enable-frei0r --enable-libass --enable-demuxer=dash --enable-opencl --enable-audiotoolbox --enable-videotoolbox --disable-htmlpages --enable-libfdk-aac --enable-nonfree\n",
      "libavutil      57. 28.100 / 57. 28.100\n",
      "libavcodec     59. 37.100 / 59. 37.100\n",
      "libavformat    59. 27.100 / 59. 27.100\n",
      "libavdevice    59.  7.100 / 59.  7.100\n",
      "libavfilter     8. 44.100 /  8. 44.100\n",
      "libswscale      6.  7.100 /  6.  7.100\n",
      "libswresample   4.  7.100 /  4.  7.100\n",
      "libpostproc    56.  6.100 / 56.  6.100\n",
      "Guessed Channel Layout for Input Stream #0.0 : mono\n",
      "Input #0, aiff, from '/Volumes/LaCie/freesound-crawler/downloads/295404__modularsamples__korg-mono-poly-tri-force-d-3-triforce-51-127.aiff':\n",
      "Duration: 00:00:01.08, start: 0.000000, bitrate: 1088 kb/s\n",
      "Stream #0:0: Audio: pcm_s24be, 44100 Hz, mono, s32 (24 bit), 1058 kb/s\n",
      "Stream mapping:\n",
      "Stream #0:0 (pcm_s24be) -> loudnorm:default\n",
      "loudnorm:default -> Stream #0:0 (pcm_s24le)\n",
      "Could not write header for output file #0 (incorrect codec parameters ?): Invalid argument\n",
      "Error initializing output stream 0:0 --\n",
      "[Parsed_loudnorm_0 @ 0x7fc35ff04dc0]\n",
      "{\n",
      "\"input_i\" : \"-inf\",\n",
      "\"input_tp\" : \"-inf\",\n",
      "\"input_lra\" : \"0.00\",\n",
      "\"input_thresh\" : \"-70.00\",\n",
      "\"output_i\" : \"-inf\",\n",
      "\"output_tp\" : \"-inf\",\n",
      "\"output_lra\" : \"0.00\",\n",
      "\"output_thresh\" : \"-70.00\",\n",
      "\"normalization_type\" : \"dynamic\",\n",
      "\"target_offset\" : \"inf\"\n",
      "}\n",
      "Conversion failed!\n"
     ]
    },
    {
     "name": "stdout",
     "output_type": "stream",
     "text": [
      "Command '['ffmpeg-normalize', '/Volumes/LaCie/freesound-crawler/downloads/295404__modularsamples__korg-mono-poly-tri-force-d-3-triforce-51-127.aiff', '-o', '/Users/andrusasumets/projects/experiments/pacemaker/processed/normalized/295404__modularsamples__korg-mono-poly-tri-force-d-3-triforce-51-127.aiff']' returned non-zero exit status 1.\n",
      "['ffmpeg-normalize', '/Volumes/LaCie/freesound-crawler/downloads/576425__lcscrts__ps002lc-079.wav', '-o', '/Users/andrusasumets/projects/experiments/pacemaker/processed/normalized/576425__lcscrts__ps002lc-079.wav']\n"
     ]
    },
    {
     "name": "stderr",
     "output_type": "stream",
     "text": [
      "\u001b[1;33m\u001b[1;33m\u001b[1;33m\u001b[1;33m\u001b[1;33m\u001b[1;33mWARNING\u001b[1;0m\u001b[1;0m\u001b[1;0m\u001b[1;0m\u001b[1;0m\u001b[1;0m: Audio stream has a duration of less than 3 seconds. Normalization may not work. See https://github.com/slhck/ffmpeg-normalize/issues/87 for more info.\n"
     ]
    },
    {
     "name": "stdout",
     "output_type": "stream",
     "text": [
      "['ffmpeg', '-loglevel', 'error', '-i', '/Users/andrusasumets/projects/experiments/pacemaker/processed/normalized/576425__lcscrts__ps002lc-079.wav', '-acodec', 'pcm_s16le', '-ac', '1', '-ar', '100', '-threads', '6', '-y', '/Users/andrusasumets/projects/experiments/pacemaker/processed/wav/576425.wav']\n",
      "['ffmpeg', '-loglevel', 'error', '-i', '/Users/andrusasumets/projects/experiments/pacemaker/processed/normalized/576425__lcscrts__ps002lc-079.wav', '-c:a', 'aac', '-ar', '44100', '-threads', '6', '-y', '/Users/andrusasumets/projects/experiments/pacemaker/processed/audio/576425.m4a']\n",
      "['ffmpeg-normalize', '/Volumes/LaCie/freesound-crawler/downloads/374110__samulis__trumpet-staccato-d-4-sum-shtrumpet-stac-d-3-v2-rr2.wav', '-o', '/Users/andrusasumets/projects/experiments/pacemaker/processed/normalized/374110__samulis__trumpet-staccato-d-4-sum-shtrumpet-stac-d-3-v2-rr2.wav']\n"
     ]
    },
    {
     "name": "stderr",
     "output_type": "stream",
     "text": [
      "\u001b[1;33m\u001b[1;33m\u001b[1;33m\u001b[1;33m\u001b[1;33m\u001b[1;33mWARNING\u001b[1;0m\u001b[1;0m\u001b[1;0m\u001b[1;0m\u001b[1;0m\u001b[1;0m: Audio stream has a duration of less than 3 seconds. Normalization may not work. See https://github.com/slhck/ffmpeg-normalize/issues/87 for more info.\n"
     ]
    },
    {
     "name": "stdout",
     "output_type": "stream",
     "text": [
      "['ffmpeg', '-loglevel', 'error', '-i', '/Users/andrusasumets/projects/experiments/pacemaker/processed/normalized/374110__samulis__trumpet-staccato-d-4-sum-shtrumpet-stac-d-3-v2-rr2.wav', '-acodec', 'pcm_s16le', '-ac', '1', '-ar', '100', '-threads', '6', '-y', '/Users/andrusasumets/projects/experiments/pacemaker/processed/wav/374110.wav']\n",
      "['ffmpeg', '-loglevel', 'error', '-i', '/Users/andrusasumets/projects/experiments/pacemaker/processed/normalized/374110__samulis__trumpet-staccato-d-4-sum-shtrumpet-stac-d-3-v2-rr2.wav', '-c:a', 'aac', '-ar', '44100', '-threads', '6', '-y', '/Users/andrusasumets/projects/experiments/pacemaker/processed/audio/374110.m4a']\n",
      "['ffmpeg-normalize', '/Volumes/LaCie/freesound-crawler/downloads/347589__nicjonesaudio__assault-rifle-3.wav', '-o', '/Users/andrusasumets/projects/experiments/pacemaker/processed/normalized/347589__nicjonesaudio__assault-rifle-3.wav']\n"
     ]
    },
    {
     "name": "stderr",
     "output_type": "stream",
     "text": [
      "\u001b[1;33m\u001b[1;33m\u001b[1;33m\u001b[1;33m\u001b[1;33m\u001b[1;33mWARNING\u001b[1;0m\u001b[1;0m\u001b[1;0m\u001b[1;0m\u001b[1;0m\u001b[1;0m: Audio stream has a duration of less than 3 seconds. Normalization may not work. See https://github.com/slhck/ffmpeg-normalize/issues/87 for more info.\n"
     ]
    },
    {
     "name": "stdout",
     "output_type": "stream",
     "text": [
      "['ffmpeg', '-loglevel', 'error', '-i', '/Users/andrusasumets/projects/experiments/pacemaker/processed/normalized/347589__nicjonesaudio__assault-rifle-3.wav', '-acodec', 'pcm_s16le', '-ac', '1', '-ar', '100', '-threads', '6', '-y', '/Users/andrusasumets/projects/experiments/pacemaker/processed/wav/347589.wav']\n",
      "['ffmpeg', '-loglevel', 'error', '-i', '/Users/andrusasumets/projects/experiments/pacemaker/processed/normalized/347589__nicjonesaudio__assault-rifle-3.wav', '-c:a', 'aac', '-ar', '44100', '-threads', '6', '-y', '/Users/andrusasumets/projects/experiments/pacemaker/processed/audio/347589.m4a']\n",
      "['ffmpeg-normalize', '/Volumes/LaCie/freesound-crawler/downloads/339534__cabled-mess__analogue-white-noise-bp-filtered-center-around-12khz.wav', '-o', '/Users/andrusasumets/projects/experiments/pacemaker/processed/normalized/339534__cabled-mess__analogue-white-noise-bp-filtered-center-around-12khz.wav']\n"
     ]
    },
    {
     "name": "stderr",
     "output_type": "stream",
     "text": [
      "\u001b[1;33m\u001b[1;33m\u001b[1;33m\u001b[1;33m\u001b[1;33m\u001b[1;33mWARNING\u001b[1;0m\u001b[1;0m\u001b[1;0m\u001b[1;0m\u001b[1;0m\u001b[1;0m: Audio stream has a duration of less than 3 seconds. Normalization may not work. See https://github.com/slhck/ffmpeg-normalize/issues/87 for more info.\n"
     ]
    },
    {
     "name": "stdout",
     "output_type": "stream",
     "text": [
      "['ffmpeg', '-loglevel', 'error', '-i', '/Users/andrusasumets/projects/experiments/pacemaker/processed/normalized/339534__cabled-mess__analogue-white-noise-bp-filtered-center-around-12khz.wav', '-acodec', 'pcm_s16le', '-ac', '1', '-ar', '100', '-threads', '6', '-y', '/Users/andrusasumets/projects/experiments/pacemaker/processed/wav/339534.wav']\n",
      "['ffmpeg', '-loglevel', 'error', '-i', '/Users/andrusasumets/projects/experiments/pacemaker/processed/normalized/339534__cabled-mess__analogue-white-noise-bp-filtered-center-around-12khz.wav', '-c:a', 'aac', '-ar', '44100', '-threads', '6', '-y', '/Users/andrusasumets/projects/experiments/pacemaker/processed/audio/339534.m4a']\n",
      "['ffmpeg-normalize', '/Volumes/LaCie/freesound-crawler/downloads/96091__stamperadam__c6-hard.wav', '-o', '/Users/andrusasumets/projects/experiments/pacemaker/processed/normalized/96091__stamperadam__c6-hard.wav']\n"
     ]
    },
    {
     "name": "stderr",
     "output_type": "stream",
     "text": [
      "\u001b[1;33m\u001b[1;33m\u001b[1;33m\u001b[1;33m\u001b[1;33m\u001b[1;33mWARNING\u001b[1;0m\u001b[1;0m\u001b[1;0m\u001b[1;0m\u001b[1;0m\u001b[1;0m: Audio stream has a duration of less than 3 seconds. Normalization may not work. See https://github.com/slhck/ffmpeg-normalize/issues/87 for more info.\n"
     ]
    },
    {
     "name": "stdout",
     "output_type": "stream",
     "text": [
      "['ffmpeg', '-loglevel', 'error', '-i', '/Users/andrusasumets/projects/experiments/pacemaker/processed/normalized/96091__stamperadam__c6-hard.wav', '-acodec', 'pcm_s16le', '-ac', '1', '-ar', '100', '-threads', '6', '-y', '/Users/andrusasumets/projects/experiments/pacemaker/processed/wav/96091.wav']\n",
      "['ffmpeg', '-loglevel', 'error', '-i', '/Users/andrusasumets/projects/experiments/pacemaker/processed/normalized/96091__stamperadam__c6-hard.wav', '-c:a', 'aac', '-ar', '44100', '-threads', '6', '-y', '/Users/andrusasumets/projects/experiments/pacemaker/processed/audio/96091.m4a']\n",
      "['ffmpeg-normalize', '/Volumes/LaCie/freesound-crawler/downloads/520267__hisoul__eris-pain-shout-long-cry-wail-2.wav', '-o', '/Users/andrusasumets/projects/experiments/pacemaker/processed/normalized/520267__hisoul__eris-pain-shout-long-cry-wail-2.wav']\n"
     ]
    },
    {
     "name": "stderr",
     "output_type": "stream",
     "text": [
      "\u001b[1;33m\u001b[1;33m\u001b[1;33m\u001b[1;33m\u001b[1;33m\u001b[1;33mWARNING\u001b[1;0m\u001b[1;0m\u001b[1;0m\u001b[1;0m\u001b[1;0m\u001b[1;0m: Audio stream has a duration of less than 3 seconds. Normalization may not work. See https://github.com/slhck/ffmpeg-normalize/issues/87 for more info.\n"
     ]
    },
    {
     "name": "stdout",
     "output_type": "stream",
     "text": [
      "['ffmpeg', '-loglevel', 'error', '-i', '/Users/andrusasumets/projects/experiments/pacemaker/processed/normalized/520267__hisoul__eris-pain-shout-long-cry-wail-2.wav', '-acodec', 'pcm_s16le', '-ac', '1', '-ar', '100', '-threads', '6', '-y', '/Users/andrusasumets/projects/experiments/pacemaker/processed/wav/520267.wav']\n",
      "['ffmpeg', '-loglevel', 'error', '-i', '/Users/andrusasumets/projects/experiments/pacemaker/processed/normalized/520267__hisoul__eris-pain-shout-long-cry-wail-2.wav', '-c:a', 'aac', '-ar', '44100', '-threads', '6', '-y', '/Users/andrusasumets/projects/experiments/pacemaker/processed/audio/520267.m4a']\n",
      "['ffmpeg-normalize', '/Volumes/LaCie/freesound-crawler/downloads/243294__deleted-user-2195044__voc-fx26.wav', '-o', '/Users/andrusasumets/projects/experiments/pacemaker/processed/normalized/243294__deleted-user-2195044__voc-fx26.wav']\n"
     ]
    },
    {
     "name": "stderr",
     "output_type": "stream",
     "text": [
      "\u001b[1;33m\u001b[1;33m\u001b[1;33m\u001b[1;33m\u001b[1;33m\u001b[1;33mWARNING\u001b[1;0m\u001b[1;0m\u001b[1;0m\u001b[1;0m\u001b[1;0m\u001b[1;0m: Audio stream has a duration of less than 3 seconds. Normalization may not work. See https://github.com/slhck/ffmpeg-normalize/issues/87 for more info.\n"
     ]
    },
    {
     "name": "stdout",
     "output_type": "stream",
     "text": [
      "['ffmpeg', '-loglevel', 'error', '-i', '/Users/andrusasumets/projects/experiments/pacemaker/processed/normalized/243294__deleted-user-2195044__voc-fx26.wav', '-acodec', 'pcm_s16le', '-ac', '1', '-ar', '100', '-threads', '6', '-y', '/Users/andrusasumets/projects/experiments/pacemaker/processed/wav/243294.wav']\n",
      "['ffmpeg', '-loglevel', 'error', '-i', '/Users/andrusasumets/projects/experiments/pacemaker/processed/normalized/243294__deleted-user-2195044__voc-fx26.wav', '-c:a', 'aac', '-ar', '44100', '-threads', '6', '-y', '/Users/andrusasumets/projects/experiments/pacemaker/processed/audio/243294.m4a']\n",
      "['ffmpeg-normalize', '/Volumes/LaCie/freesound-crawler/downloads/276736__crispydinner__crdn-pndlrgbt-kick-marker-58.wav', '-o', '/Users/andrusasumets/projects/experiments/pacemaker/processed/normalized/276736__crispydinner__crdn-pndlrgbt-kick-marker-58.wav']\n"
     ]
    },
    {
     "name": "stderr",
     "output_type": "stream",
     "text": [
      "\u001b[1;33m\u001b[1;33m\u001b[1;33m\u001b[1;33m\u001b[1;33m\u001b[1;33mWARNING\u001b[1;0m\u001b[1;0m\u001b[1;0m\u001b[1;0m\u001b[1;0m\u001b[1;0m: Audio stream has a duration of less than 3 seconds. Normalization may not work. See https://github.com/slhck/ffmpeg-normalize/issues/87 for more info.\n"
     ]
    },
    {
     "name": "stdout",
     "output_type": "stream",
     "text": [
      "['ffmpeg', '-loglevel', 'error', '-i', '/Users/andrusasumets/projects/experiments/pacemaker/processed/normalized/276736__crispydinner__crdn-pndlrgbt-kick-marker-58.wav', '-acodec', 'pcm_s16le', '-ac', '1', '-ar', '100', '-threads', '6', '-y', '/Users/andrusasumets/projects/experiments/pacemaker/processed/wav/276736.wav']\n",
      "['ffmpeg', '-loglevel', 'error', '-i', '/Users/andrusasumets/projects/experiments/pacemaker/processed/normalized/276736__crispydinner__crdn-pndlrgbt-kick-marker-58.wav', '-c:a', 'aac', '-ar', '44100', '-threads', '6', '-y', '/Users/andrusasumets/projects/experiments/pacemaker/processed/audio/276736.m4a']\n",
      "['ffmpeg-normalize', '/Volumes/LaCie/freesound-crawler/downloads/56115__guitarmaster__d-note.wav', '-o', '/Users/andrusasumets/projects/experiments/pacemaker/processed/normalized/56115__guitarmaster__d-note.wav']\n"
     ]
    },
    {
     "name": "stderr",
     "output_type": "stream",
     "text": [
      "\u001b[1;33m\u001b[1;33m\u001b[1;33m\u001b[1;33m\u001b[1;33m\u001b[1;33mWARNING\u001b[1;0m\u001b[1;0m\u001b[1;0m\u001b[1;0m\u001b[1;0m\u001b[1;0m: Audio stream has a duration of less than 3 seconds. Normalization may not work. See https://github.com/slhck/ffmpeg-normalize/issues/87 for more info.\n"
     ]
    },
    {
     "name": "stdout",
     "output_type": "stream",
     "text": [
      "['ffmpeg', '-loglevel', 'error', '-i', '/Users/andrusasumets/projects/experiments/pacemaker/processed/normalized/56115__guitarmaster__d-note.wav', '-acodec', 'pcm_s16le', '-ac', '1', '-ar', '100', '-threads', '6', '-y', '/Users/andrusasumets/projects/experiments/pacemaker/processed/wav/56115.wav']\n",
      "['ffmpeg', '-loglevel', 'error', '-i', '/Users/andrusasumets/projects/experiments/pacemaker/processed/normalized/56115__guitarmaster__d-note.wav', '-c:a', 'aac', '-ar', '44100', '-threads', '6', '-y', '/Users/andrusasumets/projects/experiments/pacemaker/processed/audio/56115.m4a']\n",
      "['ffmpeg-normalize', '/Volumes/LaCie/freesound-crawler/downloads/634258__darcyadam__28-overtone-flutter.aiff', '-o', '/Users/andrusasumets/projects/experiments/pacemaker/processed/normalized/634258__darcyadam__28-overtone-flutter.aiff']\n"
     ]
    },
    {
     "name": "stderr",
     "output_type": "stream",
     "text": [
      "\u001b[1;33m\u001b[1;33m\u001b[1;33m\u001b[1;33m\u001b[1;33m\u001b[1;33mWARNING\u001b[1;0m\u001b[1;0m\u001b[1;0m\u001b[1;0m\u001b[1;0m\u001b[1;0m: Audio stream has a duration of less than 3 seconds. Normalization may not work. See https://github.com/slhck/ffmpeg-normalize/issues/87 for more info.\n",
      "\u001b[1;31m\u001b[1;31m\u001b[1;31m\u001b[1;31m\u001b[1;31m\u001b[1;31mERROR\u001b[1;0m\u001b[1;0m\u001b[1;0m\u001b[1;0m\u001b[1;0m\u001b[1;0m: Error while running command /usr/local/bin/ffmpeg -y -nostdin -i /Volumes/LaCie/freesound-crawler/downloads/634258__darcyadam__28-overtone-flutter.aiff -filter_complex '[0:0]loudnorm=i=-23.0:lra=7.0:tp=-2.0:offset=0.0:measured_i=-99.0:measured_lra=0.0:measured_tp=-0.0:measured_thresh=-70.0:linear=true:print_format=json[norm0]' -map_metadata 0 -map_metadata:s:a:0 0:s:a:0 -map_chapters 0 -map '[norm0]' -c:a:0 pcm_s24le -c:s copy /var/folders/94/c53y6yld37z20wdsvhhlk58c0000gn/T/f67_ykyp.aiff! Error: Error running command ['/usr/local/bin/ffmpeg', '-y', '-nostdin', '-i', '/Volumes/LaCie/freesound-crawler/downloads/634258__darcyadam__28-overtone-flutter.aiff', '-filter_complex', '[0:0]loudnorm=i=-23.0:lra=7.0:tp=-2.0:offset=0.0:measured_i=-99.0:measured_lra=0.0:measured_tp=-0.0:measured_thresh=-70.0:linear=true:print_format=json[norm0]', '-map_metadata', '0', '-map_metadata:s:a:0', '0:s:a:0', '-map_chapters', '0', '-map', '[norm0]', '-c:a:0', 'pcm_s24le', '-c:s', 'copy', '/var/folders/94/c53y6yld37z20wdsvhhlk58c0000gn/T/f67_ykyp.aiff']: ffmpeg version 5.1.1 Copyright (c) 2000-2022 the FFmpeg developers\n",
      "built with Apple clang version 13.1.6 (clang-1316.0.21.2.5)\n",
      "configuration: --prefix=/usr/local/Cellar/ffmpeg/5.1.1-with-options --enable-shared --cc=clang --host-cflags= --host-ldflags= --enable-gpl --enable-libaom --enable-libdav1d --enable-libmp3lame --enable-libopus --enable-libsnappy --enable-libtheora --enable-libvorbis --enable-libvpx --enable-libx264 --enable-libx265 --enable-libfontconfig --enable-libfreetype --enable-frei0r --enable-libass --enable-demuxer=dash --enable-opencl --enable-audiotoolbox --enable-videotoolbox --disable-htmlpages --enable-libfdk-aac --enable-nonfree\n",
      "libavutil      57. 28.100 / 57. 28.100\n",
      "libavcodec     59. 37.100 / 59. 37.100\n",
      "libavformat    59. 27.100 / 59. 27.100\n",
      "libavdevice    59.  7.100 / 59.  7.100\n",
      "libavfilter     8. 44.100 /  8. 44.100\n",
      "libswscale      6.  7.100 /  6.  7.100\n",
      "libswresample   4.  7.100 /  4.  7.100\n",
      "libpostproc    56.  6.100 / 56.  6.100\n",
      "Guessed Channel Layout for Input Stream #0.0 : mono\n",
      "Input #0, aiff, from '/Volumes/LaCie/freesound-crawler/downloads/634258__darcyadam__28-overtone-flutter.aiff':\n",
      "Duration: 00:00:00.22, start: 0.000000, bitrate: 1153 kb/s\n",
      "Stream #0:0: Audio: pcm_s24be, 48000 Hz, mono, s32 (24 bit), 1152 kb/s\n",
      "Stream mapping:\n",
      "Stream #0:0 (pcm_s24be) -> loudnorm:default\n",
      "loudnorm:default -> Stream #0:0 (pcm_s24le)\n",
      "Could not write header for output file #0 (incorrect codec parameters ?): Invalid argument\n",
      "Error initializing output stream 0:0 --\n",
      "[Parsed_loudnorm_0 @ 0x7feaea204080]\n",
      "{\n",
      "\"input_i\" : \"-inf\",\n",
      "\"input_tp\" : \"-inf\",\n",
      "\"input_lra\" : \"0.00\",\n",
      "\"input_thresh\" : \"-70.00\",\n",
      "\"output_i\" : \"-inf\",\n",
      "\"output_tp\" : \"-inf\",\n",
      "\"output_lra\" : \"0.00\",\n",
      "\"output_thresh\" : \"-70.00\",\n",
      "\"normalization_type\" : \"dynamic\",\n",
      "\"target_offset\" : \"inf\"\n",
      "}\n",
      "Conversion failed!\n",
      "Traceback (most recent call last):\n",
      "  File \"/usr/local/bin/ffmpeg-normalize\", line 8, in <module>\n",
      "    sys.exit(main())\n",
      "  File \"/usr/local/lib/python3.9/site-packages/ffmpeg_normalize/__main__.py\", line 554, in main\n",
      "    ffmpeg_normalize.run_normalization()\n",
      "  File \"/usr/local/lib/python3.9/site-packages/ffmpeg_normalize/_ffmpeg_normalize.py\", line 205, in run_normalization\n",
      "    raise e\n",
      "  File \"/usr/local/lib/python3.9/site-packages/ffmpeg_normalize/_ffmpeg_normalize.py\", line 194, in run_normalization\n",
      "    media_file.run_normalization()\n",
      "  File \"/usr/local/lib/python3.9/site-packages/ffmpeg_normalize/_media_file.py\", line 165, in run_normalization\n",
      "    for _ in self._second_pass():\n",
      "  File \"/usr/local/lib/python3.9/site-packages/ffmpeg_normalize/_media_file.py\", line 381, in _second_pass\n",
      "    raise e\n",
      "  File \"/usr/local/lib/python3.9/site-packages/ffmpeg_normalize/_media_file.py\", line 370, in _second_pass\n",
      "    raise e\n",
      "  File \"/usr/local/lib/python3.9/site-packages/ffmpeg_normalize/_media_file.py\", line 362, in _second_pass\n",
      "    for progress in cmd_runner.run_ffmpeg_command():\n",
      "  File \"/usr/local/lib/python3.9/site-packages/ffmpeg_normalize/_cmd_utils.py\", line 78, in run_ffmpeg_command\n",
      "    for progress in ff.run_command_with_progress():\n",
      "  File \"/usr/local/lib/python3.9/site-packages/ffmpeg_progress_yield/ffmpeg_progress_yield.py\", line 107, in run_command_with_progress\n",
      "    raise RuntimeError(\n",
      "RuntimeError: Error running command ['/usr/local/bin/ffmpeg', '-y', '-nostdin', '-i', '/Volumes/LaCie/freesound-crawler/downloads/634258__darcyadam__28-overtone-flutter.aiff', '-filter_complex', '[0:0]loudnorm=i=-23.0:lra=7.0:tp=-2.0:offset=0.0:measured_i=-99.0:measured_lra=0.0:measured_tp=-0.0:measured_thresh=-70.0:linear=true:print_format=json[norm0]', '-map_metadata', '0', '-map_metadata:s:a:0', '0:s:a:0', '-map_chapters', '0', '-map', '[norm0]', '-c:a:0', 'pcm_s24le', '-c:s', 'copy', '/var/folders/94/c53y6yld37z20wdsvhhlk58c0000gn/T/f67_ykyp.aiff']: ffmpeg version 5.1.1 Copyright (c) 2000-2022 the FFmpeg developers\n",
      "built with Apple clang version 13.1.6 (clang-1316.0.21.2.5)\n",
      "configuration: --prefix=/usr/local/Cellar/ffmpeg/5.1.1-with-options --enable-shared --cc=clang --host-cflags= --host-ldflags= --enable-gpl --enable-libaom --enable-libdav1d --enable-libmp3lame --enable-libopus --enable-libsnappy --enable-libtheora --enable-libvorbis --enable-libvpx --enable-libx264 --enable-libx265 --enable-libfontconfig --enable-libfreetype --enable-frei0r --enable-libass --enable-demuxer=dash --enable-opencl --enable-audiotoolbox --enable-videotoolbox --disable-htmlpages --enable-libfdk-aac --enable-nonfree\n",
      "libavutil      57. 28.100 / 57. 28.100\n",
      "libavcodec     59. 37.100 / 59. 37.100\n",
      "libavformat    59. 27.100 / 59. 27.100\n",
      "libavdevice    59.  7.100 / 59.  7.100\n",
      "libavfilter     8. 44.100 /  8. 44.100\n",
      "libswscale      6.  7.100 /  6.  7.100\n",
      "libswresample   4.  7.100 /  4.  7.100\n",
      "libpostproc    56.  6.100 / 56.  6.100\n",
      "Guessed Channel Layout for Input Stream #0.0 : mono\n",
      "Input #0, aiff, from '/Volumes/LaCie/freesound-crawler/downloads/634258__darcyadam__28-overtone-flutter.aiff':\n",
      "Duration: 00:00:00.22, start: 0.000000, bitrate: 1153 kb/s\n",
      "Stream #0:0: Audio: pcm_s24be, 48000 Hz, mono, s32 (24 bit), 1152 kb/s\n",
      "Stream mapping:\n",
      "Stream #0:0 (pcm_s24be) -> loudnorm:default\n",
      "loudnorm:default -> Stream #0:0 (pcm_s24le)\n",
      "Could not write header for output file #0 (incorrect codec parameters ?): Invalid argument\n",
      "Error initializing output stream 0:0 --\n",
      "[Parsed_loudnorm_0 @ 0x7feaea204080]\n",
      "{\n",
      "\"input_i\" : \"-inf\",\n",
      "\"input_tp\" : \"-inf\",\n",
      "\"input_lra\" : \"0.00\",\n",
      "\"input_thresh\" : \"-70.00\",\n",
      "\"output_i\" : \"-inf\",\n",
      "\"output_tp\" : \"-inf\",\n",
      "\"output_lra\" : \"0.00\",\n",
      "\"output_thresh\" : \"-70.00\",\n",
      "\"normalization_type\" : \"dynamic\",\n",
      "\"target_offset\" : \"inf\"\n",
      "}\n",
      "Conversion failed!\n"
     ]
    },
    {
     "name": "stdout",
     "output_type": "stream",
     "text": [
      "Command '['ffmpeg-normalize', '/Volumes/LaCie/freesound-crawler/downloads/634258__darcyadam__28-overtone-flutter.aiff', '-o', '/Users/andrusasumets/projects/experiments/pacemaker/processed/normalized/634258__darcyadam__28-overtone-flutter.aiff']' returned non-zero exit status 1.\n",
      "['ffmpeg-normalize', '/Volumes/LaCie/freesound-crawler/downloads/220173__gameaudio__spacey-1up-power-up.wav', '-o', '/Users/andrusasumets/projects/experiments/pacemaker/processed/normalized/220173__gameaudio__spacey-1up-power-up.wav']\n"
     ]
    },
    {
     "name": "stderr",
     "output_type": "stream",
     "text": [
      "\u001b[1;33m\u001b[1;33m\u001b[1;33m\u001b[1;33m\u001b[1;33m\u001b[1;33mWARNING\u001b[1;0m\u001b[1;0m\u001b[1;0m\u001b[1;0m\u001b[1;0m\u001b[1;0m: Audio stream has a duration of less than 3 seconds. Normalization may not work. See https://github.com/slhck/ffmpeg-normalize/issues/87 for more info.\n"
     ]
    },
    {
     "name": "stdout",
     "output_type": "stream",
     "text": [
      "['ffmpeg', '-loglevel', 'error', '-i', '/Users/andrusasumets/projects/experiments/pacemaker/processed/normalized/220173__gameaudio__spacey-1up-power-up.wav', '-acodec', 'pcm_s16le', '-ac', '1', '-ar', '100', '-threads', '6', '-y', '/Users/andrusasumets/projects/experiments/pacemaker/processed/wav/220173.wav']\n",
      "['ffmpeg', '-loglevel', 'error', '-i', '/Users/andrusasumets/projects/experiments/pacemaker/processed/normalized/220173__gameaudio__spacey-1up-power-up.wav', '-c:a', 'aac', '-ar', '44100', '-threads', '6', '-y', '/Users/andrusasumets/projects/experiments/pacemaker/processed/audio/220173.m4a']\n",
      "['ffmpeg-normalize', '/Volumes/LaCie/freesound-crawler/downloads/469671__tarane468__simmons-drums-29.wav', '-o', '/Users/andrusasumets/projects/experiments/pacemaker/processed/normalized/469671__tarane468__simmons-drums-29.wav']\n"
     ]
    },
    {
     "name": "stderr",
     "output_type": "stream",
     "text": [
      "\u001b[1;33m\u001b[1;33m\u001b[1;33m\u001b[1;33m\u001b[1;33m\u001b[1;33mWARNING\u001b[1;0m\u001b[1;0m\u001b[1;0m\u001b[1;0m\u001b[1;0m\u001b[1;0m: Audio stream has a duration of less than 3 seconds. Normalization may not work. See https://github.com/slhck/ffmpeg-normalize/issues/87 for more info.\n"
     ]
    },
    {
     "name": "stdout",
     "output_type": "stream",
     "text": [
      "['ffmpeg', '-loglevel', 'error', '-i', '/Users/andrusasumets/projects/experiments/pacemaker/processed/normalized/469671__tarane468__simmons-drums-29.wav', '-acodec', 'pcm_s16le', '-ac', '1', '-ar', '100', '-threads', '6', '-y', '/Users/andrusasumets/projects/experiments/pacemaker/processed/wav/469671.wav']\n",
      "['ffmpeg', '-loglevel', 'error', '-i', '/Users/andrusasumets/projects/experiments/pacemaker/processed/normalized/469671__tarane468__simmons-drums-29.wav', '-c:a', 'aac', '-ar', '44100', '-threads', '6', '-y', '/Users/andrusasumets/projects/experiments/pacemaker/processed/audio/469671.m4a']\n",
      "['ffmpeg-normalize', '/Volumes/LaCie/freesound-crawler/downloads/493632__linus-sebastian__zm-014a-s05.wav', '-o', '/Users/andrusasumets/projects/experiments/pacemaker/processed/normalized/493632__linus-sebastian__zm-014a-s05.wav']\n"
     ]
    },
    {
     "name": "stderr",
     "output_type": "stream",
     "text": [
      "\u001b[1;33m\u001b[1;33m\u001b[1;33m\u001b[1;33m\u001b[1;33m\u001b[1;33mWARNING\u001b[1;0m\u001b[1;0m\u001b[1;0m\u001b[1;0m\u001b[1;0m\u001b[1;0m: Audio stream has a duration of less than 3 seconds. Normalization may not work. See https://github.com/slhck/ffmpeg-normalize/issues/87 for more info.\n"
     ]
    },
    {
     "name": "stdout",
     "output_type": "stream",
     "text": [
      "['ffmpeg', '-loglevel', 'error', '-i', '/Users/andrusasumets/projects/experiments/pacemaker/processed/normalized/493632__linus-sebastian__zm-014a-s05.wav', '-acodec', 'pcm_s16le', '-ac', '1', '-ar', '100', '-threads', '6', '-y', '/Users/andrusasumets/projects/experiments/pacemaker/processed/wav/493632.wav']\n",
      "['ffmpeg', '-loglevel', 'error', '-i', '/Users/andrusasumets/projects/experiments/pacemaker/processed/normalized/493632__linus-sebastian__zm-014a-s05.wav', '-c:a', 'aac', '-ar', '44100', '-threads', '6', '-y', '/Users/andrusasumets/projects/experiments/pacemaker/processed/audio/493632.m4a']\n",
      "['ffmpeg-normalize', '/Volumes/LaCie/freesound-crawler/downloads/572787__deadrobotmusic__dr-tom-021.wav', '-o', '/Users/andrusasumets/projects/experiments/pacemaker/processed/normalized/572787__deadrobotmusic__dr-tom-021.wav']\n"
     ]
    },
    {
     "name": "stderr",
     "output_type": "stream",
     "text": [
      "\u001b[1;33m\u001b[1;33m\u001b[1;33m\u001b[1;33m\u001b[1;33m\u001b[1;33mWARNING\u001b[1;0m\u001b[1;0m\u001b[1;0m\u001b[1;0m\u001b[1;0m\u001b[1;0m: Audio stream has a duration of less than 3 seconds. Normalization may not work. See https://github.com/slhck/ffmpeg-normalize/issues/87 for more info.\n"
     ]
    },
    {
     "name": "stdout",
     "output_type": "stream",
     "text": [
      "['ffmpeg', '-loglevel', 'error', '-i', '/Users/andrusasumets/projects/experiments/pacemaker/processed/normalized/572787__deadrobotmusic__dr-tom-021.wav', '-acodec', 'pcm_s16le', '-ac', '1', '-ar', '100', '-threads', '6', '-y', '/Users/andrusasumets/projects/experiments/pacemaker/processed/wav/572787.wav']\n",
      "['ffmpeg', '-loglevel', 'error', '-i', '/Users/andrusasumets/projects/experiments/pacemaker/processed/normalized/572787__deadrobotmusic__dr-tom-021.wav', '-c:a', 'aac', '-ar', '44100', '-threads', '6', '-y', '/Users/andrusasumets/projects/experiments/pacemaker/processed/audio/572787.m4a']\n",
      "['ffmpeg-normalize', '/Volumes/LaCie/freesound-crawler/downloads/428003__newagesoup__newagesoup-fx-gui-07.wav', '-o', '/Users/andrusasumets/projects/experiments/pacemaker/processed/normalized/428003__newagesoup__newagesoup-fx-gui-07.wav']\n"
     ]
    },
    {
     "name": "stderr",
     "output_type": "stream",
     "text": [
      "\u001b[1;33m\u001b[1;33m\u001b[1;33m\u001b[1;33m\u001b[1;33m\u001b[1;33mWARNING\u001b[1;0m\u001b[1;0m\u001b[1;0m\u001b[1;0m\u001b[1;0m\u001b[1;0m: Audio stream has a duration of less than 3 seconds. Normalization may not work. See https://github.com/slhck/ffmpeg-normalize/issues/87 for more info.\n"
     ]
    },
    {
     "name": "stdout",
     "output_type": "stream",
     "text": [
      "['ffmpeg', '-loglevel', 'error', '-i', '/Users/andrusasumets/projects/experiments/pacemaker/processed/normalized/428003__newagesoup__newagesoup-fx-gui-07.wav', '-acodec', 'pcm_s16le', '-ac', '1', '-ar', '100', '-threads', '6', '-y', '/Users/andrusasumets/projects/experiments/pacemaker/processed/wav/428003.wav']\n",
      "['ffmpeg', '-loglevel', 'error', '-i', '/Users/andrusasumets/projects/experiments/pacemaker/processed/normalized/428003__newagesoup__newagesoup-fx-gui-07.wav', '-c:a', 'aac', '-ar', '44100', '-threads', '6', '-y', '/Users/andrusasumets/projects/experiments/pacemaker/processed/audio/428003.m4a']\n",
      "['ffmpeg-normalize', '/Volumes/LaCie/freesound-crawler/downloads/609270__ishmaelberg__perc4.wav', '-o', '/Users/andrusasumets/projects/experiments/pacemaker/processed/normalized/609270__ishmaelberg__perc4.wav']\n"
     ]
    },
    {
     "name": "stderr",
     "output_type": "stream",
     "text": [
      "\u001b[1;33m\u001b[1;33m\u001b[1;33m\u001b[1;33m\u001b[1;33m\u001b[1;33mWARNING\u001b[1;0m\u001b[1;0m\u001b[1;0m\u001b[1;0m\u001b[1;0m\u001b[1;0m: Audio stream has a duration of less than 3 seconds. Normalization may not work. See https://github.com/slhck/ffmpeg-normalize/issues/87 for more info.\n"
     ]
    },
    {
     "name": "stdout",
     "output_type": "stream",
     "text": [
      "['ffmpeg', '-loglevel', 'error', '-i', '/Users/andrusasumets/projects/experiments/pacemaker/processed/normalized/609270__ishmaelberg__perc4.wav', '-acodec', 'pcm_s16le', '-ac', '1', '-ar', '100', '-threads', '6', '-y', '/Users/andrusasumets/projects/experiments/pacemaker/processed/wav/609270.wav']\n",
      "['ffmpeg', '-loglevel', 'error', '-i', '/Users/andrusasumets/projects/experiments/pacemaker/processed/normalized/609270__ishmaelberg__perc4.wav', '-c:a', 'aac', '-ar', '44100', '-threads', '6', '-y', '/Users/andrusasumets/projects/experiments/pacemaker/processed/audio/609270.m4a']\n",
      "['ffmpeg-normalize', '/Volumes/LaCie/freesound-crawler/downloads/292561__modularsamples__korg-mono-poly-bellish-c-4-sortof-bell-61-127.aiff', '-o', '/Users/andrusasumets/projects/experiments/pacemaker/processed/normalized/292561__modularsamples__korg-mono-poly-bellish-c-4-sortof-bell-61-127.aiff']\n"
     ]
    },
    {
     "name": "stderr",
     "output_type": "stream",
     "text": [
      "\u001b[1;33m\u001b[1;33m\u001b[1;33m\u001b[1;33m\u001b[1;33m\u001b[1;33mWARNING\u001b[1;0m\u001b[1;0m\u001b[1;0m\u001b[1;0m\u001b[1;0m\u001b[1;0m: Audio stream has a duration of less than 3 seconds. Normalization may not work. See https://github.com/slhck/ffmpeg-normalize/issues/87 for more info.\n",
      "\u001b[1;31m\u001b[1;31m\u001b[1;31m\u001b[1;31m\u001b[1;31m\u001b[1;31mERROR\u001b[1;0m\u001b[1;0m\u001b[1;0m\u001b[1;0m\u001b[1;0m\u001b[1;0m: Error while running command /usr/local/bin/ffmpeg -y -nostdin -i /Volumes/LaCie/freesound-crawler/downloads/292561__modularsamples__korg-mono-poly-bellish-c-4-sortof-bell-61-127.aiff -filter_complex '[0:0]loudnorm=i=-23.0:lra=7.0:tp=-2.0:offset=0.02:measured_i=-22.43:measured_lra=0.0:measured_tp=-6.69:measured_thresh=-34.78:linear=true:print_format=json[norm0]' -map_metadata 0 -map_metadata:s:a:0 0:s:a:0 -map_chapters 0 -map '[norm0]' -c:a:0 pcm_s24le -c:s copy /var/folders/94/c53y6yld37z20wdsvhhlk58c0000gn/T/mdk5kr9b.aiff! Error: Error running command ['/usr/local/bin/ffmpeg', '-y', '-nostdin', '-i', '/Volumes/LaCie/freesound-crawler/downloads/292561__modularsamples__korg-mono-poly-bellish-c-4-sortof-bell-61-127.aiff', '-filter_complex', '[0:0]loudnorm=i=-23.0:lra=7.0:tp=-2.0:offset=0.02:measured_i=-22.43:measured_lra=0.0:measured_tp=-6.69:measured_thresh=-34.78:linear=true:print_format=json[norm0]', '-map_metadata', '0', '-map_metadata:s:a:0', '0:s:a:0', '-map_chapters', '0', '-map', '[norm0]', '-c:a:0', 'pcm_s24le', '-c:s', 'copy', '/var/folders/94/c53y6yld37z20wdsvhhlk58c0000gn/T/mdk5kr9b.aiff']: ffmpeg version 5.1.1 Copyright (c) 2000-2022 the FFmpeg developers\n",
      "built with Apple clang version 13.1.6 (clang-1316.0.21.2.5)\n",
      "configuration: --prefix=/usr/local/Cellar/ffmpeg/5.1.1-with-options --enable-shared --cc=clang --host-cflags= --host-ldflags= --enable-gpl --enable-libaom --enable-libdav1d --enable-libmp3lame --enable-libopus --enable-libsnappy --enable-libtheora --enable-libvorbis --enable-libvpx --enable-libx264 --enable-libx265 --enable-libfontconfig --enable-libfreetype --enable-frei0r --enable-libass --enable-demuxer=dash --enable-opencl --enable-audiotoolbox --enable-videotoolbox --disable-htmlpages --enable-libfdk-aac --enable-nonfree\n",
      "libavutil      57. 28.100 / 57. 28.100\n",
      "libavcodec     59. 37.100 / 59. 37.100\n",
      "libavformat    59. 27.100 / 59. 27.100\n",
      "libavdevice    59.  7.100 / 59.  7.100\n",
      "libavfilter     8. 44.100 /  8. 44.100\n",
      "libswscale      6.  7.100 /  6.  7.100\n",
      "libswresample   4.  7.100 /  4.  7.100\n",
      "libpostproc    56.  6.100 / 56.  6.100\n",
      "Guessed Channel Layout for Input Stream #0.0 : mono\n",
      "Input #0, aiff, from '/Volumes/LaCie/freesound-crawler/downloads/292561__modularsamples__korg-mono-poly-bellish-c-4-sortof-bell-61-127.aiff':\n",
      "Duration: 00:00:01.02, start: 0.000000, bitrate: 1090 kb/s\n",
      "Stream #0:0: Audio: pcm_s24be, 44100 Hz, mono, s32 (24 bit), 1058 kb/s\n",
      "Stream mapping:\n",
      "Stream #0:0 (pcm_s24be) -> loudnorm:default\n",
      "loudnorm:default -> Stream #0:0 (pcm_s24le)\n",
      "Could not write header for output file #0 (incorrect codec parameters ?): Invalid argument\n",
      "Error initializing output stream 0:0 --\n",
      "[Parsed_loudnorm_0 @ 0x7fbcb3904080]\n",
      "{\n",
      "\"input_i\" : \"-inf\",\n",
      "\"input_tp\" : \"-inf\",\n",
      "\"input_lra\" : \"0.00\",\n",
      "\"input_thresh\" : \"-70.00\",\n",
      "\"output_i\" : \"-inf\",\n",
      "\"output_tp\" : \"-inf\",\n",
      "\"output_lra\" : \"0.00\",\n",
      "\"output_thresh\" : \"-70.00\",\n",
      "\"normalization_type\" : \"dynamic\",\n",
      "\"target_offset\" : \"inf\"\n",
      "}\n",
      "Conversion failed!\n",
      "Traceback (most recent call last):\n",
      "  File \"/usr/local/bin/ffmpeg-normalize\", line 8, in <module>\n",
      "    sys.exit(main())\n",
      "  File \"/usr/local/lib/python3.9/site-packages/ffmpeg_normalize/__main__.py\", line 554, in main\n",
      "    ffmpeg_normalize.run_normalization()\n",
      "  File \"/usr/local/lib/python3.9/site-packages/ffmpeg_normalize/_ffmpeg_normalize.py\", line 205, in run_normalization\n",
      "    raise e\n",
      "  File \"/usr/local/lib/python3.9/site-packages/ffmpeg_normalize/_ffmpeg_normalize.py\", line 194, in run_normalization\n",
      "    media_file.run_normalization()\n",
      "  File \"/usr/local/lib/python3.9/site-packages/ffmpeg_normalize/_media_file.py\", line 165, in run_normalization\n",
      "    for _ in self._second_pass():\n",
      "  File \"/usr/local/lib/python3.9/site-packages/ffmpeg_normalize/_media_file.py\", line 381, in _second_pass\n",
      "    raise e\n",
      "  File \"/usr/local/lib/python3.9/site-packages/ffmpeg_normalize/_media_file.py\", line 370, in _second_pass\n",
      "    raise e\n",
      "  File \"/usr/local/lib/python3.9/site-packages/ffmpeg_normalize/_media_file.py\", line 362, in _second_pass\n",
      "    for progress in cmd_runner.run_ffmpeg_command():\n",
      "  File \"/usr/local/lib/python3.9/site-packages/ffmpeg_normalize/_cmd_utils.py\", line 78, in run_ffmpeg_command\n",
      "    for progress in ff.run_command_with_progress():\n",
      "  File \"/usr/local/lib/python3.9/site-packages/ffmpeg_progress_yield/ffmpeg_progress_yield.py\", line 107, in run_command_with_progress\n",
      "    raise RuntimeError(\n",
      "RuntimeError: Error running command ['/usr/local/bin/ffmpeg', '-y', '-nostdin', '-i', '/Volumes/LaCie/freesound-crawler/downloads/292561__modularsamples__korg-mono-poly-bellish-c-4-sortof-bell-61-127.aiff', '-filter_complex', '[0:0]loudnorm=i=-23.0:lra=7.0:tp=-2.0:offset=0.02:measured_i=-22.43:measured_lra=0.0:measured_tp=-6.69:measured_thresh=-34.78:linear=true:print_format=json[norm0]', '-map_metadata', '0', '-map_metadata:s:a:0', '0:s:a:0', '-map_chapters', '0', '-map', '[norm0]', '-c:a:0', 'pcm_s24le', '-c:s', 'copy', '/var/folders/94/c53y6yld37z20wdsvhhlk58c0000gn/T/mdk5kr9b.aiff']: ffmpeg version 5.1.1 Copyright (c) 2000-2022 the FFmpeg developers\n",
      "built with Apple clang version 13.1.6 (clang-1316.0.21.2.5)\n",
      "configuration: --prefix=/usr/local/Cellar/ffmpeg/5.1.1-with-options --enable-shared --cc=clang --host-cflags= --host-ldflags= --enable-gpl --enable-libaom --enable-libdav1d --enable-libmp3lame --enable-libopus --enable-libsnappy --enable-libtheora --enable-libvorbis --enable-libvpx --enable-libx264 --enable-libx265 --enable-libfontconfig --enable-libfreetype --enable-frei0r --enable-libass --enable-demuxer=dash --enable-opencl --enable-audiotoolbox --enable-videotoolbox --disable-htmlpages --enable-libfdk-aac --enable-nonfree\n",
      "libavutil      57. 28.100 / 57. 28.100\n",
      "libavcodec     59. 37.100 / 59. 37.100\n",
      "libavformat    59. 27.100 / 59. 27.100\n",
      "libavdevice    59.  7.100 / 59.  7.100\n",
      "libavfilter     8. 44.100 /  8. 44.100\n",
      "libswscale      6.  7.100 /  6.  7.100\n",
      "libswresample   4.  7.100 /  4.  7.100\n",
      "libpostproc    56.  6.100 / 56.  6.100\n",
      "Guessed Channel Layout for Input Stream #0.0 : mono\n",
      "Input #0, aiff, from '/Volumes/LaCie/freesound-crawler/downloads/292561__modularsamples__korg-mono-poly-bellish-c-4-sortof-bell-61-127.aiff':\n",
      "Duration: 00:00:01.02, start: 0.000000, bitrate: 1090 kb/s\n",
      "Stream #0:0: Audio: pcm_s24be, 44100 Hz, mono, s32 (24 bit), 1058 kb/s\n",
      "Stream mapping:\n",
      "Stream #0:0 (pcm_s24be) -> loudnorm:default\n",
      "loudnorm:default -> Stream #0:0 (pcm_s24le)\n",
      "Could not write header for output file #0 (incorrect codec parameters ?): Invalid argument\n",
      "Error initializing output stream 0:0 --\n",
      "[Parsed_loudnorm_0 @ 0x7fbcb3904080]\n",
      "{\n",
      "\"input_i\" : \"-inf\",\n",
      "\"input_tp\" : \"-inf\",\n",
      "\"input_lra\" : \"0.00\",\n",
      "\"input_thresh\" : \"-70.00\",\n",
      "\"output_i\" : \"-inf\",\n",
      "\"output_tp\" : \"-inf\",\n",
      "\"output_lra\" : \"0.00\",\n",
      "\"output_thresh\" : \"-70.00\",\n",
      "\"normalization_type\" : \"dynamic\",\n",
      "\"target_offset\" : \"inf\"\n",
      "}\n",
      "Conversion failed!\n"
     ]
    },
    {
     "name": "stdout",
     "output_type": "stream",
     "text": [
      "Command '['ffmpeg-normalize', '/Volumes/LaCie/freesound-crawler/downloads/292561__modularsamples__korg-mono-poly-bellish-c-4-sortof-bell-61-127.aiff', '-o', '/Users/andrusasumets/projects/experiments/pacemaker/processed/normalized/292561__modularsamples__korg-mono-poly-bellish-c-4-sortof-bell-61-127.aiff']' returned non-zero exit status 1.\n",
      "['ffmpeg-normalize', '/Volumes/LaCie/freesound-crawler/downloads/28415__hello-flowers__2recordscratch.wav', '-o', '/Users/andrusasumets/projects/experiments/pacemaker/processed/normalized/28415__hello-flowers__2recordscratch.wav']\n"
     ]
    },
    {
     "name": "stderr",
     "output_type": "stream",
     "text": [
      "\u001b[1;33m\u001b[1;33m\u001b[1;33m\u001b[1;33m\u001b[1;33m\u001b[1;33mWARNING\u001b[1;0m\u001b[1;0m\u001b[1;0m\u001b[1;0m\u001b[1;0m\u001b[1;0m: Audio stream has a duration of less than 3 seconds. Normalization may not work. See https://github.com/slhck/ffmpeg-normalize/issues/87 for more info.\n"
     ]
    },
    {
     "name": "stdout",
     "output_type": "stream",
     "text": [
      "['ffmpeg', '-loglevel', 'error', '-i', '/Users/andrusasumets/projects/experiments/pacemaker/processed/normalized/28415__hello-flowers__2recordscratch.wav', '-acodec', 'pcm_s16le', '-ac', '1', '-ar', '100', '-threads', '6', '-y', '/Users/andrusasumets/projects/experiments/pacemaker/processed/wav/28415.wav']\n",
      "['ffmpeg', '-loglevel', 'error', '-i', '/Users/andrusasumets/projects/experiments/pacemaker/processed/normalized/28415__hello-flowers__2recordscratch.wav', '-c:a', 'aac', '-ar', '44100', '-threads', '6', '-y', '/Users/andrusasumets/projects/experiments/pacemaker/processed/audio/28415.m4a']\n",
      "['ffmpeg-normalize', '/Volumes/LaCie/freesound-crawler/downloads/312222__modularsamples__yamaha-cs-30l-changes-length-c-3-changes-length-49-64.aiff', '-o', '/Users/andrusasumets/projects/experiments/pacemaker/processed/normalized/312222__modularsamples__yamaha-cs-30l-changes-length-c-3-changes-length-49-64.aiff']\n"
     ]
    },
    {
     "name": "stderr",
     "output_type": "stream",
     "text": [
      "\u001b[1;33m\u001b[1;33m\u001b[1;33m\u001b[1;33m\u001b[1;33m\u001b[1;33mWARNING\u001b[1;0m\u001b[1;0m\u001b[1;0m\u001b[1;0m\u001b[1;0m\u001b[1;0m: Audio stream has a duration of less than 3 seconds. Normalization may not work. See https://github.com/slhck/ffmpeg-normalize/issues/87 for more info.\n",
      "\u001b[1;31m\u001b[1;31m\u001b[1;31m\u001b[1;31m\u001b[1;31m\u001b[1;31mERROR\u001b[1;0m\u001b[1;0m\u001b[1;0m\u001b[1;0m\u001b[1;0m\u001b[1;0m: Error while running command /usr/local/bin/ffmpeg -y -nostdin -i /Volumes/LaCie/freesound-crawler/downloads/312222__modularsamples__yamaha-cs-30l-changes-length-c-3-changes-length-49-64.aiff -filter_complex '[0:0]loudnorm=i=-23.0:lra=7.0:tp=-2.0:offset=24.15:measured_i=-43.55:measured_lra=0.0:measured_tp=-17.38:measured_thresh=-53.55:linear=true:print_format=json[norm0]' -map_metadata 0 -map_metadata:s:a:0 0:s:a:0 -map_chapters 0 -map '[norm0]' -c:a:0 pcm_s24le -c:s copy /var/folders/94/c53y6yld37z20wdsvhhlk58c0000gn/T/_61fg9p7.aiff! Error: Error running command ['/usr/local/bin/ffmpeg', '-y', '-nostdin', '-i', '/Volumes/LaCie/freesound-crawler/downloads/312222__modularsamples__yamaha-cs-30l-changes-length-c-3-changes-length-49-64.aiff', '-filter_complex', '[0:0]loudnorm=i=-23.0:lra=7.0:tp=-2.0:offset=24.15:measured_i=-43.55:measured_lra=0.0:measured_tp=-17.38:measured_thresh=-53.55:linear=true:print_format=json[norm0]', '-map_metadata', '0', '-map_metadata:s:a:0', '0:s:a:0', '-map_chapters', '0', '-map', '[norm0]', '-c:a:0', 'pcm_s24le', '-c:s', 'copy', '/var/folders/94/c53y6yld37z20wdsvhhlk58c0000gn/T/_61fg9p7.aiff']: ffmpeg version 5.1.1 Copyright (c) 2000-2022 the FFmpeg developers\n",
      "built with Apple clang version 13.1.6 (clang-1316.0.21.2.5)\n",
      "configuration: --prefix=/usr/local/Cellar/ffmpeg/5.1.1-with-options --enable-shared --cc=clang --host-cflags= --host-ldflags= --enable-gpl --enable-libaom --enable-libdav1d --enable-libmp3lame --enable-libopus --enable-libsnappy --enable-libtheora --enable-libvorbis --enable-libvpx --enable-libx264 --enable-libx265 --enable-libfontconfig --enable-libfreetype --enable-frei0r --enable-libass --enable-demuxer=dash --enable-opencl --enable-audiotoolbox --enable-videotoolbox --disable-htmlpages --enable-libfdk-aac --enable-nonfree\n",
      "libavutil      57. 28.100 / 57. 28.100\n",
      "libavcodec     59. 37.100 / 59. 37.100\n",
      "libavformat    59. 27.100 / 59. 27.100\n",
      "libavdevice    59.  7.100 / 59.  7.100\n",
      "libavfilter     8. 44.100 /  8. 44.100\n",
      "libswscale      6.  7.100 /  6.  7.100\n",
      "libswresample   4.  7.100 /  4.  7.100\n",
      "libpostproc    56.  6.100 / 56.  6.100\n",
      "Guessed Channel Layout for Input Stream #0.0 : mono\n",
      "Input #0, aiff, from '/Volumes/LaCie/freesound-crawler/downloads/312222__modularsamples__yamaha-cs-30l-changes-length-c-3-changes-length-49-64.aiff':\n",
      "Duration: 00:00:01.10, start: 0.000000, bitrate: 1088 kb/s\n",
      "Stream #0:0: Audio: pcm_s24be, 44100 Hz, mono, s32 (24 bit), 1058 kb/s\n",
      "Stream mapping:\n",
      "Stream #0:0 (pcm_s24be) -> loudnorm:default\n",
      "loudnorm:default -> Stream #0:0 (pcm_s24le)\n",
      "Could not write header for output file #0 (incorrect codec parameters ?): Invalid argument\n",
      "Error initializing output stream 0:0 --\n",
      "[Parsed_loudnorm_0 @ 0x7fc018705180]\n",
      "{\n",
      "\"input_i\" : \"-inf\",\n",
      "\"input_tp\" : \"-inf\",\n",
      "\"input_lra\" : \"0.00\",\n",
      "\"input_thresh\" : \"-70.00\",\n",
      "\"output_i\" : \"-inf\",\n",
      "\"output_tp\" : \"-inf\",\n",
      "\"output_lra\" : \"0.00\",\n",
      "\"output_thresh\" : \"-70.00\",\n",
      "\"normalization_type\" : \"dynamic\",\n",
      "\"target_offset\" : \"inf\"\n",
      "}\n",
      "Conversion failed!\n",
      "Traceback (most recent call last):\n",
      "  File \"/usr/local/bin/ffmpeg-normalize\", line 8, in <module>\n",
      "    sys.exit(main())\n",
      "  File \"/usr/local/lib/python3.9/site-packages/ffmpeg_normalize/__main__.py\", line 554, in main\n",
      "    ffmpeg_normalize.run_normalization()\n",
      "  File \"/usr/local/lib/python3.9/site-packages/ffmpeg_normalize/_ffmpeg_normalize.py\", line 205, in run_normalization\n",
      "    raise e\n",
      "  File \"/usr/local/lib/python3.9/site-packages/ffmpeg_normalize/_ffmpeg_normalize.py\", line 194, in run_normalization\n",
      "    media_file.run_normalization()\n",
      "  File \"/usr/local/lib/python3.9/site-packages/ffmpeg_normalize/_media_file.py\", line 165, in run_normalization\n",
      "    for _ in self._second_pass():\n",
      "  File \"/usr/local/lib/python3.9/site-packages/ffmpeg_normalize/_media_file.py\", line 381, in _second_pass\n",
      "    raise e\n",
      "  File \"/usr/local/lib/python3.9/site-packages/ffmpeg_normalize/_media_file.py\", line 370, in _second_pass\n",
      "    raise e\n",
      "  File \"/usr/local/lib/python3.9/site-packages/ffmpeg_normalize/_media_file.py\", line 362, in _second_pass\n",
      "    for progress in cmd_runner.run_ffmpeg_command():\n",
      "  File \"/usr/local/lib/python3.9/site-packages/ffmpeg_normalize/_cmd_utils.py\", line 78, in run_ffmpeg_command\n",
      "    for progress in ff.run_command_with_progress():\n",
      "  File \"/usr/local/lib/python3.9/site-packages/ffmpeg_progress_yield/ffmpeg_progress_yield.py\", line 107, in run_command_with_progress\n",
      "    raise RuntimeError(\n",
      "RuntimeError: Error running command ['/usr/local/bin/ffmpeg', '-y', '-nostdin', '-i', '/Volumes/LaCie/freesound-crawler/downloads/312222__modularsamples__yamaha-cs-30l-changes-length-c-3-changes-length-49-64.aiff', '-filter_complex', '[0:0]loudnorm=i=-23.0:lra=7.0:tp=-2.0:offset=24.15:measured_i=-43.55:measured_lra=0.0:measured_tp=-17.38:measured_thresh=-53.55:linear=true:print_format=json[norm0]', '-map_metadata', '0', '-map_metadata:s:a:0', '0:s:a:0', '-map_chapters', '0', '-map', '[norm0]', '-c:a:0', 'pcm_s24le', '-c:s', 'copy', '/var/folders/94/c53y6yld37z20wdsvhhlk58c0000gn/T/_61fg9p7.aiff']: ffmpeg version 5.1.1 Copyright (c) 2000-2022 the FFmpeg developers\n",
      "built with Apple clang version 13.1.6 (clang-1316.0.21.2.5)\n",
      "configuration: --prefix=/usr/local/Cellar/ffmpeg/5.1.1-with-options --enable-shared --cc=clang --host-cflags= --host-ldflags= --enable-gpl --enable-libaom --enable-libdav1d --enable-libmp3lame --enable-libopus --enable-libsnappy --enable-libtheora --enable-libvorbis --enable-libvpx --enable-libx264 --enable-libx265 --enable-libfontconfig --enable-libfreetype --enable-frei0r --enable-libass --enable-demuxer=dash --enable-opencl --enable-audiotoolbox --enable-videotoolbox --disable-htmlpages --enable-libfdk-aac --enable-nonfree\n",
      "libavutil      57. 28.100 / 57. 28.100\n",
      "libavcodec     59. 37.100 / 59. 37.100\n",
      "libavformat    59. 27.100 / 59. 27.100\n",
      "libavdevice    59.  7.100 / 59.  7.100\n",
      "libavfilter     8. 44.100 /  8. 44.100\n",
      "libswscale      6.  7.100 /  6.  7.100\n",
      "libswresample   4.  7.100 /  4.  7.100\n",
      "libpostproc    56.  6.100 / 56.  6.100\n",
      "Guessed Channel Layout for Input Stream #0.0 : mono\n",
      "Input #0, aiff, from '/Volumes/LaCie/freesound-crawler/downloads/312222__modularsamples__yamaha-cs-30l-changes-length-c-3-changes-length-49-64.aiff':\n",
      "Duration: 00:00:01.10, start: 0.000000, bitrate: 1088 kb/s\n",
      "Stream #0:0: Audio: pcm_s24be, 44100 Hz, mono, s32 (24 bit), 1058 kb/s\n",
      "Stream mapping:\n",
      "Stream #0:0 (pcm_s24be) -> loudnorm:default\n",
      "loudnorm:default -> Stream #0:0 (pcm_s24le)\n",
      "Could not write header for output file #0 (incorrect codec parameters ?): Invalid argument\n",
      "Error initializing output stream 0:0 --\n",
      "[Parsed_loudnorm_0 @ 0x7fc018705180]\n",
      "{\n",
      "\"input_i\" : \"-inf\",\n",
      "\"input_tp\" : \"-inf\",\n",
      "\"input_lra\" : \"0.00\",\n",
      "\"input_thresh\" : \"-70.00\",\n",
      "\"output_i\" : \"-inf\",\n",
      "\"output_tp\" : \"-inf\",\n",
      "\"output_lra\" : \"0.00\",\n",
      "\"output_thresh\" : \"-70.00\",\n",
      "\"normalization_type\" : \"dynamic\",\n",
      "\"target_offset\" : \"inf\"\n",
      "}\n",
      "Conversion failed!\n"
     ]
    },
    {
     "name": "stdout",
     "output_type": "stream",
     "text": [
      "Command '['ffmpeg-normalize', '/Volumes/LaCie/freesound-crawler/downloads/312222__modularsamples__yamaha-cs-30l-changes-length-c-3-changes-length-49-64.aiff', '-o', '/Users/andrusasumets/projects/experiments/pacemaker/processed/normalized/312222__modularsamples__yamaha-cs-30l-changes-length-c-3-changes-length-49-64.aiff']' returned non-zero exit status 1.\n",
      "['ffmpeg-normalize', '/Volumes/LaCie/freesound-crawler/downloads/373070__samulis__solo-contrabass-spiccato-g3-bkctbss-spic-g-2-v1-rr1.wav', '-o', '/Users/andrusasumets/projects/experiments/pacemaker/processed/normalized/373070__samulis__solo-contrabass-spiccato-g3-bkctbss-spic-g-2-v1-rr1.wav']\n"
     ]
    },
    {
     "name": "stderr",
     "output_type": "stream",
     "text": [
      "\u001b[1;33m\u001b[1;33m\u001b[1;33m\u001b[1;33m\u001b[1;33m\u001b[1;33mWARNING\u001b[1;0m\u001b[1;0m\u001b[1;0m\u001b[1;0m\u001b[1;0m\u001b[1;0m: Audio stream has a duration of less than 3 seconds. Normalization may not work. See https://github.com/slhck/ffmpeg-normalize/issues/87 for more info.\n"
     ]
    },
    {
     "name": "stdout",
     "output_type": "stream",
     "text": [
      "['ffmpeg', '-loglevel', 'error', '-i', '/Users/andrusasumets/projects/experiments/pacemaker/processed/normalized/373070__samulis__solo-contrabass-spiccato-g3-bkctbss-spic-g-2-v1-rr1.wav', '-acodec', 'pcm_s16le', '-ac', '1', '-ar', '100', '-threads', '6', '-y', '/Users/andrusasumets/projects/experiments/pacemaker/processed/wav/373070.wav']\n",
      "['ffmpeg', '-loglevel', 'error', '-i', '/Users/andrusasumets/projects/experiments/pacemaker/processed/normalized/373070__samulis__solo-contrabass-spiccato-g3-bkctbss-spic-g-2-v1-rr1.wav', '-c:a', 'aac', '-ar', '44100', '-threads', '6', '-y', '/Users/andrusasumets/projects/experiments/pacemaker/processed/audio/373070.m4a']\n",
      "['ffmpeg-normalize', '/Volumes/LaCie/freesound-crawler/downloads/310885__modularsamples__roland-sh-2-rezzy-saw-vel-d3-50d2-9t0y.aiff', '-o', '/Users/andrusasumets/projects/experiments/pacemaker/processed/normalized/310885__modularsamples__roland-sh-2-rezzy-saw-vel-d3-50d2-9t0y.aiff']\n"
     ]
    },
    {
     "name": "stderr",
     "output_type": "stream",
     "text": [
      "\u001b[1;33m\u001b[1;33m\u001b[1;33m\u001b[1;33m\u001b[1;33m\u001b[1;33mWARNING\u001b[1;0m\u001b[1;0m\u001b[1;0m\u001b[1;0m\u001b[1;0m\u001b[1;0m: Audio stream has a duration of less than 3 seconds. Normalization may not work. See https://github.com/slhck/ffmpeg-normalize/issues/87 for more info.\n",
      "\u001b[1;31m\u001b[1;31m\u001b[1;31m\u001b[1;31m\u001b[1;31m\u001b[1;31mERROR\u001b[1;0m\u001b[1;0m\u001b[1;0m\u001b[1;0m\u001b[1;0m\u001b[1;0m: Error while running command /usr/local/bin/ffmpeg -y -nostdin -i /Volumes/LaCie/freesound-crawler/downloads/310885__modularsamples__roland-sh-2-rezzy-saw-vel-d3-50d2-9t0y.aiff -filter_complex '[0:0]loudnorm=i=-23.0:lra=7.0:tp=-2.0:offset=19.52:measured_i=-38.05:measured_lra=0.0:measured_tp=-14.2:measured_thresh=-50.12:linear=true:print_format=json[norm0]' -map_metadata 0 -map_metadata:s:a:0 0:s:a:0 -map_chapters 0 -map '[norm0]' -c:a:0 pcm_s24le -c:s copy /var/folders/94/c53y6yld37z20wdsvhhlk58c0000gn/T/a55f7rnv.aiff! Error: Error running command ['/usr/local/bin/ffmpeg', '-y', '-nostdin', '-i', '/Volumes/LaCie/freesound-crawler/downloads/310885__modularsamples__roland-sh-2-rezzy-saw-vel-d3-50d2-9t0y.aiff', '-filter_complex', '[0:0]loudnorm=i=-23.0:lra=7.0:tp=-2.0:offset=19.52:measured_i=-38.05:measured_lra=0.0:measured_tp=-14.2:measured_thresh=-50.12:linear=true:print_format=json[norm0]', '-map_metadata', '0', '-map_metadata:s:a:0', '0:s:a:0', '-map_chapters', '0', '-map', '[norm0]', '-c:a:0', 'pcm_s24le', '-c:s', 'copy', '/var/folders/94/c53y6yld37z20wdsvhhlk58c0000gn/T/a55f7rnv.aiff']: ffmpeg version 5.1.1 Copyright (c) 2000-2022 the FFmpeg developers\n",
      "built with Apple clang version 13.1.6 (clang-1316.0.21.2.5)\n",
      "configuration: --prefix=/usr/local/Cellar/ffmpeg/5.1.1-with-options --enable-shared --cc=clang --host-cflags= --host-ldflags= --enable-gpl --enable-libaom --enable-libdav1d --enable-libmp3lame --enable-libopus --enable-libsnappy --enable-libtheora --enable-libvorbis --enable-libvpx --enable-libx264 --enable-libx265 --enable-libfontconfig --enable-libfreetype --enable-frei0r --enable-libass --enable-demuxer=dash --enable-opencl --enable-audiotoolbox --enable-videotoolbox --disable-htmlpages --enable-libfdk-aac --enable-nonfree\n",
      "libavutil      57. 28.100 / 57. 28.100\n",
      "libavcodec     59. 37.100 / 59. 37.100\n",
      "libavformat    59. 27.100 / 59. 27.100\n",
      "libavdevice    59.  7.100 / 59.  7.100\n",
      "libavfilter     8. 44.100 /  8. 44.100\n",
      "libswscale      6.  7.100 /  6.  7.100\n",
      "libswresample   4.  7.100 /  4.  7.100\n",
      "libpostproc    56.  6.100 / 56.  6.100\n",
      "Guessed Channel Layout for Input Stream #0.0 : mono\n",
      "Input #0, aiff, from '/Volumes/LaCie/freesound-crawler/downloads/310885__modularsamples__roland-sh-2-rezzy-saw-vel-d3-50d2-9t0y.aiff':\n",
      "Duration: 00:00:01.82, start: 0.000000, bitrate: 1076 kb/s\n",
      "Stream #0:0: Audio: pcm_s24be, 44100 Hz, mono, s32 (24 bit), 1058 kb/s\n",
      "Stream mapping:\n",
      "Stream #0:0 (pcm_s24be) -> loudnorm:default\n",
      "loudnorm:default -> Stream #0:0 (pcm_s24le)\n",
      "Could not write header for output file #0 (incorrect codec parameters ?): Invalid argument\n",
      "Error initializing output stream 0:0 --\n",
      "[Parsed_loudnorm_0 @ 0x7f8e0800bc00]\n",
      "{\n",
      "\"input_i\" : \"-inf\",\n",
      "\"input_tp\" : \"-inf\",\n",
      "\"input_lra\" : \"0.00\",\n",
      "\"input_thresh\" : \"-70.00\",\n",
      "\"output_i\" : \"-inf\",\n",
      "\"output_tp\" : \"-inf\",\n",
      "\"output_lra\" : \"0.00\",\n",
      "\"output_thresh\" : \"-70.00\",\n",
      "\"normalization_type\" : \"dynamic\",\n",
      "\"target_offset\" : \"inf\"\n",
      "}\n",
      "Conversion failed!\n",
      "Traceback (most recent call last):\n",
      "  File \"/usr/local/bin/ffmpeg-normalize\", line 8, in <module>\n",
      "    sys.exit(main())\n",
      "  File \"/usr/local/lib/python3.9/site-packages/ffmpeg_normalize/__main__.py\", line 554, in main\n",
      "    ffmpeg_normalize.run_normalization()\n",
      "  File \"/usr/local/lib/python3.9/site-packages/ffmpeg_normalize/_ffmpeg_normalize.py\", line 205, in run_normalization\n",
      "    raise e\n",
      "  File \"/usr/local/lib/python3.9/site-packages/ffmpeg_normalize/_ffmpeg_normalize.py\", line 194, in run_normalization\n",
      "    media_file.run_normalization()\n",
      "  File \"/usr/local/lib/python3.9/site-packages/ffmpeg_normalize/_media_file.py\", line 165, in run_normalization\n",
      "    for _ in self._second_pass():\n",
      "  File \"/usr/local/lib/python3.9/site-packages/ffmpeg_normalize/_media_file.py\", line 381, in _second_pass\n",
      "    raise e\n",
      "  File \"/usr/local/lib/python3.9/site-packages/ffmpeg_normalize/_media_file.py\", line 370, in _second_pass\n",
      "    raise e\n",
      "  File \"/usr/local/lib/python3.9/site-packages/ffmpeg_normalize/_media_file.py\", line 362, in _second_pass\n",
      "    for progress in cmd_runner.run_ffmpeg_command():\n",
      "  File \"/usr/local/lib/python3.9/site-packages/ffmpeg_normalize/_cmd_utils.py\", line 78, in run_ffmpeg_command\n",
      "    for progress in ff.run_command_with_progress():\n",
      "  File \"/usr/local/lib/python3.9/site-packages/ffmpeg_progress_yield/ffmpeg_progress_yield.py\", line 107, in run_command_with_progress\n",
      "    raise RuntimeError(\n",
      "RuntimeError: Error running command ['/usr/local/bin/ffmpeg', '-y', '-nostdin', '-i', '/Volumes/LaCie/freesound-crawler/downloads/310885__modularsamples__roland-sh-2-rezzy-saw-vel-d3-50d2-9t0y.aiff', '-filter_complex', '[0:0]loudnorm=i=-23.0:lra=7.0:tp=-2.0:offset=19.52:measured_i=-38.05:measured_lra=0.0:measured_tp=-14.2:measured_thresh=-50.12:linear=true:print_format=json[norm0]', '-map_metadata', '0', '-map_metadata:s:a:0', '0:s:a:0', '-map_chapters', '0', '-map', '[norm0]', '-c:a:0', 'pcm_s24le', '-c:s', 'copy', '/var/folders/94/c53y6yld37z20wdsvhhlk58c0000gn/T/a55f7rnv.aiff']: ffmpeg version 5.1.1 Copyright (c) 2000-2022 the FFmpeg developers\n",
      "built with Apple clang version 13.1.6 (clang-1316.0.21.2.5)\n",
      "configuration: --prefix=/usr/local/Cellar/ffmpeg/5.1.1-with-options --enable-shared --cc=clang --host-cflags= --host-ldflags= --enable-gpl --enable-libaom --enable-libdav1d --enable-libmp3lame --enable-libopus --enable-libsnappy --enable-libtheora --enable-libvorbis --enable-libvpx --enable-libx264 --enable-libx265 --enable-libfontconfig --enable-libfreetype --enable-frei0r --enable-libass --enable-demuxer=dash --enable-opencl --enable-audiotoolbox --enable-videotoolbox --disable-htmlpages --enable-libfdk-aac --enable-nonfree\n",
      "libavutil      57. 28.100 / 57. 28.100\n",
      "libavcodec     59. 37.100 / 59. 37.100\n",
      "libavformat    59. 27.100 / 59. 27.100\n",
      "libavdevice    59.  7.100 / 59.  7.100\n",
      "libavfilter     8. 44.100 /  8. 44.100\n",
      "libswscale      6.  7.100 /  6.  7.100\n",
      "libswresample   4.  7.100 /  4.  7.100\n",
      "libpostproc    56.  6.100 / 56.  6.100\n",
      "Guessed Channel Layout for Input Stream #0.0 : mono\n",
      "Input #0, aiff, from '/Volumes/LaCie/freesound-crawler/downloads/310885__modularsamples__roland-sh-2-rezzy-saw-vel-d3-50d2-9t0y.aiff':\n",
      "Duration: 00:00:01.82, start: 0.000000, bitrate: 1076 kb/s\n",
      "Stream #0:0: Audio: pcm_s24be, 44100 Hz, mono, s32 (24 bit), 1058 kb/s\n",
      "Stream mapping:\n",
      "Stream #0:0 (pcm_s24be) -> loudnorm:default\n",
      "loudnorm:default -> Stream #0:0 (pcm_s24le)\n",
      "Could not write header for output file #0 (incorrect codec parameters ?): Invalid argument\n",
      "Error initializing output stream 0:0 --\n",
      "[Parsed_loudnorm_0 @ 0x7f8e0800bc00]\n",
      "{\n",
      "\"input_i\" : \"-inf\",\n",
      "\"input_tp\" : \"-inf\",\n",
      "\"input_lra\" : \"0.00\",\n",
      "\"input_thresh\" : \"-70.00\",\n",
      "\"output_i\" : \"-inf\",\n",
      "\"output_tp\" : \"-inf\",\n",
      "\"output_lra\" : \"0.00\",\n",
      "\"output_thresh\" : \"-70.00\",\n",
      "\"normalization_type\" : \"dynamic\",\n",
      "\"target_offset\" : \"inf\"\n",
      "}\n",
      "Conversion failed!\n"
     ]
    },
    {
     "name": "stdout",
     "output_type": "stream",
     "text": [
      "Command '['ffmpeg-normalize', '/Volumes/LaCie/freesound-crawler/downloads/310885__modularsamples__roland-sh-2-rezzy-saw-vel-d3-50d2-9t0y.aiff', '-o', '/Users/andrusasumets/projects/experiments/pacemaker/processed/normalized/310885__modularsamples__roland-sh-2-rezzy-saw-vel-d3-50d2-9t0y.aiff']' returned non-zero exit status 1.\n",
      "['ffmpeg-normalize', '/Volumes/LaCie/freesound-crawler/downloads/151485__tvfs__closed-hi-hat-4.wav', '-o', '/Users/andrusasumets/projects/experiments/pacemaker/processed/normalized/151485__tvfs__closed-hi-hat-4.wav']\n"
     ]
    },
    {
     "name": "stderr",
     "output_type": "stream",
     "text": [
      "\u001b[1;33m\u001b[1;33m\u001b[1;33m\u001b[1;33m\u001b[1;33m\u001b[1;33mWARNING\u001b[1;0m\u001b[1;0m\u001b[1;0m\u001b[1;0m\u001b[1;0m\u001b[1;0m: Audio stream has a duration of less than 3 seconds. Normalization may not work. See https://github.com/slhck/ffmpeg-normalize/issues/87 for more info.\n"
     ]
    },
    {
     "name": "stdout",
     "output_type": "stream",
     "text": [
      "['ffmpeg', '-loglevel', 'error', '-i', '/Users/andrusasumets/projects/experiments/pacemaker/processed/normalized/151485__tvfs__closed-hi-hat-4.wav', '-acodec', 'pcm_s16le', '-ac', '1', '-ar', '100', '-threads', '6', '-y', '/Users/andrusasumets/projects/experiments/pacemaker/processed/wav/151485.wav']\n",
      "['ffmpeg', '-loglevel', 'error', '-i', '/Users/andrusasumets/projects/experiments/pacemaker/processed/normalized/151485__tvfs__closed-hi-hat-4.wav', '-c:a', 'aac', '-ar', '44100', '-threads', '6', '-y', '/Users/andrusasumets/projects/experiments/pacemaker/processed/audio/151485.m4a']\n",
      "['ffmpeg-normalize', '/Volumes/LaCie/freesound-crawler/downloads/294980__modularsamples__korg-mono-poly-short-tri-b3-short-tri-59-127.aiff', '-o', '/Users/andrusasumets/projects/experiments/pacemaker/processed/normalized/294980__modularsamples__korg-mono-poly-short-tri-b3-short-tri-59-127.aiff']\n"
     ]
    },
    {
     "name": "stderr",
     "output_type": "stream",
     "text": [
      "\u001b[1;33m\u001b[1;33m\u001b[1;33m\u001b[1;33m\u001b[1;33m\u001b[1;33mWARNING\u001b[1;0m\u001b[1;0m\u001b[1;0m\u001b[1;0m\u001b[1;0m\u001b[1;0m: Audio stream has a duration of less than 3 seconds. Normalization may not work. See https://github.com/slhck/ffmpeg-normalize/issues/87 for more info.\n",
      "\u001b[1;31m\u001b[1;31m\u001b[1;31m\u001b[1;31m\u001b[1;31m\u001b[1;31mERROR\u001b[1;0m\u001b[1;0m\u001b[1;0m\u001b[1;0m\u001b[1;0m\u001b[1;0m: Error while running command /usr/local/bin/ffmpeg -y -nostdin -i /Volumes/LaCie/freesound-crawler/downloads/294980__modularsamples__korg-mono-poly-short-tri-b3-short-tri-59-127.aiff -filter_complex '[0:0]loudnorm=i=-23.0:lra=7.0:tp=-2.0:offset=0.0:measured_i=-16.33:measured_lra=0.0:measured_tp=0.0:measured_thresh=-27.27:linear=true:print_format=json[norm0]' -map_metadata 0 -map_metadata:s:a:0 0:s:a:0 -map_chapters 0 -map '[norm0]' -c:a:0 pcm_s24le -c:s copy /var/folders/94/c53y6yld37z20wdsvhhlk58c0000gn/T/5eou5nqe.aiff! Error: Error running command ['/usr/local/bin/ffmpeg', '-y', '-nostdin', '-i', '/Volumes/LaCie/freesound-crawler/downloads/294980__modularsamples__korg-mono-poly-short-tri-b3-short-tri-59-127.aiff', '-filter_complex', '[0:0]loudnorm=i=-23.0:lra=7.0:tp=-2.0:offset=0.0:measured_i=-16.33:measured_lra=0.0:measured_tp=0.0:measured_thresh=-27.27:linear=true:print_format=json[norm0]', '-map_metadata', '0', '-map_metadata:s:a:0', '0:s:a:0', '-map_chapters', '0', '-map', '[norm0]', '-c:a:0', 'pcm_s24le', '-c:s', 'copy', '/var/folders/94/c53y6yld37z20wdsvhhlk58c0000gn/T/5eou5nqe.aiff']: ffmpeg version 5.1.1 Copyright (c) 2000-2022 the FFmpeg developers\n",
      "built with Apple clang version 13.1.6 (clang-1316.0.21.2.5)\n",
      "configuration: --prefix=/usr/local/Cellar/ffmpeg/5.1.1-with-options --enable-shared --cc=clang --host-cflags= --host-ldflags= --enable-gpl --enable-libaom --enable-libdav1d --enable-libmp3lame --enable-libopus --enable-libsnappy --enable-libtheora --enable-libvorbis --enable-libvpx --enable-libx264 --enable-libx265 --enable-libfontconfig --enable-libfreetype --enable-frei0r --enable-libass --enable-demuxer=dash --enable-opencl --enable-audiotoolbox --enable-videotoolbox --disable-htmlpages --enable-libfdk-aac --enable-nonfree\n",
      "libavutil      57. 28.100 / 57. 28.100\n",
      "libavcodec     59. 37.100 / 59. 37.100\n",
      "libavformat    59. 27.100 / 59. 27.100\n",
      "libavdevice    59.  7.100 / 59.  7.100\n",
      "libavfilter     8. 44.100 /  8. 44.100\n",
      "libswscale      6.  7.100 /  6.  7.100\n",
      "libswresample   4.  7.100 /  4.  7.100\n",
      "libpostproc    56.  6.100 / 56.  6.100\n",
      "Guessed Channel Layout for Input Stream #0.0 : mono\n",
      "Input #0, aiff, from '/Volumes/LaCie/freesound-crawler/downloads/294980__modularsamples__korg-mono-poly-short-tri-b3-short-tri-59-127.aiff':\n",
      "Duration: 00:00:00.88, start: 0.000000, bitrate: 1095 kb/s\n",
      "Stream #0:0: Audio: pcm_s24be, 44100 Hz, mono, s32 (24 bit), 1058 kb/s\n",
      "Stream mapping:\n",
      "Stream #0:0 (pcm_s24be) -> loudnorm:default\n",
      "loudnorm:default -> Stream #0:0 (pcm_s24le)\n",
      "Could not write header for output file #0 (incorrect codec parameters ?): Invalid argument\n",
      "Error initializing output stream 0:0 --\n",
      "[Parsed_loudnorm_0 @ 0x7fedff70bb00]\n",
      "{\n",
      "\"input_i\" : \"-inf\",\n",
      "\"input_tp\" : \"-inf\",\n",
      "\"input_lra\" : \"0.00\",\n",
      "\"input_thresh\" : \"-70.00\",\n",
      "\"output_i\" : \"-inf\",\n",
      "\"output_tp\" : \"-inf\",\n",
      "\"output_lra\" : \"0.00\",\n",
      "\"output_thresh\" : \"-70.00\",\n",
      "\"normalization_type\" : \"dynamic\",\n",
      "\"target_offset\" : \"inf\"\n",
      "}\n",
      "Conversion failed!\n",
      "Traceback (most recent call last):\n",
      "  File \"/usr/local/bin/ffmpeg-normalize\", line 8, in <module>\n",
      "    sys.exit(main())\n",
      "  File \"/usr/local/lib/python3.9/site-packages/ffmpeg_normalize/__main__.py\", line 554, in main\n",
      "    ffmpeg_normalize.run_normalization()\n",
      "  File \"/usr/local/lib/python3.9/site-packages/ffmpeg_normalize/_ffmpeg_normalize.py\", line 205, in run_normalization\n",
      "    raise e\n",
      "  File \"/usr/local/lib/python3.9/site-packages/ffmpeg_normalize/_ffmpeg_normalize.py\", line 194, in run_normalization\n",
      "    media_file.run_normalization()\n",
      "  File \"/usr/local/lib/python3.9/site-packages/ffmpeg_normalize/_media_file.py\", line 165, in run_normalization\n",
      "    for _ in self._second_pass():\n",
      "  File \"/usr/local/lib/python3.9/site-packages/ffmpeg_normalize/_media_file.py\", line 381, in _second_pass\n",
      "    raise e\n",
      "  File \"/usr/local/lib/python3.9/site-packages/ffmpeg_normalize/_media_file.py\", line 370, in _second_pass\n",
      "    raise e\n",
      "  File \"/usr/local/lib/python3.9/site-packages/ffmpeg_normalize/_media_file.py\", line 362, in _second_pass\n",
      "    for progress in cmd_runner.run_ffmpeg_command():\n",
      "  File \"/usr/local/lib/python3.9/site-packages/ffmpeg_normalize/_cmd_utils.py\", line 78, in run_ffmpeg_command\n",
      "    for progress in ff.run_command_with_progress():\n",
      "  File \"/usr/local/lib/python3.9/site-packages/ffmpeg_progress_yield/ffmpeg_progress_yield.py\", line 107, in run_command_with_progress\n",
      "    raise RuntimeError(\n",
      "RuntimeError: Error running command ['/usr/local/bin/ffmpeg', '-y', '-nostdin', '-i', '/Volumes/LaCie/freesound-crawler/downloads/294980__modularsamples__korg-mono-poly-short-tri-b3-short-tri-59-127.aiff', '-filter_complex', '[0:0]loudnorm=i=-23.0:lra=7.0:tp=-2.0:offset=0.0:measured_i=-16.33:measured_lra=0.0:measured_tp=0.0:measured_thresh=-27.27:linear=true:print_format=json[norm0]', '-map_metadata', '0', '-map_metadata:s:a:0', '0:s:a:0', '-map_chapters', '0', '-map', '[norm0]', '-c:a:0', 'pcm_s24le', '-c:s', 'copy', '/var/folders/94/c53y6yld37z20wdsvhhlk58c0000gn/T/5eou5nqe.aiff']: ffmpeg version 5.1.1 Copyright (c) 2000-2022 the FFmpeg developers\n",
      "built with Apple clang version 13.1.6 (clang-1316.0.21.2.5)\n",
      "configuration: --prefix=/usr/local/Cellar/ffmpeg/5.1.1-with-options --enable-shared --cc=clang --host-cflags= --host-ldflags= --enable-gpl --enable-libaom --enable-libdav1d --enable-libmp3lame --enable-libopus --enable-libsnappy --enable-libtheora --enable-libvorbis --enable-libvpx --enable-libx264 --enable-libx265 --enable-libfontconfig --enable-libfreetype --enable-frei0r --enable-libass --enable-demuxer=dash --enable-opencl --enable-audiotoolbox --enable-videotoolbox --disable-htmlpages --enable-libfdk-aac --enable-nonfree\n",
      "libavutil      57. 28.100 / 57. 28.100\n",
      "libavcodec     59. 37.100 / 59. 37.100\n",
      "libavformat    59. 27.100 / 59. 27.100\n",
      "libavdevice    59.  7.100 / 59.  7.100\n",
      "libavfilter     8. 44.100 /  8. 44.100\n",
      "libswscale      6.  7.100 /  6.  7.100\n",
      "libswresample   4.  7.100 /  4.  7.100\n",
      "libpostproc    56.  6.100 / 56.  6.100\n",
      "Guessed Channel Layout for Input Stream #0.0 : mono\n",
      "Input #0, aiff, from '/Volumes/LaCie/freesound-crawler/downloads/294980__modularsamples__korg-mono-poly-short-tri-b3-short-tri-59-127.aiff':\n",
      "Duration: 00:00:00.88, start: 0.000000, bitrate: 1095 kb/s\n",
      "Stream #0:0: Audio: pcm_s24be, 44100 Hz, mono, s32 (24 bit), 1058 kb/s\n",
      "Stream mapping:\n",
      "Stream #0:0 (pcm_s24be) -> loudnorm:default\n",
      "loudnorm:default -> Stream #0:0 (pcm_s24le)\n",
      "Could not write header for output file #0 (incorrect codec parameters ?): Invalid argument\n",
      "Error initializing output stream 0:0 --\n",
      "[Parsed_loudnorm_0 @ 0x7fedff70bb00]\n",
      "{\n",
      "\"input_i\" : \"-inf\",\n",
      "\"input_tp\" : \"-inf\",\n",
      "\"input_lra\" : \"0.00\",\n",
      "\"input_thresh\" : \"-70.00\",\n",
      "\"output_i\" : \"-inf\",\n",
      "\"output_tp\" : \"-inf\",\n",
      "\"output_lra\" : \"0.00\",\n",
      "\"output_thresh\" : \"-70.00\",\n",
      "\"normalization_type\" : \"dynamic\",\n",
      "\"target_offset\" : \"inf\"\n",
      "}\n",
      "Conversion failed!\n"
     ]
    },
    {
     "name": "stdout",
     "output_type": "stream",
     "text": [
      "Command '['ffmpeg-normalize', '/Volumes/LaCie/freesound-crawler/downloads/294980__modularsamples__korg-mono-poly-short-tri-b3-short-tri-59-127.aiff', '-o', '/Users/andrusasumets/projects/experiments/pacemaker/processed/normalized/294980__modularsamples__korg-mono-poly-short-tri-b3-short-tri-59-127.aiff']' returned non-zero exit status 1.\n",
      "['ffmpeg-normalize', '/Volumes/LaCie/freesound-crawler/downloads/317970__deleted-user-2195044__orn-chr-36.wav', '-o', '/Users/andrusasumets/projects/experiments/pacemaker/processed/normalized/317970__deleted-user-2195044__orn-chr-36.wav']\n"
     ]
    },
    {
     "name": "stderr",
     "output_type": "stream",
     "text": [
      "\u001b[1;33m\u001b[1;33m\u001b[1;33m\u001b[1;33m\u001b[1;33m\u001b[1;33mWARNING\u001b[1;0m\u001b[1;0m\u001b[1;0m\u001b[1;0m\u001b[1;0m\u001b[1;0m: Audio stream has a duration of less than 3 seconds. Normalization may not work. See https://github.com/slhck/ffmpeg-normalize/issues/87 for more info.\n"
     ]
    },
    {
     "name": "stdout",
     "output_type": "stream",
     "text": [
      "['ffmpeg', '-loglevel', 'error', '-i', '/Users/andrusasumets/projects/experiments/pacemaker/processed/normalized/317970__deleted-user-2195044__orn-chr-36.wav', '-acodec', 'pcm_s16le', '-ac', '1', '-ar', '100', '-threads', '6', '-y', '/Users/andrusasumets/projects/experiments/pacemaker/processed/wav/317970.wav']\n",
      "['ffmpeg', '-loglevel', 'error', '-i', '/Users/andrusasumets/projects/experiments/pacemaker/processed/normalized/317970__deleted-user-2195044__orn-chr-36.wav', '-c:a', 'aac', '-ar', '44100', '-threads', '6', '-y', '/Users/andrusasumets/projects/experiments/pacemaker/processed/audio/317970.m4a']\n",
      "['ffmpeg-normalize', '/Volumes/LaCie/freesound-crawler/downloads/408595__miguelab1998__24-push.wav', '-o', '/Users/andrusasumets/projects/experiments/pacemaker/processed/normalized/408595__miguelab1998__24-push.wav']\n"
     ]
    },
    {
     "name": "stderr",
     "output_type": "stream",
     "text": [
      "\u001b[1;33m\u001b[1;33m\u001b[1;33m\u001b[1;33m\u001b[1;33m\u001b[1;33mWARNING\u001b[1;0m\u001b[1;0m\u001b[1;0m\u001b[1;0m\u001b[1;0m\u001b[1;0m: Audio stream has a duration of less than 3 seconds. Normalization may not work. See https://github.com/slhck/ffmpeg-normalize/issues/87 for more info.\n"
     ]
    },
    {
     "name": "stdout",
     "output_type": "stream",
     "text": [
      "['ffmpeg', '-loglevel', 'error', '-i', '/Users/andrusasumets/projects/experiments/pacemaker/processed/normalized/408595__miguelab1998__24-push.wav', '-acodec', 'pcm_s16le', '-ac', '1', '-ar', '100', '-threads', '6', '-y', '/Users/andrusasumets/projects/experiments/pacemaker/processed/wav/408595.wav']\n",
      "['ffmpeg', '-loglevel', 'error', '-i', '/Users/andrusasumets/projects/experiments/pacemaker/processed/normalized/408595__miguelab1998__24-push.wav', '-c:a', 'aac', '-ar', '44100', '-threads', '6', '-y', '/Users/andrusasumets/projects/experiments/pacemaker/processed/audio/408595.m4a']\n",
      "['ffmpeg-normalize', '/Volumes/LaCie/freesound-crawler/downloads/421129__giocosound__footstep-grass-3.wav', '-o', '/Users/andrusasumets/projects/experiments/pacemaker/processed/normalized/421129__giocosound__footstep-grass-3.wav']\n"
     ]
    },
    {
     "name": "stderr",
     "output_type": "stream",
     "text": [
      "\u001b[1;33m\u001b[1;33m\u001b[1;33m\u001b[1;33m\u001b[1;33m\u001b[1;33mWARNING\u001b[1;0m\u001b[1;0m\u001b[1;0m\u001b[1;0m\u001b[1;0m\u001b[1;0m: Audio stream has a duration of less than 3 seconds. Normalization may not work. See https://github.com/slhck/ffmpeg-normalize/issues/87 for more info.\n"
     ]
    },
    {
     "name": "stdout",
     "output_type": "stream",
     "text": [
      "['ffmpeg', '-loglevel', 'error', '-i', '/Users/andrusasumets/projects/experiments/pacemaker/processed/normalized/421129__giocosound__footstep-grass-3.wav', '-acodec', 'pcm_s16le', '-ac', '1', '-ar', '100', '-threads', '6', '-y', '/Users/andrusasumets/projects/experiments/pacemaker/processed/wav/421129.wav']\n",
      "['ffmpeg', '-loglevel', 'error', '-i', '/Users/andrusasumets/projects/experiments/pacemaker/processed/normalized/421129__giocosound__footstep-grass-3.wav', '-c:a', 'aac', '-ar', '44100', '-threads', '6', '-y', '/Users/andrusasumets/projects/experiments/pacemaker/processed/audio/421129.m4a']\n",
      "['ffmpeg-normalize', '/Volumes/LaCie/freesound-crawler/downloads/618624__strangehorizon__anordam-09.wav', '-o', '/Users/andrusasumets/projects/experiments/pacemaker/processed/normalized/618624__strangehorizon__anordam-09.wav']\n"
     ]
    },
    {
     "name": "stderr",
     "output_type": "stream",
     "text": [
      "\u001b[1;33m\u001b[1;33m\u001b[1;33m\u001b[1;33m\u001b[1;33m\u001b[1;33mWARNING\u001b[1;0m\u001b[1;0m\u001b[1;0m\u001b[1;0m\u001b[1;0m\u001b[1;0m: Audio stream has a duration of less than 3 seconds. Normalization may not work. See https://github.com/slhck/ffmpeg-normalize/issues/87 for more info.\n"
     ]
    },
    {
     "name": "stdout",
     "output_type": "stream",
     "text": [
      "['ffmpeg', '-loglevel', 'error', '-i', '/Users/andrusasumets/projects/experiments/pacemaker/processed/normalized/618624__strangehorizon__anordam-09.wav', '-acodec', 'pcm_s16le', '-ac', '1', '-ar', '100', '-threads', '6', '-y', '/Users/andrusasumets/projects/experiments/pacemaker/processed/wav/618624.wav']\n",
      "['ffmpeg', '-loglevel', 'error', '-i', '/Users/andrusasumets/projects/experiments/pacemaker/processed/normalized/618624__strangehorizon__anordam-09.wav', '-c:a', 'aac', '-ar', '44100', '-threads', '6', '-y', '/Users/andrusasumets/projects/experiments/pacemaker/processed/audio/618624.m4a']\n",
      "['ffmpeg-normalize', '/Volumes/LaCie/freesound-crawler/downloads/217436__unfa__hunger-noises-06.flac', '-o', '/Users/andrusasumets/projects/experiments/pacemaker/processed/normalized/217436__unfa__hunger-noises-06.flac']\n"
     ]
    },
    {
     "name": "stderr",
     "output_type": "stream",
     "text": [
      "\u001b[1;33m\u001b[1;33m\u001b[1;33m\u001b[1;33m\u001b[1;33m\u001b[1;33mWARNING\u001b[1;0m\u001b[1;0m\u001b[1;0m\u001b[1;0m\u001b[1;0m\u001b[1;0m: Audio stream has a duration of less than 3 seconds. Normalization may not work. See https://github.com/slhck/ffmpeg-normalize/issues/87 for more info.\n",
      "\u001b[1;31m\u001b[1;31m\u001b[1;31m\u001b[1;31m\u001b[1;31m\u001b[1;31mERROR\u001b[1;0m\u001b[1;0m\u001b[1;0m\u001b[1;0m\u001b[1;0m\u001b[1;0m: Error while running command /usr/local/bin/ffmpeg -y -nostdin -i /Volumes/LaCie/freesound-crawler/downloads/217436__unfa__hunger-noises-06.flac -filter_complex '[0:0]loudnorm=i=-23.0:lra=7.0:tp=-2.0:offset=14.56:measured_i=-30.55:measured_lra=0.0:measured_tp=-9.11:measured_thresh=-42.41:linear=true:print_format=json[norm0]' -map_metadata 0 -map_metadata:s:a:0 0:s:a:0 -map_chapters 0 -map '[norm0]' -c:a:0 pcm_s16le -c:s copy /var/folders/94/c53y6yld37z20wdsvhhlk58c0000gn/T/bop_84t_.flac! Error: Error running command ['/usr/local/bin/ffmpeg', '-y', '-nostdin', '-i', '/Volumes/LaCie/freesound-crawler/downloads/217436__unfa__hunger-noises-06.flac', '-filter_complex', '[0:0]loudnorm=i=-23.0:lra=7.0:tp=-2.0:offset=14.56:measured_i=-30.55:measured_lra=0.0:measured_tp=-9.11:measured_thresh=-42.41:linear=true:print_format=json[norm0]', '-map_metadata', '0', '-map_metadata:s:a:0', '0:s:a:0', '-map_chapters', '0', '-map', '[norm0]', '-c:a:0', 'pcm_s16le', '-c:s', 'copy', '/var/folders/94/c53y6yld37z20wdsvhhlk58c0000gn/T/bop_84t_.flac']: ffmpeg version 5.1.1 Copyright (c) 2000-2022 the FFmpeg developers\n",
      "built with Apple clang version 13.1.6 (clang-1316.0.21.2.5)\n",
      "configuration: --prefix=/usr/local/Cellar/ffmpeg/5.1.1-with-options --enable-shared --cc=clang --host-cflags= --host-ldflags= --enable-gpl --enable-libaom --enable-libdav1d --enable-libmp3lame --enable-libopus --enable-libsnappy --enable-libtheora --enable-libvorbis --enable-libvpx --enable-libx264 --enable-libx265 --enable-libfontconfig --enable-libfreetype --enable-frei0r --enable-libass --enable-demuxer=dash --enable-opencl --enable-audiotoolbox --enable-videotoolbox --disable-htmlpages --enable-libfdk-aac --enable-nonfree\n",
      "libavutil      57. 28.100 / 57. 28.100\n",
      "libavcodec     59. 37.100 / 59. 37.100\n",
      "libavformat    59. 27.100 / 59. 27.100\n",
      "libavdevice    59.  7.100 / 59.  7.100\n",
      "libavfilter     8. 44.100 /  8. 44.100\n",
      "libswscale      6.  7.100 /  6.  7.100\n",
      "libswresample   4.  7.100 /  4.  7.100\n",
      "libpostproc    56.  6.100 / 56.  6.100\n",
      "Input #0, flac, from '/Volumes/LaCie/freesound-crawler/downloads/217436__unfa__hunger-noises-06.flac':\n",
      "Metadata:\n",
      "track           : 6\n",
      "DATE            : 2014\n",
      "ARTIST          : unfa\n",
      "TITLE           : 6\n",
      "COMMENTS        : http://unfamusic.com/\n",
      "Duration: 00:00:01.50, start: 0.000000, bitrate: 1023 kb/s\n",
      "Stream #0:0: Audio: flac, 96000 Hz, stereo, s16\n",
      "Stream mapping:\n",
      "Stream #0:0 (flac) -> loudnorm:default\n",
      "loudnorm:default -> Stream #0:0 (pcm_s16le)\n",
      "[flac @ 0x7f7e1af08040] Invalid audio stream. Exactly one FLAC audio stream is required.\n",
      "Could not write header for output file #0 (incorrect codec parameters ?): Invalid argument\n",
      "Error initializing output stream 0:0 --\n",
      "[Parsed_loudnorm_0 @ 0x7f7e1bb04e00]\n",
      "{\n",
      "\"input_i\" : \"-inf\",\n",
      "\"input_tp\" : \"-inf\",\n",
      "\"input_lra\" : \"0.00\",\n",
      "\"input_thresh\" : \"-70.00\",\n",
      "\"output_i\" : \"-inf\",\n",
      "\"output_tp\" : \"-inf\",\n",
      "\"output_lra\" : \"0.00\",\n",
      "\"output_thresh\" : \"-70.00\",\n",
      "\"normalization_type\" : \"dynamic\",\n",
      "\"target_offset\" : \"inf\"\n",
      "}\n",
      "Conversion failed!\n",
      "Traceback (most recent call last):\n",
      "  File \"/usr/local/bin/ffmpeg-normalize\", line 8, in <module>\n",
      "    sys.exit(main())\n",
      "  File \"/usr/local/lib/python3.9/site-packages/ffmpeg_normalize/__main__.py\", line 554, in main\n",
      "    ffmpeg_normalize.run_normalization()\n",
      "  File \"/usr/local/lib/python3.9/site-packages/ffmpeg_normalize/_ffmpeg_normalize.py\", line 205, in run_normalization\n",
      "    raise e\n",
      "  File \"/usr/local/lib/python3.9/site-packages/ffmpeg_normalize/_ffmpeg_normalize.py\", line 194, in run_normalization\n",
      "    media_file.run_normalization()\n",
      "  File \"/usr/local/lib/python3.9/site-packages/ffmpeg_normalize/_media_file.py\", line 165, in run_normalization\n",
      "    for _ in self._second_pass():\n",
      "  File \"/usr/local/lib/python3.9/site-packages/ffmpeg_normalize/_media_file.py\", line 381, in _second_pass\n",
      "    raise e\n",
      "  File \"/usr/local/lib/python3.9/site-packages/ffmpeg_normalize/_media_file.py\", line 370, in _second_pass\n",
      "    raise e\n",
      "  File \"/usr/local/lib/python3.9/site-packages/ffmpeg_normalize/_media_file.py\", line 362, in _second_pass\n",
      "    for progress in cmd_runner.run_ffmpeg_command():\n",
      "  File \"/usr/local/lib/python3.9/site-packages/ffmpeg_normalize/_cmd_utils.py\", line 78, in run_ffmpeg_command\n",
      "    for progress in ff.run_command_with_progress():\n",
      "  File \"/usr/local/lib/python3.9/site-packages/ffmpeg_progress_yield/ffmpeg_progress_yield.py\", line 107, in run_command_with_progress\n",
      "    raise RuntimeError(\n",
      "RuntimeError: Error running command ['/usr/local/bin/ffmpeg', '-y', '-nostdin', '-i', '/Volumes/LaCie/freesound-crawler/downloads/217436__unfa__hunger-noises-06.flac', '-filter_complex', '[0:0]loudnorm=i=-23.0:lra=7.0:tp=-2.0:offset=14.56:measured_i=-30.55:measured_lra=0.0:measured_tp=-9.11:measured_thresh=-42.41:linear=true:print_format=json[norm0]', '-map_metadata', '0', '-map_metadata:s:a:0', '0:s:a:0', '-map_chapters', '0', '-map', '[norm0]', '-c:a:0', 'pcm_s16le', '-c:s', 'copy', '/var/folders/94/c53y6yld37z20wdsvhhlk58c0000gn/T/bop_84t_.flac']: ffmpeg version 5.1.1 Copyright (c) 2000-2022 the FFmpeg developers\n",
      "built with Apple clang version 13.1.6 (clang-1316.0.21.2.5)\n",
      "configuration: --prefix=/usr/local/Cellar/ffmpeg/5.1.1-with-options --enable-shared --cc=clang --host-cflags= --host-ldflags= --enable-gpl --enable-libaom --enable-libdav1d --enable-libmp3lame --enable-libopus --enable-libsnappy --enable-libtheora --enable-libvorbis --enable-libvpx --enable-libx264 --enable-libx265 --enable-libfontconfig --enable-libfreetype --enable-frei0r --enable-libass --enable-demuxer=dash --enable-opencl --enable-audiotoolbox --enable-videotoolbox --disable-htmlpages --enable-libfdk-aac --enable-nonfree\n",
      "libavutil      57. 28.100 / 57. 28.100\n",
      "libavcodec     59. 37.100 / 59. 37.100\n",
      "libavformat    59. 27.100 / 59. 27.100\n",
      "libavdevice    59.  7.100 / 59.  7.100\n",
      "libavfilter     8. 44.100 /  8. 44.100\n",
      "libswscale      6.  7.100 /  6.  7.100\n",
      "libswresample   4.  7.100 /  4.  7.100\n",
      "libpostproc    56.  6.100 / 56.  6.100\n",
      "Input #0, flac, from '/Volumes/LaCie/freesound-crawler/downloads/217436__unfa__hunger-noises-06.flac':\n",
      "Metadata:\n",
      "track           : 6\n",
      "DATE            : 2014\n",
      "ARTIST          : unfa\n",
      "TITLE           : 6\n",
      "COMMENTS        : http://unfamusic.com/\n",
      "Duration: 00:00:01.50, start: 0.000000, bitrate: 1023 kb/s\n",
      "Stream #0:0: Audio: flac, 96000 Hz, stereo, s16\n",
      "Stream mapping:\n",
      "Stream #0:0 (flac) -> loudnorm:default\n",
      "loudnorm:default -> Stream #0:0 (pcm_s16le)\n",
      "[flac @ 0x7f7e1af08040] Invalid audio stream. Exactly one FLAC audio stream is required.\n",
      "Could not write header for output file #0 (incorrect codec parameters ?): Invalid argument\n",
      "Error initializing output stream 0:0 --\n",
      "[Parsed_loudnorm_0 @ 0x7f7e1bb04e00]\n",
      "{\n",
      "\"input_i\" : \"-inf\",\n",
      "\"input_tp\" : \"-inf\",\n",
      "\"input_lra\" : \"0.00\",\n",
      "\"input_thresh\" : \"-70.00\",\n",
      "\"output_i\" : \"-inf\",\n",
      "\"output_tp\" : \"-inf\",\n",
      "\"output_lra\" : \"0.00\",\n",
      "\"output_thresh\" : \"-70.00\",\n",
      "\"normalization_type\" : \"dynamic\",\n",
      "\"target_offset\" : \"inf\"\n",
      "}\n",
      "Conversion failed!\n"
     ]
    },
    {
     "name": "stdout",
     "output_type": "stream",
     "text": [
      "Command '['ffmpeg-normalize', '/Volumes/LaCie/freesound-crawler/downloads/217436__unfa__hunger-noises-06.flac', '-o', '/Users/andrusasumets/projects/experiments/pacemaker/processed/normalized/217436__unfa__hunger-noises-06.flac']' returned non-zero exit status 1.\n",
      "['ffmpeg-normalize', '/Volumes/LaCie/freesound-crawler/downloads/422343__soneproject__9.flac', '-o', '/Users/andrusasumets/projects/experiments/pacemaker/processed/normalized/422343__soneproject__9.flac']\n"
     ]
    },
    {
     "name": "stderr",
     "output_type": "stream",
     "text": [
      "\u001b[1;33m\u001b[1;33m\u001b[1;33m\u001b[1;33m\u001b[1;33m\u001b[1;33mWARNING\u001b[1;0m\u001b[1;0m\u001b[1;0m\u001b[1;0m\u001b[1;0m\u001b[1;0m: Audio stream has a duration of less than 3 seconds. Normalization may not work. See https://github.com/slhck/ffmpeg-normalize/issues/87 for more info.\n",
      "\u001b[1;31m\u001b[1;31m\u001b[1;31m\u001b[1;31m\u001b[1;31m\u001b[1;31mERROR\u001b[1;0m\u001b[1;0m\u001b[1;0m\u001b[1;0m\u001b[1;0m\u001b[1;0m: Error while running command /usr/local/bin/ffmpeg -y -nostdin -i /Volumes/LaCie/freesound-crawler/downloads/422343__soneproject__9.flac -filter_complex '[0:0]loudnorm=i=-23.0:lra=7.0:tp=-2.0:offset=-0.05:measured_i=-19.35:measured_lra=0.0:measured_tp=-1.0:measured_thresh=-32.33:linear=true:print_format=json[norm0]' -map_metadata 0 -map_metadata:s:a:0 0:s:a:0 -map_chapters 0 -map '[norm0]' -c:a:0 pcm_s16le -c:s copy /var/folders/94/c53y6yld37z20wdsvhhlk58c0000gn/T/ao5a_w4s.flac! Error: Error running command ['/usr/local/bin/ffmpeg', '-y', '-nostdin', '-i', '/Volumes/LaCie/freesound-crawler/downloads/422343__soneproject__9.flac', '-filter_complex', '[0:0]loudnorm=i=-23.0:lra=7.0:tp=-2.0:offset=-0.05:measured_i=-19.35:measured_lra=0.0:measured_tp=-1.0:measured_thresh=-32.33:linear=true:print_format=json[norm0]', '-map_metadata', '0', '-map_metadata:s:a:0', '0:s:a:0', '-map_chapters', '0', '-map', '[norm0]', '-c:a:0', 'pcm_s16le', '-c:s', 'copy', '/var/folders/94/c53y6yld37z20wdsvhhlk58c0000gn/T/ao5a_w4s.flac']: ffmpeg version 5.1.1 Copyright (c) 2000-2022 the FFmpeg developers\n",
      "built with Apple clang version 13.1.6 (clang-1316.0.21.2.5)\n",
      "configuration: --prefix=/usr/local/Cellar/ffmpeg/5.1.1-with-options --enable-shared --cc=clang --host-cflags= --host-ldflags= --enable-gpl --enable-libaom --enable-libdav1d --enable-libmp3lame --enable-libopus --enable-libsnappy --enable-libtheora --enable-libvorbis --enable-libvpx --enable-libx264 --enable-libx265 --enable-libfontconfig --enable-libfreetype --enable-frei0r --enable-libass --enable-demuxer=dash --enable-opencl --enable-audiotoolbox --enable-videotoolbox --disable-htmlpages --enable-libfdk-aac --enable-nonfree\n",
      "libavutil      57. 28.100 / 57. 28.100\n",
      "libavcodec     59. 37.100 / 59. 37.100\n",
      "libavformat    59. 27.100 / 59. 27.100\n",
      "libavdevice    59.  7.100 / 59.  7.100\n",
      "libavfilter     8. 44.100 /  8. 44.100\n",
      "libswscale      6.  7.100 /  6.  7.100\n",
      "libswresample   4.  7.100 /  4.  7.100\n",
      "libpostproc    56.  6.100 / 56.  6.100\n",
      "Input #0, flac, from '/Volumes/LaCie/freesound-crawler/downloads/422343__soneproject__9.flac':\n",
      "Metadata:\n",
      "Comment         : Processed by SoX\n",
      "Duration: 00:00:00.56, start: 0.000000, bitrate: 404 kb/s\n",
      "Stream #0:0: Audio: flac, 44100 Hz, stereo, s16\n",
      "Stream mapping:\n",
      "Stream #0:0 (flac) -> loudnorm:default\n",
      "loudnorm:default -> Stream #0:0 (pcm_s16le)\n",
      "[flac @ 0x7fca7bf08280] Invalid audio stream. Exactly one FLAC audio stream is required.\n",
      "Could not write header for output file #0 (incorrect codec parameters ?): Invalid argument\n",
      "Error initializing output stream 0:0 --\n",
      "[Parsed_loudnorm_0 @ 0x7fca7ca04d00]\n",
      "{\n",
      "\"input_i\" : \"-inf\",\n",
      "\"input_tp\" : \"-inf\",\n",
      "\"input_lra\" : \"0.00\",\n",
      "\"input_thresh\" : \"-70.00\",\n",
      "\"output_i\" : \"-inf\",\n",
      "\"output_tp\" : \"-inf\",\n",
      "\"output_lra\" : \"0.00\",\n",
      "\"output_thresh\" : \"-70.00\",\n",
      "\"normalization_type\" : \"dynamic\",\n",
      "\"target_offset\" : \"inf\"\n",
      "}\n",
      "Conversion failed!\n",
      "Traceback (most recent call last):\n",
      "  File \"/usr/local/bin/ffmpeg-normalize\", line 8, in <module>\n",
      "    sys.exit(main())\n",
      "  File \"/usr/local/lib/python3.9/site-packages/ffmpeg_normalize/__main__.py\", line 554, in main\n",
      "    ffmpeg_normalize.run_normalization()\n",
      "  File \"/usr/local/lib/python3.9/site-packages/ffmpeg_normalize/_ffmpeg_normalize.py\", line 205, in run_normalization\n",
      "    raise e\n",
      "  File \"/usr/local/lib/python3.9/site-packages/ffmpeg_normalize/_ffmpeg_normalize.py\", line 194, in run_normalization\n",
      "    media_file.run_normalization()\n",
      "  File \"/usr/local/lib/python3.9/site-packages/ffmpeg_normalize/_media_file.py\", line 165, in run_normalization\n",
      "    for _ in self._second_pass():\n",
      "  File \"/usr/local/lib/python3.9/site-packages/ffmpeg_normalize/_media_file.py\", line 381, in _second_pass\n",
      "    raise e\n",
      "  File \"/usr/local/lib/python3.9/site-packages/ffmpeg_normalize/_media_file.py\", line 370, in _second_pass\n",
      "    raise e\n",
      "  File \"/usr/local/lib/python3.9/site-packages/ffmpeg_normalize/_media_file.py\", line 362, in _second_pass\n",
      "    for progress in cmd_runner.run_ffmpeg_command():\n",
      "  File \"/usr/local/lib/python3.9/site-packages/ffmpeg_normalize/_cmd_utils.py\", line 78, in run_ffmpeg_command\n",
      "    for progress in ff.run_command_with_progress():\n",
      "  File \"/usr/local/lib/python3.9/site-packages/ffmpeg_progress_yield/ffmpeg_progress_yield.py\", line 107, in run_command_with_progress\n",
      "    raise RuntimeError(\n",
      "RuntimeError: Error running command ['/usr/local/bin/ffmpeg', '-y', '-nostdin', '-i', '/Volumes/LaCie/freesound-crawler/downloads/422343__soneproject__9.flac', '-filter_complex', '[0:0]loudnorm=i=-23.0:lra=7.0:tp=-2.0:offset=-0.05:measured_i=-19.35:measured_lra=0.0:measured_tp=-1.0:measured_thresh=-32.33:linear=true:print_format=json[norm0]', '-map_metadata', '0', '-map_metadata:s:a:0', '0:s:a:0', '-map_chapters', '0', '-map', '[norm0]', '-c:a:0', 'pcm_s16le', '-c:s', 'copy', '/var/folders/94/c53y6yld37z20wdsvhhlk58c0000gn/T/ao5a_w4s.flac']: ffmpeg version 5.1.1 Copyright (c) 2000-2022 the FFmpeg developers\n",
      "built with Apple clang version 13.1.6 (clang-1316.0.21.2.5)\n",
      "configuration: --prefix=/usr/local/Cellar/ffmpeg/5.1.1-with-options --enable-shared --cc=clang --host-cflags= --host-ldflags= --enable-gpl --enable-libaom --enable-libdav1d --enable-libmp3lame --enable-libopus --enable-libsnappy --enable-libtheora --enable-libvorbis --enable-libvpx --enable-libx264 --enable-libx265 --enable-libfontconfig --enable-libfreetype --enable-frei0r --enable-libass --enable-demuxer=dash --enable-opencl --enable-audiotoolbox --enable-videotoolbox --disable-htmlpages --enable-libfdk-aac --enable-nonfree\n",
      "libavutil      57. 28.100 / 57. 28.100\n",
      "libavcodec     59. 37.100 / 59. 37.100\n",
      "libavformat    59. 27.100 / 59. 27.100\n",
      "libavdevice    59.  7.100 / 59.  7.100\n",
      "libavfilter     8. 44.100 /  8. 44.100\n",
      "libswscale      6.  7.100 /  6.  7.100\n",
      "libswresample   4.  7.100 /  4.  7.100\n",
      "libpostproc    56.  6.100 / 56.  6.100\n",
      "Input #0, flac, from '/Volumes/LaCie/freesound-crawler/downloads/422343__soneproject__9.flac':\n",
      "Metadata:\n",
      "Comment         : Processed by SoX\n",
      "Duration: 00:00:00.56, start: 0.000000, bitrate: 404 kb/s\n",
      "Stream #0:0: Audio: flac, 44100 Hz, stereo, s16\n",
      "Stream mapping:\n",
      "Stream #0:0 (flac) -> loudnorm:default\n",
      "loudnorm:default -> Stream #0:0 (pcm_s16le)\n",
      "[flac @ 0x7fca7bf08280] Invalid audio stream. Exactly one FLAC audio stream is required.\n",
      "Could not write header for output file #0 (incorrect codec parameters ?): Invalid argument\n",
      "Error initializing output stream 0:0 --\n",
      "[Parsed_loudnorm_0 @ 0x7fca7ca04d00]\n",
      "{\n",
      "\"input_i\" : \"-inf\",\n",
      "\"input_tp\" : \"-inf\",\n",
      "\"input_lra\" : \"0.00\",\n",
      "\"input_thresh\" : \"-70.00\",\n",
      "\"output_i\" : \"-inf\",\n",
      "\"output_tp\" : \"-inf\",\n",
      "\"output_lra\" : \"0.00\",\n",
      "\"output_thresh\" : \"-70.00\",\n",
      "\"normalization_type\" : \"dynamic\",\n",
      "\"target_offset\" : \"inf\"\n",
      "}\n",
      "Conversion failed!\n"
     ]
    },
    {
     "name": "stdout",
     "output_type": "stream",
     "text": [
      "Command '['ffmpeg-normalize', '/Volumes/LaCie/freesound-crawler/downloads/422343__soneproject__9.flac', '-o', '/Users/andrusasumets/projects/experiments/pacemaker/processed/normalized/422343__soneproject__9.flac']' returned non-zero exit status 1.\n",
      "['ffmpeg-normalize', '/Volumes/LaCie/freesound-crawler/downloads/374065__samulis__trumpet-staccato-c6-sum-shtrumpet-stac-c5-v1-rr1.wav', '-o', '/Users/andrusasumets/projects/experiments/pacemaker/processed/normalized/374065__samulis__trumpet-staccato-c6-sum-shtrumpet-stac-c5-v1-rr1.wav']\n"
     ]
    },
    {
     "name": "stderr",
     "output_type": "stream",
     "text": [
      "\u001b[1;33m\u001b[1;33m\u001b[1;33m\u001b[1;33m\u001b[1;33m\u001b[1;33mWARNING\u001b[1;0m\u001b[1;0m\u001b[1;0m\u001b[1;0m\u001b[1;0m\u001b[1;0m: Audio stream has a duration of less than 3 seconds. Normalization may not work. See https://github.com/slhck/ffmpeg-normalize/issues/87 for more info.\n"
     ]
    },
    {
     "name": "stdout",
     "output_type": "stream",
     "text": [
      "['ffmpeg', '-loglevel', 'error', '-i', '/Users/andrusasumets/projects/experiments/pacemaker/processed/normalized/374065__samulis__trumpet-staccato-c6-sum-shtrumpet-stac-c5-v1-rr1.wav', '-acodec', 'pcm_s16le', '-ac', '1', '-ar', '100', '-threads', '6', '-y', '/Users/andrusasumets/projects/experiments/pacemaker/processed/wav/374065.wav']\n",
      "['ffmpeg', '-loglevel', 'error', '-i', '/Users/andrusasumets/projects/experiments/pacemaker/processed/normalized/374065__samulis__trumpet-staccato-c6-sum-shtrumpet-stac-c5-v1-rr1.wav', '-c:a', 'aac', '-ar', '44100', '-threads', '6', '-y', '/Users/andrusasumets/projects/experiments/pacemaker/processed/audio/374065.m4a']\n",
      "['ffmpeg-normalize', '/Volumes/LaCie/freesound-crawler/downloads/623934__strangehorizon__cheap-ukulele-a-4.wav', '-o', '/Users/andrusasumets/projects/experiments/pacemaker/processed/normalized/623934__strangehorizon__cheap-ukulele-a-4.wav']\n"
     ]
    },
    {
     "name": "stderr",
     "output_type": "stream",
     "text": [
      "\u001b[1;33m\u001b[1;33m\u001b[1;33m\u001b[1;33m\u001b[1;33m\u001b[1;33mWARNING\u001b[1;0m\u001b[1;0m\u001b[1;0m\u001b[1;0m\u001b[1;0m\u001b[1;0m: Audio stream has a duration of less than 3 seconds. Normalization may not work. See https://github.com/slhck/ffmpeg-normalize/issues/87 for more info.\n"
     ]
    },
    {
     "name": "stdout",
     "output_type": "stream",
     "text": [
      "['ffmpeg', '-loglevel', 'error', '-i', '/Users/andrusasumets/projects/experiments/pacemaker/processed/normalized/623934__strangehorizon__cheap-ukulele-a-4.wav', '-acodec', 'pcm_s16le', '-ac', '1', '-ar', '100', '-threads', '6', '-y', '/Users/andrusasumets/projects/experiments/pacemaker/processed/wav/623934.wav']\n",
      "['ffmpeg', '-loglevel', 'error', '-i', '/Users/andrusasumets/projects/experiments/pacemaker/processed/normalized/623934__strangehorizon__cheap-ukulele-a-4.wav', '-c:a', 'aac', '-ar', '44100', '-threads', '6', '-y', '/Users/andrusasumets/projects/experiments/pacemaker/processed/audio/623934.m4a']\n",
      "['ffmpeg-normalize', '/Volumes/LaCie/freesound-crawler/downloads/564731__sieuamthanh__hat-xi-2.wav', '-o', '/Users/andrusasumets/projects/experiments/pacemaker/processed/normalized/564731__sieuamthanh__hat-xi-2.wav']\n"
     ]
    },
    {
     "name": "stderr",
     "output_type": "stream",
     "text": [
      "\u001b[1;33m\u001b[1;33m\u001b[1;33m\u001b[1;33m\u001b[1;33m\u001b[1;33mWARNING\u001b[1;0m\u001b[1;0m\u001b[1;0m\u001b[1;0m\u001b[1;0m\u001b[1;0m: Audio stream has a duration of less than 3 seconds. Normalization may not work. See https://github.com/slhck/ffmpeg-normalize/issues/87 for more info.\n"
     ]
    },
    {
     "name": "stdout",
     "output_type": "stream",
     "text": [
      "['ffmpeg', '-loglevel', 'error', '-i', '/Users/andrusasumets/projects/experiments/pacemaker/processed/normalized/564731__sieuamthanh__hat-xi-2.wav', '-acodec', 'pcm_s16le', '-ac', '1', '-ar', '100', '-threads', '6', '-y', '/Users/andrusasumets/projects/experiments/pacemaker/processed/wav/564731.wav']\n",
      "['ffmpeg', '-loglevel', 'error', '-i', '/Users/andrusasumets/projects/experiments/pacemaker/processed/normalized/564731__sieuamthanh__hat-xi-2.wav', '-c:a', 'aac', '-ar', '44100', '-threads', '6', '-y', '/Users/andrusasumets/projects/experiments/pacemaker/processed/audio/564731.m4a']\n",
      "['ffmpeg-normalize', '/Volumes/LaCie/freesound-crawler/downloads/139582__gherat__button-master-006.aiff', '-o', '/Users/andrusasumets/projects/experiments/pacemaker/processed/normalized/139582__gherat__button-master-006.aiff']\n"
     ]
    },
    {
     "name": "stderr",
     "output_type": "stream",
     "text": [
      "\u001b[1;33m\u001b[1;33m\u001b[1;33m\u001b[1;33m\u001b[1;33m\u001b[1;33mWARNING\u001b[1;0m\u001b[1;0m\u001b[1;0m\u001b[1;0m\u001b[1;0m\u001b[1;0m: Audio stream has a duration of less than 3 seconds. Normalization may not work. See https://github.com/slhck/ffmpeg-normalize/issues/87 for more info.\n",
      "\u001b[1;31m\u001b[1;31m\u001b[1;31m\u001b[1;31m\u001b[1;31m\u001b[1;31mERROR\u001b[1;0m\u001b[1;0m\u001b[1;0m\u001b[1;0m\u001b[1;0m\u001b[1;0m: Error while running command /usr/local/bin/ffmpeg -y -nostdin -i /Volumes/LaCie/freesound-crawler/downloads/139582__gherat__button-master-006.aiff -filter_complex '[0:0]loudnorm=i=-23.0:lra=7.0:tp=-2.0:offset=0.0:measured_i=-99.0:measured_lra=0.0:measured_tp=-21.0:measured_thresh=-70.0:linear=true:print_format=json[norm0]' -map_metadata 0 -map_metadata:s:a:0 0:s:a:0 -map_chapters 0 -map '[norm0]' -c:a:0 pcm_s24le -c:s copy /var/folders/94/c53y6yld37z20wdsvhhlk58c0000gn/T/b67p6bh6.aiff! Error: Error running command ['/usr/local/bin/ffmpeg', '-y', '-nostdin', '-i', '/Volumes/LaCie/freesound-crawler/downloads/139582__gherat__button-master-006.aiff', '-filter_complex', '[0:0]loudnorm=i=-23.0:lra=7.0:tp=-2.0:offset=0.0:measured_i=-99.0:measured_lra=0.0:measured_tp=-21.0:measured_thresh=-70.0:linear=true:print_format=json[norm0]', '-map_metadata', '0', '-map_metadata:s:a:0', '0:s:a:0', '-map_chapters', '0', '-map', '[norm0]', '-c:a:0', 'pcm_s24le', '-c:s', 'copy', '/var/folders/94/c53y6yld37z20wdsvhhlk58c0000gn/T/b67p6bh6.aiff']: ffmpeg version 5.1.1 Copyright (c) 2000-2022 the FFmpeg developers\n",
      "built with Apple clang version 13.1.6 (clang-1316.0.21.2.5)\n",
      "configuration: --prefix=/usr/local/Cellar/ffmpeg/5.1.1-with-options --enable-shared --cc=clang --host-cflags= --host-ldflags= --enable-gpl --enable-libaom --enable-libdav1d --enable-libmp3lame --enable-libopus --enable-libsnappy --enable-libtheora --enable-libvorbis --enable-libvpx --enable-libx264 --enable-libx265 --enable-libfontconfig --enable-libfreetype --enable-frei0r --enable-libass --enable-demuxer=dash --enable-opencl --enable-audiotoolbox --enable-videotoolbox --disable-htmlpages --enable-libfdk-aac --enable-nonfree\n",
      "libavutil      57. 28.100 / 57. 28.100\n",
      "libavcodec     59. 37.100 / 59. 37.100\n",
      "libavformat    59. 27.100 / 59. 27.100\n",
      "libavdevice    59.  7.100 / 59.  7.100\n",
      "libavfilter     8. 44.100 /  8. 44.100\n",
      "libswscale      6.  7.100 /  6.  7.100\n",
      "libswresample   4.  7.100 /  4.  7.100\n",
      "libpostproc    56.  6.100 / 56.  6.100\n",
      "Guessed Channel Layout for Input Stream #0.0 : stereo\n",
      "Input #0, aiff, from '/Volumes/LaCie/freesound-crawler/downloads/139582__gherat__button-master-006.aiff':\n",
      "Duration: 00:00:00.02, start: 0.000000, bitrate: 2143 kb/s\n",
      "Stream #0:0: Audio: pcm_s24be, 44100 Hz, stereo, s32 (24 bit), 2116 kb/s\n",
      "Stream mapping:\n",
      "Stream #0:0 (pcm_s24be) -> loudnorm:default\n",
      "loudnorm:default -> Stream #0:0 (pcm_s24le)\n",
      "Could not write header for output file #0 (incorrect codec parameters ?): Invalid argument\n",
      "Error initializing output stream 0:0 --\n",
      "[Parsed_loudnorm_0 @ 0x7fa62bb04080]\n",
      "{\n",
      "\"input_i\" : \"-inf\",\n",
      "\"input_tp\" : \"-inf\",\n",
      "\"input_lra\" : \"0.00\",\n",
      "\"input_thresh\" : \"-70.00\",\n",
      "\"output_i\" : \"-inf\",\n",
      "\"output_tp\" : \"-inf\",\n",
      "\"output_lra\" : \"0.00\",\n",
      "\"output_thresh\" : \"-70.00\",\n",
      "\"normalization_type\" : \"dynamic\",\n",
      "\"target_offset\" : \"inf\"\n",
      "}\n",
      "Conversion failed!\n",
      "Traceback (most recent call last):\n",
      "  File \"/usr/local/bin/ffmpeg-normalize\", line 8, in <module>\n",
      "    sys.exit(main())\n",
      "  File \"/usr/local/lib/python3.9/site-packages/ffmpeg_normalize/__main__.py\", line 554, in main\n",
      "    ffmpeg_normalize.run_normalization()\n",
      "  File \"/usr/local/lib/python3.9/site-packages/ffmpeg_normalize/_ffmpeg_normalize.py\", line 205, in run_normalization\n",
      "    raise e\n",
      "  File \"/usr/local/lib/python3.9/site-packages/ffmpeg_normalize/_ffmpeg_normalize.py\", line 194, in run_normalization\n",
      "    media_file.run_normalization()\n",
      "  File \"/usr/local/lib/python3.9/site-packages/ffmpeg_normalize/_media_file.py\", line 165, in run_normalization\n",
      "    for _ in self._second_pass():\n",
      "  File \"/usr/local/lib/python3.9/site-packages/ffmpeg_normalize/_media_file.py\", line 381, in _second_pass\n",
      "    raise e\n",
      "  File \"/usr/local/lib/python3.9/site-packages/ffmpeg_normalize/_media_file.py\", line 370, in _second_pass\n",
      "    raise e\n",
      "  File \"/usr/local/lib/python3.9/site-packages/ffmpeg_normalize/_media_file.py\", line 362, in _second_pass\n",
      "    for progress in cmd_runner.run_ffmpeg_command():\n",
      "  File \"/usr/local/lib/python3.9/site-packages/ffmpeg_normalize/_cmd_utils.py\", line 78, in run_ffmpeg_command\n",
      "    for progress in ff.run_command_with_progress():\n",
      "  File \"/usr/local/lib/python3.9/site-packages/ffmpeg_progress_yield/ffmpeg_progress_yield.py\", line 107, in run_command_with_progress\n",
      "    raise RuntimeError(\n",
      "RuntimeError: Error running command ['/usr/local/bin/ffmpeg', '-y', '-nostdin', '-i', '/Volumes/LaCie/freesound-crawler/downloads/139582__gherat__button-master-006.aiff', '-filter_complex', '[0:0]loudnorm=i=-23.0:lra=7.0:tp=-2.0:offset=0.0:measured_i=-99.0:measured_lra=0.0:measured_tp=-21.0:measured_thresh=-70.0:linear=true:print_format=json[norm0]', '-map_metadata', '0', '-map_metadata:s:a:0', '0:s:a:0', '-map_chapters', '0', '-map', '[norm0]', '-c:a:0', 'pcm_s24le', '-c:s', 'copy', '/var/folders/94/c53y6yld37z20wdsvhhlk58c0000gn/T/b67p6bh6.aiff']: ffmpeg version 5.1.1 Copyright (c) 2000-2022 the FFmpeg developers\n",
      "built with Apple clang version 13.1.6 (clang-1316.0.21.2.5)\n",
      "configuration: --prefix=/usr/local/Cellar/ffmpeg/5.1.1-with-options --enable-shared --cc=clang --host-cflags= --host-ldflags= --enable-gpl --enable-libaom --enable-libdav1d --enable-libmp3lame --enable-libopus --enable-libsnappy --enable-libtheora --enable-libvorbis --enable-libvpx --enable-libx264 --enable-libx265 --enable-libfontconfig --enable-libfreetype --enable-frei0r --enable-libass --enable-demuxer=dash --enable-opencl --enable-audiotoolbox --enable-videotoolbox --disable-htmlpages --enable-libfdk-aac --enable-nonfree\n",
      "libavutil      57. 28.100 / 57. 28.100\n",
      "libavcodec     59. 37.100 / 59. 37.100\n",
      "libavformat    59. 27.100 / 59. 27.100\n",
      "libavdevice    59.  7.100 / 59.  7.100\n",
      "libavfilter     8. 44.100 /  8. 44.100\n",
      "libswscale      6.  7.100 /  6.  7.100\n",
      "libswresample   4.  7.100 /  4.  7.100\n",
      "libpostproc    56.  6.100 / 56.  6.100\n",
      "Guessed Channel Layout for Input Stream #0.0 : stereo\n",
      "Input #0, aiff, from '/Volumes/LaCie/freesound-crawler/downloads/139582__gherat__button-master-006.aiff':\n",
      "Duration: 00:00:00.02, start: 0.000000, bitrate: 2143 kb/s\n",
      "Stream #0:0: Audio: pcm_s24be, 44100 Hz, stereo, s32 (24 bit), 2116 kb/s\n",
      "Stream mapping:\n",
      "Stream #0:0 (pcm_s24be) -> loudnorm:default\n",
      "loudnorm:default -> Stream #0:0 (pcm_s24le)\n",
      "Could not write header for output file #0 (incorrect codec parameters ?): Invalid argument\n",
      "Error initializing output stream 0:0 --\n",
      "[Parsed_loudnorm_0 @ 0x7fa62bb04080]\n",
      "{\n",
      "\"input_i\" : \"-inf\",\n",
      "\"input_tp\" : \"-inf\",\n",
      "\"input_lra\" : \"0.00\",\n",
      "\"input_thresh\" : \"-70.00\",\n",
      "\"output_i\" : \"-inf\",\n",
      "\"output_tp\" : \"-inf\",\n",
      "\"output_lra\" : \"0.00\",\n",
      "\"output_thresh\" : \"-70.00\",\n",
      "\"normalization_type\" : \"dynamic\",\n",
      "\"target_offset\" : \"inf\"\n",
      "}\n",
      "Conversion failed!\n",
      "soxi FAIL formats: no handler for file extension `m4a'\n"
     ]
    },
    {
     "name": "stdout",
     "output_type": "stream",
     "text": [
      "Command '['ffmpeg-normalize', '/Volumes/LaCie/freesound-crawler/downloads/139582__gherat__button-master-006.aiff', '-o', '/Users/andrusasumets/projects/experiments/pacemaker/processed/normalized/139582__gherat__button-master-006.aiff']' returned non-zero exit status 1.\n",
      "['ffmpeg-normalize', '/Volumes/LaCie/freesound-crawler/downloads/374914__samulis__oldtrombone-f3-trombone-short-f3-v2-2.wav', '-o', '/Users/andrusasumets/projects/experiments/pacemaker/processed/normalized/374914__samulis__oldtrombone-f3-trombone-short-f3-v2-2.wav']\n"
     ]
    },
    {
     "name": "stderr",
     "output_type": "stream",
     "text": [
      "\u001b[1;33m\u001b[1;33m\u001b[1;33m\u001b[1;33m\u001b[1;33m\u001b[1;33mWARNING\u001b[1;0m\u001b[1;0m\u001b[1;0m\u001b[1;0m\u001b[1;0m\u001b[1;0m: Audio stream has a duration of less than 3 seconds. Normalization may not work. See https://github.com/slhck/ffmpeg-normalize/issues/87 for more info.\n"
     ]
    },
    {
     "name": "stdout",
     "output_type": "stream",
     "text": [
      "['ffmpeg', '-loglevel', 'error', '-i', '/Users/andrusasumets/projects/experiments/pacemaker/processed/normalized/374914__samulis__oldtrombone-f3-trombone-short-f3-v2-2.wav', '-acodec', 'pcm_s16le', '-ac', '1', '-ar', '100', '-threads', '6', '-y', '/Users/andrusasumets/projects/experiments/pacemaker/processed/wav/374914.wav']\n",
      "['ffmpeg', '-loglevel', 'error', '-i', '/Users/andrusasumets/projects/experiments/pacemaker/processed/normalized/374914__samulis__oldtrombone-f3-trombone-short-f3-v2-2.wav', '-c:a', 'aac', '-ar', '44100', '-threads', '6', '-y', '/Users/andrusasumets/projects/experiments/pacemaker/processed/audio/374914.m4a']\n",
      "['ffmpeg-normalize', '/Volumes/LaCie/freesound-crawler/downloads/13856__adcbicycle__4.wav', '-o', '/Users/andrusasumets/projects/experiments/pacemaker/processed/normalized/13856__adcbicycle__4.wav']\n"
     ]
    },
    {
     "name": "stderr",
     "output_type": "stream",
     "text": [
      "\u001b[1;33m\u001b[1;33m\u001b[1;33m\u001b[1;33m\u001b[1;33m\u001b[1;33mWARNING\u001b[1;0m\u001b[1;0m\u001b[1;0m\u001b[1;0m\u001b[1;0m\u001b[1;0m: Audio stream has a duration of less than 3 seconds. Normalization may not work. See https://github.com/slhck/ffmpeg-normalize/issues/87 for more info.\n"
     ]
    },
    {
     "name": "stdout",
     "output_type": "stream",
     "text": [
      "['ffmpeg', '-loglevel', 'error', '-i', '/Users/andrusasumets/projects/experiments/pacemaker/processed/normalized/13856__adcbicycle__4.wav', '-acodec', 'pcm_s16le', '-ac', '1', '-ar', '100', '-threads', '6', '-y', '/Users/andrusasumets/projects/experiments/pacemaker/processed/wav/13856.wav']\n",
      "['ffmpeg', '-loglevel', 'error', '-i', '/Users/andrusasumets/projects/experiments/pacemaker/processed/normalized/13856__adcbicycle__4.wav', '-c:a', 'aac', '-ar', '44100', '-threads', '6', '-y', '/Users/andrusasumets/projects/experiments/pacemaker/processed/audio/13856.m4a']\n",
      "['ffmpeg-normalize', '/Volumes/LaCie/freesound-crawler/downloads/578571__nomiqbomi__congrats-1.mp3', '-o', '/Users/andrusasumets/projects/experiments/pacemaker/processed/normalized/578571__nomiqbomi__congrats-1.mp3']\n"
     ]
    },
    {
     "name": "stderr",
     "output_type": "stream",
     "text": [
      "\u001b[1;31m\u001b[1;31m\u001b[1;31m\u001b[1;31m\u001b[1;31m\u001b[1;31mERROR\u001b[1;0m\u001b[1;0m\u001b[1;0m\u001b[1;0m\u001b[1;0m\u001b[1;0m: Output extension mp3 does not support PCM audio. Please choose a suitable audio codec with the -c:a option.\n",
      "\u001b[1;33m\u001b[1;33m\u001b[1;33m\u001b[1;33m\u001b[1;33m\u001b[1;33mWARNING\u001b[1;0m\u001b[1;0m\u001b[1;0m\u001b[1;0m\u001b[1;0m\u001b[1;0m: Audio stream has a duration of less than 3 seconds. Normalization may not work. See https://github.com/slhck/ffmpeg-normalize/issues/87 for more info.\n"
     ]
    },
    {
     "name": "stdout",
     "output_type": "stream",
     "text": [
      "Command '['ffmpeg-normalize', '/Volumes/LaCie/freesound-crawler/downloads/578571__nomiqbomi__congrats-1.mp3', '-o', '/Users/andrusasumets/projects/experiments/pacemaker/processed/normalized/578571__nomiqbomi__congrats-1.mp3']' returned non-zero exit status 1.\n",
      "['ffmpeg-normalize', '/Volumes/LaCie/freesound-crawler/downloads/388657__totalcult__fridge-back-03.wav', '-o', '/Users/andrusasumets/projects/experiments/pacemaker/processed/normalized/388657__totalcult__fridge-back-03.wav']\n",
      "['ffmpeg', '-loglevel', 'error', '-i', '/Users/andrusasumets/projects/experiments/pacemaker/processed/normalized/388657__totalcult__fridge-back-03.wav', '-acodec', 'pcm_s16le', '-ac', '1', '-ar', '100', '-threads', '6', '-y', '/Users/andrusasumets/projects/experiments/pacemaker/processed/wav/388657.wav']\n",
      "['ffmpeg', '-loglevel', 'error', '-i', '/Users/andrusasumets/projects/experiments/pacemaker/processed/normalized/388657__totalcult__fridge-back-03.wav', '-c:a', 'aac', '-ar', '44100', '-threads', '6', '-y', '/Users/andrusasumets/projects/experiments/pacemaker/processed/audio/388657.m4a']\n",
      "['ffmpeg-normalize', '/Volumes/LaCie/freesound-crawler/downloads/471658__puerta118m__harmonica-snatch.wav', '-o', '/Users/andrusasumets/projects/experiments/pacemaker/processed/normalized/471658__puerta118m__harmonica-snatch.wav']\n"
     ]
    },
    {
     "name": "stderr",
     "output_type": "stream",
     "text": [
      "\u001b[1;33m\u001b[1;33m\u001b[1;33m\u001b[1;33m\u001b[1;33m\u001b[1;33mWARNING\u001b[1;0m\u001b[1;0m\u001b[1;0m\u001b[1;0m\u001b[1;0m\u001b[1;0m: Audio stream has a duration of less than 3 seconds. Normalization may not work. See https://github.com/slhck/ffmpeg-normalize/issues/87 for more info.\n"
     ]
    },
    {
     "name": "stdout",
     "output_type": "stream",
     "text": [
      "['ffmpeg', '-loglevel', 'error', '-i', '/Users/andrusasumets/projects/experiments/pacemaker/processed/normalized/471658__puerta118m__harmonica-snatch.wav', '-acodec', 'pcm_s16le', '-ac', '1', '-ar', '100', '-threads', '6', '-y', '/Users/andrusasumets/projects/experiments/pacemaker/processed/wav/471658.wav']\n",
      "['ffmpeg', '-loglevel', 'error', '-i', '/Users/andrusasumets/projects/experiments/pacemaker/processed/normalized/471658__puerta118m__harmonica-snatch.wav', '-c:a', 'aac', '-ar', '44100', '-threads', '6', '-y', '/Users/andrusasumets/projects/experiments/pacemaker/processed/audio/471658.m4a']\n",
      "['ffmpeg-normalize', '/Volumes/LaCie/freesound-crawler/downloads/552991__joao-janz__large-xtrathin-soft-01-turn-13.wav', '-o', '/Users/andrusasumets/projects/experiments/pacemaker/processed/normalized/552991__joao-janz__large-xtrathin-soft-01-turn-13.wav']\n"
     ]
    },
    {
     "name": "stderr",
     "output_type": "stream",
     "text": [
      "\u001b[1;33m\u001b[1;33m\u001b[1;33m\u001b[1;33m\u001b[1;33m\u001b[1;33mWARNING\u001b[1;0m\u001b[1;0m\u001b[1;0m\u001b[1;0m\u001b[1;0m\u001b[1;0m: Audio stream has a duration of less than 3 seconds. Normalization may not work. See https://github.com/slhck/ffmpeg-normalize/issues/87 for more info.\n"
     ]
    },
    {
     "name": "stdout",
     "output_type": "stream",
     "text": [
      "['ffmpeg', '-loglevel', 'error', '-i', '/Users/andrusasumets/projects/experiments/pacemaker/processed/normalized/552991__joao-janz__large-xtrathin-soft-01-turn-13.wav', '-acodec', 'pcm_s16le', '-ac', '1', '-ar', '100', '-threads', '6', '-y', '/Users/andrusasumets/projects/experiments/pacemaker/processed/wav/552991.wav']\n",
      "['ffmpeg', '-loglevel', 'error', '-i', '/Users/andrusasumets/projects/experiments/pacemaker/processed/normalized/552991__joao-janz__large-xtrathin-soft-01-turn-13.wav', '-c:a', 'aac', '-ar', '44100', '-threads', '6', '-y', '/Users/andrusasumets/projects/experiments/pacemaker/processed/audio/552991.m4a']\n",
      "['ffmpeg-normalize', '/Volumes/LaCie/freesound-crawler/downloads/383633__pjcohen__standup-bass-effects-slap4.wav', '-o', '/Users/andrusasumets/projects/experiments/pacemaker/processed/normalized/383633__pjcohen__standup-bass-effects-slap4.wav']\n"
     ]
    },
    {
     "name": "stderr",
     "output_type": "stream",
     "text": [
      "\u001b[1;33m\u001b[1;33m\u001b[1;33m\u001b[1;33m\u001b[1;33m\u001b[1;33mWARNING\u001b[1;0m\u001b[1;0m\u001b[1;0m\u001b[1;0m\u001b[1;0m\u001b[1;0m: Audio stream has a duration of less than 3 seconds. Normalization may not work. See https://github.com/slhck/ffmpeg-normalize/issues/87 for more info.\n"
     ]
    },
    {
     "name": "stdout",
     "output_type": "stream",
     "text": [
      "['ffmpeg', '-loglevel', 'error', '-i', '/Users/andrusasumets/projects/experiments/pacemaker/processed/normalized/383633__pjcohen__standup-bass-effects-slap4.wav', '-acodec', 'pcm_s16le', '-ac', '1', '-ar', '100', '-threads', '6', '-y', '/Users/andrusasumets/projects/experiments/pacemaker/processed/wav/383633.wav']\n",
      "['ffmpeg', '-loglevel', 'error', '-i', '/Users/andrusasumets/projects/experiments/pacemaker/processed/normalized/383633__pjcohen__standup-bass-effects-slap4.wav', '-c:a', 'aac', '-ar', '44100', '-threads', '6', '-y', '/Users/andrusasumets/projects/experiments/pacemaker/processed/audio/383633.m4a']\n",
      "['ffmpeg-normalize', '/Volumes/LaCie/freesound-crawler/downloads/404758__owlstorm__retro-video-game-sfx-telephone-ring.wav', '-o', '/Users/andrusasumets/projects/experiments/pacemaker/processed/normalized/404758__owlstorm__retro-video-game-sfx-telephone-ring.wav']\n"
     ]
    },
    {
     "name": "stderr",
     "output_type": "stream",
     "text": [
      "\u001b[1;33m\u001b[1;33m\u001b[1;33m\u001b[1;33m\u001b[1;33m\u001b[1;33mWARNING\u001b[1;0m\u001b[1;0m\u001b[1;0m\u001b[1;0m\u001b[1;0m\u001b[1;0m: Audio stream has a duration of less than 3 seconds. Normalization may not work. See https://github.com/slhck/ffmpeg-normalize/issues/87 for more info.\n"
     ]
    },
    {
     "name": "stdout",
     "output_type": "stream",
     "text": [
      "['ffmpeg', '-loglevel', 'error', '-i', '/Users/andrusasumets/projects/experiments/pacemaker/processed/normalized/404758__owlstorm__retro-video-game-sfx-telephone-ring.wav', '-acodec', 'pcm_s16le', '-ac', '1', '-ar', '100', '-threads', '6', '-y', '/Users/andrusasumets/projects/experiments/pacemaker/processed/wav/404758.wav']\n",
      "['ffmpeg', '-loglevel', 'error', '-i', '/Users/andrusasumets/projects/experiments/pacemaker/processed/normalized/404758__owlstorm__retro-video-game-sfx-telephone-ring.wav', '-c:a', 'aac', '-ar', '44100', '-threads', '6', '-y', '/Users/andrusasumets/projects/experiments/pacemaker/processed/audio/404758.m4a']\n",
      "['ffmpeg-normalize', '/Volumes/LaCie/freesound-crawler/downloads/271748__deleted-user-2195044__kk-ug-c4.wav', '-o', '/Users/andrusasumets/projects/experiments/pacemaker/processed/normalized/271748__deleted-user-2195044__kk-ug-c4.wav']\n"
     ]
    },
    {
     "name": "stderr",
     "output_type": "stream",
     "text": [
      "\u001b[1;33m\u001b[1;33m\u001b[1;33m\u001b[1;33m\u001b[1;33m\u001b[1;33mWARNING\u001b[1;0m\u001b[1;0m\u001b[1;0m\u001b[1;0m\u001b[1;0m\u001b[1;0m: Audio stream has a duration of less than 3 seconds. Normalization may not work. See https://github.com/slhck/ffmpeg-normalize/issues/87 for more info.\n"
     ]
    },
    {
     "name": "stdout",
     "output_type": "stream",
     "text": [
      "['ffmpeg', '-loglevel', 'error', '-i', '/Users/andrusasumets/projects/experiments/pacemaker/processed/normalized/271748__deleted-user-2195044__kk-ug-c4.wav', '-acodec', 'pcm_s16le', '-ac', '1', '-ar', '100', '-threads', '6', '-y', '/Users/andrusasumets/projects/experiments/pacemaker/processed/wav/271748.wav']\n",
      "['ffmpeg', '-loglevel', 'error', '-i', '/Users/andrusasumets/projects/experiments/pacemaker/processed/normalized/271748__deleted-user-2195044__kk-ug-c4.wav', '-c:a', 'aac', '-ar', '44100', '-threads', '6', '-y', '/Users/andrusasumets/projects/experiments/pacemaker/processed/audio/271748.m4a']\n",
      "['ffmpeg-normalize', '/Volumes/LaCie/freesound-crawler/downloads/523059__magnuswaker__shell-bounce-1.wav', '-o', '/Users/andrusasumets/projects/experiments/pacemaker/processed/normalized/523059__magnuswaker__shell-bounce-1.wav']\n"
     ]
    },
    {
     "name": "stderr",
     "output_type": "stream",
     "text": [
      "\u001b[1;33m\u001b[1;33m\u001b[1;33m\u001b[1;33m\u001b[1;33m\u001b[1;33mWARNING\u001b[1;0m\u001b[1;0m\u001b[1;0m\u001b[1;0m\u001b[1;0m\u001b[1;0m: Audio stream has a duration of less than 3 seconds. Normalization may not work. See https://github.com/slhck/ffmpeg-normalize/issues/87 for more info.\n"
     ]
    },
    {
     "name": "stdout",
     "output_type": "stream",
     "text": [
      "['ffmpeg', '-loglevel', 'error', '-i', '/Users/andrusasumets/projects/experiments/pacemaker/processed/normalized/523059__magnuswaker__shell-bounce-1.wav', '-acodec', 'pcm_s16le', '-ac', '1', '-ar', '100', '-threads', '6', '-y', '/Users/andrusasumets/projects/experiments/pacemaker/processed/wav/523059.wav']\n",
      "['ffmpeg', '-loglevel', 'error', '-i', '/Users/andrusasumets/projects/experiments/pacemaker/processed/normalized/523059__magnuswaker__shell-bounce-1.wav', '-c:a', 'aac', '-ar', '44100', '-threads', '6', '-y', '/Users/andrusasumets/projects/experiments/pacemaker/processed/audio/523059.m4a']\n",
      "['ffmpeg-normalize', '/Volumes/LaCie/freesound-crawler/downloads/346706__deleted-user-2104797__button-01.wav', '-o', '/Users/andrusasumets/projects/experiments/pacemaker/processed/normalized/346706__deleted-user-2104797__button-01.wav']\n"
     ]
    },
    {
     "name": "stderr",
     "output_type": "stream",
     "text": [
      "\u001b[1;33m\u001b[1;33m\u001b[1;33m\u001b[1;33m\u001b[1;33m\u001b[1;33mWARNING\u001b[1;0m\u001b[1;0m\u001b[1;0m\u001b[1;0m\u001b[1;0m\u001b[1;0m: Audio stream has a duration of less than 3 seconds. Normalization may not work. See https://github.com/slhck/ffmpeg-normalize/issues/87 for more info.\n"
     ]
    },
    {
     "name": "stdout",
     "output_type": "stream",
     "text": [
      "['ffmpeg', '-loglevel', 'error', '-i', '/Users/andrusasumets/projects/experiments/pacemaker/processed/normalized/346706__deleted-user-2104797__button-01.wav', '-acodec', 'pcm_s16le', '-ac', '1', '-ar', '100', '-threads', '6', '-y', '/Users/andrusasumets/projects/experiments/pacemaker/processed/wav/346706.wav']\n",
      "['ffmpeg', '-loglevel', 'error', '-i', '/Users/andrusasumets/projects/experiments/pacemaker/processed/normalized/346706__deleted-user-2104797__button-01.wav', '-c:a', 'aac', '-ar', '44100', '-threads', '6', '-y', '/Users/andrusasumets/projects/experiments/pacemaker/processed/audio/346706.m4a']\n",
      "['ffmpeg-normalize', '/Volumes/LaCie/freesound-crawler/downloads/345066__metrostock99__car-door-closing-from-inside.wav', '-o', '/Users/andrusasumets/projects/experiments/pacemaker/processed/normalized/345066__metrostock99__car-door-closing-from-inside.wav']\n"
     ]
    },
    {
     "name": "stderr",
     "output_type": "stream",
     "text": [
      "\u001b[1;33m\u001b[1;33m\u001b[1;33m\u001b[1;33m\u001b[1;33m\u001b[1;33mWARNING\u001b[1;0m\u001b[1;0m\u001b[1;0m\u001b[1;0m\u001b[1;0m\u001b[1;0m: Audio stream has a duration of less than 3 seconds. Normalization may not work. See https://github.com/slhck/ffmpeg-normalize/issues/87 for more info.\n"
     ]
    },
    {
     "name": "stdout",
     "output_type": "stream",
     "text": [
      "['ffmpeg', '-loglevel', 'error', '-i', '/Users/andrusasumets/projects/experiments/pacemaker/processed/normalized/345066__metrostock99__car-door-closing-from-inside.wav', '-acodec', 'pcm_s16le', '-ac', '1', '-ar', '100', '-threads', '6', '-y', '/Users/andrusasumets/projects/experiments/pacemaker/processed/wav/345066.wav']\n",
      "['ffmpeg', '-loglevel', 'error', '-i', '/Users/andrusasumets/projects/experiments/pacemaker/processed/normalized/345066__metrostock99__car-door-closing-from-inside.wav', '-c:a', 'aac', '-ar', '44100', '-threads', '6', '-y', '/Users/andrusasumets/projects/experiments/pacemaker/processed/audio/345066.m4a']\n",
      "['ffmpeg-normalize', '/Volumes/LaCie/freesound-crawler/downloads/349792__kingsrow__bottlerocket05.wav', '-o', '/Users/andrusasumets/projects/experiments/pacemaker/processed/normalized/349792__kingsrow__bottlerocket05.wav']\n"
     ]
    },
    {
     "name": "stderr",
     "output_type": "stream",
     "text": [
      "\u001b[1;33m\u001b[1;33m\u001b[1;33m\u001b[1;33m\u001b[1;33m\u001b[1;33mWARNING\u001b[1;0m\u001b[1;0m\u001b[1;0m\u001b[1;0m\u001b[1;0m\u001b[1;0m: Audio stream has a duration of less than 3 seconds. Normalization may not work. See https://github.com/slhck/ffmpeg-normalize/issues/87 for more info.\n"
     ]
    },
    {
     "name": "stdout",
     "output_type": "stream",
     "text": [
      "['ffmpeg', '-loglevel', 'error', '-i', '/Users/andrusasumets/projects/experiments/pacemaker/processed/normalized/349792__kingsrow__bottlerocket05.wav', '-acodec', 'pcm_s16le', '-ac', '1', '-ar', '100', '-threads', '6', '-y', '/Users/andrusasumets/projects/experiments/pacemaker/processed/wav/349792.wav']\n",
      "['ffmpeg', '-loglevel', 'error', '-i', '/Users/andrusasumets/projects/experiments/pacemaker/processed/normalized/349792__kingsrow__bottlerocket05.wav', '-c:a', 'aac', '-ar', '44100', '-threads', '6', '-y', '/Users/andrusasumets/projects/experiments/pacemaker/processed/audio/349792.m4a']\n",
      "['ffmpeg-normalize', '/Volumes/LaCie/freesound-crawler/downloads/90813__byronbyron__project-samples-17-audio.wav', '-o', '/Users/andrusasumets/projects/experiments/pacemaker/processed/normalized/90813__byronbyron__project-samples-17-audio.wav']\n"
     ]
    },
    {
     "name": "stderr",
     "output_type": "stream",
     "text": [
      "\u001b[1;33m\u001b[1;33m\u001b[1;33m\u001b[1;33m\u001b[1;33m\u001b[1;33mWARNING\u001b[1;0m\u001b[1;0m\u001b[1;0m\u001b[1;0m\u001b[1;0m\u001b[1;0m: Audio stream has a duration of less than 3 seconds. Normalization may not work. See https://github.com/slhck/ffmpeg-normalize/issues/87 for more info.\n"
     ]
    },
    {
     "name": "stdout",
     "output_type": "stream",
     "text": [
      "['ffmpeg', '-loglevel', 'error', '-i', '/Users/andrusasumets/projects/experiments/pacemaker/processed/normalized/90813__byronbyron__project-samples-17-audio.wav', '-acodec', 'pcm_s16le', '-ac', '1', '-ar', '100', '-threads', '6', '-y', '/Users/andrusasumets/projects/experiments/pacemaker/processed/wav/90813.wav']\n",
      "['ffmpeg', '-loglevel', 'error', '-i', '/Users/andrusasumets/projects/experiments/pacemaker/processed/normalized/90813__byronbyron__project-samples-17-audio.wav', '-c:a', 'aac', '-ar', '44100', '-threads', '6', '-y', '/Users/andrusasumets/projects/experiments/pacemaker/processed/audio/90813.m4a']\n",
      "['ffmpeg-normalize', '/Volumes/LaCie/freesound-crawler/downloads/617965__strangehorizon__tts-1.wav', '-o', '/Users/andrusasumets/projects/experiments/pacemaker/processed/normalized/617965__strangehorizon__tts-1.wav']\n"
     ]
    },
    {
     "name": "stderr",
     "output_type": "stream",
     "text": [
      "\u001b[1;33m\u001b[1;33m\u001b[1;33m\u001b[1;33m\u001b[1;33m\u001b[1;33mWARNING\u001b[1;0m\u001b[1;0m\u001b[1;0m\u001b[1;0m\u001b[1;0m\u001b[1;0m: Audio stream has a duration of less than 3 seconds. Normalization may not work. See https://github.com/slhck/ffmpeg-normalize/issues/87 for more info.\n"
     ]
    },
    {
     "name": "stdout",
     "output_type": "stream",
     "text": [
      "['ffmpeg', '-loglevel', 'error', '-i', '/Users/andrusasumets/projects/experiments/pacemaker/processed/normalized/617965__strangehorizon__tts-1.wav', '-acodec', 'pcm_s16le', '-ac', '1', '-ar', '100', '-threads', '6', '-y', '/Users/andrusasumets/projects/experiments/pacemaker/processed/wav/617965.wav']\n",
      "['ffmpeg', '-loglevel', 'error', '-i', '/Users/andrusasumets/projects/experiments/pacemaker/processed/normalized/617965__strangehorizon__tts-1.wav', '-c:a', 'aac', '-ar', '44100', '-threads', '6', '-y', '/Users/andrusasumets/projects/experiments/pacemaker/processed/audio/617965.m4a']\n",
      "['ffmpeg-normalize', '/Volumes/LaCie/freesound-crawler/downloads/56209__ldk1609__violin-spiccato-d3.aiff', '-o', '/Users/andrusasumets/projects/experiments/pacemaker/processed/normalized/56209__ldk1609__violin-spiccato-d3.aiff']\n"
     ]
    },
    {
     "name": "stderr",
     "output_type": "stream",
     "text": [
      "\u001b[1;33m\u001b[1;33m\u001b[1;33m\u001b[1;33m\u001b[1;33m\u001b[1;33mWARNING\u001b[1;0m\u001b[1;0m\u001b[1;0m\u001b[1;0m\u001b[1;0m\u001b[1;0m: Audio stream has a duration of less than 3 seconds. Normalization may not work. See https://github.com/slhck/ffmpeg-normalize/issues/87 for more info.\n"
     ]
    },
    {
     "name": "stdout",
     "output_type": "stream",
     "text": [
      "['ffmpeg', '-loglevel', 'error', '-i', '/Users/andrusasumets/projects/experiments/pacemaker/processed/normalized/56209__ldk1609__violin-spiccato-d3.aiff', '-acodec', 'pcm_s16le', '-ac', '1', '-ar', '100', '-threads', '6', '-y', '/Users/andrusasumets/projects/experiments/pacemaker/processed/wav/56209.wav']\n",
      "['ffmpeg', '-loglevel', 'error', '-i', '/Users/andrusasumets/projects/experiments/pacemaker/processed/normalized/56209__ldk1609__violin-spiccato-d3.aiff', '-c:a', 'aac', '-ar', '44100', '-threads', '6', '-y', '/Users/andrusasumets/projects/experiments/pacemaker/processed/audio/56209.m4a']\n",
      "['ffmpeg-normalize', '/Volumes/LaCie/freesound-crawler/downloads/459223__soneproject__snare0dc5.flac', '-o', '/Users/andrusasumets/projects/experiments/pacemaker/processed/normalized/459223__soneproject__snare0dc5.flac']\n"
     ]
    },
    {
     "name": "stderr",
     "output_type": "stream",
     "text": [
      "\u001b[1;33m\u001b[1;33m\u001b[1;33m\u001b[1;33m\u001b[1;33m\u001b[1;33mWARNING\u001b[1;0m\u001b[1;0m\u001b[1;0m\u001b[1;0m\u001b[1;0m\u001b[1;0m: Audio stream has a duration of less than 3 seconds. Normalization may not work. See https://github.com/slhck/ffmpeg-normalize/issues/87 for more info.\n",
      "\u001b[1;31m\u001b[1;31m\u001b[1;31m\u001b[1;31m\u001b[1;31m\u001b[1;31mERROR\u001b[1;0m\u001b[1;0m\u001b[1;0m\u001b[1;0m\u001b[1;0m\u001b[1;0m: Error while running command /usr/local/bin/ffmpeg -y -nostdin -i /Volumes/LaCie/freesound-crawler/downloads/459223__soneproject__snare0dc5.flac -filter_complex '[0:0]loudnorm=i=-23.0:lra=7.0:tp=-2.0:offset=0.0:measured_i=-99.0:measured_lra=0.0:measured_tp=-11.5:measured_thresh=-70.0:linear=true:print_format=json[norm0]' -map_metadata 0 -map_metadata:s:a:0 0:s:a:0 -map_chapters 0 -map '[norm0]' -c:a:0 pcm_s32le -c:s copy /var/folders/94/c53y6yld37z20wdsvhhlk58c0000gn/T/q5p555d2.flac! Error: Error running command ['/usr/local/bin/ffmpeg', '-y', '-nostdin', '-i', '/Volumes/LaCie/freesound-crawler/downloads/459223__soneproject__snare0dc5.flac', '-filter_complex', '[0:0]loudnorm=i=-23.0:lra=7.0:tp=-2.0:offset=0.0:measured_i=-99.0:measured_lra=0.0:measured_tp=-11.5:measured_thresh=-70.0:linear=true:print_format=json[norm0]', '-map_metadata', '0', '-map_metadata:s:a:0', '0:s:a:0', '-map_chapters', '0', '-map', '[norm0]', '-c:a:0', 'pcm_s32le', '-c:s', 'copy', '/var/folders/94/c53y6yld37z20wdsvhhlk58c0000gn/T/q5p555d2.flac']: ffmpeg version 5.1.1 Copyright (c) 2000-2022 the FFmpeg developers\n",
      "built with Apple clang version 13.1.6 (clang-1316.0.21.2.5)\n",
      "configuration: --prefix=/usr/local/Cellar/ffmpeg/5.1.1-with-options --enable-shared --cc=clang --host-cflags= --host-ldflags= --enable-gpl --enable-libaom --enable-libdav1d --enable-libmp3lame --enable-libopus --enable-libsnappy --enable-libtheora --enable-libvorbis --enable-libvpx --enable-libx264 --enable-libx265 --enable-libfontconfig --enable-libfreetype --enable-frei0r --enable-libass --enable-demuxer=dash --enable-opencl --enable-audiotoolbox --enable-videotoolbox --disable-htmlpages --enable-libfdk-aac --enable-nonfree\n",
      "libavutil      57. 28.100 / 57. 28.100\n",
      "libavcodec     59. 37.100 / 59. 37.100\n",
      "libavformat    59. 27.100 / 59. 27.100\n",
      "libavdevice    59.  7.100 / 59.  7.100\n",
      "libavfilter     8. 44.100 /  8. 44.100\n",
      "libswscale      6.  7.100 /  6.  7.100\n",
      "libswresample   4.  7.100 /  4.  7.100\n",
      "libpostproc    56.  6.100 / 56.  6.100\n",
      "Input #0, flac, from '/Volumes/LaCie/freesound-crawler/downloads/459223__soneproject__snare0dc5.flac':\n",
      "Metadata:\n",
      "Comment         : Processed by SoX\n",
      "Duration: 00:00:00.27, start: 0.000000, bitrate: 1455 kb/s\n",
      "Stream #0:0: Audio: flac, 48000 Hz, stereo, s32 (24 bit)\n",
      "Stream mapping:\n",
      "Stream #0:0 (flac) -> loudnorm:default\n",
      "loudnorm:default -> Stream #0:0 (pcm_s32le)\n",
      "[flac @ 0x7fadaef07d00] Invalid audio stream. Exactly one FLAC audio stream is required.\n",
      "Could not write header for output file #0 (incorrect codec parameters ?): Invalid argument\n",
      "Error initializing output stream 0:0 --\n",
      "[Parsed_loudnorm_0 @ 0x7fadafa04a80]\n",
      "{\n",
      "\"input_i\" : \"-inf\",\n",
      "\"input_tp\" : \"-inf\",\n",
      "\"input_lra\" : \"0.00\",\n",
      "\"input_thresh\" : \"-70.00\",\n",
      "\"output_i\" : \"-inf\",\n",
      "\"output_tp\" : \"-inf\",\n",
      "\"output_lra\" : \"0.00\",\n",
      "\"output_thresh\" : \"-70.00\",\n",
      "\"normalization_type\" : \"dynamic\",\n",
      "\"target_offset\" : \"inf\"\n",
      "}\n",
      "Conversion failed!\n",
      "Traceback (most recent call last):\n",
      "  File \"/usr/local/bin/ffmpeg-normalize\", line 8, in <module>\n",
      "    sys.exit(main())\n",
      "  File \"/usr/local/lib/python3.9/site-packages/ffmpeg_normalize/__main__.py\", line 554, in main\n",
      "    ffmpeg_normalize.run_normalization()\n",
      "  File \"/usr/local/lib/python3.9/site-packages/ffmpeg_normalize/_ffmpeg_normalize.py\", line 205, in run_normalization\n",
      "    raise e\n",
      "  File \"/usr/local/lib/python3.9/site-packages/ffmpeg_normalize/_ffmpeg_normalize.py\", line 194, in run_normalization\n",
      "    media_file.run_normalization()\n",
      "  File \"/usr/local/lib/python3.9/site-packages/ffmpeg_normalize/_media_file.py\", line 165, in run_normalization\n",
      "    for _ in self._second_pass():\n",
      "  File \"/usr/local/lib/python3.9/site-packages/ffmpeg_normalize/_media_file.py\", line 381, in _second_pass\n",
      "    raise e\n",
      "  File \"/usr/local/lib/python3.9/site-packages/ffmpeg_normalize/_media_file.py\", line 370, in _second_pass\n",
      "    raise e\n",
      "  File \"/usr/local/lib/python3.9/site-packages/ffmpeg_normalize/_media_file.py\", line 362, in _second_pass\n",
      "    for progress in cmd_runner.run_ffmpeg_command():\n",
      "  File \"/usr/local/lib/python3.9/site-packages/ffmpeg_normalize/_cmd_utils.py\", line 78, in run_ffmpeg_command\n",
      "    for progress in ff.run_command_with_progress():\n",
      "  File \"/usr/local/lib/python3.9/site-packages/ffmpeg_progress_yield/ffmpeg_progress_yield.py\", line 107, in run_command_with_progress\n",
      "    raise RuntimeError(\n",
      "RuntimeError: Error running command ['/usr/local/bin/ffmpeg', '-y', '-nostdin', '-i', '/Volumes/LaCie/freesound-crawler/downloads/459223__soneproject__snare0dc5.flac', '-filter_complex', '[0:0]loudnorm=i=-23.0:lra=7.0:tp=-2.0:offset=0.0:measured_i=-99.0:measured_lra=0.0:measured_tp=-11.5:measured_thresh=-70.0:linear=true:print_format=json[norm0]', '-map_metadata', '0', '-map_metadata:s:a:0', '0:s:a:0', '-map_chapters', '0', '-map', '[norm0]', '-c:a:0', 'pcm_s32le', '-c:s', 'copy', '/var/folders/94/c53y6yld37z20wdsvhhlk58c0000gn/T/q5p555d2.flac']: ffmpeg version 5.1.1 Copyright (c) 2000-2022 the FFmpeg developers\n",
      "built with Apple clang version 13.1.6 (clang-1316.0.21.2.5)\n",
      "configuration: --prefix=/usr/local/Cellar/ffmpeg/5.1.1-with-options --enable-shared --cc=clang --host-cflags= --host-ldflags= --enable-gpl --enable-libaom --enable-libdav1d --enable-libmp3lame --enable-libopus --enable-libsnappy --enable-libtheora --enable-libvorbis --enable-libvpx --enable-libx264 --enable-libx265 --enable-libfontconfig --enable-libfreetype --enable-frei0r --enable-libass --enable-demuxer=dash --enable-opencl --enable-audiotoolbox --enable-videotoolbox --disable-htmlpages --enable-libfdk-aac --enable-nonfree\n",
      "libavutil      57. 28.100 / 57. 28.100\n",
      "libavcodec     59. 37.100 / 59. 37.100\n",
      "libavformat    59. 27.100 / 59. 27.100\n",
      "libavdevice    59.  7.100 / 59.  7.100\n",
      "libavfilter     8. 44.100 /  8. 44.100\n",
      "libswscale      6.  7.100 /  6.  7.100\n",
      "libswresample   4.  7.100 /  4.  7.100\n",
      "libpostproc    56.  6.100 / 56.  6.100\n",
      "Input #0, flac, from '/Volumes/LaCie/freesound-crawler/downloads/459223__soneproject__snare0dc5.flac':\n",
      "Metadata:\n",
      "Comment         : Processed by SoX\n",
      "Duration: 00:00:00.27, start: 0.000000, bitrate: 1455 kb/s\n",
      "Stream #0:0: Audio: flac, 48000 Hz, stereo, s32 (24 bit)\n",
      "Stream mapping:\n",
      "Stream #0:0 (flac) -> loudnorm:default\n",
      "loudnorm:default -> Stream #0:0 (pcm_s32le)\n",
      "[flac @ 0x7fadaef07d00] Invalid audio stream. Exactly one FLAC audio stream is required.\n",
      "Could not write header for output file #0 (incorrect codec parameters ?): Invalid argument\n",
      "Error initializing output stream 0:0 --\n",
      "[Parsed_loudnorm_0 @ 0x7fadafa04a80]\n",
      "{\n",
      "\"input_i\" : \"-inf\",\n",
      "\"input_tp\" : \"-inf\",\n",
      "\"input_lra\" : \"0.00\",\n",
      "\"input_thresh\" : \"-70.00\",\n",
      "\"output_i\" : \"-inf\",\n",
      "\"output_tp\" : \"-inf\",\n",
      "\"output_lra\" : \"0.00\",\n",
      "\"output_thresh\" : \"-70.00\",\n",
      "\"normalization_type\" : \"dynamic\",\n",
      "\"target_offset\" : \"inf\"\n",
      "}\n",
      "Conversion failed!\n"
     ]
    },
    {
     "name": "stdout",
     "output_type": "stream",
     "text": [
      "Command '['ffmpeg-normalize', '/Volumes/LaCie/freesound-crawler/downloads/459223__soneproject__snare0dc5.flac', '-o', '/Users/andrusasumets/projects/experiments/pacemaker/processed/normalized/459223__soneproject__snare0dc5.flac']' returned non-zero exit status 1.\n",
      "['ffmpeg-normalize', '/Volumes/LaCie/freesound-crawler/downloads/580383__rj13__d20-table1.mp3', '-o', '/Users/andrusasumets/projects/experiments/pacemaker/processed/normalized/580383__rj13__d20-table1.mp3']\n",
      "Command '['ffmpeg-normalize', '/Volumes/LaCie/freesound-crawler/downloads/580383__rj13__d20-table1.mp3', '-o', '/Users/andrusasumets/projects/experiments/pacemaker/processed/normalized/580383__rj13__d20-table1.mp3']' returned non-zero exit status 1.\n",
      "['ffmpeg-normalize', '/Volumes/LaCie/freesound-crawler/downloads/548069__basedmedia__foley-fx-35.wav', '-o', '/Users/andrusasumets/projects/experiments/pacemaker/processed/normalized/548069__basedmedia__foley-fx-35.wav']\n"
     ]
    },
    {
     "name": "stderr",
     "output_type": "stream",
     "text": [
      "\u001b[1;31m\u001b[1;31m\u001b[1;31m\u001b[1;31m\u001b[1;31m\u001b[1;31mERROR\u001b[1;0m\u001b[1;0m\u001b[1;0m\u001b[1;0m\u001b[1;0m\u001b[1;0m: Output extension mp3 does not support PCM audio. Please choose a suitable audio codec with the -c:a option.\n",
      "\u001b[1;33m\u001b[1;33m\u001b[1;33m\u001b[1;33m\u001b[1;33m\u001b[1;33mWARNING\u001b[1;0m\u001b[1;0m\u001b[1;0m\u001b[1;0m\u001b[1;0m\u001b[1;0m: Audio stream has a duration of less than 3 seconds. Normalization may not work. See https://github.com/slhck/ffmpeg-normalize/issues/87 for more info.\n"
     ]
    },
    {
     "name": "stdout",
     "output_type": "stream",
     "text": [
      "['ffmpeg', '-loglevel', 'error', '-i', '/Users/andrusasumets/projects/experiments/pacemaker/processed/normalized/548069__basedmedia__foley-fx-35.wav', '-acodec', 'pcm_s16le', '-ac', '1', '-ar', '100', '-threads', '6', '-y', '/Users/andrusasumets/projects/experiments/pacemaker/processed/wav/548069.wav']\n",
      "['ffmpeg', '-loglevel', 'error', '-i', '/Users/andrusasumets/projects/experiments/pacemaker/processed/normalized/548069__basedmedia__foley-fx-35.wav', '-c:a', 'aac', '-ar', '44100', '-threads', '6', '-y', '/Users/andrusasumets/projects/experiments/pacemaker/processed/audio/548069.m4a']\n",
      "['ffmpeg-normalize', '/Volumes/LaCie/freesound-crawler/downloads/186826__nickgoa__waterdrop-1a.wav', '-o', '/Users/andrusasumets/projects/experiments/pacemaker/processed/normalized/186826__nickgoa__waterdrop-1a.wav']\n"
     ]
    },
    {
     "name": "stderr",
     "output_type": "stream",
     "text": [
      "\u001b[1;33m\u001b[1;33m\u001b[1;33m\u001b[1;33m\u001b[1;33m\u001b[1;33mWARNING\u001b[1;0m\u001b[1;0m\u001b[1;0m\u001b[1;0m\u001b[1;0m\u001b[1;0m: Audio stream has a duration of less than 3 seconds. Normalization may not work. See https://github.com/slhck/ffmpeg-normalize/issues/87 for more info.\n"
     ]
    },
    {
     "name": "stdout",
     "output_type": "stream",
     "text": [
      "['ffmpeg', '-loglevel', 'error', '-i', '/Users/andrusasumets/projects/experiments/pacemaker/processed/normalized/186826__nickgoa__waterdrop-1a.wav', '-acodec', 'pcm_s16le', '-ac', '1', '-ar', '100', '-threads', '6', '-y', '/Users/andrusasumets/projects/experiments/pacemaker/processed/wav/186826.wav']\n",
      "['ffmpeg', '-loglevel', 'error', '-i', '/Users/andrusasumets/projects/experiments/pacemaker/processed/normalized/186826__nickgoa__waterdrop-1a.wav', '-c:a', 'aac', '-ar', '44100', '-threads', '6', '-y', '/Users/andrusasumets/projects/experiments/pacemaker/processed/audio/186826.m4a']\n",
      "['ffmpeg-normalize', '/Volumes/LaCie/freesound-crawler/downloads/401105__s-cheremisinov__click-01.wav', '-o', '/Users/andrusasumets/projects/experiments/pacemaker/processed/normalized/401105__s-cheremisinov__click-01.wav']\n"
     ]
    },
    {
     "name": "stderr",
     "output_type": "stream",
     "text": [
      "\u001b[1;33m\u001b[1;33m\u001b[1;33m\u001b[1;33m\u001b[1;33m\u001b[1;33mWARNING\u001b[1;0m\u001b[1;0m\u001b[1;0m\u001b[1;0m\u001b[1;0m\u001b[1;0m: Audio stream has a duration of less than 3 seconds. Normalization may not work. See https://github.com/slhck/ffmpeg-normalize/issues/87 for more info.\n"
     ]
    },
    {
     "name": "stdout",
     "output_type": "stream",
     "text": [
      "['ffmpeg', '-loglevel', 'error', '-i', '/Users/andrusasumets/projects/experiments/pacemaker/processed/normalized/401105__s-cheremisinov__click-01.wav', '-acodec', 'pcm_s16le', '-ac', '1', '-ar', '100', '-threads', '6', '-y', '/Users/andrusasumets/projects/experiments/pacemaker/processed/wav/401105.wav']\n",
      "['ffmpeg', '-loglevel', 'error', '-i', '/Users/andrusasumets/projects/experiments/pacemaker/processed/normalized/401105__s-cheremisinov__click-01.wav', '-c:a', 'aac', '-ar', '44100', '-threads', '6', '-y', '/Users/andrusasumets/projects/experiments/pacemaker/processed/audio/401105.m4a']\n",
      "['ffmpeg-normalize', '/Volumes/LaCie/freesound-crawler/downloads/373077__samulis__solo-contrabass-spiccato-f1-bkctbss-spic-f-0-v3-rr1.wav', '-o', '/Users/andrusasumets/projects/experiments/pacemaker/processed/normalized/373077__samulis__solo-contrabass-spiccato-f1-bkctbss-spic-f-0-v3-rr1.wav']\n"
     ]
    },
    {
     "name": "stderr",
     "output_type": "stream",
     "text": [
      "\u001b[1;33m\u001b[1;33m\u001b[1;33m\u001b[1;33m\u001b[1;33m\u001b[1;33mWARNING\u001b[1;0m\u001b[1;0m\u001b[1;0m\u001b[1;0m\u001b[1;0m\u001b[1;0m: Audio stream has a duration of less than 3 seconds. Normalization may not work. See https://github.com/slhck/ffmpeg-normalize/issues/87 for more info.\n"
     ]
    },
    {
     "name": "stdout",
     "output_type": "stream",
     "text": [
      "['ffmpeg', '-loglevel', 'error', '-i', '/Users/andrusasumets/projects/experiments/pacemaker/processed/normalized/373077__samulis__solo-contrabass-spiccato-f1-bkctbss-spic-f-0-v3-rr1.wav', '-acodec', 'pcm_s16le', '-ac', '1', '-ar', '100', '-threads', '6', '-y', '/Users/andrusasumets/projects/experiments/pacemaker/processed/wav/373077.wav']\n",
      "['ffmpeg', '-loglevel', 'error', '-i', '/Users/andrusasumets/projects/experiments/pacemaker/processed/normalized/373077__samulis__solo-contrabass-spiccato-f1-bkctbss-spic-f-0-v3-rr1.wav', '-c:a', 'aac', '-ar', '44100', '-threads', '6', '-y', '/Users/andrusasumets/projects/experiments/pacemaker/processed/audio/373077.m4a']\n",
      "['ffmpeg-normalize', '/Volumes/LaCie/freesound-crawler/downloads/243219__deleted-user-2195044__ju-sfx-05.wav', '-o', '/Users/andrusasumets/projects/experiments/pacemaker/processed/normalized/243219__deleted-user-2195044__ju-sfx-05.wav']\n"
     ]
    },
    {
     "name": "stderr",
     "output_type": "stream",
     "text": [
      "\u001b[1;33m\u001b[1;33m\u001b[1;33m\u001b[1;33m\u001b[1;33m\u001b[1;33mWARNING\u001b[1;0m\u001b[1;0m\u001b[1;0m\u001b[1;0m\u001b[1;0m\u001b[1;0m: Audio stream has a duration of less than 3 seconds. Normalization may not work. See https://github.com/slhck/ffmpeg-normalize/issues/87 for more info.\n"
     ]
    },
    {
     "name": "stdout",
     "output_type": "stream",
     "text": [
      "['ffmpeg', '-loglevel', 'error', '-i', '/Users/andrusasumets/projects/experiments/pacemaker/processed/normalized/243219__deleted-user-2195044__ju-sfx-05.wav', '-acodec', 'pcm_s16le', '-ac', '1', '-ar', '100', '-threads', '6', '-y', '/Users/andrusasumets/projects/experiments/pacemaker/processed/wav/243219.wav']\n",
      "['ffmpeg', '-loglevel', 'error', '-i', '/Users/andrusasumets/projects/experiments/pacemaker/processed/normalized/243219__deleted-user-2195044__ju-sfx-05.wav', '-c:a', 'aac', '-ar', '44100', '-threads', '6', '-y', '/Users/andrusasumets/projects/experiments/pacemaker/processed/audio/243219.m4a']\n",
      "['ffmpeg-normalize', '/Volumes/LaCie/freesound-crawler/downloads/164650__deleted-user-2104797__lock-rattle-2.wav', '-o', '/Users/andrusasumets/projects/experiments/pacemaker/processed/normalized/164650__deleted-user-2104797__lock-rattle-2.wav']\n"
     ]
    },
    {
     "name": "stderr",
     "output_type": "stream",
     "text": [
      "\u001b[1;33m\u001b[1;33m\u001b[1;33m\u001b[1;33m\u001b[1;33m\u001b[1;33mWARNING\u001b[1;0m\u001b[1;0m\u001b[1;0m\u001b[1;0m\u001b[1;0m\u001b[1;0m: Audio stream has a duration of less than 3 seconds. Normalization may not work. See https://github.com/slhck/ffmpeg-normalize/issues/87 for more info.\n"
     ]
    },
    {
     "name": "stdout",
     "output_type": "stream",
     "text": [
      "['ffmpeg', '-loglevel', 'error', '-i', '/Users/andrusasumets/projects/experiments/pacemaker/processed/normalized/164650__deleted-user-2104797__lock-rattle-2.wav', '-acodec', 'pcm_s16le', '-ac', '1', '-ar', '100', '-threads', '6', '-y', '/Users/andrusasumets/projects/experiments/pacemaker/processed/wav/164650.wav']\n",
      "['ffmpeg', '-loglevel', 'error', '-i', '/Users/andrusasumets/projects/experiments/pacemaker/processed/normalized/164650__deleted-user-2104797__lock-rattle-2.wav', '-c:a', 'aac', '-ar', '44100', '-threads', '6', '-y', '/Users/andrusasumets/projects/experiments/pacemaker/processed/audio/164650.m4a']\n",
      "['ffmpeg-normalize', '/Volumes/LaCie/freesound-crawler/downloads/405654__apinasaundi__found-cushion-2.wav', '-o', '/Users/andrusasumets/projects/experiments/pacemaker/processed/normalized/405654__apinasaundi__found-cushion-2.wav']\n"
     ]
    },
    {
     "name": "stderr",
     "output_type": "stream",
     "text": [
      "\u001b[1;33m\u001b[1;33m\u001b[1;33m\u001b[1;33m\u001b[1;33m\u001b[1;33mWARNING\u001b[1;0m\u001b[1;0m\u001b[1;0m\u001b[1;0m\u001b[1;0m\u001b[1;0m: Audio stream has a duration of less than 3 seconds. Normalization may not work. See https://github.com/slhck/ffmpeg-normalize/issues/87 for more info.\n"
     ]
    },
    {
     "name": "stdout",
     "output_type": "stream",
     "text": [
      "['ffmpeg', '-loglevel', 'error', '-i', '/Users/andrusasumets/projects/experiments/pacemaker/processed/normalized/405654__apinasaundi__found-cushion-2.wav', '-acodec', 'pcm_s16le', '-ac', '1', '-ar', '100', '-threads', '6', '-y', '/Users/andrusasumets/projects/experiments/pacemaker/processed/wav/405654.wav']\n",
      "['ffmpeg', '-loglevel', 'error', '-i', '/Users/andrusasumets/projects/experiments/pacemaker/processed/normalized/405654__apinasaundi__found-cushion-2.wav', '-c:a', 'aac', '-ar', '44100', '-threads', '6', '-y', '/Users/andrusasumets/projects/experiments/pacemaker/processed/audio/405654.m4a']\n",
      "['ffmpeg-normalize', '/Volumes/LaCie/freesound-crawler/downloads/128259__rebeat__breaking-big-dish.aiff', '-o', '/Users/andrusasumets/projects/experiments/pacemaker/processed/normalized/128259__rebeat__breaking-big-dish.aiff']\n"
     ]
    },
    {
     "name": "stderr",
     "output_type": "stream",
     "text": [
      "\u001b[1;33m\u001b[1;33m\u001b[1;33m\u001b[1;33m\u001b[1;33m\u001b[1;33mWARNING\u001b[1;0m\u001b[1;0m\u001b[1;0m\u001b[1;0m\u001b[1;0m\u001b[1;0m: Audio stream has a duration of less than 3 seconds. Normalization may not work. See https://github.com/slhck/ffmpeg-normalize/issues/87 for more info.\n",
      "\u001b[1;31m\u001b[1;31m\u001b[1;31m\u001b[1;31m\u001b[1;31m\u001b[1;31mERROR\u001b[1;0m\u001b[1;0m\u001b[1;0m\u001b[1;0m\u001b[1;0m\u001b[1;0m: Error while running command /usr/local/bin/ffmpeg -y -nostdin -i /Volumes/LaCie/freesound-crawler/downloads/128259__rebeat__breaking-big-dish.aiff -filter_complex '[0:0]loudnorm=i=-23.0:lra=7.0:tp=-2.0:offset=0.01:measured_i=-11.63:measured_lra=0.0:measured_tp=1.35:measured_thresh=-25.55:linear=true:print_format=json[norm0]' -map_metadata 0 -map_metadata:s:a:0 0:s:a:0 -map_chapters 0 -map '[norm0]' -c:a:0 pcm_s24le -c:s copy /var/folders/94/c53y6yld37z20wdsvhhlk58c0000gn/T/o3gop5id.aiff! Error: Error running command ['/usr/local/bin/ffmpeg', '-y', '-nostdin', '-i', '/Volumes/LaCie/freesound-crawler/downloads/128259__rebeat__breaking-big-dish.aiff', '-filter_complex', '[0:0]loudnorm=i=-23.0:lra=7.0:tp=-2.0:offset=0.01:measured_i=-11.63:measured_lra=0.0:measured_tp=1.35:measured_thresh=-25.55:linear=true:print_format=json[norm0]', '-map_metadata', '0', '-map_metadata:s:a:0', '0:s:a:0', '-map_chapters', '0', '-map', '[norm0]', '-c:a:0', 'pcm_s24le', '-c:s', 'copy', '/var/folders/94/c53y6yld37z20wdsvhhlk58c0000gn/T/o3gop5id.aiff']: ffmpeg version 5.1.1 Copyright (c) 2000-2022 the FFmpeg developers\n",
      "built with Apple clang version 13.1.6 (clang-1316.0.21.2.5)\n",
      "configuration: --prefix=/usr/local/Cellar/ffmpeg/5.1.1-with-options --enable-shared --cc=clang --host-cflags= --host-ldflags= --enable-gpl --enable-libaom --enable-libdav1d --enable-libmp3lame --enable-libopus --enable-libsnappy --enable-libtheora --enable-libvorbis --enable-libvpx --enable-libx264 --enable-libx265 --enable-libfontconfig --enable-libfreetype --enable-frei0r --enable-libass --enable-demuxer=dash --enable-opencl --enable-audiotoolbox --enable-videotoolbox --disable-htmlpages --enable-libfdk-aac --enable-nonfree\n",
      "libavutil      57. 28.100 / 57. 28.100\n",
      "libavcodec     59. 37.100 / 59. 37.100\n",
      "libavformat    59. 27.100 / 59. 27.100\n",
      "libavdevice    59.  7.100 / 59.  7.100\n",
      "libavfilter     8. 44.100 /  8. 44.100\n",
      "libswscale      6.  7.100 /  6.  7.100\n",
      "libswresample   4.  7.100 /  4.  7.100\n",
      "libpostproc    56.  6.100 / 56.  6.100\n",
      "Guessed Channel Layout for Input Stream #0.0 : mono\n",
      "Input #0, aiff, from '/Volumes/LaCie/freesound-crawler/downloads/128259__rebeat__breaking-big-dish.aiff':\n",
      "Duration: 00:00:01.37, start: 0.000000, bitrate: 1158 kb/s\n",
      "Stream #0:0: Audio: pcm_s24be, 48000 Hz, mono, s32 (24 bit), 1152 kb/s\n",
      "Stream mapping:\n",
      "Stream #0:0 (pcm_s24be) -> loudnorm:default\n",
      "loudnorm:default -> Stream #0:0 (pcm_s24le)\n",
      "Could not write header for output file #0 (incorrect codec parameters ?): Invalid argument\n",
      "Error initializing output stream 0:0 --\n",
      "[Parsed_loudnorm_0 @ 0x7fd120705180]\n",
      "{\n",
      "\"input_i\" : \"-inf\",\n",
      "\"input_tp\" : \"-inf\",\n",
      "\"input_lra\" : \"0.00\",\n",
      "\"input_thresh\" : \"-70.00\",\n",
      "\"output_i\" : \"-inf\",\n",
      "\"output_tp\" : \"-inf\",\n",
      "\"output_lra\" : \"0.00\",\n",
      "\"output_thresh\" : \"-70.00\",\n",
      "\"normalization_type\" : \"dynamic\",\n",
      "\"target_offset\" : \"inf\"\n",
      "}\n",
      "Conversion failed!\n",
      "Traceback (most recent call last):\n",
      "  File \"/usr/local/bin/ffmpeg-normalize\", line 8, in <module>\n",
      "    sys.exit(main())\n",
      "  File \"/usr/local/lib/python3.9/site-packages/ffmpeg_normalize/__main__.py\", line 554, in main\n",
      "    ffmpeg_normalize.run_normalization()\n",
      "  File \"/usr/local/lib/python3.9/site-packages/ffmpeg_normalize/_ffmpeg_normalize.py\", line 205, in run_normalization\n",
      "    raise e\n",
      "  File \"/usr/local/lib/python3.9/site-packages/ffmpeg_normalize/_ffmpeg_normalize.py\", line 194, in run_normalization\n",
      "    media_file.run_normalization()\n",
      "  File \"/usr/local/lib/python3.9/site-packages/ffmpeg_normalize/_media_file.py\", line 165, in run_normalization\n",
      "    for _ in self._second_pass():\n",
      "  File \"/usr/local/lib/python3.9/site-packages/ffmpeg_normalize/_media_file.py\", line 381, in _second_pass\n",
      "    raise e\n",
      "  File \"/usr/local/lib/python3.9/site-packages/ffmpeg_normalize/_media_file.py\", line 370, in _second_pass\n",
      "    raise e\n",
      "  File \"/usr/local/lib/python3.9/site-packages/ffmpeg_normalize/_media_file.py\", line 362, in _second_pass\n",
      "    for progress in cmd_runner.run_ffmpeg_command():\n",
      "  File \"/usr/local/lib/python3.9/site-packages/ffmpeg_normalize/_cmd_utils.py\", line 78, in run_ffmpeg_command\n",
      "    for progress in ff.run_command_with_progress():\n",
      "  File \"/usr/local/lib/python3.9/site-packages/ffmpeg_progress_yield/ffmpeg_progress_yield.py\", line 107, in run_command_with_progress\n",
      "    raise RuntimeError(\n",
      "RuntimeError: Error running command ['/usr/local/bin/ffmpeg', '-y', '-nostdin', '-i', '/Volumes/LaCie/freesound-crawler/downloads/128259__rebeat__breaking-big-dish.aiff', '-filter_complex', '[0:0]loudnorm=i=-23.0:lra=7.0:tp=-2.0:offset=0.01:measured_i=-11.63:measured_lra=0.0:measured_tp=1.35:measured_thresh=-25.55:linear=true:print_format=json[norm0]', '-map_metadata', '0', '-map_metadata:s:a:0', '0:s:a:0', '-map_chapters', '0', '-map', '[norm0]', '-c:a:0', 'pcm_s24le', '-c:s', 'copy', '/var/folders/94/c53y6yld37z20wdsvhhlk58c0000gn/T/o3gop5id.aiff']: ffmpeg version 5.1.1 Copyright (c) 2000-2022 the FFmpeg developers\n",
      "built with Apple clang version 13.1.6 (clang-1316.0.21.2.5)\n",
      "configuration: --prefix=/usr/local/Cellar/ffmpeg/5.1.1-with-options --enable-shared --cc=clang --host-cflags= --host-ldflags= --enable-gpl --enable-libaom --enable-libdav1d --enable-libmp3lame --enable-libopus --enable-libsnappy --enable-libtheora --enable-libvorbis --enable-libvpx --enable-libx264 --enable-libx265 --enable-libfontconfig --enable-libfreetype --enable-frei0r --enable-libass --enable-demuxer=dash --enable-opencl --enable-audiotoolbox --enable-videotoolbox --disable-htmlpages --enable-libfdk-aac --enable-nonfree\n",
      "libavutil      57. 28.100 / 57. 28.100\n",
      "libavcodec     59. 37.100 / 59. 37.100\n",
      "libavformat    59. 27.100 / 59. 27.100\n",
      "libavdevice    59.  7.100 / 59.  7.100\n",
      "libavfilter     8. 44.100 /  8. 44.100\n",
      "libswscale      6.  7.100 /  6.  7.100\n",
      "libswresample   4.  7.100 /  4.  7.100\n",
      "libpostproc    56.  6.100 / 56.  6.100\n",
      "Guessed Channel Layout for Input Stream #0.0 : mono\n",
      "Input #0, aiff, from '/Volumes/LaCie/freesound-crawler/downloads/128259__rebeat__breaking-big-dish.aiff':\n",
      "Duration: 00:00:01.37, start: 0.000000, bitrate: 1158 kb/s\n",
      "Stream #0:0: Audio: pcm_s24be, 48000 Hz, mono, s32 (24 bit), 1152 kb/s\n",
      "Stream mapping:\n",
      "Stream #0:0 (pcm_s24be) -> loudnorm:default\n",
      "loudnorm:default -> Stream #0:0 (pcm_s24le)\n",
      "Could not write header for output file #0 (incorrect codec parameters ?): Invalid argument\n",
      "Error initializing output stream 0:0 --\n",
      "[Parsed_loudnorm_0 @ 0x7fd120705180]\n",
      "{\n",
      "\"input_i\" : \"-inf\",\n",
      "\"input_tp\" : \"-inf\",\n",
      "\"input_lra\" : \"0.00\",\n",
      "\"input_thresh\" : \"-70.00\",\n",
      "\"output_i\" : \"-inf\",\n",
      "\"output_tp\" : \"-inf\",\n",
      "\"output_lra\" : \"0.00\",\n",
      "\"output_thresh\" : \"-70.00\",\n",
      "\"normalization_type\" : \"dynamic\",\n",
      "\"target_offset\" : \"inf\"\n",
      "}\n",
      "Conversion failed!\n"
     ]
    },
    {
     "name": "stdout",
     "output_type": "stream",
     "text": [
      "Command '['ffmpeg-normalize', '/Volumes/LaCie/freesound-crawler/downloads/128259__rebeat__breaking-big-dish.aiff', '-o', '/Users/andrusasumets/projects/experiments/pacemaker/processed/normalized/128259__rebeat__breaking-big-dish.aiff']' returned non-zero exit status 1.\n",
      "['ffmpeg-normalize', '/Volumes/LaCie/freesound-crawler/downloads/183332__unfa__beatbox-shaker-take-5.flac', '-o', '/Users/andrusasumets/projects/experiments/pacemaker/processed/normalized/183332__unfa__beatbox-shaker-take-5.flac']\n"
     ]
    },
    {
     "name": "stderr",
     "output_type": "stream",
     "text": [
      "\u001b[1;33m\u001b[1;33m\u001b[1;33m\u001b[1;33m\u001b[1;33m\u001b[1;33mWARNING\u001b[1;0m\u001b[1;0m\u001b[1;0m\u001b[1;0m\u001b[1;0m\u001b[1;0m: Audio stream has a duration of less than 3 seconds. Normalization may not work. See https://github.com/slhck/ffmpeg-normalize/issues/87 for more info.\n",
      "\u001b[1;31m\u001b[1;31m\u001b[1;31m\u001b[1;31m\u001b[1;31m\u001b[1;31mERROR\u001b[1;0m\u001b[1;0m\u001b[1;0m\u001b[1;0m\u001b[1;0m\u001b[1;0m: Error while running command /usr/local/bin/ffmpeg -y -nostdin -i /Volumes/LaCie/freesound-crawler/downloads/183332__unfa__beatbox-shaker-take-5.flac -filter_complex '[0:0]loudnorm=i=-23.0:lra=7.0:tp=-2.0:offset=0.0:measured_i=-99.0:measured_lra=0.0:measured_tp=-38.31:measured_thresh=-70.0:linear=true:print_format=json[norm0]' -map_metadata 0 -map_metadata:s:a:0 0:s:a:0 -map_chapters 0 -map '[norm0]' -c:a:0 pcm_s32le -c:s copy /var/folders/94/c53y6yld37z20wdsvhhlk58c0000gn/T/n_zzdwqz.flac! Error: Error running command ['/usr/local/bin/ffmpeg', '-y', '-nostdin', '-i', '/Volumes/LaCie/freesound-crawler/downloads/183332__unfa__beatbox-shaker-take-5.flac', '-filter_complex', '[0:0]loudnorm=i=-23.0:lra=7.0:tp=-2.0:offset=0.0:measured_i=-99.0:measured_lra=0.0:measured_tp=-38.31:measured_thresh=-70.0:linear=true:print_format=json[norm0]', '-map_metadata', '0', '-map_metadata:s:a:0', '0:s:a:0', '-map_chapters', '0', '-map', '[norm0]', '-c:a:0', 'pcm_s32le', '-c:s', 'copy', '/var/folders/94/c53y6yld37z20wdsvhhlk58c0000gn/T/n_zzdwqz.flac']: ffmpeg version 5.1.1 Copyright (c) 2000-2022 the FFmpeg developers\n",
      "built with Apple clang version 13.1.6 (clang-1316.0.21.2.5)\n",
      "configuration: --prefix=/usr/local/Cellar/ffmpeg/5.1.1-with-options --enable-shared --cc=clang --host-cflags= --host-ldflags= --enable-gpl --enable-libaom --enable-libdav1d --enable-libmp3lame --enable-libopus --enable-libsnappy --enable-libtheora --enable-libvorbis --enable-libvpx --enable-libx264 --enable-libx265 --enable-libfontconfig --enable-libfreetype --enable-frei0r --enable-libass --enable-demuxer=dash --enable-opencl --enable-audiotoolbox --enable-videotoolbox --disable-htmlpages --enable-libfdk-aac --enable-nonfree\n",
      "libavutil      57. 28.100 / 57. 28.100\n",
      "libavcodec     59. 37.100 / 59. 37.100\n",
      "libavformat    59. 27.100 / 59. 27.100\n",
      "libavdevice    59.  7.100 / 59.  7.100\n",
      "libavfilter     8. 44.100 /  8. 44.100\n",
      "libswscale      6.  7.100 /  6.  7.100\n",
      "libswresample   4.  7.100 /  4.  7.100\n",
      "libpostproc    56.  6.100 / 56.  6.100\n",
      "Input #0, flac, from '/Volumes/LaCie/freesound-crawler/downloads/183332__unfa__beatbox-shaker-take-5.flac':\n",
      "Duration: 00:00:00.28, start: 0.000000, bitrate: 2010 kb/s\n",
      "Stream #0:0: Audio: flac, 96000 Hz, stereo, s32 (24 bit)\n",
      "Stream mapping:\n",
      "Stream #0:0 (flac) -> loudnorm:default\n",
      "loudnorm:default -> Stream #0:0 (pcm_s32le)\n",
      "[flac @ 0x7fc261006c40] Invalid audio stream. Exactly one FLAC audio stream is required.\n",
      "Could not write header for output file #0 (incorrect codec parameters ?): Invalid argument\n",
      "Error initializing output stream 0:0 --\n",
      "[Parsed_loudnorm_0 @ 0x7fc261304940]\n",
      "{\n",
      "\"input_i\" : \"-inf\",\n",
      "\"input_tp\" : \"-inf\",\n",
      "\"input_lra\" : \"0.00\",\n",
      "\"input_thresh\" : \"-70.00\",\n",
      "\"output_i\" : \"-inf\",\n",
      "\"output_tp\" : \"-inf\",\n",
      "\"output_lra\" : \"0.00\",\n",
      "\"output_thresh\" : \"-70.00\",\n",
      "\"normalization_type\" : \"dynamic\",\n",
      "\"target_offset\" : \"inf\"\n",
      "}\n",
      "Conversion failed!\n",
      "Traceback (most recent call last):\n",
      "  File \"/usr/local/bin/ffmpeg-normalize\", line 8, in <module>\n",
      "    sys.exit(main())\n",
      "  File \"/usr/local/lib/python3.9/site-packages/ffmpeg_normalize/__main__.py\", line 554, in main\n",
      "    ffmpeg_normalize.run_normalization()\n",
      "  File \"/usr/local/lib/python3.9/site-packages/ffmpeg_normalize/_ffmpeg_normalize.py\", line 205, in run_normalization\n",
      "    raise e\n",
      "  File \"/usr/local/lib/python3.9/site-packages/ffmpeg_normalize/_ffmpeg_normalize.py\", line 194, in run_normalization\n",
      "    media_file.run_normalization()\n",
      "  File \"/usr/local/lib/python3.9/site-packages/ffmpeg_normalize/_media_file.py\", line 165, in run_normalization\n",
      "    for _ in self._second_pass():\n",
      "  File \"/usr/local/lib/python3.9/site-packages/ffmpeg_normalize/_media_file.py\", line 381, in _second_pass\n",
      "    raise e\n",
      "  File \"/usr/local/lib/python3.9/site-packages/ffmpeg_normalize/_media_file.py\", line 370, in _second_pass\n",
      "    raise e\n",
      "  File \"/usr/local/lib/python3.9/site-packages/ffmpeg_normalize/_media_file.py\", line 362, in _second_pass\n",
      "    for progress in cmd_runner.run_ffmpeg_command():\n",
      "  File \"/usr/local/lib/python3.9/site-packages/ffmpeg_normalize/_cmd_utils.py\", line 78, in run_ffmpeg_command\n",
      "    for progress in ff.run_command_with_progress():\n",
      "  File \"/usr/local/lib/python3.9/site-packages/ffmpeg_progress_yield/ffmpeg_progress_yield.py\", line 107, in run_command_with_progress\n",
      "    raise RuntimeError(\n",
      "RuntimeError: Error running command ['/usr/local/bin/ffmpeg', '-y', '-nostdin', '-i', '/Volumes/LaCie/freesound-crawler/downloads/183332__unfa__beatbox-shaker-take-5.flac', '-filter_complex', '[0:0]loudnorm=i=-23.0:lra=7.0:tp=-2.0:offset=0.0:measured_i=-99.0:measured_lra=0.0:measured_tp=-38.31:measured_thresh=-70.0:linear=true:print_format=json[norm0]', '-map_metadata', '0', '-map_metadata:s:a:0', '0:s:a:0', '-map_chapters', '0', '-map', '[norm0]', '-c:a:0', 'pcm_s32le', '-c:s', 'copy', '/var/folders/94/c53y6yld37z20wdsvhhlk58c0000gn/T/n_zzdwqz.flac']: ffmpeg version 5.1.1 Copyright (c) 2000-2022 the FFmpeg developers\n",
      "built with Apple clang version 13.1.6 (clang-1316.0.21.2.5)\n",
      "configuration: --prefix=/usr/local/Cellar/ffmpeg/5.1.1-with-options --enable-shared --cc=clang --host-cflags= --host-ldflags= --enable-gpl --enable-libaom --enable-libdav1d --enable-libmp3lame --enable-libopus --enable-libsnappy --enable-libtheora --enable-libvorbis --enable-libvpx --enable-libx264 --enable-libx265 --enable-libfontconfig --enable-libfreetype --enable-frei0r --enable-libass --enable-demuxer=dash --enable-opencl --enable-audiotoolbox --enable-videotoolbox --disable-htmlpages --enable-libfdk-aac --enable-nonfree\n",
      "libavutil      57. 28.100 / 57. 28.100\n",
      "libavcodec     59. 37.100 / 59. 37.100\n",
      "libavformat    59. 27.100 / 59. 27.100\n",
      "libavdevice    59.  7.100 / 59.  7.100\n",
      "libavfilter     8. 44.100 /  8. 44.100\n",
      "libswscale      6.  7.100 /  6.  7.100\n",
      "libswresample   4.  7.100 /  4.  7.100\n",
      "libpostproc    56.  6.100 / 56.  6.100\n",
      "Input #0, flac, from '/Volumes/LaCie/freesound-crawler/downloads/183332__unfa__beatbox-shaker-take-5.flac':\n",
      "Duration: 00:00:00.28, start: 0.000000, bitrate: 2010 kb/s\n",
      "Stream #0:0: Audio: flac, 96000 Hz, stereo, s32 (24 bit)\n",
      "Stream mapping:\n",
      "Stream #0:0 (flac) -> loudnorm:default\n",
      "loudnorm:default -> Stream #0:0 (pcm_s32le)\n",
      "[flac @ 0x7fc261006c40] Invalid audio stream. Exactly one FLAC audio stream is required.\n",
      "Could not write header for output file #0 (incorrect codec parameters ?): Invalid argument\n",
      "Error initializing output stream 0:0 --\n",
      "[Parsed_loudnorm_0 @ 0x7fc261304940]\n",
      "{\n",
      "\"input_i\" : \"-inf\",\n",
      "\"input_tp\" : \"-inf\",\n",
      "\"input_lra\" : \"0.00\",\n",
      "\"input_thresh\" : \"-70.00\",\n",
      "\"output_i\" : \"-inf\",\n",
      "\"output_tp\" : \"-inf\",\n",
      "\"output_lra\" : \"0.00\",\n",
      "\"output_thresh\" : \"-70.00\",\n",
      "\"normalization_type\" : \"dynamic\",\n",
      "\"target_offset\" : \"inf\"\n",
      "}\n",
      "Conversion failed!\n"
     ]
    },
    {
     "name": "stdout",
     "output_type": "stream",
     "text": [
      "Command '['ffmpeg-normalize', '/Volumes/LaCie/freesound-crawler/downloads/183332__unfa__beatbox-shaker-take-5.flac', '-o', '/Users/andrusasumets/projects/experiments/pacemaker/processed/normalized/183332__unfa__beatbox-shaker-take-5.flac']' returned non-zero exit status 1.\n",
      "['ffmpeg-normalize', '/Volumes/LaCie/freesound-crawler/downloads/166956__jamesabels__multiple-drips-001.wav', '-o', '/Users/andrusasumets/projects/experiments/pacemaker/processed/normalized/166956__jamesabels__multiple-drips-001.wav']\n"
     ]
    },
    {
     "name": "stderr",
     "output_type": "stream",
     "text": [
      "\u001b[1;33m\u001b[1;33m\u001b[1;33m\u001b[1;33m\u001b[1;33m\u001b[1;33mWARNING\u001b[1;0m\u001b[1;0m\u001b[1;0m\u001b[1;0m\u001b[1;0m\u001b[1;0m: Audio stream has a duration of less than 3 seconds. Normalization may not work. See https://github.com/slhck/ffmpeg-normalize/issues/87 for more info.\n"
     ]
    },
    {
     "name": "stdout",
     "output_type": "stream",
     "text": [
      "['ffmpeg', '-loglevel', 'error', '-i', '/Users/andrusasumets/projects/experiments/pacemaker/processed/normalized/166956__jamesabels__multiple-drips-001.wav', '-acodec', 'pcm_s16le', '-ac', '1', '-ar', '100', '-threads', '6', '-y', '/Users/andrusasumets/projects/experiments/pacemaker/processed/wav/166956.wav']\n",
      "['ffmpeg', '-loglevel', 'error', '-i', '/Users/andrusasumets/projects/experiments/pacemaker/processed/normalized/166956__jamesabels__multiple-drips-001.wav', '-c:a', 'aac', '-ar', '44100', '-threads', '6', '-y', '/Users/andrusasumets/projects/experiments/pacemaker/processed/audio/166956.m4a']\n",
      "['ffmpeg-normalize', '/Volumes/LaCie/freesound-crawler/downloads/264555__zgump__synths-01-01.wav', '-o', '/Users/andrusasumets/projects/experiments/pacemaker/processed/normalized/264555__zgump__synths-01-01.wav']\n"
     ]
    },
    {
     "name": "stderr",
     "output_type": "stream",
     "text": [
      "\u001b[1;33m\u001b[1;33m\u001b[1;33m\u001b[1;33m\u001b[1;33m\u001b[1;33mWARNING\u001b[1;0m\u001b[1;0m\u001b[1;0m\u001b[1;0m\u001b[1;0m\u001b[1;0m: Audio stream has a duration of less than 3 seconds. Normalization may not work. See https://github.com/slhck/ffmpeg-normalize/issues/87 for more info.\n"
     ]
    },
    {
     "name": "stdout",
     "output_type": "stream",
     "text": [
      "['ffmpeg', '-loglevel', 'error', '-i', '/Users/andrusasumets/projects/experiments/pacemaker/processed/normalized/264555__zgump__synths-01-01.wav', '-acodec', 'pcm_s16le', '-ac', '1', '-ar', '100', '-threads', '6', '-y', '/Users/andrusasumets/projects/experiments/pacemaker/processed/wav/264555.wav']\n",
      "['ffmpeg', '-loglevel', 'error', '-i', '/Users/andrusasumets/projects/experiments/pacemaker/processed/normalized/264555__zgump__synths-01-01.wav', '-c:a', 'aac', '-ar', '44100', '-threads', '6', '-y', '/Users/andrusasumets/projects/experiments/pacemaker/processed/audio/264555.m4a']\n",
      "['ffmpeg-normalize', '/Volumes/LaCie/freesound-crawler/downloads/374350__samulis__viola-section-pizzicato-d4-violaens-pizz-d3-v1-rr1.wav', '-o', '/Users/andrusasumets/projects/experiments/pacemaker/processed/normalized/374350__samulis__viola-section-pizzicato-d4-violaens-pizz-d3-v1-rr1.wav']\n"
     ]
    },
    {
     "name": "stderr",
     "output_type": "stream",
     "text": [
      "\u001b[1;33m\u001b[1;33m\u001b[1;33m\u001b[1;33m\u001b[1;33m\u001b[1;33mWARNING\u001b[1;0m\u001b[1;0m\u001b[1;0m\u001b[1;0m\u001b[1;0m\u001b[1;0m: Audio stream has a duration of less than 3 seconds. Normalization may not work. See https://github.com/slhck/ffmpeg-normalize/issues/87 for more info.\n"
     ]
    },
    {
     "name": "stdout",
     "output_type": "stream",
     "text": [
      "['ffmpeg', '-loglevel', 'error', '-i', '/Users/andrusasumets/projects/experiments/pacemaker/processed/normalized/374350__samulis__viola-section-pizzicato-d4-violaens-pizz-d3-v1-rr1.wav', '-acodec', 'pcm_s16le', '-ac', '1', '-ar', '100', '-threads', '6', '-y', '/Users/andrusasumets/projects/experiments/pacemaker/processed/wav/374350.wav']\n",
      "['ffmpeg', '-loglevel', 'error', '-i', '/Users/andrusasumets/projects/experiments/pacemaker/processed/normalized/374350__samulis__viola-section-pizzicato-d4-violaens-pizz-d3-v1-rr1.wav', '-c:a', 'aac', '-ar', '44100', '-threads', '6', '-y', '/Users/andrusasumets/projects/experiments/pacemaker/processed/audio/374350.m4a']\n",
      "['ffmpeg-normalize', '/Volumes/LaCie/freesound-crawler/downloads/623961__strangehorizon__cheap-ukulele-b-4.wav', '-o', '/Users/andrusasumets/projects/experiments/pacemaker/processed/normalized/623961__strangehorizon__cheap-ukulele-b-4.wav']\n"
     ]
    },
    {
     "name": "stderr",
     "output_type": "stream",
     "text": [
      "\u001b[1;33m\u001b[1;33m\u001b[1;33m\u001b[1;33m\u001b[1;33m\u001b[1;33mWARNING\u001b[1;0m\u001b[1;0m\u001b[1;0m\u001b[1;0m\u001b[1;0m\u001b[1;0m: Audio stream has a duration of less than 3 seconds. Normalization may not work. See https://github.com/slhck/ffmpeg-normalize/issues/87 for more info.\n"
     ]
    },
    {
     "name": "stdout",
     "output_type": "stream",
     "text": [
      "['ffmpeg', '-loglevel', 'error', '-i', '/Users/andrusasumets/projects/experiments/pacemaker/processed/normalized/623961__strangehorizon__cheap-ukulele-b-4.wav', '-acodec', 'pcm_s16le', '-ac', '1', '-ar', '100', '-threads', '6', '-y', '/Users/andrusasumets/projects/experiments/pacemaker/processed/wav/623961.wav']\n",
      "['ffmpeg', '-loglevel', 'error', '-i', '/Users/andrusasumets/projects/experiments/pacemaker/processed/normalized/623961__strangehorizon__cheap-ukulele-b-4.wav', '-c:a', 'aac', '-ar', '44100', '-threads', '6', '-y', '/Users/andrusasumets/projects/experiments/pacemaker/processed/audio/623961.m4a']\n",
      "['ffmpeg-normalize', '/Volumes/LaCie/freesound-crawler/downloads/507913__akustika__bd-68.wav', '-o', '/Users/andrusasumets/projects/experiments/pacemaker/processed/normalized/507913__akustika__bd-68.wav']\n"
     ]
    },
    {
     "name": "stderr",
     "output_type": "stream",
     "text": [
      "\u001b[1;33m\u001b[1;33m\u001b[1;33m\u001b[1;33m\u001b[1;33m\u001b[1;33mWARNING\u001b[1;0m\u001b[1;0m\u001b[1;0m\u001b[1;0m\u001b[1;0m\u001b[1;0m: Audio stream has a duration of less than 3 seconds. Normalization may not work. See https://github.com/slhck/ffmpeg-normalize/issues/87 for more info.\n"
     ]
    },
    {
     "name": "stdout",
     "output_type": "stream",
     "text": [
      "['ffmpeg', '-loglevel', 'error', '-i', '/Users/andrusasumets/projects/experiments/pacemaker/processed/normalized/507913__akustika__bd-68.wav', '-acodec', 'pcm_s16le', '-ac', '1', '-ar', '100', '-threads', '6', '-y', '/Users/andrusasumets/projects/experiments/pacemaker/processed/wav/507913.wav']\n",
      "['ffmpeg', '-loglevel', 'error', '-i', '/Users/andrusasumets/projects/experiments/pacemaker/processed/normalized/507913__akustika__bd-68.wav', '-c:a', 'aac', '-ar', '44100', '-threads', '6', '-y', '/Users/andrusasumets/projects/experiments/pacemaker/processed/audio/507913.m4a']\n",
      "['ffmpeg-normalize', '/Volumes/LaCie/freesound-crawler/downloads/535668__saintsamael__bitcrush-splash2-low.wav', '-o', '/Users/andrusasumets/projects/experiments/pacemaker/processed/normalized/535668__saintsamael__bitcrush-splash2-low.wav']\n"
     ]
    },
    {
     "name": "stderr",
     "output_type": "stream",
     "text": [
      "\u001b[1;33m\u001b[1;33m\u001b[1;33m\u001b[1;33m\u001b[1;33m\u001b[1;33mWARNING\u001b[1;0m\u001b[1;0m\u001b[1;0m\u001b[1;0m\u001b[1;0m\u001b[1;0m: Audio stream has a duration of less than 3 seconds. Normalization may not work. See https://github.com/slhck/ffmpeg-normalize/issues/87 for more info.\n"
     ]
    },
    {
     "name": "stdout",
     "output_type": "stream",
     "text": [
      "['ffmpeg', '-loglevel', 'error', '-i', '/Users/andrusasumets/projects/experiments/pacemaker/processed/normalized/535668__saintsamael__bitcrush-splash2-low.wav', '-acodec', 'pcm_s16le', '-ac', '1', '-ar', '100', '-threads', '6', '-y', '/Users/andrusasumets/projects/experiments/pacemaker/processed/wav/535668.wav']\n",
      "['ffmpeg', '-loglevel', 'error', '-i', '/Users/andrusasumets/projects/experiments/pacemaker/processed/normalized/535668__saintsamael__bitcrush-splash2-low.wav', '-c:a', 'aac', '-ar', '44100', '-threads', '6', '-y', '/Users/andrusasumets/projects/experiments/pacemaker/processed/audio/535668.m4a']\n",
      "['ffmpeg-normalize', '/Volumes/LaCie/freesound-crawler/downloads/511955__isaacmedina__roboterkick.wav', '-o', '/Users/andrusasumets/projects/experiments/pacemaker/processed/normalized/511955__isaacmedina__roboterkick.wav']\n"
     ]
    },
    {
     "name": "stderr",
     "output_type": "stream",
     "text": [
      "\u001b[1;33m\u001b[1;33m\u001b[1;33m\u001b[1;33m\u001b[1;33m\u001b[1;33mWARNING\u001b[1;0m\u001b[1;0m\u001b[1;0m\u001b[1;0m\u001b[1;0m\u001b[1;0m: Audio stream has a duration of less than 3 seconds. Normalization may not work. See https://github.com/slhck/ffmpeg-normalize/issues/87 for more info.\n"
     ]
    },
    {
     "name": "stdout",
     "output_type": "stream",
     "text": [
      "['ffmpeg', '-loglevel', 'error', '-i', '/Users/andrusasumets/projects/experiments/pacemaker/processed/normalized/511955__isaacmedina__roboterkick.wav', '-acodec', 'pcm_s16le', '-ac', '1', '-ar', '100', '-threads', '6', '-y', '/Users/andrusasumets/projects/experiments/pacemaker/processed/wav/511955.wav']\n",
      "['ffmpeg', '-loglevel', 'error', '-i', '/Users/andrusasumets/projects/experiments/pacemaker/processed/normalized/511955__isaacmedina__roboterkick.wav', '-c:a', 'aac', '-ar', '44100', '-threads', '6', '-y', '/Users/andrusasumets/projects/experiments/pacemaker/processed/audio/511955.m4a']\n",
      "['ffmpeg-normalize', '/Volumes/LaCie/freesound-crawler/downloads/243253__deleted-user-2195044__o-sfx-09.wav', '-o', '/Users/andrusasumets/projects/experiments/pacemaker/processed/normalized/243253__deleted-user-2195044__o-sfx-09.wav']\n"
     ]
    },
    {
     "name": "stderr",
     "output_type": "stream",
     "text": [
      "\u001b[1;33m\u001b[1;33m\u001b[1;33m\u001b[1;33m\u001b[1;33m\u001b[1;33mWARNING\u001b[1;0m\u001b[1;0m\u001b[1;0m\u001b[1;0m\u001b[1;0m\u001b[1;0m: Audio stream has a duration of less than 3 seconds. Normalization may not work. See https://github.com/slhck/ffmpeg-normalize/issues/87 for more info.\n"
     ]
    },
    {
     "name": "stdout",
     "output_type": "stream",
     "text": [
      "['ffmpeg', '-loglevel', 'error', '-i', '/Users/andrusasumets/projects/experiments/pacemaker/processed/normalized/243253__deleted-user-2195044__o-sfx-09.wav', '-acodec', 'pcm_s16le', '-ac', '1', '-ar', '100', '-threads', '6', '-y', '/Users/andrusasumets/projects/experiments/pacemaker/processed/wav/243253.wav']\n",
      "['ffmpeg', '-loglevel', 'error', '-i', '/Users/andrusasumets/projects/experiments/pacemaker/processed/normalized/243253__deleted-user-2195044__o-sfx-09.wav', '-c:a', 'aac', '-ar', '44100', '-threads', '6', '-y', '/Users/andrusasumets/projects/experiments/pacemaker/processed/audio/243253.m4a']\n",
      "['ffmpeg-normalize', '/Volumes/LaCie/freesound-crawler/downloads/186803__nickgoa__pole.wav', '-o', '/Users/andrusasumets/projects/experiments/pacemaker/processed/normalized/186803__nickgoa__pole.wav']\n"
     ]
    },
    {
     "name": "stderr",
     "output_type": "stream",
     "text": [
      "\u001b[1;33m\u001b[1;33m\u001b[1;33m\u001b[1;33m\u001b[1;33m\u001b[1;33mWARNING\u001b[1;0m\u001b[1;0m\u001b[1;0m\u001b[1;0m\u001b[1;0m\u001b[1;0m: Audio stream has a duration of less than 3 seconds. Normalization may not work. See https://github.com/slhck/ffmpeg-normalize/issues/87 for more info.\n"
     ]
    },
    {
     "name": "stdout",
     "output_type": "stream",
     "text": [
      "['ffmpeg', '-loglevel', 'error', '-i', '/Users/andrusasumets/projects/experiments/pacemaker/processed/normalized/186803__nickgoa__pole.wav', '-acodec', 'pcm_s16le', '-ac', '1', '-ar', '100', '-threads', '6', '-y', '/Users/andrusasumets/projects/experiments/pacemaker/processed/wav/186803.wav']\n",
      "['ffmpeg', '-loglevel', 'error', '-i', '/Users/andrusasumets/projects/experiments/pacemaker/processed/normalized/186803__nickgoa__pole.wav', '-c:a', 'aac', '-ar', '44100', '-threads', '6', '-y', '/Users/andrusasumets/projects/experiments/pacemaker/processed/audio/186803.m4a']\n",
      "['ffmpeg-normalize', '/Volumes/LaCie/freesound-crawler/downloads/622225__adh-dreaming__spinnin-snare-sfx.wav', '-o', '/Users/andrusasumets/projects/experiments/pacemaker/processed/normalized/622225__adh-dreaming__spinnin-snare-sfx.wav']\n"
     ]
    },
    {
     "name": "stderr",
     "output_type": "stream",
     "text": [
      "\u001b[1;33m\u001b[1;33m\u001b[1;33m\u001b[1;33m\u001b[1;33m\u001b[1;33mWARNING\u001b[1;0m\u001b[1;0m\u001b[1;0m\u001b[1;0m\u001b[1;0m\u001b[1;0m: Audio stream has a duration of less than 3 seconds. Normalization may not work. See https://github.com/slhck/ffmpeg-normalize/issues/87 for more info.\n"
     ]
    },
    {
     "name": "stdout",
     "output_type": "stream",
     "text": [
      "['ffmpeg', '-loglevel', 'error', '-i', '/Users/andrusasumets/projects/experiments/pacemaker/processed/normalized/622225__adh-dreaming__spinnin-snare-sfx.wav', '-acodec', 'pcm_s16le', '-ac', '1', '-ar', '100', '-threads', '6', '-y', '/Users/andrusasumets/projects/experiments/pacemaker/processed/wav/622225.wav']\n",
      "['ffmpeg', '-loglevel', 'error', '-i', '/Users/andrusasumets/projects/experiments/pacemaker/processed/normalized/622225__adh-dreaming__spinnin-snare-sfx.wav', '-c:a', 'aac', '-ar', '44100', '-threads', '6', '-y', '/Users/andrusasumets/projects/experiments/pacemaker/processed/audio/622225.m4a']\n",
      "['ffmpeg-normalize', '/Volumes/LaCie/freesound-crawler/downloads/361184__newagesoup__mb-finger-lrg-02.wav', '-o', '/Users/andrusasumets/projects/experiments/pacemaker/processed/normalized/361184__newagesoup__mb-finger-lrg-02.wav']\n"
     ]
    },
    {
     "name": "stderr",
     "output_type": "stream",
     "text": [
      "\u001b[1;33m\u001b[1;33m\u001b[1;33m\u001b[1;33m\u001b[1;33m\u001b[1;33mWARNING\u001b[1;0m\u001b[1;0m\u001b[1;0m\u001b[1;0m\u001b[1;0m\u001b[1;0m: Audio stream has a duration of less than 3 seconds. Normalization may not work. See https://github.com/slhck/ffmpeg-normalize/issues/87 for more info.\n"
     ]
    },
    {
     "name": "stdout",
     "output_type": "stream",
     "text": [
      "['ffmpeg', '-loglevel', 'error', '-i', '/Users/andrusasumets/projects/experiments/pacemaker/processed/normalized/361184__newagesoup__mb-finger-lrg-02.wav', '-acodec', 'pcm_s16le', '-ac', '1', '-ar', '100', '-threads', '6', '-y', '/Users/andrusasumets/projects/experiments/pacemaker/processed/wav/361184.wav']\n",
      "['ffmpeg', '-loglevel', 'error', '-i', '/Users/andrusasumets/projects/experiments/pacemaker/processed/normalized/361184__newagesoup__mb-finger-lrg-02.wav', '-c:a', 'aac', '-ar', '44100', '-threads', '6', '-y', '/Users/andrusasumets/projects/experiments/pacemaker/processed/audio/361184.m4a']\n",
      "['ffmpeg-normalize', '/Volumes/LaCie/freesound-crawler/downloads/448327__anthousai__marbles-15cm-ceramic-bowl-drop-into-bowl-full-of-13mm-marbles-1-13mm-marble-10.wav', '-o', '/Users/andrusasumets/projects/experiments/pacemaker/processed/normalized/448327__anthousai__marbles-15cm-ceramic-bowl-drop-into-bowl-full-of-13mm-marbles-1-13mm-marble-10.wav']\n"
     ]
    },
    {
     "name": "stderr",
     "output_type": "stream",
     "text": [
      "\u001b[1;33m\u001b[1;33m\u001b[1;33m\u001b[1;33m\u001b[1;33m\u001b[1;33mWARNING\u001b[1;0m\u001b[1;0m\u001b[1;0m\u001b[1;0m\u001b[1;0m\u001b[1;0m: Audio stream has a duration of less than 3 seconds. Normalization may not work. See https://github.com/slhck/ffmpeg-normalize/issues/87 for more info.\n"
     ]
    },
    {
     "name": "stdout",
     "output_type": "stream",
     "text": [
      "['ffmpeg', '-loglevel', 'error', '-i', '/Users/andrusasumets/projects/experiments/pacemaker/processed/normalized/448327__anthousai__marbles-15cm-ceramic-bowl-drop-into-bowl-full-of-13mm-marbles-1-13mm-marble-10.wav', '-acodec', 'pcm_s16le', '-ac', '1', '-ar', '100', '-threads', '6', '-y', '/Users/andrusasumets/projects/experiments/pacemaker/processed/wav/448327.wav']\n",
      "['ffmpeg', '-loglevel', 'error', '-i', '/Users/andrusasumets/projects/experiments/pacemaker/processed/normalized/448327__anthousai__marbles-15cm-ceramic-bowl-drop-into-bowl-full-of-13mm-marbles-1-13mm-marble-10.wav', '-c:a', 'aac', '-ar', '44100', '-threads', '6', '-y', '/Users/andrusasumets/projects/experiments/pacemaker/processed/audio/448327.m4a']\n",
      "['ffmpeg-normalize', '/Volumes/LaCie/freesound-crawler/downloads/353742__giomilko__kick-065.wav', '-o', '/Users/andrusasumets/projects/experiments/pacemaker/processed/normalized/353742__giomilko__kick-065.wav']\n"
     ]
    },
    {
     "name": "stderr",
     "output_type": "stream",
     "text": [
      "\u001b[1;33m\u001b[1;33m\u001b[1;33m\u001b[1;33m\u001b[1;33m\u001b[1;33mWARNING\u001b[1;0m\u001b[1;0m\u001b[1;0m\u001b[1;0m\u001b[1;0m\u001b[1;0m: Audio stream has a duration of less than 3 seconds. Normalization may not work. See https://github.com/slhck/ffmpeg-normalize/issues/87 for more info.\n"
     ]
    },
    {
     "name": "stdout",
     "output_type": "stream",
     "text": [
      "['ffmpeg', '-loglevel', 'error', '-i', '/Users/andrusasumets/projects/experiments/pacemaker/processed/normalized/353742__giomilko__kick-065.wav', '-acodec', 'pcm_s16le', '-ac', '1', '-ar', '100', '-threads', '6', '-y', '/Users/andrusasumets/projects/experiments/pacemaker/processed/wav/353742.wav']\n",
      "['ffmpeg', '-loglevel', 'error', '-i', '/Users/andrusasumets/projects/experiments/pacemaker/processed/normalized/353742__giomilko__kick-065.wav', '-c:a', 'aac', '-ar', '44100', '-threads', '6', '-y', '/Users/andrusasumets/projects/experiments/pacemaker/processed/audio/353742.m4a']\n",
      "['ffmpeg-normalize', '/Volumes/LaCie/freesound-crawler/downloads/183358__unfa__beatbox-hihat-take-32.flac', '-o', '/Users/andrusasumets/projects/experiments/pacemaker/processed/normalized/183358__unfa__beatbox-hihat-take-32.flac']\n"
     ]
    },
    {
     "name": "stderr",
     "output_type": "stream",
     "text": [
      "\u001b[1;33m\u001b[1;33m\u001b[1;33m\u001b[1;33m\u001b[1;33m\u001b[1;33mWARNING\u001b[1;0m\u001b[1;0m\u001b[1;0m\u001b[1;0m\u001b[1;0m\u001b[1;0m: Audio stream has a duration of less than 3 seconds. Normalization may not work. See https://github.com/slhck/ffmpeg-normalize/issues/87 for more info.\n",
      "\u001b[1;31m\u001b[1;31m\u001b[1;31m\u001b[1;31m\u001b[1;31m\u001b[1;31mERROR\u001b[1;0m\u001b[1;0m\u001b[1;0m\u001b[1;0m\u001b[1;0m\u001b[1;0m: Error while running command /usr/local/bin/ffmpeg -y -nostdin -i /Volumes/LaCie/freesound-crawler/downloads/183358__unfa__beatbox-hihat-take-32.flac -filter_complex '[0:0]loudnorm=i=-23.0:lra=7.0:tp=-2.0:offset=0.0:measured_i=-99.0:measured_lra=0.0:measured_tp=-37.2:measured_thresh=-70.0:linear=true:print_format=json[norm0]' -map_metadata 0 -map_metadata:s:a:0 0:s:a:0 -map_chapters 0 -map '[norm0]' -c:a:0 pcm_s32le -c:s copy /var/folders/94/c53y6yld37z20wdsvhhlk58c0000gn/T/byrg1rl4.flac! Error: Error running command ['/usr/local/bin/ffmpeg', '-y', '-nostdin', '-i', '/Volumes/LaCie/freesound-crawler/downloads/183358__unfa__beatbox-hihat-take-32.flac', '-filter_complex', '[0:0]loudnorm=i=-23.0:lra=7.0:tp=-2.0:offset=0.0:measured_i=-99.0:measured_lra=0.0:measured_tp=-37.2:measured_thresh=-70.0:linear=true:print_format=json[norm0]', '-map_metadata', '0', '-map_metadata:s:a:0', '0:s:a:0', '-map_chapters', '0', '-map', '[norm0]', '-c:a:0', 'pcm_s32le', '-c:s', 'copy', '/var/folders/94/c53y6yld37z20wdsvhhlk58c0000gn/T/byrg1rl4.flac']: ffmpeg version 5.1.1 Copyright (c) 2000-2022 the FFmpeg developers\n",
      "built with Apple clang version 13.1.6 (clang-1316.0.21.2.5)\n",
      "configuration: --prefix=/usr/local/Cellar/ffmpeg/5.1.1-with-options --enable-shared --cc=clang --host-cflags= --host-ldflags= --enable-gpl --enable-libaom --enable-libdav1d --enable-libmp3lame --enable-libopus --enable-libsnappy --enable-libtheora --enable-libvorbis --enable-libvpx --enable-libx264 --enable-libx265 --enable-libfontconfig --enable-libfreetype --enable-frei0r --enable-libass --enable-demuxer=dash --enable-opencl --enable-audiotoolbox --enable-videotoolbox --disable-htmlpages --enable-libfdk-aac --enable-nonfree\n",
      "libavutil      57. 28.100 / 57. 28.100\n",
      "libavcodec     59. 37.100 / 59. 37.100\n",
      "libavformat    59. 27.100 / 59. 27.100\n",
      "libavdevice    59.  7.100 / 59.  7.100\n",
      "libavfilter     8. 44.100 /  8. 44.100\n",
      "libswscale      6.  7.100 /  6.  7.100\n",
      "libswresample   4.  7.100 /  4.  7.100\n",
      "libpostproc    56.  6.100 / 56.  6.100\n",
      "Input #0, flac, from '/Volumes/LaCie/freesound-crawler/downloads/183358__unfa__beatbox-hihat-take-32.flac':\n",
      "Duration: 00:00:00.24, start: 0.000000, bitrate: 1968 kb/s\n",
      "Stream #0:0: Audio: flac, 96000 Hz, stereo, s32 (24 bit)\n",
      "Stream mapping:\n",
      "Stream #0:0 (flac) -> loudnorm:default\n",
      "loudnorm:default -> Stream #0:0 (pcm_s32le)\n",
      "[flac @ 0x7fbcde006c40] Invalid audio stream. Exactly one FLAC audio stream is required.\n",
      "Could not write header for output file #0 (incorrect codec parameters ?): Invalid argument\n",
      "Error initializing output stream 0:0 --\n",
      "[Parsed_loudnorm_0 @ 0x7fbcde006640]\n",
      "{\n",
      "\"input_i\" : \"-inf\",\n",
      "\"input_tp\" : \"-inf\",\n",
      "\"input_lra\" : \"0.00\",\n",
      "\"input_thresh\" : \"-70.00\",\n",
      "\"output_i\" : \"-inf\",\n",
      "\"output_tp\" : \"-inf\",\n",
      "\"output_lra\" : \"0.00\",\n",
      "\"output_thresh\" : \"-70.00\",\n",
      "\"normalization_type\" : \"dynamic\",\n",
      "\"target_offset\" : \"inf\"\n",
      "}\n",
      "Conversion failed!\n",
      "Traceback (most recent call last):\n",
      "  File \"/usr/local/bin/ffmpeg-normalize\", line 8, in <module>\n",
      "    sys.exit(main())\n",
      "  File \"/usr/local/lib/python3.9/site-packages/ffmpeg_normalize/__main__.py\", line 554, in main\n",
      "    ffmpeg_normalize.run_normalization()\n",
      "  File \"/usr/local/lib/python3.9/site-packages/ffmpeg_normalize/_ffmpeg_normalize.py\", line 205, in run_normalization\n",
      "    raise e\n",
      "  File \"/usr/local/lib/python3.9/site-packages/ffmpeg_normalize/_ffmpeg_normalize.py\", line 194, in run_normalization\n",
      "    media_file.run_normalization()\n",
      "  File \"/usr/local/lib/python3.9/site-packages/ffmpeg_normalize/_media_file.py\", line 165, in run_normalization\n",
      "    for _ in self._second_pass():\n",
      "  File \"/usr/local/lib/python3.9/site-packages/ffmpeg_normalize/_media_file.py\", line 381, in _second_pass\n",
      "    raise e\n",
      "  File \"/usr/local/lib/python3.9/site-packages/ffmpeg_normalize/_media_file.py\", line 370, in _second_pass\n",
      "    raise e\n",
      "  File \"/usr/local/lib/python3.9/site-packages/ffmpeg_normalize/_media_file.py\", line 362, in _second_pass\n",
      "    for progress in cmd_runner.run_ffmpeg_command():\n",
      "  File \"/usr/local/lib/python3.9/site-packages/ffmpeg_normalize/_cmd_utils.py\", line 78, in run_ffmpeg_command\n",
      "    for progress in ff.run_command_with_progress():\n",
      "  File \"/usr/local/lib/python3.9/site-packages/ffmpeg_progress_yield/ffmpeg_progress_yield.py\", line 107, in run_command_with_progress\n",
      "    raise RuntimeError(\n",
      "RuntimeError: Error running command ['/usr/local/bin/ffmpeg', '-y', '-nostdin', '-i', '/Volumes/LaCie/freesound-crawler/downloads/183358__unfa__beatbox-hihat-take-32.flac', '-filter_complex', '[0:0]loudnorm=i=-23.0:lra=7.0:tp=-2.0:offset=0.0:measured_i=-99.0:measured_lra=0.0:measured_tp=-37.2:measured_thresh=-70.0:linear=true:print_format=json[norm0]', '-map_metadata', '0', '-map_metadata:s:a:0', '0:s:a:0', '-map_chapters', '0', '-map', '[norm0]', '-c:a:0', 'pcm_s32le', '-c:s', 'copy', '/var/folders/94/c53y6yld37z20wdsvhhlk58c0000gn/T/byrg1rl4.flac']: ffmpeg version 5.1.1 Copyright (c) 2000-2022 the FFmpeg developers\n",
      "built with Apple clang version 13.1.6 (clang-1316.0.21.2.5)\n",
      "configuration: --prefix=/usr/local/Cellar/ffmpeg/5.1.1-with-options --enable-shared --cc=clang --host-cflags= --host-ldflags= --enable-gpl --enable-libaom --enable-libdav1d --enable-libmp3lame --enable-libopus --enable-libsnappy --enable-libtheora --enable-libvorbis --enable-libvpx --enable-libx264 --enable-libx265 --enable-libfontconfig --enable-libfreetype --enable-frei0r --enable-libass --enable-demuxer=dash --enable-opencl --enable-audiotoolbox --enable-videotoolbox --disable-htmlpages --enable-libfdk-aac --enable-nonfree\n",
      "libavutil      57. 28.100 / 57. 28.100\n",
      "libavcodec     59. 37.100 / 59. 37.100\n",
      "libavformat    59. 27.100 / 59. 27.100\n",
      "libavdevice    59.  7.100 / 59.  7.100\n",
      "libavfilter     8. 44.100 /  8. 44.100\n",
      "libswscale      6.  7.100 /  6.  7.100\n",
      "libswresample   4.  7.100 /  4.  7.100\n",
      "libpostproc    56.  6.100 / 56.  6.100\n",
      "Input #0, flac, from '/Volumes/LaCie/freesound-crawler/downloads/183358__unfa__beatbox-hihat-take-32.flac':\n",
      "Duration: 00:00:00.24, start: 0.000000, bitrate: 1968 kb/s\n",
      "Stream #0:0: Audio: flac, 96000 Hz, stereo, s32 (24 bit)\n",
      "Stream mapping:\n",
      "Stream #0:0 (flac) -> loudnorm:default\n",
      "loudnorm:default -> Stream #0:0 (pcm_s32le)\n",
      "[flac @ 0x7fbcde006c40] Invalid audio stream. Exactly one FLAC audio stream is required.\n",
      "Could not write header for output file #0 (incorrect codec parameters ?): Invalid argument\n",
      "Error initializing output stream 0:0 --\n",
      "[Parsed_loudnorm_0 @ 0x7fbcde006640]\n",
      "{\n",
      "\"input_i\" : \"-inf\",\n",
      "\"input_tp\" : \"-inf\",\n",
      "\"input_lra\" : \"0.00\",\n",
      "\"input_thresh\" : \"-70.00\",\n",
      "\"output_i\" : \"-inf\",\n",
      "\"output_tp\" : \"-inf\",\n",
      "\"output_lra\" : \"0.00\",\n",
      "\"output_thresh\" : \"-70.00\",\n",
      "\"normalization_type\" : \"dynamic\",\n",
      "\"target_offset\" : \"inf\"\n",
      "}\n",
      "Conversion failed!\n"
     ]
    },
    {
     "name": "stdout",
     "output_type": "stream",
     "text": [
      "Command '['ffmpeg-normalize', '/Volumes/LaCie/freesound-crawler/downloads/183358__unfa__beatbox-hihat-take-32.flac', '-o', '/Users/andrusasumets/projects/experiments/pacemaker/processed/normalized/183358__unfa__beatbox-hihat-take-32.flac']' returned non-zero exit status 1.\n",
      "['ffmpeg-normalize', '/Volumes/LaCie/freesound-crawler/downloads/467755__sgak__gunshot.wav', '-o', '/Users/andrusasumets/projects/experiments/pacemaker/processed/normalized/467755__sgak__gunshot.wav']\n"
     ]
    },
    {
     "name": "stderr",
     "output_type": "stream",
     "text": [
      "\u001b[1;33m\u001b[1;33m\u001b[1;33m\u001b[1;33m\u001b[1;33m\u001b[1;33mWARNING\u001b[1;0m\u001b[1;0m\u001b[1;0m\u001b[1;0m\u001b[1;0m\u001b[1;0m: Audio stream has a duration of less than 3 seconds. Normalization may not work. See https://github.com/slhck/ffmpeg-normalize/issues/87 for more info.\n"
     ]
    },
    {
     "name": "stdout",
     "output_type": "stream",
     "text": [
      "['ffmpeg', '-loglevel', 'error', '-i', '/Users/andrusasumets/projects/experiments/pacemaker/processed/normalized/467755__sgak__gunshot.wav', '-acodec', 'pcm_s16le', '-ac', '1', '-ar', '100', '-threads', '6', '-y', '/Users/andrusasumets/projects/experiments/pacemaker/processed/wav/467755.wav']\n",
      "['ffmpeg', '-loglevel', 'error', '-i', '/Users/andrusasumets/projects/experiments/pacemaker/processed/normalized/467755__sgak__gunshot.wav', '-c:a', 'aac', '-ar', '44100', '-threads', '6', '-y', '/Users/andrusasumets/projects/experiments/pacemaker/processed/audio/467755.m4a']\n",
      "['ffmpeg-normalize', '/Volumes/LaCie/freesound-crawler/downloads/1434__lostchocolatelab__01sword06.aiff', '-o', '/Users/andrusasumets/projects/experiments/pacemaker/processed/normalized/1434__lostchocolatelab__01sword06.aiff']\n"
     ]
    },
    {
     "name": "stderr",
     "output_type": "stream",
     "text": [
      "\u001b[1;33m\u001b[1;33m\u001b[1;33m\u001b[1;33m\u001b[1;33m\u001b[1;33mWARNING\u001b[1;0m\u001b[1;0m\u001b[1;0m\u001b[1;0m\u001b[1;0m\u001b[1;0m: Audio stream has a duration of less than 3 seconds. Normalization may not work. See https://github.com/slhck/ffmpeg-normalize/issues/87 for more info.\n"
     ]
    },
    {
     "name": "stdout",
     "output_type": "stream",
     "text": [
      "['ffmpeg', '-loglevel', 'error', '-i', '/Users/andrusasumets/projects/experiments/pacemaker/processed/normalized/1434__lostchocolatelab__01sword06.aiff', '-acodec', 'pcm_s16le', '-ac', '1', '-ar', '100', '-threads', '6', '-y', '/Users/andrusasumets/projects/experiments/pacemaker/processed/wav/1434.wav']\n",
      "['ffmpeg', '-loglevel', 'error', '-i', '/Users/andrusasumets/projects/experiments/pacemaker/processed/normalized/1434__lostchocolatelab__01sword06.aiff', '-c:a', 'aac', '-ar', '44100', '-threads', '6', '-y', '/Users/andrusasumets/projects/experiments/pacemaker/processed/audio/1434.m4a']\n",
      "['ffmpeg-normalize', '/Volumes/LaCie/freesound-crawler/downloads/373519__samulis__percussion-f3-tamb1-hit-v1-rr1-sum.wav', '-o', '/Users/andrusasumets/projects/experiments/pacemaker/processed/normalized/373519__samulis__percussion-f3-tamb1-hit-v1-rr1-sum.wav']\n"
     ]
    },
    {
     "name": "stderr",
     "output_type": "stream",
     "text": [
      "\u001b[1;33m\u001b[1;33m\u001b[1;33m\u001b[1;33m\u001b[1;33m\u001b[1;33mWARNING\u001b[1;0m\u001b[1;0m\u001b[1;0m\u001b[1;0m\u001b[1;0m\u001b[1;0m: Audio stream has a duration of less than 3 seconds. Normalization may not work. See https://github.com/slhck/ffmpeg-normalize/issues/87 for more info.\n"
     ]
    },
    {
     "name": "stdout",
     "output_type": "stream",
     "text": [
      "['ffmpeg', '-loglevel', 'error', '-i', '/Users/andrusasumets/projects/experiments/pacemaker/processed/normalized/373519__samulis__percussion-f3-tamb1-hit-v1-rr1-sum.wav', '-acodec', 'pcm_s16le', '-ac', '1', '-ar', '100', '-threads', '6', '-y', '/Users/andrusasumets/projects/experiments/pacemaker/processed/wav/373519.wav']\n",
      "['ffmpeg', '-loglevel', 'error', '-i', '/Users/andrusasumets/projects/experiments/pacemaker/processed/normalized/373519__samulis__percussion-f3-tamb1-hit-v1-rr1-sum.wav', '-c:a', 'aac', '-ar', '44100', '-threads', '6', '-y', '/Users/andrusasumets/projects/experiments/pacemaker/processed/audio/373519.m4a']\n",
      "['ffmpeg-normalize', '/Volumes/LaCie/freesound-crawler/downloads/175772__irontec__kamiseta.wav', '-o', '/Users/andrusasumets/projects/experiments/pacemaker/processed/normalized/175772__irontec__kamiseta.wav']\n"
     ]
    },
    {
     "name": "stderr",
     "output_type": "stream",
     "text": [
      "\u001b[1;33m\u001b[1;33m\u001b[1;33m\u001b[1;33m\u001b[1;33m\u001b[1;33mWARNING\u001b[1;0m\u001b[1;0m\u001b[1;0m\u001b[1;0m\u001b[1;0m\u001b[1;0m: Audio stream has a duration of less than 3 seconds. Normalization may not work. See https://github.com/slhck/ffmpeg-normalize/issues/87 for more info.\n"
     ]
    },
    {
     "name": "stdout",
     "output_type": "stream",
     "text": [
      "['ffmpeg', '-loglevel', 'error', '-i', '/Users/andrusasumets/projects/experiments/pacemaker/processed/normalized/175772__irontec__kamiseta.wav', '-acodec', 'pcm_s16le', '-ac', '1', '-ar', '100', '-threads', '6', '-y', '/Users/andrusasumets/projects/experiments/pacemaker/processed/wav/175772.wav']\n",
      "['ffmpeg', '-loglevel', 'error', '-i', '/Users/andrusasumets/projects/experiments/pacemaker/processed/normalized/175772__irontec__kamiseta.wav', '-c:a', 'aac', '-ar', '44100', '-threads', '6', '-y', '/Users/andrusasumets/projects/experiments/pacemaker/processed/audio/175772.m4a']\n",
      "['ffmpeg-normalize', '/Volumes/LaCie/freesound-crawler/downloads/375604__samulis__cabasa-cabasa-1.wav', '-o', '/Users/andrusasumets/projects/experiments/pacemaker/processed/normalized/375604__samulis__cabasa-cabasa-1.wav']\n"
     ]
    },
    {
     "name": "stderr",
     "output_type": "stream",
     "text": [
      "\u001b[1;33m\u001b[1;33m\u001b[1;33m\u001b[1;33m\u001b[1;33m\u001b[1;33mWARNING\u001b[1;0m\u001b[1;0m\u001b[1;0m\u001b[1;0m\u001b[1;0m\u001b[1;0m: Audio stream has a duration of less than 3 seconds. Normalization may not work. See https://github.com/slhck/ffmpeg-normalize/issues/87 for more info.\n"
     ]
    },
    {
     "name": "stdout",
     "output_type": "stream",
     "text": [
      "['ffmpeg', '-loglevel', 'error', '-i', '/Users/andrusasumets/projects/experiments/pacemaker/processed/normalized/375604__samulis__cabasa-cabasa-1.wav', '-acodec', 'pcm_s16le', '-ac', '1', '-ar', '100', '-threads', '6', '-y', '/Users/andrusasumets/projects/experiments/pacemaker/processed/wav/375604.wav']\n",
      "['ffmpeg', '-loglevel', 'error', '-i', '/Users/andrusasumets/projects/experiments/pacemaker/processed/normalized/375604__samulis__cabasa-cabasa-1.wav', '-c:a', 'aac', '-ar', '44100', '-threads', '6', '-y', '/Users/andrusasumets/projects/experiments/pacemaker/processed/audio/375604.m4a']\n",
      "['ffmpeg-normalize', '/Volumes/LaCie/freesound-crawler/downloads/351055__kaiserd88__afro-cuabano.wav', '-o', '/Users/andrusasumets/projects/experiments/pacemaker/processed/normalized/351055__kaiserd88__afro-cuabano.wav']\n"
     ]
    },
    {
     "name": "stderr",
     "output_type": "stream",
     "text": [
      "\u001b[1;33m\u001b[1;33m\u001b[1;33m\u001b[1;33m\u001b[1;33m\u001b[1;33mWARNING\u001b[1;0m\u001b[1;0m\u001b[1;0m\u001b[1;0m\u001b[1;0m\u001b[1;0m: Audio stream has a duration of less than 3 seconds. Normalization may not work. See https://github.com/slhck/ffmpeg-normalize/issues/87 for more info.\n"
     ]
    },
    {
     "name": "stdout",
     "output_type": "stream",
     "text": [
      "['ffmpeg', '-loglevel', 'error', '-i', '/Users/andrusasumets/projects/experiments/pacemaker/processed/normalized/351055__kaiserd88__afro-cuabano.wav', '-acodec', 'pcm_s16le', '-ac', '1', '-ar', '100', '-threads', '6', '-y', '/Users/andrusasumets/projects/experiments/pacemaker/processed/wav/351055.wav']\n",
      "['ffmpeg', '-loglevel', 'error', '-i', '/Users/andrusasumets/projects/experiments/pacemaker/processed/normalized/351055__kaiserd88__afro-cuabano.wav', '-c:a', 'aac', '-ar', '44100', '-threads', '6', '-y', '/Users/andrusasumets/projects/experiments/pacemaker/processed/audio/351055.m4a']\n",
      "['ffmpeg-normalize', '/Volumes/LaCie/freesound-crawler/downloads/155065__urlande__melodica-mi3.wav', '-o', '/Users/andrusasumets/projects/experiments/pacemaker/processed/normalized/155065__urlande__melodica-mi3.wav']\n"
     ]
    },
    {
     "name": "stderr",
     "output_type": "stream",
     "text": [
      "\u001b[1;33m\u001b[1;33m\u001b[1;33m\u001b[1;33m\u001b[1;33m\u001b[1;33mWARNING\u001b[1;0m\u001b[1;0m\u001b[1;0m\u001b[1;0m\u001b[1;0m\u001b[1;0m: Audio stream has a duration of less than 3 seconds. Normalization may not work. See https://github.com/slhck/ffmpeg-normalize/issues/87 for more info.\n"
     ]
    },
    {
     "name": "stdout",
     "output_type": "stream",
     "text": [
      "['ffmpeg', '-loglevel', 'error', '-i', '/Users/andrusasumets/projects/experiments/pacemaker/processed/normalized/155065__urlande__melodica-mi3.wav', '-acodec', 'pcm_s16le', '-ac', '1', '-ar', '100', '-threads', '6', '-y', '/Users/andrusasumets/projects/experiments/pacemaker/processed/wav/155065.wav']\n",
      "['ffmpeg', '-loglevel', 'error', '-i', '/Users/andrusasumets/projects/experiments/pacemaker/processed/normalized/155065__urlande__melodica-mi3.wav', '-c:a', 'aac', '-ar', '44100', '-threads', '6', '-y', '/Users/andrusasumets/projects/experiments/pacemaker/processed/audio/155065.m4a']\n",
      "['ffmpeg-normalize', '/Volumes/LaCie/freesound-crawler/downloads/503378__dj-somar__volca-sample-modular-efecto-63.wav', '-o', '/Users/andrusasumets/projects/experiments/pacemaker/processed/normalized/503378__dj-somar__volca-sample-modular-efecto-63.wav']\n"
     ]
    },
    {
     "name": "stderr",
     "output_type": "stream",
     "text": [
      "\u001b[1;33m\u001b[1;33m\u001b[1;33m\u001b[1;33m\u001b[1;33m\u001b[1;33mWARNING\u001b[1;0m\u001b[1;0m\u001b[1;0m\u001b[1;0m\u001b[1;0m\u001b[1;0m: Audio stream has a duration of less than 3 seconds. Normalization may not work. See https://github.com/slhck/ffmpeg-normalize/issues/87 for more info.\n"
     ]
    },
    {
     "name": "stdout",
     "output_type": "stream",
     "text": [
      "['ffmpeg', '-loglevel', 'error', '-i', '/Users/andrusasumets/projects/experiments/pacemaker/processed/normalized/503378__dj-somar__volca-sample-modular-efecto-63.wav', '-acodec', 'pcm_s16le', '-ac', '1', '-ar', '100', '-threads', '6', '-y', '/Users/andrusasumets/projects/experiments/pacemaker/processed/wav/503378.wav']\n",
      "['ffmpeg', '-loglevel', 'error', '-i', '/Users/andrusasumets/projects/experiments/pacemaker/processed/normalized/503378__dj-somar__volca-sample-modular-efecto-63.wav', '-c:a', 'aac', '-ar', '44100', '-threads', '6', '-y', '/Users/andrusasumets/projects/experiments/pacemaker/processed/audio/503378.m4a']\n",
      "['ffmpeg-normalize', '/Volumes/LaCie/freesound-crawler/downloads/507187__akustika__sd-09.wav', '-o', '/Users/andrusasumets/projects/experiments/pacemaker/processed/normalized/507187__akustika__sd-09.wav']\n"
     ]
    },
    {
     "name": "stderr",
     "output_type": "stream",
     "text": [
      "\u001b[1;33m\u001b[1;33m\u001b[1;33m\u001b[1;33m\u001b[1;33m\u001b[1;33mWARNING\u001b[1;0m\u001b[1;0m\u001b[1;0m\u001b[1;0m\u001b[1;0m\u001b[1;0m: Audio stream has a duration of less than 3 seconds. Normalization may not work. See https://github.com/slhck/ffmpeg-normalize/issues/87 for more info.\n"
     ]
    },
    {
     "name": "stdout",
     "output_type": "stream",
     "text": [
      "['ffmpeg', '-loglevel', 'error', '-i', '/Users/andrusasumets/projects/experiments/pacemaker/processed/normalized/507187__akustika__sd-09.wav', '-acodec', 'pcm_s16le', '-ac', '1', '-ar', '100', '-threads', '6', '-y', '/Users/andrusasumets/projects/experiments/pacemaker/processed/wav/507187.wav']\n",
      "['ffmpeg', '-loglevel', 'error', '-i', '/Users/andrusasumets/projects/experiments/pacemaker/processed/normalized/507187__akustika__sd-09.wav', '-c:a', 'aac', '-ar', '44100', '-threads', '6', '-y', '/Users/andrusasumets/projects/experiments/pacemaker/processed/audio/507187.m4a']\n",
      "['ffmpeg-normalize', '/Volumes/LaCie/freesound-crawler/downloads/374913__samulis__oldtrombone-f3-trombone-short-f3-v2-1.wav', '-o', '/Users/andrusasumets/projects/experiments/pacemaker/processed/normalized/374913__samulis__oldtrombone-f3-trombone-short-f3-v2-1.wav']\n"
     ]
    },
    {
     "name": "stderr",
     "output_type": "stream",
     "text": [
      "\u001b[1;33m\u001b[1;33m\u001b[1;33m\u001b[1;33m\u001b[1;33m\u001b[1;33mWARNING\u001b[1;0m\u001b[1;0m\u001b[1;0m\u001b[1;0m\u001b[1;0m\u001b[1;0m: Audio stream has a duration of less than 3 seconds. Normalization may not work. See https://github.com/slhck/ffmpeg-normalize/issues/87 for more info.\n"
     ]
    },
    {
     "name": "stdout",
     "output_type": "stream",
     "text": [
      "['ffmpeg', '-loglevel', 'error', '-i', '/Users/andrusasumets/projects/experiments/pacemaker/processed/normalized/374913__samulis__oldtrombone-f3-trombone-short-f3-v2-1.wav', '-acodec', 'pcm_s16le', '-ac', '1', '-ar', '100', '-threads', '6', '-y', '/Users/andrusasumets/projects/experiments/pacemaker/processed/wav/374913.wav']\n",
      "['ffmpeg', '-loglevel', 'error', '-i', '/Users/andrusasumets/projects/experiments/pacemaker/processed/normalized/374913__samulis__oldtrombone-f3-trombone-short-f3-v2-1.wav', '-c:a', 'aac', '-ar', '44100', '-threads', '6', '-y', '/Users/andrusasumets/projects/experiments/pacemaker/processed/audio/374913.m4a']\n",
      "['ffmpeg-normalize', '/Volumes/LaCie/freesound-crawler/downloads/589024__mrfossy__sfx-monosjam-boom-10.wav', '-o', '/Users/andrusasumets/projects/experiments/pacemaker/processed/normalized/589024__mrfossy__sfx-monosjam-boom-10.wav']\n"
     ]
    },
    {
     "name": "stderr",
     "output_type": "stream",
     "text": [
      "\u001b[1;33m\u001b[1;33m\u001b[1;33m\u001b[1;33m\u001b[1;33m\u001b[1;33mWARNING\u001b[1;0m\u001b[1;0m\u001b[1;0m\u001b[1;0m\u001b[1;0m\u001b[1;0m: Audio stream has a duration of less than 3 seconds. Normalization may not work. See https://github.com/slhck/ffmpeg-normalize/issues/87 for more info.\n"
     ]
    },
    {
     "name": "stdout",
     "output_type": "stream",
     "text": [
      "['ffmpeg', '-loglevel', 'error', '-i', '/Users/andrusasumets/projects/experiments/pacemaker/processed/normalized/589024__mrfossy__sfx-monosjam-boom-10.wav', '-acodec', 'pcm_s16le', '-ac', '1', '-ar', '100', '-threads', '6', '-y', '/Users/andrusasumets/projects/experiments/pacemaker/processed/wav/589024.wav']\n",
      "['ffmpeg', '-loglevel', 'error', '-i', '/Users/andrusasumets/projects/experiments/pacemaker/processed/normalized/589024__mrfossy__sfx-monosjam-boom-10.wav', '-c:a', 'aac', '-ar', '44100', '-threads', '6', '-y', '/Users/andrusasumets/projects/experiments/pacemaker/processed/audio/589024.m4a']\n",
      "['ffmpeg-normalize', '/Volumes/LaCie/freesound-crawler/downloads/416636__funwithsound__baby-gibberish-grunt-1.wav', '-o', '/Users/andrusasumets/projects/experiments/pacemaker/processed/normalized/416636__funwithsound__baby-gibberish-grunt-1.wav']\n"
     ]
    },
    {
     "name": "stderr",
     "output_type": "stream",
     "text": [
      "\u001b[1;33m\u001b[1;33m\u001b[1;33m\u001b[1;33m\u001b[1;33m\u001b[1;33mWARNING\u001b[1;0m\u001b[1;0m\u001b[1;0m\u001b[1;0m\u001b[1;0m\u001b[1;0m: Audio stream has a duration of less than 3 seconds. Normalization may not work. See https://github.com/slhck/ffmpeg-normalize/issues/87 for more info.\n"
     ]
    },
    {
     "name": "stdout",
     "output_type": "stream",
     "text": [
      "['ffmpeg', '-loglevel', 'error', '-i', '/Users/andrusasumets/projects/experiments/pacemaker/processed/normalized/416636__funwithsound__baby-gibberish-grunt-1.wav', '-acodec', 'pcm_s16le', '-ac', '1', '-ar', '100', '-threads', '6', '-y', '/Users/andrusasumets/projects/experiments/pacemaker/processed/wav/416636.wav']\n",
      "['ffmpeg', '-loglevel', 'error', '-i', '/Users/andrusasumets/projects/experiments/pacemaker/processed/normalized/416636__funwithsound__baby-gibberish-grunt-1.wav', '-c:a', 'aac', '-ar', '44100', '-threads', '6', '-y', '/Users/andrusasumets/projects/experiments/pacemaker/processed/audio/416636.m4a']\n",
      "['ffmpeg-normalize', '/Volumes/LaCie/freesound-crawler/downloads/428006__newagesoup__newagesoup-fx-gui-10.wav', '-o', '/Users/andrusasumets/projects/experiments/pacemaker/processed/normalized/428006__newagesoup__newagesoup-fx-gui-10.wav']\n"
     ]
    },
    {
     "name": "stderr",
     "output_type": "stream",
     "text": [
      "\u001b[1;33m\u001b[1;33m\u001b[1;33m\u001b[1;33m\u001b[1;33m\u001b[1;33mWARNING\u001b[1;0m\u001b[1;0m\u001b[1;0m\u001b[1;0m\u001b[1;0m\u001b[1;0m: Audio stream has a duration of less than 3 seconds. Normalization may not work. See https://github.com/slhck/ffmpeg-normalize/issues/87 for more info.\n"
     ]
    },
    {
     "name": "stdout",
     "output_type": "stream",
     "text": [
      "['ffmpeg', '-loglevel', 'error', '-i', '/Users/andrusasumets/projects/experiments/pacemaker/processed/normalized/428006__newagesoup__newagesoup-fx-gui-10.wav', '-acodec', 'pcm_s16le', '-ac', '1', '-ar', '100', '-threads', '6', '-y', '/Users/andrusasumets/projects/experiments/pacemaker/processed/wav/428006.wav']\n",
      "['ffmpeg', '-loglevel', 'error', '-i', '/Users/andrusasumets/projects/experiments/pacemaker/processed/normalized/428006__newagesoup__newagesoup-fx-gui-10.wav', '-c:a', 'aac', '-ar', '44100', '-threads', '6', '-y', '/Users/andrusasumets/projects/experiments/pacemaker/processed/audio/428006.m4a']\n",
      "['ffmpeg-normalize', '/Volumes/LaCie/freesound-crawler/downloads/60015__qubodup__writing-z-for-zorro-in-the-air.flac', '-o', '/Users/andrusasumets/projects/experiments/pacemaker/processed/normalized/60015__qubodup__writing-z-for-zorro-in-the-air.flac']\n"
     ]
    },
    {
     "name": "stderr",
     "output_type": "stream",
     "text": [
      "\u001b[1;33m\u001b[1;33m\u001b[1;33m\u001b[1;33m\u001b[1;33m\u001b[1;33mWARNING\u001b[1;0m\u001b[1;0m\u001b[1;0m\u001b[1;0m\u001b[1;0m\u001b[1;0m: Audio stream has a duration of less than 3 seconds. Normalization may not work. See https://github.com/slhck/ffmpeg-normalize/issues/87 for more info.\n",
      "\u001b[1;31m\u001b[1;31m\u001b[1;31m\u001b[1;31m\u001b[1;31m\u001b[1;31mERROR\u001b[1;0m\u001b[1;0m\u001b[1;0m\u001b[1;0m\u001b[1;0m\u001b[1;0m: Error while running command /usr/local/bin/ffmpeg -y -nostdin -i /Volumes/LaCie/freesound-crawler/downloads/60015__qubodup__writing-z-for-zorro-in-the-air.flac -filter_complex '[0:0]loudnorm=i=-23.0:lra=7.0:tp=-2.0:offset=0.01:measured_i=-19.73:measured_lra=0.0:measured_tp=-0.0:measured_thresh=-30.48:linear=true:print_format=json[norm0]' -map_metadata 0 -map_metadata:s:a:0 0:s:a:0 -map_chapters 0 -map '[norm0]' -c:a:0 pcm_s32le -c:s copy /var/folders/94/c53y6yld37z20wdsvhhlk58c0000gn/T/8fl2agsc.flac! Error: Error running command ['/usr/local/bin/ffmpeg', '-y', '-nostdin', '-i', '/Volumes/LaCie/freesound-crawler/downloads/60015__qubodup__writing-z-for-zorro-in-the-air.flac', '-filter_complex', '[0:0]loudnorm=i=-23.0:lra=7.0:tp=-2.0:offset=0.01:measured_i=-19.73:measured_lra=0.0:measured_tp=-0.0:measured_thresh=-30.48:linear=true:print_format=json[norm0]', '-map_metadata', '0', '-map_metadata:s:a:0', '0:s:a:0', '-map_chapters', '0', '-map', '[norm0]', '-c:a:0', 'pcm_s32le', '-c:s', 'copy', '/var/folders/94/c53y6yld37z20wdsvhhlk58c0000gn/T/8fl2agsc.flac']: ffmpeg version 5.1.1 Copyright (c) 2000-2022 the FFmpeg developers\n",
      "built with Apple clang version 13.1.6 (clang-1316.0.21.2.5)\n",
      "configuration: --prefix=/usr/local/Cellar/ffmpeg/5.1.1-with-options --enable-shared --cc=clang --host-cflags= --host-ldflags= --enable-gpl --enable-libaom --enable-libdav1d --enable-libmp3lame --enable-libopus --enable-libsnappy --enable-libtheora --enable-libvorbis --enable-libvpx --enable-libx264 --enable-libx265 --enable-libfontconfig --enable-libfreetype --enable-frei0r --enable-libass --enable-demuxer=dash --enable-opencl --enable-audiotoolbox --enable-videotoolbox --disable-htmlpages --enable-libfdk-aac --enable-nonfree\n",
      "libavutil      57. 28.100 / 57. 28.100\n",
      "libavcodec     59. 37.100 / 59. 37.100\n",
      "libavformat    59. 27.100 / 59. 27.100\n",
      "libavdevice    59.  7.100 / 59.  7.100\n",
      "libavfilter     8. 44.100 /  8. 44.100\n",
      "libswscale      6.  7.100 /  6.  7.100\n",
      "libswresample   4.  7.100 /  4.  7.100\n",
      "libpostproc    56.  6.100 / 56.  6.100\n",
      "Input #0, flac, from '/Volumes/LaCie/freesound-crawler/downloads/60015__qubodup__writing-z-for-zorro-in-the-air.flac':\n",
      "Metadata:\n",
      "YEAR            : 2008\n",
      "ARTIST          : qubodup aka Iwan Gabovitch | qubodup@gmail.com\n",
      "COMMENTS        : I release this file into the public domain\n",
      "Duration: 00:00:01.54, start: 0.000000, bitrate: 1319 kb/s\n",
      "Stream #0:0: Audio: flac, 44100 Hz, stereo, s32 (24 bit)\n",
      "Stream mapping:\n",
      "Stream #0:0 (flac) -> loudnorm:default\n",
      "loudnorm:default -> Stream #0:0 (pcm_s32le)\n",
      "[flac @ 0x7ff4acf07d00] Invalid audio stream. Exactly one FLAC audio stream is required.\n",
      "Could not write header for output file #0 (incorrect codec parameters ?): Invalid argument\n",
      "Error initializing output stream 0:0 --\n",
      "[Parsed_loudnorm_0 @ 0x7ff4adc04e40]\n",
      "{\n",
      "\"input_i\" : \"-inf\",\n",
      "\"input_tp\" : \"-inf\",\n",
      "\"input_lra\" : \"0.00\",\n",
      "\"input_thresh\" : \"-70.00\",\n",
      "\"output_i\" : \"-inf\",\n",
      "\"output_tp\" : \"-inf\",\n",
      "\"output_lra\" : \"0.00\",\n",
      "\"output_thresh\" : \"-70.00\",\n",
      "\"normalization_type\" : \"dynamic\",\n",
      "\"target_offset\" : \"inf\"\n",
      "}\n",
      "Conversion failed!\n",
      "Traceback (most recent call last):\n",
      "  File \"/usr/local/bin/ffmpeg-normalize\", line 8, in <module>\n",
      "    sys.exit(main())\n",
      "  File \"/usr/local/lib/python3.9/site-packages/ffmpeg_normalize/__main__.py\", line 554, in main\n",
      "    ffmpeg_normalize.run_normalization()\n",
      "  File \"/usr/local/lib/python3.9/site-packages/ffmpeg_normalize/_ffmpeg_normalize.py\", line 205, in run_normalization\n",
      "    raise e\n",
      "  File \"/usr/local/lib/python3.9/site-packages/ffmpeg_normalize/_ffmpeg_normalize.py\", line 194, in run_normalization\n",
      "    media_file.run_normalization()\n",
      "  File \"/usr/local/lib/python3.9/site-packages/ffmpeg_normalize/_media_file.py\", line 165, in run_normalization\n",
      "    for _ in self._second_pass():\n",
      "  File \"/usr/local/lib/python3.9/site-packages/ffmpeg_normalize/_media_file.py\", line 381, in _second_pass\n",
      "    raise e\n",
      "  File \"/usr/local/lib/python3.9/site-packages/ffmpeg_normalize/_media_file.py\", line 370, in _second_pass\n",
      "    raise e\n",
      "  File \"/usr/local/lib/python3.9/site-packages/ffmpeg_normalize/_media_file.py\", line 362, in _second_pass\n",
      "    for progress in cmd_runner.run_ffmpeg_command():\n",
      "  File \"/usr/local/lib/python3.9/site-packages/ffmpeg_normalize/_cmd_utils.py\", line 78, in run_ffmpeg_command\n",
      "    for progress in ff.run_command_with_progress():\n",
      "  File \"/usr/local/lib/python3.9/site-packages/ffmpeg_progress_yield/ffmpeg_progress_yield.py\", line 107, in run_command_with_progress\n",
      "    raise RuntimeError(\n",
      "RuntimeError: Error running command ['/usr/local/bin/ffmpeg', '-y', '-nostdin', '-i', '/Volumes/LaCie/freesound-crawler/downloads/60015__qubodup__writing-z-for-zorro-in-the-air.flac', '-filter_complex', '[0:0]loudnorm=i=-23.0:lra=7.0:tp=-2.0:offset=0.01:measured_i=-19.73:measured_lra=0.0:measured_tp=-0.0:measured_thresh=-30.48:linear=true:print_format=json[norm0]', '-map_metadata', '0', '-map_metadata:s:a:0', '0:s:a:0', '-map_chapters', '0', '-map', '[norm0]', '-c:a:0', 'pcm_s32le', '-c:s', 'copy', '/var/folders/94/c53y6yld37z20wdsvhhlk58c0000gn/T/8fl2agsc.flac']: ffmpeg version 5.1.1 Copyright (c) 2000-2022 the FFmpeg developers\n",
      "built with Apple clang version 13.1.6 (clang-1316.0.21.2.5)\n",
      "configuration: --prefix=/usr/local/Cellar/ffmpeg/5.1.1-with-options --enable-shared --cc=clang --host-cflags= --host-ldflags= --enable-gpl --enable-libaom --enable-libdav1d --enable-libmp3lame --enable-libopus --enable-libsnappy --enable-libtheora --enable-libvorbis --enable-libvpx --enable-libx264 --enable-libx265 --enable-libfontconfig --enable-libfreetype --enable-frei0r --enable-libass --enable-demuxer=dash --enable-opencl --enable-audiotoolbox --enable-videotoolbox --disable-htmlpages --enable-libfdk-aac --enable-nonfree\n",
      "libavutil      57. 28.100 / 57. 28.100\n",
      "libavcodec     59. 37.100 / 59. 37.100\n",
      "libavformat    59. 27.100 / 59. 27.100\n",
      "libavdevice    59.  7.100 / 59.  7.100\n",
      "libavfilter     8. 44.100 /  8. 44.100\n",
      "libswscale      6.  7.100 /  6.  7.100\n",
      "libswresample   4.  7.100 /  4.  7.100\n",
      "libpostproc    56.  6.100 / 56.  6.100\n",
      "Input #0, flac, from '/Volumes/LaCie/freesound-crawler/downloads/60015__qubodup__writing-z-for-zorro-in-the-air.flac':\n",
      "Metadata:\n",
      "YEAR            : 2008\n",
      "ARTIST          : qubodup aka Iwan Gabovitch | qubodup@gmail.com\n",
      "COMMENTS        : I release this file into the public domain\n",
      "Duration: 00:00:01.54, start: 0.000000, bitrate: 1319 kb/s\n",
      "Stream #0:0: Audio: flac, 44100 Hz, stereo, s32 (24 bit)\n",
      "Stream mapping:\n",
      "Stream #0:0 (flac) -> loudnorm:default\n",
      "loudnorm:default -> Stream #0:0 (pcm_s32le)\n",
      "[flac @ 0x7ff4acf07d00] Invalid audio stream. Exactly one FLAC audio stream is required.\n",
      "Could not write header for output file #0 (incorrect codec parameters ?): Invalid argument\n",
      "Error initializing output stream 0:0 --\n",
      "[Parsed_loudnorm_0 @ 0x7ff4adc04e40]\n",
      "{\n",
      "\"input_i\" : \"-inf\",\n",
      "\"input_tp\" : \"-inf\",\n",
      "\"input_lra\" : \"0.00\",\n",
      "\"input_thresh\" : \"-70.00\",\n",
      "\"output_i\" : \"-inf\",\n",
      "\"output_tp\" : \"-inf\",\n",
      "\"output_lra\" : \"0.00\",\n",
      "\"output_thresh\" : \"-70.00\",\n",
      "\"normalization_type\" : \"dynamic\",\n",
      "\"target_offset\" : \"inf\"\n",
      "}\n",
      "Conversion failed!\n"
     ]
    },
    {
     "name": "stdout",
     "output_type": "stream",
     "text": [
      "Command '['ffmpeg-normalize', '/Volumes/LaCie/freesound-crawler/downloads/60015__qubodup__writing-z-for-zorro-in-the-air.flac', '-o', '/Users/andrusasumets/projects/experiments/pacemaker/processed/normalized/60015__qubodup__writing-z-for-zorro-in-the-air.flac']' returned non-zero exit status 1.\n",
      "['ffmpeg-normalize', '/Volumes/LaCie/freesound-crawler/downloads/545337__stwime__bink.mp3', '-o', '/Users/andrusasumets/projects/experiments/pacemaker/processed/normalized/545337__stwime__bink.mp3']\n",
      "Command '['ffmpeg-normalize', '/Volumes/LaCie/freesound-crawler/downloads/545337__stwime__bink.mp3', '-o', '/Users/andrusasumets/projects/experiments/pacemaker/processed/normalized/545337__stwime__bink.mp3']' returned non-zero exit status 1.\n",
      "['ffmpeg-normalize', '/Volumes/LaCie/freesound-crawler/downloads/276621__beskhu__jewharp-15.aiff', '-o', '/Users/andrusasumets/projects/experiments/pacemaker/processed/normalized/276621__beskhu__jewharp-15.aiff']\n"
     ]
    },
    {
     "name": "stderr",
     "output_type": "stream",
     "text": [
      "\u001b[1;31m\u001b[1;31m\u001b[1;31m\u001b[1;31m\u001b[1;31m\u001b[1;31mERROR\u001b[1;0m\u001b[1;0m\u001b[1;0m\u001b[1;0m\u001b[1;0m\u001b[1;0m: Output extension mp3 does not support PCM audio. Please choose a suitable audio codec with the -c:a option.\n",
      "\u001b[1;33m\u001b[1;33m\u001b[1;33m\u001b[1;33m\u001b[1;33m\u001b[1;33mWARNING\u001b[1;0m\u001b[1;0m\u001b[1;0m\u001b[1;0m\u001b[1;0m\u001b[1;0m: Audio stream has a duration of less than 3 seconds. Normalization may not work. See https://github.com/slhck/ffmpeg-normalize/issues/87 for more info.\n"
     ]
    },
    {
     "name": "stdout",
     "output_type": "stream",
     "text": [
      "['ffmpeg', '-loglevel', 'error', '-i', '/Users/andrusasumets/projects/experiments/pacemaker/processed/normalized/276621__beskhu__jewharp-15.aiff', '-acodec', 'pcm_s16le', '-ac', '1', '-ar', '100', '-threads', '6', '-y', '/Users/andrusasumets/projects/experiments/pacemaker/processed/wav/276621.wav']\n",
      "['ffmpeg', '-loglevel', 'error', '-i', '/Users/andrusasumets/projects/experiments/pacemaker/processed/normalized/276621__beskhu__jewharp-15.aiff', '-c:a', 'aac', '-ar', '44100', '-threads', '6', '-y', '/Users/andrusasumets/projects/experiments/pacemaker/processed/audio/276621.m4a']\n",
      "['ffmpeg-normalize', '/Volumes/LaCie/freesound-crawler/downloads/534719__owstu__my-life.wav', '-o', '/Users/andrusasumets/projects/experiments/pacemaker/processed/normalized/534719__owstu__my-life.wav']\n"
     ]
    },
    {
     "name": "stderr",
     "output_type": "stream",
     "text": [
      "\u001b[1;33m\u001b[1;33m\u001b[1;33m\u001b[1;33m\u001b[1;33m\u001b[1;33mWARNING\u001b[1;0m\u001b[1;0m\u001b[1;0m\u001b[1;0m\u001b[1;0m\u001b[1;0m: Audio stream has a duration of less than 3 seconds. Normalization may not work. See https://github.com/slhck/ffmpeg-normalize/issues/87 for more info.\n"
     ]
    },
    {
     "name": "stdout",
     "output_type": "stream",
     "text": [
      "['ffmpeg', '-loglevel', 'error', '-i', '/Users/andrusasumets/projects/experiments/pacemaker/processed/normalized/534719__owstu__my-life.wav', '-acodec', 'pcm_s16le', '-ac', '1', '-ar', '100', '-threads', '6', '-y', '/Users/andrusasumets/projects/experiments/pacemaker/processed/wav/534719.wav']\n",
      "['ffmpeg', '-loglevel', 'error', '-i', '/Users/andrusasumets/projects/experiments/pacemaker/processed/normalized/534719__owstu__my-life.wav', '-c:a', 'aac', '-ar', '44100', '-threads', '6', '-y', '/Users/andrusasumets/projects/experiments/pacemaker/processed/audio/534719.m4a']\n",
      "['ffmpeg-normalize', '/Volumes/LaCie/freesound-crawler/downloads/373065__samulis__solo-contrabass-spiccato-e2-bkctbss-spic-e1-v1-rr1.wav', '-o', '/Users/andrusasumets/projects/experiments/pacemaker/processed/normalized/373065__samulis__solo-contrabass-spiccato-e2-bkctbss-spic-e1-v1-rr1.wav']\n"
     ]
    },
    {
     "name": "stderr",
     "output_type": "stream",
     "text": [
      "\u001b[1;33m\u001b[1;33m\u001b[1;33m\u001b[1;33m\u001b[1;33m\u001b[1;33mWARNING\u001b[1;0m\u001b[1;0m\u001b[1;0m\u001b[1;0m\u001b[1;0m\u001b[1;0m: Audio stream has a duration of less than 3 seconds. Normalization may not work. See https://github.com/slhck/ffmpeg-normalize/issues/87 for more info.\n"
     ]
    },
    {
     "name": "stdout",
     "output_type": "stream",
     "text": [
      "['ffmpeg', '-loglevel', 'error', '-i', '/Users/andrusasumets/projects/experiments/pacemaker/processed/normalized/373065__samulis__solo-contrabass-spiccato-e2-bkctbss-spic-e1-v1-rr1.wav', '-acodec', 'pcm_s16le', '-ac', '1', '-ar', '100', '-threads', '6', '-y', '/Users/andrusasumets/projects/experiments/pacemaker/processed/wav/373065.wav']\n",
      "['ffmpeg', '-loglevel', 'error', '-i', '/Users/andrusasumets/projects/experiments/pacemaker/processed/normalized/373065__samulis__solo-contrabass-spiccato-e2-bkctbss-spic-e1-v1-rr1.wav', '-c:a', 'aac', '-ar', '44100', '-threads', '6', '-y', '/Users/andrusasumets/projects/experiments/pacemaker/processed/audio/373065.m4a']\n",
      "['ffmpeg-normalize', '/Volumes/LaCie/freesound-crawler/downloads/609945__deadrobotmusic__rock-splash-4.wav', '-o', '/Users/andrusasumets/projects/experiments/pacemaker/processed/normalized/609945__deadrobotmusic__rock-splash-4.wav']\n"
     ]
    },
    {
     "name": "stderr",
     "output_type": "stream",
     "text": [
      "\u001b[1;33m\u001b[1;33m\u001b[1;33m\u001b[1;33m\u001b[1;33m\u001b[1;33mWARNING\u001b[1;0m\u001b[1;0m\u001b[1;0m\u001b[1;0m\u001b[1;0m\u001b[1;0m: Audio stream has a duration of less than 3 seconds. Normalization may not work. See https://github.com/slhck/ffmpeg-normalize/issues/87 for more info.\n"
     ]
    },
    {
     "name": "stdout",
     "output_type": "stream",
     "text": [
      "['ffmpeg', '-loglevel', 'error', '-i', '/Users/andrusasumets/projects/experiments/pacemaker/processed/normalized/609945__deadrobotmusic__rock-splash-4.wav', '-acodec', 'pcm_s16le', '-ac', '1', '-ar', '100', '-threads', '6', '-y', '/Users/andrusasumets/projects/experiments/pacemaker/processed/wav/609945.wav']\n",
      "['ffmpeg', '-loglevel', 'error', '-i', '/Users/andrusasumets/projects/experiments/pacemaker/processed/normalized/609945__deadrobotmusic__rock-splash-4.wav', '-c:a', 'aac', '-ar', '44100', '-threads', '6', '-y', '/Users/andrusasumets/projects/experiments/pacemaker/processed/audio/609945.m4a']\n",
      "['ffmpeg-normalize', '/Volumes/LaCie/freesound-crawler/downloads/347100__giomilko__kick-050.wav', '-o', '/Users/andrusasumets/projects/experiments/pacemaker/processed/normalized/347100__giomilko__kick-050.wav']\n"
     ]
    },
    {
     "name": "stderr",
     "output_type": "stream",
     "text": [
      "\u001b[1;33m\u001b[1;33m\u001b[1;33m\u001b[1;33m\u001b[1;33m\u001b[1;33mWARNING\u001b[1;0m\u001b[1;0m\u001b[1;0m\u001b[1;0m\u001b[1;0m\u001b[1;0m: Audio stream has a duration of less than 3 seconds. Normalization may not work. See https://github.com/slhck/ffmpeg-normalize/issues/87 for more info.\n"
     ]
    },
    {
     "name": "stdout",
     "output_type": "stream",
     "text": [
      "['ffmpeg', '-loglevel', 'error', '-i', '/Users/andrusasumets/projects/experiments/pacemaker/processed/normalized/347100__giomilko__kick-050.wav', '-acodec', 'pcm_s16le', '-ac', '1', '-ar', '100', '-threads', '6', '-y', '/Users/andrusasumets/projects/experiments/pacemaker/processed/wav/347100.wav']\n",
      "['ffmpeg', '-loglevel', 'error', '-i', '/Users/andrusasumets/projects/experiments/pacemaker/processed/normalized/347100__giomilko__kick-050.wav', '-c:a', 'aac', '-ar', '44100', '-threads', '6', '-y', '/Users/andrusasumets/projects/experiments/pacemaker/processed/audio/347100.m4a']\n",
      "['ffmpeg-normalize', '/Volumes/LaCie/freesound-crawler/downloads/472428__mushusito__26-pasar-pagin.wav', '-o', '/Users/andrusasumets/projects/experiments/pacemaker/processed/normalized/472428__mushusito__26-pasar-pagin.wav']\n"
     ]
    },
    {
     "name": "stderr",
     "output_type": "stream",
     "text": [
      "\u001b[1;33m\u001b[1;33m\u001b[1;33m\u001b[1;33m\u001b[1;33m\u001b[1;33mWARNING\u001b[1;0m\u001b[1;0m\u001b[1;0m\u001b[1;0m\u001b[1;0m\u001b[1;0m: Audio stream has a duration of less than 3 seconds. Normalization may not work. See https://github.com/slhck/ffmpeg-normalize/issues/87 for more info.\n"
     ]
    },
    {
     "name": "stdout",
     "output_type": "stream",
     "text": [
      "['ffmpeg', '-loglevel', 'error', '-i', '/Users/andrusasumets/projects/experiments/pacemaker/processed/normalized/472428__mushusito__26-pasar-pagin.wav', '-acodec', 'pcm_s16le', '-ac', '1', '-ar', '100', '-threads', '6', '-y', '/Users/andrusasumets/projects/experiments/pacemaker/processed/wav/472428.wav']\n",
      "['ffmpeg', '-loglevel', 'error', '-i', '/Users/andrusasumets/projects/experiments/pacemaker/processed/normalized/472428__mushusito__26-pasar-pagin.wav', '-c:a', 'aac', '-ar', '44100', '-threads', '6', '-y', '/Users/andrusasumets/projects/experiments/pacemaker/processed/audio/472428.m4a']\n",
      "['ffmpeg-normalize', '/Volumes/LaCie/freesound-crawler/downloads/74151__tenchu__various-hits-1-081.wav', '-o', '/Users/andrusasumets/projects/experiments/pacemaker/processed/normalized/74151__tenchu__various-hits-1-081.wav']\n"
     ]
    },
    {
     "name": "stderr",
     "output_type": "stream",
     "text": [
      "\u001b[1;33m\u001b[1;33m\u001b[1;33m\u001b[1;33m\u001b[1;33m\u001b[1;33mWARNING\u001b[1;0m\u001b[1;0m\u001b[1;0m\u001b[1;0m\u001b[1;0m\u001b[1;0m: Audio stream has a duration of less than 3 seconds. Normalization may not work. See https://github.com/slhck/ffmpeg-normalize/issues/87 for more info.\n"
     ]
    },
    {
     "name": "stdout",
     "output_type": "stream",
     "text": [
      "['ffmpeg', '-loglevel', 'error', '-i', '/Users/andrusasumets/projects/experiments/pacemaker/processed/normalized/74151__tenchu__various-hits-1-081.wav', '-acodec', 'pcm_s16le', '-ac', '1', '-ar', '100', '-threads', '6', '-y', '/Users/andrusasumets/projects/experiments/pacemaker/processed/wav/74151.wav']\n",
      "['ffmpeg', '-loglevel', 'error', '-i', '/Users/andrusasumets/projects/experiments/pacemaker/processed/normalized/74151__tenchu__various-hits-1-081.wav', '-c:a', 'aac', '-ar', '44100', '-threads', '6', '-y', '/Users/andrusasumets/projects/experiments/pacemaker/processed/audio/74151.m4a']\n",
      "['ffmpeg-normalize', '/Volumes/LaCie/freesound-crawler/downloads/351076__kaiserd88__snare-4.wav', '-o', '/Users/andrusasumets/projects/experiments/pacemaker/processed/normalized/351076__kaiserd88__snare-4.wav']\n"
     ]
    },
    {
     "name": "stderr",
     "output_type": "stream",
     "text": [
      "\u001b[1;33m\u001b[1;33m\u001b[1;33m\u001b[1;33m\u001b[1;33m\u001b[1;33mWARNING\u001b[1;0m\u001b[1;0m\u001b[1;0m\u001b[1;0m\u001b[1;0m\u001b[1;0m: Audio stream has a duration of less than 3 seconds. Normalization may not work. See https://github.com/slhck/ffmpeg-normalize/issues/87 for more info.\n"
     ]
    },
    {
     "name": "stdout",
     "output_type": "stream",
     "text": [
      "['ffmpeg', '-loglevel', 'error', '-i', '/Users/andrusasumets/projects/experiments/pacemaker/processed/normalized/351076__kaiserd88__snare-4.wav', '-acodec', 'pcm_s16le', '-ac', '1', '-ar', '100', '-threads', '6', '-y', '/Users/andrusasumets/projects/experiments/pacemaker/processed/wav/351076.wav']\n",
      "['ffmpeg', '-loglevel', 'error', '-i', '/Users/andrusasumets/projects/experiments/pacemaker/processed/normalized/351076__kaiserd88__snare-4.wav', '-c:a', 'aac', '-ar', '44100', '-threads', '6', '-y', '/Users/andrusasumets/projects/experiments/pacemaker/processed/audio/351076.m4a']\n",
      "['ffmpeg-normalize', '/Volumes/LaCie/freesound-crawler/downloads/492048__juan-mira1__25-agujahiloportela.wav', '-o', '/Users/andrusasumets/projects/experiments/pacemaker/processed/normalized/492048__juan-mira1__25-agujahiloportela.wav']\n"
     ]
    },
    {
     "name": "stderr",
     "output_type": "stream",
     "text": [
      "\u001b[1;33m\u001b[1;33m\u001b[1;33m\u001b[1;33m\u001b[1;33m\u001b[1;33mWARNING\u001b[1;0m\u001b[1;0m\u001b[1;0m\u001b[1;0m\u001b[1;0m\u001b[1;0m: Audio stream has a duration of less than 3 seconds. Normalization may not work. See https://github.com/slhck/ffmpeg-normalize/issues/87 for more info.\n"
     ]
    },
    {
     "name": "stdout",
     "output_type": "stream",
     "text": [
      "['ffmpeg', '-loglevel', 'error', '-i', '/Users/andrusasumets/projects/experiments/pacemaker/processed/normalized/492048__juan-mira1__25-agujahiloportela.wav', '-acodec', 'pcm_s16le', '-ac', '1', '-ar', '100', '-threads', '6', '-y', '/Users/andrusasumets/projects/experiments/pacemaker/processed/wav/492048.wav']\n",
      "['ffmpeg', '-loglevel', 'error', '-i', '/Users/andrusasumets/projects/experiments/pacemaker/processed/normalized/492048__juan-mira1__25-agujahiloportela.wav', '-c:a', 'aac', '-ar', '44100', '-threads', '6', '-y', '/Users/andrusasumets/projects/experiments/pacemaker/processed/audio/492048.m4a']\n",
      "['ffmpeg-normalize', '/Volumes/LaCie/freesound-crawler/downloads/443808__tissman__fail.wav', '-o', '/Users/andrusasumets/projects/experiments/pacemaker/processed/normalized/443808__tissman__fail.wav']\n"
     ]
    },
    {
     "name": "stderr",
     "output_type": "stream",
     "text": [
      "\u001b[1;33m\u001b[1;33m\u001b[1;33m\u001b[1;33m\u001b[1;33m\u001b[1;33mWARNING\u001b[1;0m\u001b[1;0m\u001b[1;0m\u001b[1;0m\u001b[1;0m\u001b[1;0m: Audio stream has a duration of less than 3 seconds. Normalization may not work. See https://github.com/slhck/ffmpeg-normalize/issues/87 for more info.\n"
     ]
    },
    {
     "name": "stdout",
     "output_type": "stream",
     "text": [
      "['ffmpeg', '-loglevel', 'error', '-i', '/Users/andrusasumets/projects/experiments/pacemaker/processed/normalized/443808__tissman__fail.wav', '-acodec', 'pcm_s16le', '-ac', '1', '-ar', '100', '-threads', '6', '-y', '/Users/andrusasumets/projects/experiments/pacemaker/processed/wav/443808.wav']\n",
      "['ffmpeg', '-loglevel', 'error', '-i', '/Users/andrusasumets/projects/experiments/pacemaker/processed/normalized/443808__tissman__fail.wav', '-c:a', 'aac', '-ar', '44100', '-threads', '6', '-y', '/Users/andrusasumets/projects/experiments/pacemaker/processed/audio/443808.m4a']\n",
      "['ffmpeg-normalize', '/Volumes/LaCie/freesound-crawler/downloads/153092__albaaa3__close-door-locker.wav', '-o', '/Users/andrusasumets/projects/experiments/pacemaker/processed/normalized/153092__albaaa3__close-door-locker.wav']\n"
     ]
    },
    {
     "name": "stderr",
     "output_type": "stream",
     "text": [
      "\u001b[1;33m\u001b[1;33m\u001b[1;33m\u001b[1;33m\u001b[1;33m\u001b[1;33mWARNING\u001b[1;0m\u001b[1;0m\u001b[1;0m\u001b[1;0m\u001b[1;0m\u001b[1;0m: Audio stream has a duration of less than 3 seconds. Normalization may not work. See https://github.com/slhck/ffmpeg-normalize/issues/87 for more info.\n"
     ]
    },
    {
     "name": "stdout",
     "output_type": "stream",
     "text": [
      "['ffmpeg', '-loglevel', 'error', '-i', '/Users/andrusasumets/projects/experiments/pacemaker/processed/normalized/153092__albaaa3__close-door-locker.wav', '-acodec', 'pcm_s16le', '-ac', '1', '-ar', '100', '-threads', '6', '-y', '/Users/andrusasumets/projects/experiments/pacemaker/processed/wav/153092.wav']\n",
      "['ffmpeg', '-loglevel', 'error', '-i', '/Users/andrusasumets/projects/experiments/pacemaker/processed/normalized/153092__albaaa3__close-door-locker.wav', '-c:a', 'aac', '-ar', '44100', '-threads', '6', '-y', '/Users/andrusasumets/projects/experiments/pacemaker/processed/audio/153092.m4a']\n",
      "['ffmpeg-normalize', '/Volumes/LaCie/freesound-crawler/downloads/208348__crispydinner__ppu-snare-marker-77.wav', '-o', '/Users/andrusasumets/projects/experiments/pacemaker/processed/normalized/208348__crispydinner__ppu-snare-marker-77.wav']\n"
     ]
    },
    {
     "name": "stderr",
     "output_type": "stream",
     "text": [
      "\u001b[1;33m\u001b[1;33m\u001b[1;33m\u001b[1;33m\u001b[1;33m\u001b[1;33mWARNING\u001b[1;0m\u001b[1;0m\u001b[1;0m\u001b[1;0m\u001b[1;0m\u001b[1;0m: Audio stream has a duration of less than 3 seconds. Normalization may not work. See https://github.com/slhck/ffmpeg-normalize/issues/87 for more info.\n"
     ]
    },
    {
     "name": "stdout",
     "output_type": "stream",
     "text": [
      "['ffmpeg', '-loglevel', 'error', '-i', '/Users/andrusasumets/projects/experiments/pacemaker/processed/normalized/208348__crispydinner__ppu-snare-marker-77.wav', '-acodec', 'pcm_s16le', '-ac', '1', '-ar', '100', '-threads', '6', '-y', '/Users/andrusasumets/projects/experiments/pacemaker/processed/wav/208348.wav']\n",
      "['ffmpeg', '-loglevel', 'error', '-i', '/Users/andrusasumets/projects/experiments/pacemaker/processed/normalized/208348__crispydinner__ppu-snare-marker-77.wav', '-c:a', 'aac', '-ar', '44100', '-threads', '6', '-y', '/Users/andrusasumets/projects/experiments/pacemaker/processed/audio/208348.m4a']\n",
      "['ffmpeg-normalize', '/Volumes/LaCie/freesound-crawler/downloads/588147__deadrobotmusic__dr-hi-hat-194.wav', '-o', '/Users/andrusasumets/projects/experiments/pacemaker/processed/normalized/588147__deadrobotmusic__dr-hi-hat-194.wav']\n"
     ]
    },
    {
     "name": "stderr",
     "output_type": "stream",
     "text": [
      "\u001b[1;33m\u001b[1;33m\u001b[1;33m\u001b[1;33m\u001b[1;33m\u001b[1;33mWARNING\u001b[1;0m\u001b[1;0m\u001b[1;0m\u001b[1;0m\u001b[1;0m\u001b[1;0m: Audio stream has a duration of less than 3 seconds. Normalization may not work. See https://github.com/slhck/ffmpeg-normalize/issues/87 for more info.\n"
     ]
    },
    {
     "name": "stdout",
     "output_type": "stream",
     "text": [
      "['ffmpeg', '-loglevel', 'error', '-i', '/Users/andrusasumets/projects/experiments/pacemaker/processed/normalized/588147__deadrobotmusic__dr-hi-hat-194.wav', '-acodec', 'pcm_s16le', '-ac', '1', '-ar', '100', '-threads', '6', '-y', '/Users/andrusasumets/projects/experiments/pacemaker/processed/wav/588147.wav']\n",
      "['ffmpeg', '-loglevel', 'error', '-i', '/Users/andrusasumets/projects/experiments/pacemaker/processed/normalized/588147__deadrobotmusic__dr-hi-hat-194.wav', '-c:a', 'aac', '-ar', '44100', '-threads', '6', '-y', '/Users/andrusasumets/projects/experiments/pacemaker/processed/audio/588147.m4a']\n",
      "['ffmpeg-normalize', '/Volumes/LaCie/freesound-crawler/downloads/276635__beskhu__jewharp-3.aiff', '-o', '/Users/andrusasumets/projects/experiments/pacemaker/processed/normalized/276635__beskhu__jewharp-3.aiff']\n"
     ]
    },
    {
     "name": "stderr",
     "output_type": "stream",
     "text": [
      "\u001b[1;33m\u001b[1;33m\u001b[1;33m\u001b[1;33m\u001b[1;33m\u001b[1;33mWARNING\u001b[1;0m\u001b[1;0m\u001b[1;0m\u001b[1;0m\u001b[1;0m\u001b[1;0m: Audio stream has a duration of less than 3 seconds. Normalization may not work. See https://github.com/slhck/ffmpeg-normalize/issues/87 for more info.\n"
     ]
    },
    {
     "name": "stdout",
     "output_type": "stream",
     "text": [
      "['ffmpeg', '-loglevel', 'error', '-i', '/Users/andrusasumets/projects/experiments/pacemaker/processed/normalized/276635__beskhu__jewharp-3.aiff', '-acodec', 'pcm_s16le', '-ac', '1', '-ar', '100', '-threads', '6', '-y', '/Users/andrusasumets/projects/experiments/pacemaker/processed/wav/276635.wav']\n",
      "['ffmpeg', '-loglevel', 'error', '-i', '/Users/andrusasumets/projects/experiments/pacemaker/processed/normalized/276635__beskhu__jewharp-3.aiff', '-c:a', 'aac', '-ar', '44100', '-threads', '6', '-y', '/Users/andrusasumets/projects/experiments/pacemaker/processed/audio/276635.m4a']\n",
      "['ffmpeg-normalize', '/Volumes/LaCie/freesound-crawler/downloads/551378__akusmatech__hits-08.wav', '-o', '/Users/andrusasumets/projects/experiments/pacemaker/processed/normalized/551378__akusmatech__hits-08.wav']\n"
     ]
    },
    {
     "name": "stderr",
     "output_type": "stream",
     "text": [
      "\u001b[1;33m\u001b[1;33m\u001b[1;33m\u001b[1;33m\u001b[1;33m\u001b[1;33mWARNING\u001b[1;0m\u001b[1;0m\u001b[1;0m\u001b[1;0m\u001b[1;0m\u001b[1;0m: Audio stream has a duration of less than 3 seconds. Normalization may not work. See https://github.com/slhck/ffmpeg-normalize/issues/87 for more info.\n"
     ]
    },
    {
     "name": "stdout",
     "output_type": "stream",
     "text": [
      "['ffmpeg', '-loglevel', 'error', '-i', '/Users/andrusasumets/projects/experiments/pacemaker/processed/normalized/551378__akusmatech__hits-08.wav', '-acodec', 'pcm_s16le', '-ac', '1', '-ar', '100', '-threads', '6', '-y', '/Users/andrusasumets/projects/experiments/pacemaker/processed/wav/551378.wav']\n",
      "['ffmpeg', '-loglevel', 'error', '-i', '/Users/andrusasumets/projects/experiments/pacemaker/processed/normalized/551378__akusmatech__hits-08.wav', '-c:a', 'aac', '-ar', '44100', '-threads', '6', '-y', '/Users/andrusasumets/projects/experiments/pacemaker/processed/audio/551378.m4a']\n",
      "['ffmpeg-normalize', '/Volumes/LaCie/freesound-crawler/downloads/646755__pbimal__marble-bounce-01.ogg', '-o', '/Users/andrusasumets/projects/experiments/pacemaker/processed/normalized/646755__pbimal__marble-bounce-01.ogg']\n"
     ]
    },
    {
     "name": "stderr",
     "output_type": "stream",
     "text": [
      "\u001b[1;31m\u001b[1;31m\u001b[1;31m\u001b[1;31m\u001b[1;31m\u001b[1;31mERROR\u001b[1;0m\u001b[1;0m\u001b[1;0m\u001b[1;0m\u001b[1;0m\u001b[1;0m: Output extension ogg does not support PCM audio. Please choose a suitable audio codec with the -c:a option.\n"
     ]
    },
    {
     "name": "stdout",
     "output_type": "stream",
     "text": [
      "Command '['ffmpeg-normalize', '/Volumes/LaCie/freesound-crawler/downloads/646755__pbimal__marble-bounce-01.ogg', '-o', '/Users/andrusasumets/projects/experiments/pacemaker/processed/normalized/646755__pbimal__marble-bounce-01.ogg']' returned non-zero exit status 1.\n",
      "['ffmpeg-normalize', '/Volumes/LaCie/freesound-crawler/downloads/122558__anillogic__trimo-c4.wav', '-o', '/Users/andrusasumets/projects/experiments/pacemaker/processed/normalized/122558__anillogic__trimo-c4.wav']\n"
     ]
    },
    {
     "name": "stderr",
     "output_type": "stream",
     "text": [
      "\u001b[1;33m\u001b[1;33m\u001b[1;33m\u001b[1;33m\u001b[1;33m\u001b[1;33mWARNING\u001b[1;0m\u001b[1;0m\u001b[1;0m\u001b[1;0m\u001b[1;0m\u001b[1;0m: Audio stream has a duration of less than 3 seconds. Normalization may not work. See https://github.com/slhck/ffmpeg-normalize/issues/87 for more info.\n"
     ]
    },
    {
     "name": "stdout",
     "output_type": "stream",
     "text": [
      "['ffmpeg', '-loglevel', 'error', '-i', '/Users/andrusasumets/projects/experiments/pacemaker/processed/normalized/122558__anillogic__trimo-c4.wav', '-acodec', 'pcm_s16le', '-ac', '1', '-ar', '100', '-threads', '6', '-y', '/Users/andrusasumets/projects/experiments/pacemaker/processed/wav/122558.wav']\n",
      "['ffmpeg', '-loglevel', 'error', '-i', '/Users/andrusasumets/projects/experiments/pacemaker/processed/normalized/122558__anillogic__trimo-c4.wav', '-c:a', 'aac', '-ar', '44100', '-threads', '6', '-y', '/Users/andrusasumets/projects/experiments/pacemaker/processed/audio/122558.m4a']\n",
      "['ffmpeg-normalize', '/Volumes/LaCie/freesound-crawler/downloads/641376__duisterwho__check-it-out-now-vocal-one-shot.wav', '-o', '/Users/andrusasumets/projects/experiments/pacemaker/processed/normalized/641376__duisterwho__check-it-out-now-vocal-one-shot.wav']\n"
     ]
    },
    {
     "name": "stderr",
     "output_type": "stream",
     "text": [
      "\u001b[1;33m\u001b[1;33m\u001b[1;33m\u001b[1;33m\u001b[1;33m\u001b[1;33mWARNING\u001b[1;0m\u001b[1;0m\u001b[1;0m\u001b[1;0m\u001b[1;0m\u001b[1;0m: Audio stream has a duration of less than 3 seconds. Normalization may not work. See https://github.com/slhck/ffmpeg-normalize/issues/87 for more info.\n"
     ]
    },
    {
     "name": "stdout",
     "output_type": "stream",
     "text": [
      "['ffmpeg', '-loglevel', 'error', '-i', '/Users/andrusasumets/projects/experiments/pacemaker/processed/normalized/641376__duisterwho__check-it-out-now-vocal-one-shot.wav', '-acodec', 'pcm_s16le', '-ac', '1', '-ar', '100', '-threads', '6', '-y', '/Users/andrusasumets/projects/experiments/pacemaker/processed/wav/641376.wav']\n",
      "['ffmpeg', '-loglevel', 'error', '-i', '/Users/andrusasumets/projects/experiments/pacemaker/processed/normalized/641376__duisterwho__check-it-out-now-vocal-one-shot.wav', '-c:a', 'aac', '-ar', '44100', '-threads', '6', '-y', '/Users/andrusasumets/projects/experiments/pacemaker/processed/audio/641376.m4a']\n",
      "['ffmpeg-normalize', '/Volumes/LaCie/freesound-crawler/downloads/429787__camilo-vargas13__trampa.wav', '-o', '/Users/andrusasumets/projects/experiments/pacemaker/processed/normalized/429787__camilo-vargas13__trampa.wav']\n"
     ]
    },
    {
     "name": "stderr",
     "output_type": "stream",
     "text": [
      "\u001b[1;33m\u001b[1;33m\u001b[1;33m\u001b[1;33m\u001b[1;33m\u001b[1;33mWARNING\u001b[1;0m\u001b[1;0m\u001b[1;0m\u001b[1;0m\u001b[1;0m\u001b[1;0m: Audio stream has a duration of less than 3 seconds. Normalization may not work. See https://github.com/slhck/ffmpeg-normalize/issues/87 for more info.\n"
     ]
    },
    {
     "name": "stdout",
     "output_type": "stream",
     "text": [
      "['ffmpeg', '-loglevel', 'error', '-i', '/Users/andrusasumets/projects/experiments/pacemaker/processed/normalized/429787__camilo-vargas13__trampa.wav', '-acodec', 'pcm_s16le', '-ac', '1', '-ar', '100', '-threads', '6', '-y', '/Users/andrusasumets/projects/experiments/pacemaker/processed/wav/429787.wav']\n",
      "['ffmpeg', '-loglevel', 'error', '-i', '/Users/andrusasumets/projects/experiments/pacemaker/processed/normalized/429787__camilo-vargas13__trampa.wav', '-c:a', 'aac', '-ar', '44100', '-threads', '6', '-y', '/Users/andrusasumets/projects/experiments/pacemaker/processed/audio/429787.m4a']\n",
      "['ffmpeg-normalize', '/Volumes/LaCie/freesound-crawler/downloads/446506__usuarioleal__17-bip-camara.wav', '-o', '/Users/andrusasumets/projects/experiments/pacemaker/processed/normalized/446506__usuarioleal__17-bip-camara.wav']\n"
     ]
    },
    {
     "name": "stderr",
     "output_type": "stream",
     "text": [
      "\u001b[1;33m\u001b[1;33m\u001b[1;33m\u001b[1;33m\u001b[1;33m\u001b[1;33mWARNING\u001b[1;0m\u001b[1;0m\u001b[1;0m\u001b[1;0m\u001b[1;0m\u001b[1;0m: Audio stream has a duration of less than 3 seconds. Normalization may not work. See https://github.com/slhck/ffmpeg-normalize/issues/87 for more info.\n"
     ]
    },
    {
     "name": "stdout",
     "output_type": "stream",
     "text": [
      "['ffmpeg', '-loglevel', 'error', '-i', '/Users/andrusasumets/projects/experiments/pacemaker/processed/normalized/446506__usuarioleal__17-bip-camara.wav', '-acodec', 'pcm_s16le', '-ac', '1', '-ar', '100', '-threads', '6', '-y', '/Users/andrusasumets/projects/experiments/pacemaker/processed/wav/446506.wav']\n",
      "['ffmpeg', '-loglevel', 'error', '-i', '/Users/andrusasumets/projects/experiments/pacemaker/processed/normalized/446506__usuarioleal__17-bip-camara.wav', '-c:a', 'aac', '-ar', '44100', '-threads', '6', '-y', '/Users/andrusasumets/projects/experiments/pacemaker/processed/audio/446506.m4a']\n",
      "['ffmpeg-normalize', '/Volumes/LaCie/freesound-crawler/downloads/264652__michael-klier__bundeswehr-bag-light-heavy-movement-processed-24bit96khz-004.wav', '-o', '/Users/andrusasumets/projects/experiments/pacemaker/processed/normalized/264652__michael-klier__bundeswehr-bag-light-heavy-movement-processed-24bit96khz-004.wav']\n"
     ]
    },
    {
     "name": "stderr",
     "output_type": "stream",
     "text": [
      "\u001b[1;33m\u001b[1;33m\u001b[1;33m\u001b[1;33m\u001b[1;33m\u001b[1;33mWARNING\u001b[1;0m\u001b[1;0m\u001b[1;0m\u001b[1;0m\u001b[1;0m\u001b[1;0m: Audio stream has a duration of less than 3 seconds. Normalization may not work. See https://github.com/slhck/ffmpeg-normalize/issues/87 for more info.\n"
     ]
    },
    {
     "name": "stdout",
     "output_type": "stream",
     "text": [
      "['ffmpeg', '-loglevel', 'error', '-i', '/Users/andrusasumets/projects/experiments/pacemaker/processed/normalized/264652__michael-klier__bundeswehr-bag-light-heavy-movement-processed-24bit96khz-004.wav', '-acodec', 'pcm_s16le', '-ac', '1', '-ar', '100', '-threads', '6', '-y', '/Users/andrusasumets/projects/experiments/pacemaker/processed/wav/264652.wav']\n",
      "['ffmpeg', '-loglevel', 'error', '-i', '/Users/andrusasumets/projects/experiments/pacemaker/processed/normalized/264652__michael-klier__bundeswehr-bag-light-heavy-movement-processed-24bit96khz-004.wav', '-c:a', 'aac', '-ar', '44100', '-threads', '6', '-y', '/Users/andrusasumets/projects/experiments/pacemaker/processed/audio/264652.m4a']\n",
      "['ffmpeg-normalize', '/Volumes/LaCie/freesound-crawler/downloads/372955__samulis__clarinet-staccato-a-4-dcclar-stac-a-3-v1-rr1-sum.wav', '-o', '/Users/andrusasumets/projects/experiments/pacemaker/processed/normalized/372955__samulis__clarinet-staccato-a-4-dcclar-stac-a-3-v1-rr1-sum.wav']\n"
     ]
    },
    {
     "name": "stderr",
     "output_type": "stream",
     "text": [
      "\u001b[1;33m\u001b[1;33m\u001b[1;33m\u001b[1;33m\u001b[1;33m\u001b[1;33mWARNING\u001b[1;0m\u001b[1;0m\u001b[1;0m\u001b[1;0m\u001b[1;0m\u001b[1;0m: Audio stream has a duration of less than 3 seconds. Normalization may not work. See https://github.com/slhck/ffmpeg-normalize/issues/87 for more info.\n"
     ]
    },
    {
     "name": "stdout",
     "output_type": "stream",
     "text": [
      "['ffmpeg', '-loglevel', 'error', '-i', '/Users/andrusasumets/projects/experiments/pacemaker/processed/normalized/372955__samulis__clarinet-staccato-a-4-dcclar-stac-a-3-v1-rr1-sum.wav', '-acodec', 'pcm_s16le', '-ac', '1', '-ar', '100', '-threads', '6', '-y', '/Users/andrusasumets/projects/experiments/pacemaker/processed/wav/372955.wav']\n",
      "['ffmpeg', '-loglevel', 'error', '-i', '/Users/andrusasumets/projects/experiments/pacemaker/processed/normalized/372955__samulis__clarinet-staccato-a-4-dcclar-stac-a-3-v1-rr1-sum.wav', '-c:a', 'aac', '-ar', '44100', '-threads', '6', '-y', '/Users/andrusasumets/projects/experiments/pacemaker/processed/audio/372955.m4a']\n",
      "['ffmpeg-normalize', '/Volumes/LaCie/freesound-crawler/downloads/457699__soneproject__noisemaker-sawc4.flac', '-o', '/Users/andrusasumets/projects/experiments/pacemaker/processed/normalized/457699__soneproject__noisemaker-sawc4.flac']\n"
     ]
    },
    {
     "name": "stderr",
     "output_type": "stream",
     "text": [
      "\u001b[1;33m\u001b[1;33m\u001b[1;33m\u001b[1;33m\u001b[1;33m\u001b[1;33mWARNING\u001b[1;0m\u001b[1;0m\u001b[1;0m\u001b[1;0m\u001b[1;0m\u001b[1;0m: Audio stream has a duration of less than 3 seconds. Normalization may not work. See https://github.com/slhck/ffmpeg-normalize/issues/87 for more info.\n",
      "\u001b[1;31m\u001b[1;31m\u001b[1;31m\u001b[1;31m\u001b[1;31m\u001b[1;31mERROR\u001b[1;0m\u001b[1;0m\u001b[1;0m\u001b[1;0m\u001b[1;0m\u001b[1;0m: Error while running command /usr/local/bin/ffmpeg -y -nostdin -i /Volumes/LaCie/freesound-crawler/downloads/457699__soneproject__noisemaker-sawc4.flac -filter_complex '[0:0]loudnorm=i=-23.0:lra=7.0:tp=-2.0:offset=0.0:measured_i=-99.0:measured_lra=0.0:measured_tp=-0.93:measured_thresh=-70.0:linear=true:print_format=json[norm0]' -map_metadata 0 -map_metadata:s:a:0 0:s:a:0 -map_chapters 0 -map '[norm0]' -c:a:0 pcm_s32le -c:s copy /var/folders/94/c53y6yld37z20wdsvhhlk58c0000gn/T/pmax_en5.flac! Error: Error running command ['/usr/local/bin/ffmpeg', '-y', '-nostdin', '-i', '/Volumes/LaCie/freesound-crawler/downloads/457699__soneproject__noisemaker-sawc4.flac', '-filter_complex', '[0:0]loudnorm=i=-23.0:lra=7.0:tp=-2.0:offset=0.0:measured_i=-99.0:measured_lra=0.0:measured_tp=-0.93:measured_thresh=-70.0:linear=true:print_format=json[norm0]', '-map_metadata', '0', '-map_metadata:s:a:0', '0:s:a:0', '-map_chapters', '0', '-map', '[norm0]', '-c:a:0', 'pcm_s32le', '-c:s', 'copy', '/var/folders/94/c53y6yld37z20wdsvhhlk58c0000gn/T/pmax_en5.flac']: ffmpeg version 5.1.1 Copyright (c) 2000-2022 the FFmpeg developers\n",
      "built with Apple clang version 13.1.6 (clang-1316.0.21.2.5)\n",
      "configuration: --prefix=/usr/local/Cellar/ffmpeg/5.1.1-with-options --enable-shared --cc=clang --host-cflags= --host-ldflags= --enable-gpl --enable-libaom --enable-libdav1d --enable-libmp3lame --enable-libopus --enable-libsnappy --enable-libtheora --enable-libvorbis --enable-libvpx --enable-libx264 --enable-libx265 --enable-libfontconfig --enable-libfreetype --enable-frei0r --enable-libass --enable-demuxer=dash --enable-opencl --enable-audiotoolbox --enable-videotoolbox --disable-htmlpages --enable-libfdk-aac --enable-nonfree\n",
      "libavutil      57. 28.100 / 57. 28.100\n",
      "libavcodec     59. 37.100 / 59. 37.100\n",
      "libavformat    59. 27.100 / 59. 27.100\n",
      "libavdevice    59.  7.100 / 59.  7.100\n",
      "libavfilter     8. 44.100 /  8. 44.100\n",
      "libswscale      6.  7.100 /  6.  7.100\n",
      "libswresample   4.  7.100 /  4.  7.100\n",
      "libpostproc    56.  6.100 / 56.  6.100\n",
      "Input #0, flac, from '/Volumes/LaCie/freesound-crawler/downloads/457699__soneproject__noisemaker-sawc4.flac':\n",
      "Metadata:\n",
      "Comment         : Processed by SoX\n",
      "Duration: 00:00:00.01, bitrate: 955 kb/s\n",
      "Stream #0:0: Audio: flac, 44100 Hz, stereo, s32 (24 bit)\n",
      "Stream mapping:\n",
      "Stream #0:0 (flac) -> loudnorm:default\n",
      "loudnorm:default -> Stream #0:0 (pcm_s32le)\n",
      "[flac @ 0x7f922df07d80] Invalid audio stream. Exactly one FLAC audio stream is required.\n",
      "Could not write header for output file #0 (incorrect codec parameters ?): Invalid argument\n",
      "Error initializing output stream 0:0 --\n",
      "[Parsed_loudnorm_0 @ 0x7f922e904080]\n",
      "{\n",
      "\"input_i\" : \"-inf\",\n",
      "\"input_tp\" : \"-inf\",\n",
      "\"input_lra\" : \"0.00\",\n",
      "\"input_thresh\" : \"-70.00\",\n",
      "\"output_i\" : \"-inf\",\n",
      "\"output_tp\" : \"-inf\",\n",
      "\"output_lra\" : \"0.00\",\n",
      "\"output_thresh\" : \"-70.00\",\n",
      "\"normalization_type\" : \"dynamic\",\n",
      "\"target_offset\" : \"inf\"\n",
      "}\n",
      "Conversion failed!\n",
      "Traceback (most recent call last):\n",
      "  File \"/usr/local/bin/ffmpeg-normalize\", line 8, in <module>\n",
      "    sys.exit(main())\n",
      "  File \"/usr/local/lib/python3.9/site-packages/ffmpeg_normalize/__main__.py\", line 554, in main\n",
      "    ffmpeg_normalize.run_normalization()\n",
      "  File \"/usr/local/lib/python3.9/site-packages/ffmpeg_normalize/_ffmpeg_normalize.py\", line 205, in run_normalization\n",
      "    raise e\n",
      "  File \"/usr/local/lib/python3.9/site-packages/ffmpeg_normalize/_ffmpeg_normalize.py\", line 194, in run_normalization\n",
      "    media_file.run_normalization()\n",
      "  File \"/usr/local/lib/python3.9/site-packages/ffmpeg_normalize/_media_file.py\", line 165, in run_normalization\n",
      "    for _ in self._second_pass():\n",
      "  File \"/usr/local/lib/python3.9/site-packages/ffmpeg_normalize/_media_file.py\", line 381, in _second_pass\n",
      "    raise e\n",
      "  File \"/usr/local/lib/python3.9/site-packages/ffmpeg_normalize/_media_file.py\", line 370, in _second_pass\n",
      "    raise e\n",
      "  File \"/usr/local/lib/python3.9/site-packages/ffmpeg_normalize/_media_file.py\", line 362, in _second_pass\n",
      "    for progress in cmd_runner.run_ffmpeg_command():\n",
      "  File \"/usr/local/lib/python3.9/site-packages/ffmpeg_normalize/_cmd_utils.py\", line 78, in run_ffmpeg_command\n",
      "    for progress in ff.run_command_with_progress():\n",
      "  File \"/usr/local/lib/python3.9/site-packages/ffmpeg_progress_yield/ffmpeg_progress_yield.py\", line 107, in run_command_with_progress\n",
      "    raise RuntimeError(\n",
      "RuntimeError: Error running command ['/usr/local/bin/ffmpeg', '-y', '-nostdin', '-i', '/Volumes/LaCie/freesound-crawler/downloads/457699__soneproject__noisemaker-sawc4.flac', '-filter_complex', '[0:0]loudnorm=i=-23.0:lra=7.0:tp=-2.0:offset=0.0:measured_i=-99.0:measured_lra=0.0:measured_tp=-0.93:measured_thresh=-70.0:linear=true:print_format=json[norm0]', '-map_metadata', '0', '-map_metadata:s:a:0', '0:s:a:0', '-map_chapters', '0', '-map', '[norm0]', '-c:a:0', 'pcm_s32le', '-c:s', 'copy', '/var/folders/94/c53y6yld37z20wdsvhhlk58c0000gn/T/pmax_en5.flac']: ffmpeg version 5.1.1 Copyright (c) 2000-2022 the FFmpeg developers\n",
      "built with Apple clang version 13.1.6 (clang-1316.0.21.2.5)\n",
      "configuration: --prefix=/usr/local/Cellar/ffmpeg/5.1.1-with-options --enable-shared --cc=clang --host-cflags= --host-ldflags= --enable-gpl --enable-libaom --enable-libdav1d --enable-libmp3lame --enable-libopus --enable-libsnappy --enable-libtheora --enable-libvorbis --enable-libvpx --enable-libx264 --enable-libx265 --enable-libfontconfig --enable-libfreetype --enable-frei0r --enable-libass --enable-demuxer=dash --enable-opencl --enable-audiotoolbox --enable-videotoolbox --disable-htmlpages --enable-libfdk-aac --enable-nonfree\n",
      "libavutil      57. 28.100 / 57. 28.100\n",
      "libavcodec     59. 37.100 / 59. 37.100\n",
      "libavformat    59. 27.100 / 59. 27.100\n",
      "libavdevice    59.  7.100 / 59.  7.100\n",
      "libavfilter     8. 44.100 /  8. 44.100\n",
      "libswscale      6.  7.100 /  6.  7.100\n",
      "libswresample   4.  7.100 /  4.  7.100\n",
      "libpostproc    56.  6.100 / 56.  6.100\n",
      "Input #0, flac, from '/Volumes/LaCie/freesound-crawler/downloads/457699__soneproject__noisemaker-sawc4.flac':\n",
      "Metadata:\n",
      "Comment         : Processed by SoX\n",
      "Duration: 00:00:00.01, bitrate: 955 kb/s\n",
      "Stream #0:0: Audio: flac, 44100 Hz, stereo, s32 (24 bit)\n",
      "Stream mapping:\n",
      "Stream #0:0 (flac) -> loudnorm:default\n",
      "loudnorm:default -> Stream #0:0 (pcm_s32le)\n",
      "[flac @ 0x7f922df07d80] Invalid audio stream. Exactly one FLAC audio stream is required.\n",
      "Could not write header for output file #0 (incorrect codec parameters ?): Invalid argument\n",
      "Error initializing output stream 0:0 --\n",
      "[Parsed_loudnorm_0 @ 0x7f922e904080]\n",
      "{\n",
      "\"input_i\" : \"-inf\",\n",
      "\"input_tp\" : \"-inf\",\n",
      "\"input_lra\" : \"0.00\",\n",
      "\"input_thresh\" : \"-70.00\",\n",
      "\"output_i\" : \"-inf\",\n",
      "\"output_tp\" : \"-inf\",\n",
      "\"output_lra\" : \"0.00\",\n",
      "\"output_thresh\" : \"-70.00\",\n",
      "\"normalization_type\" : \"dynamic\",\n",
      "\"target_offset\" : \"inf\"\n",
      "}\n",
      "Conversion failed!\n"
     ]
    },
    {
     "name": "stdout",
     "output_type": "stream",
     "text": [
      "Command '['ffmpeg-normalize', '/Volumes/LaCie/freesound-crawler/downloads/457699__soneproject__noisemaker-sawc4.flac', '-o', '/Users/andrusasumets/projects/experiments/pacemaker/processed/normalized/457699__soneproject__noisemaker-sawc4.flac']' returned non-zero exit status 1.\n",
      "['ffmpeg-normalize', '/Volumes/LaCie/freesound-crawler/downloads/611769__sieuamthanh__khoe-he.wav', '-o', '/Users/andrusasumets/projects/experiments/pacemaker/processed/normalized/611769__sieuamthanh__khoe-he.wav']\n"
     ]
    },
    {
     "name": "stderr",
     "output_type": "stream",
     "text": [
      "\u001b[1;33m\u001b[1;33m\u001b[1;33m\u001b[1;33m\u001b[1;33m\u001b[1;33mWARNING\u001b[1;0m\u001b[1;0m\u001b[1;0m\u001b[1;0m\u001b[1;0m\u001b[1;0m: Audio stream has a duration of less than 3 seconds. Normalization may not work. See https://github.com/slhck/ffmpeg-normalize/issues/87 for more info.\n"
     ]
    },
    {
     "name": "stdout",
     "output_type": "stream",
     "text": [
      "['ffmpeg', '-loglevel', 'error', '-i', '/Users/andrusasumets/projects/experiments/pacemaker/processed/normalized/611769__sieuamthanh__khoe-he.wav', '-acodec', 'pcm_s16le', '-ac', '1', '-ar', '100', '-threads', '6', '-y', '/Users/andrusasumets/projects/experiments/pacemaker/processed/wav/611769.wav']\n",
      "['ffmpeg', '-loglevel', 'error', '-i', '/Users/andrusasumets/projects/experiments/pacemaker/processed/normalized/611769__sieuamthanh__khoe-he.wav', '-c:a', 'aac', '-ar', '44100', '-threads', '6', '-y', '/Users/andrusasumets/projects/experiments/pacemaker/processed/audio/611769.m4a']\n",
      "['ffmpeg-normalize', '/Volumes/LaCie/freesound-crawler/downloads/375948__glitchedtones__teleportation-05.wav', '-o', '/Users/andrusasumets/projects/experiments/pacemaker/processed/normalized/375948__glitchedtones__teleportation-05.wav']\n"
     ]
    },
    {
     "name": "stderr",
     "output_type": "stream",
     "text": [
      "\u001b[1;33m\u001b[1;33m\u001b[1;33m\u001b[1;33m\u001b[1;33m\u001b[1;33mWARNING\u001b[1;0m\u001b[1;0m\u001b[1;0m\u001b[1;0m\u001b[1;0m\u001b[1;0m: Audio stream has a duration of less than 3 seconds. Normalization may not work. See https://github.com/slhck/ffmpeg-normalize/issues/87 for more info.\n"
     ]
    },
    {
     "name": "stdout",
     "output_type": "stream",
     "text": [
      "['ffmpeg', '-loglevel', 'error', '-i', '/Users/andrusasumets/projects/experiments/pacemaker/processed/normalized/375948__glitchedtones__teleportation-05.wav', '-acodec', 'pcm_s16le', '-ac', '1', '-ar', '100', '-threads', '6', '-y', '/Users/andrusasumets/projects/experiments/pacemaker/processed/wav/375948.wav']\n",
      "['ffmpeg', '-loglevel', 'error', '-i', '/Users/andrusasumets/projects/experiments/pacemaker/processed/normalized/375948__glitchedtones__teleportation-05.wav', '-c:a', 'aac', '-ar', '44100', '-threads', '6', '-y', '/Users/andrusasumets/projects/experiments/pacemaker/processed/audio/375948.m4a']\n",
      "['ffmpeg-normalize', '/Volumes/LaCie/freesound-crawler/downloads/14215__adcbicycle__20.wav', '-o', '/Users/andrusasumets/projects/experiments/pacemaker/processed/normalized/14215__adcbicycle__20.wav']\n"
     ]
    },
    {
     "name": "stderr",
     "output_type": "stream",
     "text": [
      "\u001b[1;33m\u001b[1;33m\u001b[1;33m\u001b[1;33m\u001b[1;33m\u001b[1;33mWARNING\u001b[1;0m\u001b[1;0m\u001b[1;0m\u001b[1;0m\u001b[1;0m\u001b[1;0m: Audio stream has a duration of less than 3 seconds. Normalization may not work. See https://github.com/slhck/ffmpeg-normalize/issues/87 for more info.\n"
     ]
    },
    {
     "name": "stdout",
     "output_type": "stream",
     "text": [
      "['ffmpeg', '-loglevel', 'error', '-i', '/Users/andrusasumets/projects/experiments/pacemaker/processed/normalized/14215__adcbicycle__20.wav', '-acodec', 'pcm_s16le', '-ac', '1', '-ar', '100', '-threads', '6', '-y', '/Users/andrusasumets/projects/experiments/pacemaker/processed/wav/14215.wav']\n",
      "['ffmpeg', '-loglevel', 'error', '-i', '/Users/andrusasumets/projects/experiments/pacemaker/processed/normalized/14215__adcbicycle__20.wav', '-c:a', 'aac', '-ar', '44100', '-threads', '6', '-y', '/Users/andrusasumets/projects/experiments/pacemaker/processed/audio/14215.m4a']\n",
      "['ffmpeg-normalize', '/Volumes/LaCie/freesound-crawler/downloads/264659__michael-klier__bundeswehr-bag-light-heavy-movement-processed-24bit96khz-005.wav', '-o', '/Users/andrusasumets/projects/experiments/pacemaker/processed/normalized/264659__michael-klier__bundeswehr-bag-light-heavy-movement-processed-24bit96khz-005.wav']\n"
     ]
    },
    {
     "name": "stderr",
     "output_type": "stream",
     "text": [
      "\u001b[1;33m\u001b[1;33m\u001b[1;33m\u001b[1;33m\u001b[1;33m\u001b[1;33mWARNING\u001b[1;0m\u001b[1;0m\u001b[1;0m\u001b[1;0m\u001b[1;0m\u001b[1;0m: Audio stream has a duration of less than 3 seconds. Normalization may not work. See https://github.com/slhck/ffmpeg-normalize/issues/87 for more info.\n"
     ]
    },
    {
     "name": "stdout",
     "output_type": "stream",
     "text": [
      "['ffmpeg', '-loglevel', 'error', '-i', '/Users/andrusasumets/projects/experiments/pacemaker/processed/normalized/264659__michael-klier__bundeswehr-bag-light-heavy-movement-processed-24bit96khz-005.wav', '-acodec', 'pcm_s16le', '-ac', '1', '-ar', '100', '-threads', '6', '-y', '/Users/andrusasumets/projects/experiments/pacemaker/processed/wav/264659.wav']\n",
      "['ffmpeg', '-loglevel', 'error', '-i', '/Users/andrusasumets/projects/experiments/pacemaker/processed/normalized/264659__michael-klier__bundeswehr-bag-light-heavy-movement-processed-24bit96khz-005.wav', '-c:a', 'aac', '-ar', '44100', '-threads', '6', '-y', '/Users/andrusasumets/projects/experiments/pacemaker/processed/audio/264659.m4a']\n",
      "['ffmpeg-normalize', '/Volumes/LaCie/freesound-crawler/downloads/573552__gamedrix974__21.wav', '-o', '/Users/andrusasumets/projects/experiments/pacemaker/processed/normalized/573552__gamedrix974__21.wav']\n"
     ]
    },
    {
     "name": "stderr",
     "output_type": "stream",
     "text": [
      "\u001b[1;33m\u001b[1;33m\u001b[1;33m\u001b[1;33m\u001b[1;33m\u001b[1;33mWARNING\u001b[1;0m\u001b[1;0m\u001b[1;0m\u001b[1;0m\u001b[1;0m\u001b[1;0m: Audio stream has a duration of less than 3 seconds. Normalization may not work. See https://github.com/slhck/ffmpeg-normalize/issues/87 for more info.\n"
     ]
    },
    {
     "name": "stdout",
     "output_type": "stream",
     "text": [
      "['ffmpeg', '-loglevel', 'error', '-i', '/Users/andrusasumets/projects/experiments/pacemaker/processed/normalized/573552__gamedrix974__21.wav', '-acodec', 'pcm_s16le', '-ac', '1', '-ar', '100', '-threads', '6', '-y', '/Users/andrusasumets/projects/experiments/pacemaker/processed/wav/573552.wav']\n",
      "['ffmpeg', '-loglevel', 'error', '-i', '/Users/andrusasumets/projects/experiments/pacemaker/processed/normalized/573552__gamedrix974__21.wav', '-c:a', 'aac', '-ar', '44100', '-threads', '6', '-y', '/Users/andrusasumets/projects/experiments/pacemaker/processed/audio/573552.m4a']\n",
      "['ffmpeg-normalize', '/Volumes/LaCie/freesound-crawler/downloads/459610__bolkmar__fx-laser-shoot-a.wav', '-o', '/Users/andrusasumets/projects/experiments/pacemaker/processed/normalized/459610__bolkmar__fx-laser-shoot-a.wav']\n"
     ]
    },
    {
     "name": "stderr",
     "output_type": "stream",
     "text": [
      "\u001b[1;33m\u001b[1;33m\u001b[1;33m\u001b[1;33m\u001b[1;33m\u001b[1;33mWARNING\u001b[1;0m\u001b[1;0m\u001b[1;0m\u001b[1;0m\u001b[1;0m\u001b[1;0m: Audio stream has a duration of less than 3 seconds. Normalization may not work. See https://github.com/slhck/ffmpeg-normalize/issues/87 for more info.\n"
     ]
    },
    {
     "name": "stdout",
     "output_type": "stream",
     "text": [
      "['ffmpeg', '-loglevel', 'error', '-i', '/Users/andrusasumets/projects/experiments/pacemaker/processed/normalized/459610__bolkmar__fx-laser-shoot-a.wav', '-acodec', 'pcm_s16le', '-ac', '1', '-ar', '100', '-threads', '6', '-y', '/Users/andrusasumets/projects/experiments/pacemaker/processed/wav/459610.wav']\n",
      "['ffmpeg', '-loglevel', 'error', '-i', '/Users/andrusasumets/projects/experiments/pacemaker/processed/normalized/459610__bolkmar__fx-laser-shoot-a.wav', '-c:a', 'aac', '-ar', '44100', '-threads', '6', '-y', '/Users/andrusasumets/projects/experiments/pacemaker/processed/audio/459610.m4a']\n",
      "['ffmpeg-normalize', '/Volumes/LaCie/freesound-crawler/downloads/276393__beskhu__cymbesse-4.wav', '-o', '/Users/andrusasumets/projects/experiments/pacemaker/processed/normalized/276393__beskhu__cymbesse-4.wav']\n"
     ]
    },
    {
     "name": "stderr",
     "output_type": "stream",
     "text": [
      "\u001b[1;33m\u001b[1;33m\u001b[1;33m\u001b[1;33m\u001b[1;33m\u001b[1;33mWARNING\u001b[1;0m\u001b[1;0m\u001b[1;0m\u001b[1;0m\u001b[1;0m\u001b[1;0m: Audio stream has a duration of less than 3 seconds. Normalization may not work. See https://github.com/slhck/ffmpeg-normalize/issues/87 for more info.\n"
     ]
    },
    {
     "name": "stdout",
     "output_type": "stream",
     "text": [
      "['ffmpeg', '-loglevel', 'error', '-i', '/Users/andrusasumets/projects/experiments/pacemaker/processed/normalized/276393__beskhu__cymbesse-4.wav', '-acodec', 'pcm_s16le', '-ac', '1', '-ar', '100', '-threads', '6', '-y', '/Users/andrusasumets/projects/experiments/pacemaker/processed/wav/276393.wav']\n",
      "['ffmpeg', '-loglevel', 'error', '-i', '/Users/andrusasumets/projects/experiments/pacemaker/processed/normalized/276393__beskhu__cymbesse-4.wav', '-c:a', 'aac', '-ar', '44100', '-threads', '6', '-y', '/Users/andrusasumets/projects/experiments/pacemaker/processed/audio/276393.m4a']\n",
      "['ffmpeg-normalize', '/Volumes/LaCie/freesound-crawler/downloads/476377__mccaslinmusic__jp-hi-hat-2.wav', '-o', '/Users/andrusasumets/projects/experiments/pacemaker/processed/normalized/476377__mccaslinmusic__jp-hi-hat-2.wav']\n"
     ]
    }
   ],
   "source": [
    "def process(command):\n",
    "    print(command)\n",
    "    subprocess.check_output(command)\n",
    "\n",
    "sample_artists = {}\n",
    "sample_durations = {}\n",
    "res = []\n",
    "\n",
    "for filename in filenames:\n",
    "    try:\n",
    "        fileartist = filename.split(\"__\")[1].split(\"__\")[0]\n",
    "        fileid = filename.split('__')[0]\n",
    "        audiofilename = fileid + '.' + audiofileformat\n",
    "\n",
    "        #if fileartist not in artists:\n",
    "            #continue\n",
    "\n",
    "        if fileartist not in sample_artists:\n",
    "            sample_artists[fileartist] = 0\n",
    "\n",
    "        sample_artists[fileartist] = sample_artists[fileartist] + 1\n",
    "\n",
    "        if sample_artists[fileartist] >= MAX_SAMPLE_COUNT_PER_ARTIST:\n",
    "            continue\n",
    "\n",
    "        soxi_out = create_or_read_file(['soxi', '-D', librarypath + filename], soxipath + fileid + '.soxi')\n",
    "        if not soxi_out:\n",
    "            continue\n",
    "\n",
    "        sample_duration = float(soxi_out)\n",
    "        if sample_duration > MAX_AUDIO_DURATION:\n",
    "            continue\n",
    "\n",
    "        if audiofilename not in processedfilenames:\n",
    "            process(['ffmpeg-normalize', librarypath + filename, '-o', normalizedpath + filename])\n",
    "            process(['ffmpeg', '-loglevel', 'error', '-i', normalizedpath + filename, '-acodec', 'pcm_s16le', '-ac', '1', '-ar', '100', '-threads', '6', '-y', wavpath + fileid + '.wav'])\n",
    "            process(['ffmpeg', '-loglevel', 'error', '-i', normalizedpath + filename, '-c:a', 'aac', '-ar', '44100', '-threads', '6', '-y', audiopath + audiofilename])\n",
    "        \n",
    "        sample_durations[fileid] = sample_duration\n",
    "        res.append(audiofilename)\n",
    "    except Exception as e:\n",
    "        print(e)\n",
    "\n",
    "filenames = res\n",
    "print(filenames)\n",
    "print(len(filenames))\n",
    "print(sample_artists)"
   ]
  },
  {
   "cell_type": "code",
   "execution_count": null,
   "id": "4672f21c",
   "metadata": {},
   "outputs": [],
   "source": [
    "def create_or_read_file(filename, command):\n",
    "    if os.path.exists(filename):\n",
    "        f = open(filename, \"r\")\n",
    "        out = ''.join(f.readlines())\n",
    "        f.close()\n",
    "        return out\n",
    "    else:\n",
    "        try:\n",
    "            out = str(subprocess.check_output(command).decode(encoding=\"utf-8\")).strip().replace('\\\\n', '').replace(\"'\", \"\")\n",
    "\n",
    "            with open(filename, 'w') as file:\n",
    "                file.write(out)\n",
    "\n",
    "            return out\n",
    "        except Exception as e:\n",
    "            return "
   ]
  },
  {
   "cell_type": "code",
   "execution_count": null,
   "id": "87e1f329",
   "metadata": {},
   "outputs": [],
   "source": [
    "df = pd.DataFrame()\n",
    "out_distances = {}\n",
    "full_distances = []\n",
    "\n",
    "for leftfilename in filenames:\n",
    "    leftid = leftfilename.split('.')[0]\n",
    "    rightfilenames = filenames\n",
    "    rightfilenames = sorted(rightfilenames, key=lambda x: random())\n",
    "    \n",
    "    for righti, rightfilename in enumerate(rightfilenames):\n",
    "        if (len(full_distances) % 100) == 0 and righti == 0:\n",
    "            print(str(len(full_distances)) + \" / \" + str(len(filenames) * MAX_SAMPLE_COMPARISON_COUNT))\n",
    "            \n",
    "        if righti >= MAX_SAMPLE_COMPARISON_COUNT:\n",
    "            continue\n",
    "        \n",
    "        if leftfilename == rightfilename:\n",
    "            continue\n",
    "            \n",
    "        rightid = rightfilename.split('.')[0]\n",
    "            \n",
    "        try:\n",
    "            correlation = correlate(wavpath, leftid, rightid, 'wav', dtwpath)\n",
    "            \n",
    "            if math.isinf(float(correlation)):\n",
    "                continue\n",
    "                \n",
    "            if math.isnan(float(correlation)):\n",
    "                continue\n",
    "            \n",
    "            df.loc[leftid, rightid] = correlation\n",
    "            df.loc[rightid, leftid] = correlation\n",
    "\n",
    "            if leftid not in out_distances:\n",
    "                out_distances[leftid] = []\n",
    "            \n",
    "            sample_duration = sample_durations[leftid]\n",
    "            out_distances[leftid].append([correlation, sample_duration, int(rightid)])\n",
    "            full_distances.append([correlation, leftid, rightid])\n",
    "\n",
    "        except Exception as e:\n",
    "            pass\n",
    "\n",
    "for filename in out_distances:\n",
    "    out_distances[filename] = sorted(out_distances[filename])\n",
    "    \n",
    "full_distances = sorted(full_distances)\n",
    "print(len(full_distances))"
   ]
  },
  {
   "cell_type": "code",
   "execution_count": null,
   "id": "1b701c71",
   "metadata": {},
   "outputs": [],
   "source": [
    "delimiter = '|'\n",
    "samples = {}\n",
    "filtered_filenames = [f for f in os.listdir(dtwpath) if f.endswith('.dtw')]\n",
    "\n",
    "for filename in filtered_filenames:\n",
    "    filename = filename.split('.dtw')[0]\n",
    "    left, right = filename.split(delimiter)\n",
    "    \n",
    "    if left not in samples:\n",
    "        samples[left] = []\n",
    "        \n",
    "    if right not in samples:\n",
    "        samples[right] = []\n",
    "        \n",
    "    samples[left].append(right)\n",
    "    samples[right].append(left)"
   ]
  },
  {
   "cell_type": "code",
   "execution_count": null,
   "id": "9f1df240",
   "metadata": {},
   "outputs": [],
   "source": [
    "saved = []\n",
    "\n",
    "for distance in full_distances:\n",
    "    leftid = distance[1]\n",
    "    \n",
    "    if leftid in saved:\n",
    "        continue\n",
    "        \n",
    "    saved.append(leftid)\n",
    "    \n",
    "    source = audiopath + leftid + '.' + audiofileformat\n",
    "    target = extensionsamplepath + leftid + '.' + audiofileformat\n",
    "    command = ['cp', source, target]\n",
    "    process(command)\n",
    "\n",
    "print(len(saved))\n",
    "\n",
    "with open(extensionpath + 'distances.json', 'w') as fp:\n",
    "    json.dump(out_distances, fp)"
   ]
  },
  {
   "cell_type": "code",
   "execution_count": null,
   "id": "53c94ebc",
   "metadata": {},
   "outputs": [],
   "source": [
    "plot = sns.heatmap(df, xticklabels=False, yticklabels=False)\n",
    "handles, labels = plot.get_legend_handles_labels()\n",
    "plot.legend(reversed(handles), reversed(labels), title='', loc=\"lower right\")\n",
    "fig = plot.get_figure()\n",
    "fig.tight_layout()\n",
    "fig.savefig(extensionpath + \"heatmap.png\", dpi=1000, facecolor=\"white\")"
   ]
  },
  {
   "cell_type": "code",
   "execution_count": null,
   "id": "bf93cebc",
   "metadata": {},
   "outputs": [],
   "source": [
    "def show_audio(comparison):\n",
    "    distance, leftid, rightid = comparison\n",
    "    print(distance)\n",
    "\n",
    "    data, rate = librosa.core.load(audiopath + leftid + '.' + audiofileformat)\n",
    "    ipd.display(ipd.Audio(data, rate=rate))\n",
    "\n",
    "    data, rate = librosa.core.load(audiopath + rightid + '.' + audiofileformat)\n",
    "    ipd.display(ipd.Audio(data, rate=rate))\n",
    "\n",
    "display_count = 10\n",
    "for i in range(display_count):\n",
    "    if (i % 2) == 0:\n",
    "        show_audio(full_distances[i])\n",
    "        \n",
    "for i in range(display_count):\n",
    "    if (i % 2) == 0:\n",
    "        show_audio(full_distances[i - display_count])"
   ]
  },
  {
   "cell_type": "code",
   "execution_count": null,
   "id": "780146ef",
   "metadata": {},
   "outputs": [],
   "source": []
  }
 ],
 "metadata": {
  "kernelspec": {
   "display_name": "Python 3 (ipykernel)",
   "language": "python",
   "name": "python3"
  },
  "language_info": {
   "codemirror_mode": {
    "name": "ipython",
    "version": 3
   },
   "file_extension": ".py",
   "mimetype": "text/x-python",
   "name": "python",
   "nbconvert_exporter": "python",
   "pygments_lexer": "ipython3",
   "version": "3.10.6"
  }
 },
 "nbformat": 4,
 "nbformat_minor": 5
}
