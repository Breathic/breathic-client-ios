{
 "cells": [
  {
   "cell_type": "code",
   "execution_count": 3,
   "id": "ba1fcb11",
   "metadata": {},
   "outputs": [],
   "source": [
    "import os\n",
    "import numpy as np\n",
    "import seaborn as sns\n",
    "import pandas as pd\n",
    "import subprocess\n",
    "from dtw import correlate\n",
    "import json\n",
    "import librosa\n",
    "import IPython.display as ipd\n",
    "import math\n",
    "import csv\n",
    "\n",
    "MAX_AUDIO_DURATION_MS = 4 * 1000\n",
    "MAX_SAMPLE_COMPARISON_COUNT = 1000\n",
    "\n",
    "apppath = os.path.expanduser(os.getcwd() + '/')\n",
    "mediapath = os.path.expanduser('/mnt/freesound-crawler/')\n",
    "processedpath = os.path.join(mediapath, 'processed/')\n",
    "soxipath = os.path.join(processedpath, 'soxi/')\n",
    "wavpath = os.path.join(processedpath, 'wav/')\n",
    "audiopath = os.path.join(processedpath, 'audio/')\n",
    "normalizedpath = os.path.join(processedpath, 'normalized/')\n",
    "dtwpath = os.path.join(processedpath, 'dtw/')\n",
    "excludedpath = os.path.join(processedpath, 'excluded/')\n",
    "extensionpath = os.path.join(apppath, 'Extension/data/')\n",
    "extensionsamplepath = os.path.join(extensionpath, 'samples/')\n",
    "librarypath = os.path.join(mediapath, 'downloads/')\n",
    "metadatapath = os.path.join(mediapath, 'metadata/')\n",
    "metadatacsvpath = os.path.join(processedpath, 'metadata.csv')\n",
    "allowedfileformats = ['wav', 'aiff', 'flac', 'ogg', 'mp3', 'm4a']\n",
    "audiofileformat = 'm4a'\n",
    "\n",
    "for p in [processedpath, soxipath, wavpath, audiopath, normalizedpath, dtwpath, excludedpath, extensionpath, extensionsamplepath]:\n",
    "    if not os.path.exists(p):\n",
    "        os.makedirs(p)"
   ]
  },
  {
   "cell_type": "code",
   "execution_count": 4,
   "id": "e9118708",
   "metadata": {},
   "outputs": [
    {
     "name": "stdout",
     "output_type": "stream",
     "text": [
      "68455\n"
     ]
    }
   ],
   "source": [
    "ids = [f for f in os.listdir(metadatapath)]\n",
    "print(len(ids))\n",
    "\n",
    "if not os.path.exists(metadatacsvpath):\n",
    "    fieldnames = ['id', 'duration', 'downloads', 'rating', 'numratings', 'tags']\n",
    "    rows = []\n",
    "\n",
    "    for id in ids:        \n",
    "        with open(metadatapath + \"/\" + id) as file:\n",
    "            try:\n",
    "                id = int(id)\n",
    "                line = file.readlines()[0]\n",
    "                arguments = line.split('|')\n",
    "                duration = int(arguments[0].split('duration:')[1])\n",
    "                downloads = int(arguments[1].split('downloads:')[1])\n",
    "                rating = int(arguments[2].split('rating:')[1])\n",
    "                numratings = int(arguments[3].split('numratings:')[1])\n",
    "                tags = arguments[4].split('tags:')[1]\n",
    "                row = {\n",
    "                    'id': id,\n",
    "                    'duration': duration,\n",
    "                    'downloads': downloads,\n",
    "                    'rating': rating,\n",
    "                    'numratings': numratings,\n",
    "                    'tags': tags\n",
    "                }\n",
    "                rows.append(row)\n",
    "            except Exception as e:\n",
    "                print(e)\n",
    "\n",
    "    with open(metadatacsvpath, 'w') as csvfile:\n",
    "        writer = csv.DictWriter(csvfile, fieldnames = fieldnames)\n",
    "        writer.writeheader()\n",
    "        writer.writerows(rows)\n",
    "        \n",
    "def read_csv(filename):\n",
    "    with open(filename) as f:\n",
    "        file_data = csv.reader(f)\n",
    "        headers = next(file_data)\n",
    "        return [dict(zip(headers, i)) for i in file_data] \n",
    "\n",
    "metadata = read_csv(metadatacsvpath)"
   ]
  },
  {
   "cell_type": "code",
   "execution_count": 5,
   "id": "d40e5051",
   "metadata": {},
   "outputs": [
    {
     "name": "stdout",
     "output_type": "stream",
     "text": [
      "974\n"
     ]
    }
   ],
   "source": [
    "excluded = [f for f in os.listdir(excludedpath)]\n",
    "excluded = [f for f in excluded if f.endswith(audiofileformat)]\n",
    "excluded = [f.split('.' + audiofileformat)[0] for f in excluded]\n",
    "\n",
    "print(len(excluded))"
   ]
  },
  {
   "cell_type": "code",
   "execution_count": 6,
   "id": "a3d2972c",
   "metadata": {},
   "outputs": [
    {
     "name": "stdout",
     "output_type": "stream",
     "text": [
      "2496\n",
      "['60009', 319, 67854, 86, 561, 'zoom-h2,domain,public,punch,swhish,swish,swoosh,swosh,whip,whoosh,woosh,stick,swash,zoom,swing,wind,wisch,attack,bamboo,cut,wish,flup,h2,luft,weapon,public-domain,air', 5835444]\n"
     ]
    }
   ],
   "source": [
    "DOWNLOADS_THRESHOLD = 25\n",
    "RATING_THRESHOLD = 80\n",
    "MIN_NUMRATINGS = 4\n",
    "\n",
    "scored = []\n",
    "for sample in metadata:            \n",
    "    id = sample['id']\n",
    "    if id in excluded:\n",
    "        continue\n",
    "\n",
    "    duration = int(sample['duration'])\n",
    "    downloads = int(sample['downloads'])\n",
    "    rating = int(sample['rating'])\n",
    "    numratings = int(sample['numratings'])\n",
    "    tags = sample['tags']\n",
    "\n",
    "    if len(tags) > 0 and downloads >= DOWNLOADS_THRESHOLD and rating >= RATING_THRESHOLD and numratings >= MIN_NUMRATINGS:\n",
    "        row = [id, duration, downloads, rating, numratings, tags, rating * downloads]\n",
    "        scored.append(row)\n",
    "\n",
    "print(len(scored))\n",
    "\n",
    "scored.sort(key=lambda x: int(x[6]))\n",
    "scored.reverse()\n",
    "\n",
    "print(scored[0])"
   ]
  },
  {
   "cell_type": "code",
   "execution_count": 7,
   "id": "f546447e",
   "metadata": {},
   "outputs": [
    {
     "name": "stdout",
     "output_type": "stream",
     "text": [
      "{'duration': 319, 'downloads': 67854, 'rating': 86, 'numratings': 561, 'tags': 'zoom-h2,domain,public,punch,swhish,swish,swoosh,swosh,whip,whoosh,woosh,stick,swash,zoom,swing,wind,wisch,attack,bamboo,cut,wish,flup,h2,luft,weapon,public-domain,air', 'score': 5835444}\n"
     ]
    }
   ],
   "source": [
    "samples = {}\n",
    "\n",
    "for row in scored:\n",
    "    id = row[0]\n",
    "    samples[id] = {\n",
    "        'duration': row[1],\n",
    "        'downloads': row[2],\n",
    "        'rating': row[3],\n",
    "        'numratings': row[4],\n",
    "        'tags': row[5],\n",
    "        'score': row[6],\n",
    "    }\n",
    "    \n",
    "print(samples[scored[0][0]])"
   ]
  },
  {
   "cell_type": "code",
   "execution_count": 8,
   "id": "455e4ee0",
   "metadata": {},
   "outputs": [
    {
     "name": "stdout",
     "output_type": "stream",
     "text": [
      "fileformats {'flac': 2888, 'wav': 46250, 'mp3': 2936, 'aiff': 19174, 'ogg': 679, 'm4a': 142, 'crdownload': 15, 'DS_Store': 1}\n",
      "all_filenames: 72085\n",
      "filtered filenames 2492\n"
     ]
    }
   ],
   "source": [
    "def get_fileformat(filename):\n",
    "    return filename.split('.')[len(filename.split('.')) - 1]\n",
    "\n",
    "all_filenames = [f for f in os.listdir(librarypath)]\n",
    "fileformats = {}\n",
    "for filename in all_filenames:\n",
    "    fileformat = get_fileformat(filename)\n",
    "    \n",
    "    if fileformat not in fileformats:\n",
    "        fileformats[fileformat] = 0\n",
    "         \n",
    "    fileformats[fileformat] = fileformats[fileformat] + 1\n",
    "    \n",
    "print('fileformats', fileformats)\n",
    "print('all_filenames:', len(all_filenames))\n",
    "\n",
    "processedfilenames = [f for f in os.listdir(audiopath) if f.endswith(audiofileformat)]\n",
    "\n",
    "filenames = [f for f in os.listdir(librarypath) if f.endswith(tuple(allowedfileformats))]\n",
    "filenames = [f for f in filenames if f.count('__') == 2]\n",
    "filtered = []\n",
    "\n",
    "for filename in filenames:\n",
    "    id = filename.split('__')[0]\n",
    "    \n",
    "    for row in scored:\n",
    "        if row[0] == id:\n",
    "            filtered.append(filename)\n",
    "filenames = filtered\n",
    "print('filtered filenames', len(filenames))"
   ]
  },
  {
   "cell_type": "code",
   "execution_count": 9,
   "id": "0480e41a",
   "metadata": {},
   "outputs": [],
   "source": [
    "def create_or_read_file(command, outfilename):\n",
    "    if os.path.exists(outfilename):\n",
    "        f = open(outfilename, \"r\")\n",
    "        out = ''.join(f.readlines())\n",
    "        f.close()\n",
    "        return out\n",
    "    else:\n",
    "        try:\n",
    "            out = str(subprocess.check_output(command).decode(encoding=\"utf-8\")).strip().replace('\\\\n', '').replace(\"'\", \"\")\n",
    "\n",
    "            with open(outfilename, 'w') as file:\n",
    "                file.write(out)\n",
    "\n",
    "            return out\n",
    "        except Exception as e:\n",
    "            return "
   ]
  },
  {
   "cell_type": "code",
   "execution_count": 10,
   "id": "3cc3ebeb",
   "metadata": {
    "scrolled": true
   },
   "outputs": [
    {
     "name": "stderr",
     "output_type": "stream",
     "text": [
      "\u001b[31mERROR: Output extension mp3 does not support PCM audio. Please choose a suitable audio codec with the -c:a option.\u001b[0m\n"
     ]
    },
    {
     "name": "stdout",
     "output_type": "stream",
     "text": [
      "Command '['ffmpeg-normalize', '/mnt/freesound-crawler/downloads/512389__kievinay__bass-impact-ki-01.mp3', '-o', '/mnt/freesound-crawler/processed/normalized/512389__kievinay__bass-impact-ki-01.mp3']' returned non-zero exit status 1.\n"
     ]
    },
    {
     "name": "stderr",
     "output_type": "stream",
     "text": [
      "\u001b[31mERROR: Output extension flac does not support PCM audio. Please choose a suitable audio codec with the -c:a option.\u001b[0m\n"
     ]
    },
    {
     "name": "stdout",
     "output_type": "stream",
     "text": [
      "Command '['ffmpeg-normalize', '/mnt/freesound-crawler/downloads/60015__qubodup__writing-z-for-zorro-in-the-air.flac', '-o', '/mnt/freesound-crawler/processed/normalized/60015__qubodup__writing-z-for-zorro-in-the-air.flac']' returned non-zero exit status 1.\n"
     ]
    },
    {
     "name": "stderr",
     "output_type": "stream",
     "text": [
      "\u001b[31mERROR: Output extension flac does not support PCM audio. Please choose a suitable audio codec with the -c:a option.\u001b[0m\n"
     ]
    },
    {
     "name": "stdout",
     "output_type": "stream",
     "text": [
      "Command '['ffmpeg-normalize', '/mnt/freesound-crawler/downloads/453333__kyles__metal-crank-groan.flac', '-o', '/mnt/freesound-crawler/processed/normalized/453333__kyles__metal-crank-groan.flac']' returned non-zero exit status 1.\n"
     ]
    },
    {
     "name": "stderr",
     "output_type": "stream",
     "text": [
      "\u001b[31mERROR: Output extension flac does not support PCM audio. Please choose a suitable audio codec with the -c:a option.\u001b[0m\n"
     ]
    },
    {
     "name": "stdout",
     "output_type": "stream",
     "text": [
      "Command '['ffmpeg-normalize', '/mnt/freesound-crawler/downloads/67666__qubodup__voice-male-radio-take-the-shot-1.flac', '-o', '/mnt/freesound-crawler/processed/normalized/67666__qubodup__voice-male-radio-take-the-shot-1.flac']' returned non-zero exit status 1.\n"
     ]
    },
    {
     "name": "stderr",
     "output_type": "stream",
     "text": [
      "\u001b[31mERROR: Output extension flac does not support PCM audio. Please choose a suitable audio codec with the -c:a option.\u001b[0m\n"
     ]
    },
    {
     "name": "stdout",
     "output_type": "stream",
     "text": [
      "Command '['ffmpeg-normalize', '/mnt/freesound-crawler/downloads/60001__qubodup__air-cutting-14.flac', '-o', '/mnt/freesound-crawler/processed/normalized/60001__qubodup__air-cutting-14.flac']' returned non-zero exit status 1.\n"
     ]
    },
    {
     "name": "stderr",
     "output_type": "stream",
     "text": [
      "\u001b[33mWARNING: Audio stream has a duration of less than 3 seconds. Normalization may not work. See https://github.com/slhck/ffmpeg-normalize/issues/87 for more info.\u001b[0m\n",
      "\u001b[31mERROR: Error while running command /usr/bin/ffmpeg -y -nostdin -i /mnt/freesound-crawler/downloads/98905__kuru23__goakick01.aiff -filter_complex '[0:0]loudnorm=i=-23.0:lra=7.0:tp=-2.0:offset=0.05:measured_i=-9.05:measured_lra=0.0:measured_tp=0.01:measured_thresh=-19.05:linear=true:print_format=json[norm0]' -map_metadata 0 -map_metadata:s:a:0 0:s:a:0 -map_chapters 0 -map '[norm0]' -c:a:0 pcm_s24le -c:s copy /tmp/tmpmjiggqjv/out.aiff! Error: Error running command ['/usr/bin/ffmpeg', '-y', '-nostdin', '-i', '/mnt/freesound-crawler/downloads/98905__kuru23__goakick01.aiff', '-filter_complex', '[0:0]loudnorm=i=-23.0:lra=7.0:tp=-2.0:offset=0.05:measured_i=-9.05:measured_lra=0.0:measured_tp=0.01:measured_thresh=-19.05:linear=true:print_format=json[norm0]', '-map_metadata', '0', '-map_metadata:s:a:0', '0:s:a:0', '-map_chapters', '0', '-map', '[norm0]', '-c:a:0', 'pcm_s24le', '-c:s', 'copy', '/tmp/tmpmjiggqjv/out.aiff']: ffmpeg version 4.3.5-0+deb11u1 Copyright (c) 2000-2022 the FFmpeg developers\n",
      "built with gcc 10 (Debian 10.2.1-6)\n",
      "configuration: --prefix=/usr --extra-version=0+deb11u1 --toolchain=hardened --libdir=/usr/lib/x86_64-linux-gnu --incdir=/usr/include/x86_64-linux-gnu --arch=amd64 --enable-gpl --disable-stripping --enable-avresample --disable-filter=resample --enable-gnutls --enable-ladspa --enable-libaom --enable-libass --enable-libbluray --enable-libbs2b --enable-libcaca --enable-libcdio --enable-libcodec2 --enable-libdav1d --enable-libflite --enable-libfontconfig --enable-libfreetype --enable-libfribidi --enable-libgme --enable-libgsm --enable-libjack --enable-libmp3lame --enable-libmysofa --enable-libopenjpeg --enable-libopenmpt --enable-libopus --enable-libpulse --enable-librabbitmq --enable-librsvg --enable-librubberband --enable-libshine --enable-libsnappy --enable-libsoxr --enable-libspeex --enable-libsrt --enable-libssh --enable-libtheora --enable-libtwolame --enable-libvidstab --enable-libvorbis --enable-libvpx --enable-libwavpack --enable-libwebp --enable-libx265 --enable-libxml2 --enable-libxvid --enable-libzmq --enable-libzvbi --enable-lv2 --enable-omx --enable-openal --enable-opencl --enable-opengl --enable-sdl2 --enable-pocketsphinx --enable-libmfx --enable-libdc1394 --enable-libdrm --enable-libiec61883 --enable-chromaprint --enable-frei0r --enable-libx264 --enable-shared\n",
      "libavutil      56. 51.100 / 56. 51.100\n",
      "libavcodec     58. 91.100 / 58. 91.100\n",
      "libavformat    58. 45.100 / 58. 45.100\n",
      "libavdevice    58. 10.100 / 58. 10.100\n",
      "libavfilter     7. 85.100 /  7. 85.100\n",
      "libavresample   4.  0.  0 /  4.  0.  0\n",
      "libswscale      5.  7.100 /  5.  7.100\n",
      "libswresample   3.  7.100 /  3.  7.100\n",
      "libpostproc    55.  7.100 / 55.  7.100\n",
      "Input #0, aiff, from '/mnt/freesound-crawler/downloads/98905__kuru23__goakick01.aiff':\n",
      "Duration: 00:00:00.44, start: 0.000000, bitrate: 2126 kb/s\n",
      "Stream #0:0: Audio: pcm_s24be, 44100 Hz, stereo, s32 (24 bit), 2116 kb/s\n",
      "Stream mapping:\n",
      "Stream #0:0 (pcm_s24be) -> loudnorm\n",
      "loudnorm -> Stream #0:0 (pcm_s24le)\n",
      "Could not write header for output file #0 (incorrect codec parameters ?): Invalid argument\n",
      "Error initializing output stream 0:0 --\n",
      "[Parsed_loudnorm_0 @ 0x55a29d57cc80]\n",
      "{\n",
      "\"input_i\" : \"-inf\",\n",
      "\"input_tp\" : \"-inf\",\n",
      "\"input_lra\" : \"0.00\",\n",
      "\"input_thresh\" : \"-70.00\",\n",
      "\"output_i\" : \"-inf\",\n",
      "\"output_tp\" : \"-inf\",\n",
      "\"output_lra\" : \"0.00\",\n",
      "\"output_thresh\" : \"-70.00\",\n",
      "\"normalization_type\" : \"dynamic\",\n",
      "\"target_offset\" : \"inf\"\n",
      "}\n",
      "Conversion failed!\n",
      "\n",
      "\n",
      "\n",
      "\u001b[0m\n",
      "Traceback (most recent call last):\n",
      "  File \"/home/andrus/.local/bin/ffmpeg-normalize\", line 8, in <module>\n",
      "    sys.exit(main())\n",
      "  File \"/home/andrus/.local/lib/python3.9/site-packages/ffmpeg_normalize/__main__.py\", line 553, in main\n",
      "    ffmpeg_normalize.run_normalization()\n",
      "  File \"/home/andrus/.local/lib/python3.9/site-packages/ffmpeg_normalize/_ffmpeg_normalize.py\", line 237, in run_normalization\n",
      "    raise e\n",
      "  File \"/home/andrus/.local/lib/python3.9/site-packages/ffmpeg_normalize/_ffmpeg_normalize.py\", line 227, in run_normalization\n",
      "    media_file.run_normalization()\n",
      "  File \"/home/andrus/.local/lib/python3.9/site-packages/ffmpeg_normalize/_media_file.py\", line 194, in run_normalization\n",
      "    for _ in self._second_pass():\n",
      "  File \"/home/andrus/.local/lib/python3.9/site-packages/ffmpeg_normalize/_media_file.py\", line 406, in _second_pass\n",
      "    raise e\n",
      "  File \"/home/andrus/.local/lib/python3.9/site-packages/ffmpeg_normalize/_media_file.py\", line 397, in _second_pass\n",
      "    raise e\n",
      "  File \"/home/andrus/.local/lib/python3.9/site-packages/ffmpeg_normalize/_media_file.py\", line 393, in _second_pass\n",
      "    yield from CommandRunner().run_ffmpeg_command(cmd)\n",
      "  File \"/home/andrus/.local/lib/python3.9/site-packages/ffmpeg_normalize/_cmd_utils.py\", line 80, in run_ffmpeg_command\n",
      "    yield from ff.run_command_with_progress()\n",
      "  File \"/home/andrus/.local/lib/python3.9/site-packages/ffmpeg_progress_yield/ffmpeg_progress_yield.py\", line 189, in run_command_with_progress\n",
      "    raise RuntimeError(f\"Error running command {self.cmd}: {_pretty_stderr}\")\n",
      "RuntimeError: Error running command ['/usr/bin/ffmpeg', '-y', '-nostdin', '-i', '/mnt/freesound-crawler/downloads/98905__kuru23__goakick01.aiff', '-filter_complex', '[0:0]loudnorm=i=-23.0:lra=7.0:tp=-2.0:offset=0.05:measured_i=-9.05:measured_lra=0.0:measured_tp=0.01:measured_thresh=-19.05:linear=true:print_format=json[norm0]', '-map_metadata', '0', '-map_metadata:s:a:0', '0:s:a:0', '-map_chapters', '0', '-map', '[norm0]', '-c:a:0', 'pcm_s24le', '-c:s', 'copy', '/tmp/tmpmjiggqjv/out.aiff']: ffmpeg version 4.3.5-0+deb11u1 Copyright (c) 2000-2022 the FFmpeg developers\n",
      "built with gcc 10 (Debian 10.2.1-6)\n",
      "configuration: --prefix=/usr --extra-version=0+deb11u1 --toolchain=hardened --libdir=/usr/lib/x86_64-linux-gnu --incdir=/usr/include/x86_64-linux-gnu --arch=amd64 --enable-gpl --disable-stripping --enable-avresample --disable-filter=resample --enable-gnutls --enable-ladspa --enable-libaom --enable-libass --enable-libbluray --enable-libbs2b --enable-libcaca --enable-libcdio --enable-libcodec2 --enable-libdav1d --enable-libflite --enable-libfontconfig --enable-libfreetype --enable-libfribidi --enable-libgme --enable-libgsm --enable-libjack --enable-libmp3lame --enable-libmysofa --enable-libopenjpeg --enable-libopenmpt --enable-libopus --enable-libpulse --enable-librabbitmq --enable-librsvg --enable-librubberband --enable-libshine --enable-libsnappy --enable-libsoxr --enable-libspeex --enable-libsrt --enable-libssh --enable-libtheora --enable-libtwolame --enable-libvidstab --enable-libvorbis --enable-libvpx --enable-libwavpack --enable-libwebp --enable-libx265 --enable-libxml2 --enable-libxvid --enable-libzmq --enable-libzvbi --enable-lv2 --enable-omx --enable-openal --enable-opencl --enable-opengl --enable-sdl2 --enable-pocketsphinx --enable-libmfx --enable-libdc1394 --enable-libdrm --enable-libiec61883 --enable-chromaprint --enable-frei0r --enable-libx264 --enable-shared\n",
      "libavutil      56. 51.100 / 56. 51.100\n",
      "libavcodec     58. 91.100 / 58. 91.100\n",
      "libavformat    58. 45.100 / 58. 45.100\n",
      "libavdevice    58. 10.100 / 58. 10.100\n",
      "libavfilter     7. 85.100 /  7. 85.100\n",
      "libavresample   4.  0.  0 /  4.  0.  0\n",
      "libswscale      5.  7.100 /  5.  7.100\n",
      "libswresample   3.  7.100 /  3.  7.100\n",
      "libpostproc    55.  7.100 / 55.  7.100\n",
      "Input #0, aiff, from '/mnt/freesound-crawler/downloads/98905__kuru23__goakick01.aiff':\n",
      "Duration: 00:00:00.44, start: 0.000000, bitrate: 2126 kb/s\n",
      "Stream #0:0: Audio: pcm_s24be, 44100 Hz, stereo, s32 (24 bit), 2116 kb/s\n",
      "Stream mapping:\n",
      "Stream #0:0 (pcm_s24be) -> loudnorm\n",
      "loudnorm -> Stream #0:0 (pcm_s24le)\n",
      "Could not write header for output file #0 (incorrect codec parameters ?): Invalid argument\n",
      "Error initializing output stream 0:0 --\n",
      "[Parsed_loudnorm_0 @ 0x55a29d57cc80]\n",
      "{\n",
      "\"input_i\" : \"-inf\",\n",
      "\"input_tp\" : \"-inf\",\n",
      "\"input_lra\" : \"0.00\",\n",
      "\"input_thresh\" : \"-70.00\",\n",
      "\"output_i\" : \"-inf\",\n",
      "\"output_tp\" : \"-inf\",\n",
      "\"output_lra\" : \"0.00\",\n",
      "\"output_thresh\" : \"-70.00\",\n",
      "\"normalization_type\" : \"dynamic\",\n",
      "\"target_offset\" : \"inf\"\n",
      "}\n",
      "Conversion failed!\n",
      "\n",
      "\n",
      "\n",
      "\n"
     ]
    },
    {
     "name": "stdout",
     "output_type": "stream",
     "text": [
      "Command '['ffmpeg-normalize', '/mnt/freesound-crawler/downloads/98905__kuru23__goakick01.aiff', '-o', '/mnt/freesound-crawler/processed/normalized/98905__kuru23__goakick01.aiff']' returned non-zero exit status 1.\n"
     ]
    },
    {
     "name": "stderr",
     "output_type": "stream",
     "text": [
      "\u001b[31mERROR: Output extension flac does not support PCM audio. Please choose a suitable audio codec with the -c:a option.\u001b[0m\n"
     ]
    },
    {
     "name": "stdout",
     "output_type": "stream",
     "text": [
      "Command '['ffmpeg-normalize', '/mnt/freesound-crawler/downloads/60006__qubodup__swoosh-metal-rod-swing-sound-made-with-bamboo-stick.flac', '-o', '/mnt/freesound-crawler/processed/normalized/60006__qubodup__swoosh-metal-rod-swing-sound-made-with-bamboo-stick.flac']' returned non-zero exit status 1.\n"
     ]
    },
    {
     "name": "stderr",
     "output_type": "stream",
     "text": [
      "\u001b[31mERROR: Output extension flac does not support PCM audio. Please choose a suitable audio codec with the -c:a option.\u001b[0m\n"
     ]
    },
    {
     "name": "stdout",
     "output_type": "stream",
     "text": [
      "Command '['ffmpeg-normalize', '/mnt/freesound-crawler/downloads/161967__qubodup__to-war-assault-drill-sergeant-shout.flac', '-o', '/mnt/freesound-crawler/processed/normalized/161967__qubodup__to-war-assault-drill-sergeant-shout.flac']' returned non-zero exit status 1.\n"
     ]
    },
    {
     "name": "stderr",
     "output_type": "stream",
     "text": [
      "\u001b[31mERROR: Output extension mp3 does not support PCM audio. Please choose a suitable audio codec with the -c:a option.\u001b[0m\n"
     ]
    },
    {
     "name": "stdout",
     "output_type": "stream",
     "text": [
      "Command '['ffmpeg-normalize', '/mnt/freesound-crawler/downloads/49026__suspiciononline__kit-hat1.mp3', '-o', '/mnt/freesound-crawler/processed/normalized/49026__suspiciononline__kit-hat1.mp3']' returned non-zero exit status 1.\n"
     ]
    },
    {
     "name": "stderr",
     "output_type": "stream",
     "text": [
      "\u001b[31mERROR: Output extension flac does not support PCM audio. Please choose a suitable audio codec with the -c:a option.\u001b[0m\n"
     ]
    },
    {
     "name": "stdout",
     "output_type": "stream",
     "text": [
      "Command '['ffmpeg-normalize', '/mnt/freesound-crawler/downloads/161970__qubodup__firing-mortar-at-shooting-range.flac', '-o', '/mnt/freesound-crawler/processed/normalized/161970__qubodup__firing-mortar-at-shooting-range.flac']' returned non-zero exit status 1.\n"
     ]
    },
    {
     "name": "stderr",
     "output_type": "stream",
     "text": [
      "\u001b[31mERROR: Output extension ogg does not support PCM audio. Please choose a suitable audio codec with the -c:a option.\u001b[0m\n"
     ]
    },
    {
     "name": "stdout",
     "output_type": "stream",
     "text": [
      "Command '['ffmpeg-normalize', '/mnt/freesound-crawler/downloads/545338__stwime__beep-boop.ogg', '-o', '/mnt/freesound-crawler/processed/normalized/545338__stwime__beep-boop.ogg']' returned non-zero exit status 1.\n"
     ]
    },
    {
     "name": "stderr",
     "output_type": "stream",
     "text": [
      "\u001b[31mERROR: Output extension flac does not support PCM audio. Please choose a suitable audio codec with the -c:a option.\u001b[0m\n"
     ]
    },
    {
     "name": "stdout",
     "output_type": "stream",
     "text": [
      "Command '['ffmpeg-normalize', '/mnt/freesound-crawler/downloads/67648__qubodup__movement-right-there-soldier-radio-talk.flac', '-o', '/mnt/freesound-crawler/processed/normalized/67648__qubodup__movement-right-there-soldier-radio-talk.flac']' returned non-zero exit status 1.\n"
     ]
    },
    {
     "name": "stderr",
     "output_type": "stream",
     "text": [
      "\u001b[31mERROR: Output extension ogg does not support PCM audio. Please choose a suitable audio codec with the -c:a option.\u001b[0m\n"
     ]
    },
    {
     "name": "stdout",
     "output_type": "stream",
     "text": [
      "Command '['ffmpeg-normalize', '/mnt/freesound-crawler/downloads/395326__ihitokage__block-2.ogg', '-o', '/mnt/freesound-crawler/processed/normalized/395326__ihitokage__block-2.ogg']' returned non-zero exit status 1.\n"
     ]
    },
    {
     "name": "stderr",
     "output_type": "stream",
     "text": [
      "\u001b[31mERROR: Output extension flac does not support PCM audio. Please choose a suitable audio codec with the -c:a option.\u001b[0m\n"
     ]
    },
    {
     "name": "stdout",
     "output_type": "stream",
     "text": [
      "Command '['ffmpeg-normalize', '/mnt/freesound-crawler/downloads/162401__qubodup__m203-grenade-launcher-2.flac', '-o', '/mnt/freesound-crawler/processed/normalized/162401__qubodup__m203-grenade-launcher-2.flac']' returned non-zero exit status 1.\n"
     ]
    },
    {
     "name": "stderr",
     "output_type": "stream",
     "text": [
      "\u001b[31mERROR: Output extension flac does not support PCM audio. Please choose a suitable audio codec with the -c:a option.\u001b[0m\n"
     ]
    },
    {
     "name": "stdout",
     "output_type": "stream",
     "text": [
      "Command '['ffmpeg-normalize', '/mnt/freesound-crawler/downloads/169727__qubodup__horror-sliding-transition.flac', '-o', '/mnt/freesound-crawler/processed/normalized/169727__qubodup__horror-sliding-transition.flac']' returned non-zero exit status 1.\n"
     ]
    },
    {
     "name": "stderr",
     "output_type": "stream",
     "text": [
      "\u001b[31mERROR: Output extension flac does not support PCM audio. Please choose a suitable audio codec with the -c:a option.\u001b[0m\n"
     ]
    },
    {
     "name": "stdout",
     "output_type": "stream",
     "text": [
      "Command '['ffmpeg-normalize', '/mnt/freesound-crawler/downloads/67665__qubodup__voice-male-radio-stand-by-1.flac', '-o', '/mnt/freesound-crawler/processed/normalized/67665__qubodup__voice-male-radio-stand-by-1.flac']' returned non-zero exit status 1.\n"
     ]
    },
    {
     "name": "stderr",
     "output_type": "stream",
     "text": [
      "\u001b[31mERROR: Output extension flac does not support PCM audio. Please choose a suitable audio codec with the -c:a option.\u001b[0m\n"
     ]
    },
    {
     "name": "stdout",
     "output_type": "stream",
     "text": [
      "Command '['ffmpeg-normalize', '/mnt/freesound-crawler/downloads/612686__foleyhaven__pig-grunt-04.flac', '-o', '/mnt/freesound-crawler/processed/normalized/612686__foleyhaven__pig-grunt-04.flac']' returned non-zero exit status 1.\n"
     ]
    },
    {
     "name": "stderr",
     "output_type": "stream",
     "text": [
      "\u001b[31mERROR: Output extension ogg does not support PCM audio. Please choose a suitable audio codec with the -c:a option.\u001b[0m\n"
     ]
    },
    {
     "name": "stdout",
     "output_type": "stream",
     "text": [
      "Command '['ffmpeg-normalize', '/mnt/freesound-crawler/downloads/395350__ihitokage__slap-1.ogg', '-o', '/mnt/freesound-crawler/processed/normalized/395350__ihitokage__slap-1.ogg']' returned non-zero exit status 1.\n"
     ]
    },
    {
     "name": "stderr",
     "output_type": "stream",
     "text": [
      "\u001b[31mERROR: Output extension flac does not support PCM audio. Please choose a suitable audio codec with the -c:a option.\u001b[0m\n"
     ]
    },
    {
     "name": "stdout",
     "output_type": "stream",
     "text": [
      "Command '['ffmpeg-normalize', '/mnt/freesound-crawler/downloads/60009__qubodup__swosh-22.flac', '-o', '/mnt/freesound-crawler/processed/normalized/60009__qubodup__swosh-22.flac']' returned non-zero exit status 1.\n"
     ]
    },
    {
     "name": "stderr",
     "output_type": "stream",
     "text": [
      "\u001b[31mERROR: Output extension flac does not support PCM audio. Please choose a suitable audio codec with the -c:a option.\u001b[0m\n"
     ]
    },
    {
     "name": "stdout",
     "output_type": "stream",
     "text": [
      "Command '['ffmpeg-normalize', '/mnt/freesound-crawler/downloads/60000__qubodup__13th-whoosh-swing-sound.flac', '-o', '/mnt/freesound-crawler/processed/normalized/60000__qubodup__13th-whoosh-swing-sound.flac']' returned non-zero exit status 1.\n"
     ]
    },
    {
     "name": "stderr",
     "output_type": "stream",
     "text": [
      "\u001b[31mERROR: Output extension flac does not support PCM audio. Please choose a suitable audio codec with the -c:a option.\u001b[0m\n"
     ]
    },
    {
     "name": "stdout",
     "output_type": "stream",
     "text": [
      "Command '['ffmpeg-normalize', '/mnt/freesound-crawler/downloads/60014__qubodup__swosh-27.flac', '-o', '/mnt/freesound-crawler/processed/normalized/60014__qubodup__swosh-27.flac']' returned non-zero exit status 1.\n"
     ]
    },
    {
     "name": "stderr",
     "output_type": "stream",
     "text": [
      "\u001b[31mERROR: Output extension ogg does not support PCM audio. Please choose a suitable audio codec with the -c:a option.\u001b[0m\n"
     ]
    },
    {
     "name": "stdout",
     "output_type": "stream",
     "text": [
      "Command '['ffmpeg-normalize', '/mnt/freesound-crawler/downloads/395333__ihitokage__grab-2.ogg', '-o', '/mnt/freesound-crawler/processed/normalized/395333__ihitokage__grab-2.ogg']' returned non-zero exit status 1.\n"
     ]
    },
    {
     "name": "stderr",
     "output_type": "stream",
     "text": [
      "\u001b[31mERROR: Output extension ogg does not support PCM audio. Please choose a suitable audio codec with the -c:a option.\u001b[0m\n"
     ]
    },
    {
     "name": "stdout",
     "output_type": "stream",
     "text": [
      "Command '['ffmpeg-normalize', '/mnt/freesound-crawler/downloads/536736__egomassive__chop.ogg', '-o', '/mnt/freesound-crawler/processed/normalized/536736__egomassive__chop.ogg']' returned non-zero exit status 1.\n"
     ]
    },
    {
     "name": "stderr",
     "output_type": "stream",
     "text": [
      "\u001b[31mERROR: Output extension flac does not support PCM audio. Please choose a suitable audio codec with the -c:a option.\u001b[0m\n"
     ]
    },
    {
     "name": "stdout",
     "output_type": "stream",
     "text": [
      "Command '['ffmpeg-normalize', '/mnt/freesound-crawler/downloads/450725__kyles__basketball-grab-2versions.flac', '-o', '/mnt/freesound-crawler/processed/normalized/450725__kyles__basketball-grab-2versions.flac']' returned non-zero exit status 1.\n"
     ]
    },
    {
     "name": "stderr",
     "output_type": "stream",
     "text": [
      "\u001b[31mERROR: Output extension ogg does not support PCM audio. Please choose a suitable audio codec with the -c:a option.\u001b[0m\n"
     ]
    },
    {
     "name": "stdout",
     "output_type": "stream",
     "text": [
      "Command '['ffmpeg-normalize', '/mnt/freesound-crawler/downloads/536746__egomassive__pig.ogg', '-o', '/mnt/freesound-crawler/processed/normalized/536746__egomassive__pig.ogg']' returned non-zero exit status 1.\n"
     ]
    },
    {
     "name": "stderr",
     "output_type": "stream",
     "text": [
      "\u001b[31mERROR: Output extension ogg does not support PCM audio. Please choose a suitable audio codec with the -c:a option.\u001b[0m\n"
     ]
    },
    {
     "name": "stdout",
     "output_type": "stream",
     "text": [
      "Command '['ffmpeg-normalize', '/mnt/freesound-crawler/downloads/154888__unfa__beep-bad.ogg', '-o', '/mnt/freesound-crawler/processed/normalized/154888__unfa__beep-bad.ogg']' returned non-zero exit status 1.\n"
     ]
    },
    {
     "name": "stderr",
     "output_type": "stream",
     "text": [
      "\u001b[31mERROR: Output extension ogg does not support PCM audio. Please choose a suitable audio codec with the -c:a option.\u001b[0m\n"
     ]
    },
    {
     "name": "stdout",
     "output_type": "stream",
     "text": [
      "Command '['ffmpeg-normalize', '/mnt/freesound-crawler/downloads/395324__ihitokage__body-falling-on-the-ground-1.ogg', '-o', '/mnt/freesound-crawler/processed/normalized/395324__ihitokage__body-falling-on-the-ground-1.ogg']' returned non-zero exit status 1.\n"
     ]
    },
    {
     "name": "stderr",
     "output_type": "stream",
     "text": [
      "\u001b[31mERROR: Output extension flac does not support PCM audio. Please choose a suitable audio codec with the -c:a option.\u001b[0m\n"
     ]
    },
    {
     "name": "stdout",
     "output_type": "stream",
     "text": [
      "Command '['ffmpeg-normalize', '/mnt/freesound-crawler/downloads/60011__qubodup__whoosh-24.flac', '-o', '/mnt/freesound-crawler/processed/normalized/60011__qubodup__whoosh-24.flac']' returned non-zero exit status 1.\n"
     ]
    },
    {
     "name": "stderr",
     "output_type": "stream",
     "text": [
      "\u001b[31mERROR: Output extension ogg does not support PCM audio. Please choose a suitable audio codec with the -c:a option.\u001b[0m\n"
     ]
    },
    {
     "name": "stdout",
     "output_type": "stream",
     "text": [
      "Command '['ffmpeg-normalize', '/mnt/freesound-crawler/downloads/395331__ihitokage__body-falling-on-the-ground-1.ogg', '-o', '/mnt/freesound-crawler/processed/normalized/395331__ihitokage__body-falling-on-the-ground-1.ogg']' returned non-zero exit status 1.\n"
     ]
    },
    {
     "name": "stderr",
     "output_type": "stream",
     "text": [
      "\u001b[31mERROR: Output extension mp3 does not support PCM audio. Please choose a suitable audio codec with the -c:a option.\u001b[0m\n"
     ]
    },
    {
     "name": "stdout",
     "output_type": "stream",
     "text": [
      "Command '['ffmpeg-normalize', '/mnt/freesound-crawler/downloads/162465__kastenfrosch__lostitem.mp3', '-o', '/mnt/freesound-crawler/processed/normalized/162465__kastenfrosch__lostitem.mp3']' returned non-zero exit status 1.\n"
     ]
    },
    {
     "name": "stderr",
     "output_type": "stream",
     "text": [
      "\u001b[33mWARNING: Input file had loudness range of 10.7. This is larger than the loudness range target (7.0). Normalization will revert to dynamic mode. Choose a higher target loudness range if you want linear normalization. Alternatively, use the --keep-loudness-range-target option to keep the target loudness range from the input.\u001b[0m\n",
      "\u001b[33mWARNING: In dynamic mode, the sample rate will automatically be set to 192 kHz by the loudnorm filter. Specify -ar/--sample-rate to override it.\u001b[0m\n",
      "\u001b[31mERROR: Error while running command /usr/bin/ffmpeg -y -nostdin -i /mnt/freesound-crawler/downloads/10436__batchku__gbell-7-1-pp.aiff -filter_complex '[0:0]loudnorm=i=-23.0:lra=7.0:tp=-2.0:offset=-2.88:measured_i=-36.62:measured_lra=10.7:measured_tp=-17.82:measured_thresh=-49.74:linear=true:print_format=json[norm0]' -map_metadata 0 -map_metadata:s:a:0 0:s:a:0 -map_chapters 0 -map '[norm0]' -c:a:0 pcm_s24le -c:s copy /tmp/tmpvqujc5ol/out.aiff! Error: Error running command ['/usr/bin/ffmpeg', '-y', '-nostdin', '-i', '/mnt/freesound-crawler/downloads/10436__batchku__gbell-7-1-pp.aiff', '-filter_complex', '[0:0]loudnorm=i=-23.0:lra=7.0:tp=-2.0:offset=-2.88:measured_i=-36.62:measured_lra=10.7:measured_tp=-17.82:measured_thresh=-49.74:linear=true:print_format=json[norm0]', '-map_metadata', '0', '-map_metadata:s:a:0', '0:s:a:0', '-map_chapters', '0', '-map', '[norm0]', '-c:a:0', 'pcm_s24le', '-c:s', 'copy', '/tmp/tmpvqujc5ol/out.aiff']: ffmpeg version 4.3.5-0+deb11u1 Copyright (c) 2000-2022 the FFmpeg developers\n",
      "built with gcc 10 (Debian 10.2.1-6)\n",
      "configuration: --prefix=/usr --extra-version=0+deb11u1 --toolchain=hardened --libdir=/usr/lib/x86_64-linux-gnu --incdir=/usr/include/x86_64-linux-gnu --arch=amd64 --enable-gpl --disable-stripping --enable-avresample --disable-filter=resample --enable-gnutls --enable-ladspa --enable-libaom --enable-libass --enable-libbluray --enable-libbs2b --enable-libcaca --enable-libcdio --enable-libcodec2 --enable-libdav1d --enable-libflite --enable-libfontconfig --enable-libfreetype --enable-libfribidi --enable-libgme --enable-libgsm --enable-libjack --enable-libmp3lame --enable-libmysofa --enable-libopenjpeg --enable-libopenmpt --enable-libopus --enable-libpulse --enable-librabbitmq --enable-librsvg --enable-librubberband --enable-libshine --enable-libsnappy --enable-libsoxr --enable-libspeex --enable-libsrt --enable-libssh --enable-libtheora --enable-libtwolame --enable-libvidstab --enable-libvorbis --enable-libvpx --enable-libwavpack --enable-libwebp --enable-libx265 --enable-libxml2 --enable-libxvid --enable-libzmq --enable-libzvbi --enable-lv2 --enable-omx --enable-openal --enable-opencl --enable-opengl --enable-sdl2 --enable-pocketsphinx --enable-libmfx --enable-libdc1394 --enable-libdrm --enable-libiec61883 --enable-chromaprint --enable-frei0r --enable-libx264 --enable-shared\n",
      "libavutil      56. 51.100 / 56. 51.100\n",
      "libavcodec     58. 91.100 / 58. 91.100\n",
      "libavformat    58. 45.100 / 58. 45.100\n",
      "libavdevice    58. 10.100 / 58. 10.100\n",
      "libavfilter     7. 85.100 /  7. 85.100\n",
      "libavresample   4.  0.  0 /  4.  0.  0\n",
      "libswscale      5.  7.100 /  5.  7.100\n",
      "libswresample   3.  7.100 /  3.  7.100\n",
      "libpostproc    55.  7.100 / 55.  7.100\n",
      "Guessed Channel Layout for Input Stream #0.0 : stereo\n",
      "Input #0, aiff, from '/mnt/freesound-crawler/downloads/10436__batchku__gbell-7-1-pp.aiff':\n",
      "Duration: 00:00:03.16, start: 0.000000, bitrate: 2117 kb/s\n",
      "Stream #0:0: Audio: pcm_s24be, 44100 Hz, stereo, s32 (24 bit), 2116 kb/s\n",
      "Stream mapping:\n",
      "Stream #0:0 (pcm_s24be) -> loudnorm\n",
      "loudnorm -> Stream #0:0 (pcm_s24le)\n",
      "Could not write header for output file #0 (incorrect codec parameters ?): Invalid argument\n",
      "Error initializing output stream 0:0 --\n",
      "[Parsed_loudnorm_0 @ 0x561123513780]\n",
      "{\n",
      "\"input_i\" : \"-inf\",\n",
      "\"input_tp\" : \"-inf\",\n",
      "\"input_lra\" : \"0.00\",\n",
      "\"input_thresh\" : \"-70.00\",\n",
      "\"output_i\" : \"-inf\",\n",
      "\"output_tp\" : \"-inf\",\n",
      "\"output_lra\" : \"0.00\",\n",
      "\"output_thresh\" : \"-70.00\",\n",
      "\"normalization_type\" : \"dynamic\",\n",
      "\"target_offset\" : \"inf\"\n",
      "}\n",
      "Conversion failed!\n",
      "\n",
      "\n",
      "\n",
      "\n",
      "\n",
      "\n",
      "\n",
      "\n",
      "\n",
      "\n",
      "\n",
      "\n",
      "\n",
      "\n",
      "\n",
      "\n",
      "\n",
      "\n",
      "\n",
      "\n",
      "\n",
      "\n",
      "\n",
      "\n",
      "\n",
      "\n",
      "\n",
      "\n",
      "\n",
      "\n",
      "\n",
      "\n",
      "\n",
      "\n",
      "\n",
      "\n",
      "\n",
      "\n",
      "\n",
      "\n",
      "\n",
      "\n",
      "\n",
      "\n",
      "\n",
      "\n",
      "\n",
      "\n",
      "\n",
      "\n",
      "\n",
      "\n",
      "\n",
      "\n",
      "\n",
      "\n",
      "\n",
      "\n",
      "\n",
      "\n",
      "\n",
      "\n",
      "\n",
      "\n",
      "\n",
      "\n",
      "\n",
      "\n",
      "\n",
      "\n",
      "\n",
      "\n",
      "\n",
      "\n",
      "\n",
      "\n",
      "\n",
      "\n",
      "\n",
      "\n",
      "\n",
      "\n",
      "\n",
      "\n",
      "\n",
      "\n",
      "\n",
      "\n",
      "\n",
      "\n",
      "\n",
      "\n",
      "\n",
      "\n",
      "\n",
      "\n",
      "\n",
      "\n",
      "\n",
      "\n",
      "\n",
      "\n",
      "\n",
      "\n",
      "\n",
      "\n",
      "\n",
      "\n",
      "\n",
      "\n",
      "\n",
      "\n",
      "\n",
      "\n",
      "\n",
      "\n",
      "\n",
      "\n",
      "\n",
      "\n",
      "\n",
      "\n",
      "\n",
      "\n",
      "\n",
      "\n",
      "\n",
      "\n",
      "\n",
      "\n",
      "\n",
      "\n",
      "\n",
      "\n",
      "\n",
      "\n",
      "\n",
      "\n",
      "\n",
      "\n",
      "\n",
      "\n",
      "\n",
      "\n",
      "\n",
      "\n",
      "\n",
      "\n",
      "\n",
      "\n",
      "\n",
      "\n",
      "\n",
      "\n",
      "\n",
      "\n",
      "\n",
      "\n",
      "\n",
      "\n",
      "\n",
      "\n",
      "\n",
      "\n",
      "\n",
      "\n",
      "\n",
      "\n",
      "\n",
      "\n",
      "\n",
      "\n",
      "\n",
      "\n",
      "\n",
      "\n",
      "\n",
      "\n",
      "\n",
      "\n",
      "\n",
      "\n",
      "\n",
      "\n",
      "\n",
      "\n",
      "\n",
      "\n",
      "\n",
      "\n",
      "\n",
      "\n",
      "\n",
      "\n",
      "\n",
      "\n",
      "\n",
      "\n",
      "\n",
      "\n",
      "\n",
      "\n",
      "\n",
      "\n",
      "\n",
      "\n",
      "\n",
      "\n",
      "\n",
      "\n",
      "\n",
      "\n",
      "\u001b[0m\n",
      "Traceback (most recent call last):\n",
      "  File \"/home/andrus/.local/bin/ffmpeg-normalize\", line 8, in <module>\n",
      "    sys.exit(main())\n",
      "  File \"/home/andrus/.local/lib/python3.9/site-packages/ffmpeg_normalize/__main__.py\", line 553, in main\n",
      "    ffmpeg_normalize.run_normalization()\n",
      "  File \"/home/andrus/.local/lib/python3.9/site-packages/ffmpeg_normalize/_ffmpeg_normalize.py\", line 237, in run_normalization\n",
      "    raise e\n",
      "  File \"/home/andrus/.local/lib/python3.9/site-packages/ffmpeg_normalize/_ffmpeg_normalize.py\", line 227, in run_normalization\n",
      "    media_file.run_normalization()\n",
      "  File \"/home/andrus/.local/lib/python3.9/site-packages/ffmpeg_normalize/_media_file.py\", line 194, in run_normalization\n",
      "    for _ in self._second_pass():\n",
      "  File \"/home/andrus/.local/lib/python3.9/site-packages/ffmpeg_normalize/_media_file.py\", line 406, in _second_pass\n",
      "    raise e\n",
      "  File \"/home/andrus/.local/lib/python3.9/site-packages/ffmpeg_normalize/_media_file.py\", line 397, in _second_pass\n",
      "    raise e\n",
      "  File \"/home/andrus/.local/lib/python3.9/site-packages/ffmpeg_normalize/_media_file.py\", line 393, in _second_pass\n",
      "    yield from CommandRunner().run_ffmpeg_command(cmd)\n",
      "  File \"/home/andrus/.local/lib/python3.9/site-packages/ffmpeg_normalize/_cmd_utils.py\", line 80, in run_ffmpeg_command\n",
      "    yield from ff.run_command_with_progress()\n",
      "  File \"/home/andrus/.local/lib/python3.9/site-packages/ffmpeg_progress_yield/ffmpeg_progress_yield.py\", line 189, in run_command_with_progress\n",
      "    raise RuntimeError(f\"Error running command {self.cmd}: {_pretty_stderr}\")\n",
      "RuntimeError: Error running command ['/usr/bin/ffmpeg', '-y', '-nostdin', '-i', '/mnt/freesound-crawler/downloads/10436__batchku__gbell-7-1-pp.aiff', '-filter_complex', '[0:0]loudnorm=i=-23.0:lra=7.0:tp=-2.0:offset=-2.88:measured_i=-36.62:measured_lra=10.7:measured_tp=-17.82:measured_thresh=-49.74:linear=true:print_format=json[norm0]', '-map_metadata', '0', '-map_metadata:s:a:0', '0:s:a:0', '-map_chapters', '0', '-map', '[norm0]', '-c:a:0', 'pcm_s24le', '-c:s', 'copy', '/tmp/tmpvqujc5ol/out.aiff']: ffmpeg version 4.3.5-0+deb11u1 Copyright (c) 2000-2022 the FFmpeg developers\n",
      "built with gcc 10 (Debian 10.2.1-6)\n",
      "configuration: --prefix=/usr --extra-version=0+deb11u1 --toolchain=hardened --libdir=/usr/lib/x86_64-linux-gnu --incdir=/usr/include/x86_64-linux-gnu --arch=amd64 --enable-gpl --disable-stripping --enable-avresample --disable-filter=resample --enable-gnutls --enable-ladspa --enable-libaom --enable-libass --enable-libbluray --enable-libbs2b --enable-libcaca --enable-libcdio --enable-libcodec2 --enable-libdav1d --enable-libflite --enable-libfontconfig --enable-libfreetype --enable-libfribidi --enable-libgme --enable-libgsm --enable-libjack --enable-libmp3lame --enable-libmysofa --enable-libopenjpeg --enable-libopenmpt --enable-libopus --enable-libpulse --enable-librabbitmq --enable-librsvg --enable-librubberband --enable-libshine --enable-libsnappy --enable-libsoxr --enable-libspeex --enable-libsrt --enable-libssh --enable-libtheora --enable-libtwolame --enable-libvidstab --enable-libvorbis --enable-libvpx --enable-libwavpack --enable-libwebp --enable-libx265 --enable-libxml2 --enable-libxvid --enable-libzmq --enable-libzvbi --enable-lv2 --enable-omx --enable-openal --enable-opencl --enable-opengl --enable-sdl2 --enable-pocketsphinx --enable-libmfx --enable-libdc1394 --enable-libdrm --enable-libiec61883 --enable-chromaprint --enable-frei0r --enable-libx264 --enable-shared\n",
      "libavutil      56. 51.100 / 56. 51.100\n",
      "libavcodec     58. 91.100 / 58. 91.100\n",
      "libavformat    58. 45.100 / 58. 45.100\n",
      "libavdevice    58. 10.100 / 58. 10.100\n",
      "libavfilter     7. 85.100 /  7. 85.100\n",
      "libavresample   4.  0.  0 /  4.  0.  0\n",
      "libswscale      5.  7.100 /  5.  7.100\n",
      "libswresample   3.  7.100 /  3.  7.100\n",
      "libpostproc    55.  7.100 / 55.  7.100\n",
      "Guessed Channel Layout for Input Stream #0.0 : stereo\n",
      "Input #0, aiff, from '/mnt/freesound-crawler/downloads/10436__batchku__gbell-7-1-pp.aiff':\n",
      "Duration: 00:00:03.16, start: 0.000000, bitrate: 2117 kb/s\n",
      "Stream #0:0: Audio: pcm_s24be, 44100 Hz, stereo, s32 (24 bit), 2116 kb/s\n",
      "Stream mapping:\n",
      "Stream #0:0 (pcm_s24be) -> loudnorm\n",
      "loudnorm -> Stream #0:0 (pcm_s24le)\n",
      "Could not write header for output file #0 (incorrect codec parameters ?): Invalid argument\n",
      "Error initializing output stream 0:0 --\n",
      "[Parsed_loudnorm_0 @ 0x561123513780]\n",
      "{\n",
      "\"input_i\" : \"-inf\",\n",
      "\"input_tp\" : \"-inf\",\n",
      "\"input_lra\" : \"0.00\",\n",
      "\"input_thresh\" : \"-70.00\",\n",
      "\"output_i\" : \"-inf\",\n",
      "\"output_tp\" : \"-inf\",\n",
      "\"output_lra\" : \"0.00\",\n",
      "\"output_thresh\" : \"-70.00\",\n",
      "\"normalization_type\" : \"dynamic\",\n",
      "\"target_offset\" : \"inf\"\n",
      "}\n",
      "Conversion failed!\n",
      "\n",
      "\n",
      "\n",
      "\n",
      "\n",
      "\n",
      "\n",
      "\n",
      "\n",
      "\n",
      "\n",
      "\n",
      "\n",
      "\n",
      "\n",
      "\n",
      "\n",
      "\n",
      "\n",
      "\n",
      "\n",
      "\n",
      "\n",
      "\n",
      "\n",
      "\n",
      "\n",
      "\n",
      "\n",
      "\n",
      "\n",
      "\n",
      "\n",
      "\n",
      "\n",
      "\n",
      "\n",
      "\n",
      "\n",
      "\n",
      "\n",
      "\n",
      "\n",
      "\n",
      "\n",
      "\n",
      "\n",
      "\n",
      "\n",
      "\n",
      "\n",
      "\n",
      "\n",
      "\n",
      "\n",
      "\n",
      "\n",
      "\n",
      "\n",
      "\n",
      "\n",
      "\n",
      "\n",
      "\n",
      "\n",
      "\n",
      "\n",
      "\n",
      "\n",
      "\n",
      "\n",
      "\n",
      "\n",
      "\n",
      "\n",
      "\n",
      "\n",
      "\n",
      "\n",
      "\n",
      "\n",
      "\n",
      "\n",
      "\n",
      "\n",
      "\n",
      "\n",
      "\n",
      "\n",
      "\n",
      "\n",
      "\n",
      "\n",
      "\n",
      "\n",
      "\n",
      "\n",
      "\n",
      "\n",
      "\n",
      "\n",
      "\n",
      "\n",
      "\n",
      "\n",
      "\n",
      "\n",
      "\n",
      "\n",
      "\n",
      "\n",
      "\n",
      "\n",
      "\n",
      "\n",
      "\n",
      "\n",
      "\n",
      "\n",
      "\n",
      "\n",
      "\n",
      "\n",
      "\n",
      "\n",
      "\n",
      "\n",
      "\n",
      "\n",
      "\n",
      "\n",
      "\n",
      "\n",
      "\n",
      "\n",
      "\n",
      "\n",
      "\n",
      "\n",
      "\n",
      "\n",
      "\n",
      "\n",
      "\n",
      "\n",
      "\n",
      "\n",
      "\n",
      "\n",
      "\n",
      "\n",
      "\n",
      "\n",
      "\n",
      "\n",
      "\n",
      "\n",
      "\n",
      "\n",
      "\n",
      "\n",
      "\n",
      "\n",
      "\n",
      "\n",
      "\n",
      "\n",
      "\n",
      "\n",
      "\n",
      "\n",
      "\n",
      "\n",
      "\n",
      "\n",
      "\n",
      "\n",
      "\n",
      "\n",
      "\n",
      "\n",
      "\n",
      "\n",
      "\n",
      "\n",
      "\n",
      "\n",
      "\n",
      "\n",
      "\n",
      "\n",
      "\n",
      "\n",
      "\n",
      "\n",
      "\n",
      "\n",
      "\n",
      "\n",
      "\n",
      "\n",
      "\n",
      "\n",
      "\n",
      "\n",
      "\n",
      "\n",
      "\n",
      "\n",
      "\n",
      "\n",
      "\n",
      "\n"
     ]
    },
    {
     "name": "stdout",
     "output_type": "stream",
     "text": [
      "Command '['ffmpeg-normalize', '/mnt/freesound-crawler/downloads/10436__batchku__gbell-7-1-pp.aiff', '-o', '/mnt/freesound-crawler/processed/normalized/10436__batchku__gbell-7-1-pp.aiff']' returned non-zero exit status 1.\n"
     ]
    },
    {
     "name": "stderr",
     "output_type": "stream",
     "text": [
      "\u001b[31mERROR: Output extension flac does not support PCM audio. Please choose a suitable audio codec with the -c:a option.\u001b[0m\n"
     ]
    },
    {
     "name": "stdout",
     "output_type": "stream",
     "text": [
      "Command '['ffmpeg-normalize', '/mnt/freesound-crawler/downloads/161654__qubodup__war-game-battle-level-up.flac', '-o', '/mnt/freesound-crawler/processed/normalized/161654__qubodup__war-game-battle-level-up.flac']' returned non-zero exit status 1.\n"
     ]
    },
    {
     "name": "stderr",
     "output_type": "stream",
     "text": [
      "\u001b[33mWARNING: Audio stream has a duration of less than 3 seconds. Normalization may not work. See https://github.com/slhck/ffmpeg-normalize/issues/87 for more info.\u001b[0m\n",
      "\u001b[31mERROR: Error while running command /usr/bin/ffmpeg -y -nostdin -i /mnt/freesound-crawler/downloads/9633__heigh-hoo__mute-1.aiff -filter_complex '[0:0]loudnorm=i=-23.0:lra=7.0:tp=-2.0:offset=0.05:measured_i=-19.05:measured_lra=0.0:measured_tp=-1.48:measured_thresh=-35.06:linear=true:print_format=json[norm0]' -map_metadata 0 -map_metadata:s:a:0 0:s:a:0 -map_chapters 0 -map '[norm0]' -c:a:0 pcm_s24le -c:s copy /tmp/tmpc27kln50/out.aiff! Error: Error running command ['/usr/bin/ffmpeg', '-y', '-nostdin', '-i', '/mnt/freesound-crawler/downloads/9633__heigh-hoo__mute-1.aiff', '-filter_complex', '[0:0]loudnorm=i=-23.0:lra=7.0:tp=-2.0:offset=0.05:measured_i=-19.05:measured_lra=0.0:measured_tp=-1.48:measured_thresh=-35.06:linear=true:print_format=json[norm0]', '-map_metadata', '0', '-map_metadata:s:a:0', '0:s:a:0', '-map_chapters', '0', '-map', '[norm0]', '-c:a:0', 'pcm_s24le', '-c:s', 'copy', '/tmp/tmpc27kln50/out.aiff']: ffmpeg version 4.3.5-0+deb11u1 Copyright (c) 2000-2022 the FFmpeg developers\n",
      "built with gcc 10 (Debian 10.2.1-6)\n",
      "configuration: --prefix=/usr --extra-version=0+deb11u1 --toolchain=hardened --libdir=/usr/lib/x86_64-linux-gnu --incdir=/usr/include/x86_64-linux-gnu --arch=amd64 --enable-gpl --disable-stripping --enable-avresample --disable-filter=resample --enable-gnutls --enable-ladspa --enable-libaom --enable-libass --enable-libbluray --enable-libbs2b --enable-libcaca --enable-libcdio --enable-libcodec2 --enable-libdav1d --enable-libflite --enable-libfontconfig --enable-libfreetype --enable-libfribidi --enable-libgme --enable-libgsm --enable-libjack --enable-libmp3lame --enable-libmysofa --enable-libopenjpeg --enable-libopenmpt --enable-libopus --enable-libpulse --enable-librabbitmq --enable-librsvg --enable-librubberband --enable-libshine --enable-libsnappy --enable-libsoxr --enable-libspeex --enable-libsrt --enable-libssh --enable-libtheora --enable-libtwolame --enable-libvidstab --enable-libvorbis --enable-libvpx --enable-libwavpack --enable-libwebp --enable-libx265 --enable-libxml2 --enable-libxvid --enable-libzmq --enable-libzvbi --enable-lv2 --enable-omx --enable-openal --enable-opencl --enable-opengl --enable-sdl2 --enable-pocketsphinx --enable-libmfx --enable-libdc1394 --enable-libdrm --enable-libiec61883 --enable-chromaprint --enable-frei0r --enable-libx264 --enable-shared\n",
      "libavutil      56. 51.100 / 56. 51.100\n",
      "libavcodec     58. 91.100 / 58. 91.100\n",
      "libavformat    58. 45.100 / 58. 45.100\n",
      "libavdevice    58. 10.100 / 58. 10.100\n",
      "libavfilter     7. 85.100 /  7. 85.100\n",
      "libavresample   4.  0.  0 /  4.  0.  0\n",
      "libswscale      5.  7.100 /  5.  7.100\n",
      "libswresample   3.  7.100 /  3.  7.100\n",
      "libpostproc    55.  7.100 / 55.  7.100\n",
      "Guessed Channel Layout for Input Stream #0.0 : mono\n",
      "Input #0, aiff, from '/mnt/freesound-crawler/downloads/9633__heigh-hoo__mute-1.aiff':\n",
      "Duration: 00:00:00.85, start: 0.000000, bitrate: 2304 kb/s\n",
      "Stream #0:0: Audio: pcm_s24be, 96000 Hz, mono, s32 (24 bit), 2304 kb/s\n",
      "Stream mapping:\n",
      "Stream #0:0 (pcm_s24be) -> loudnorm\n",
      "loudnorm -> Stream #0:0 (pcm_s24le)\n",
      "Could not write header for output file #0 (incorrect codec parameters ?): Invalid argument\n",
      "Error initializing output stream 0:0 --\n",
      "[Parsed_loudnorm_0 @ 0x55a6c523f700]\n",
      "{\n",
      "\"input_i\" : \"-inf\",\n",
      "\"input_tp\" : \"-inf\",\n",
      "\"input_lra\" : \"0.00\",\n",
      "\"input_thresh\" : \"-70.00\",\n",
      "\"output_i\" : \"-inf\",\n",
      "\"output_tp\" : \"-inf\",\n",
      "\"output_lra\" : \"0.00\",\n",
      "\"output_thresh\" : \"-70.00\",\n",
      "\"normalization_type\" : \"dynamic\",\n",
      "\"target_offset\" : \"inf\"\n",
      "}\n",
      "Conversion failed!\u001b[0m\n",
      "Traceback (most recent call last):\n",
      "  File \"/home/andrus/.local/bin/ffmpeg-normalize\", line 8, in <module>\n",
      "    sys.exit(main())\n",
      "  File \"/home/andrus/.local/lib/python3.9/site-packages/ffmpeg_normalize/__main__.py\", line 553, in main\n",
      "    ffmpeg_normalize.run_normalization()\n",
      "  File \"/home/andrus/.local/lib/python3.9/site-packages/ffmpeg_normalize/_ffmpeg_normalize.py\", line 237, in run_normalization\n",
      "    raise e\n",
      "  File \"/home/andrus/.local/lib/python3.9/site-packages/ffmpeg_normalize/_ffmpeg_normalize.py\", line 227, in run_normalization\n",
      "    media_file.run_normalization()\n",
      "  File \"/home/andrus/.local/lib/python3.9/site-packages/ffmpeg_normalize/_media_file.py\", line 194, in run_normalization\n",
      "    for _ in self._second_pass():\n",
      "  File \"/home/andrus/.local/lib/python3.9/site-packages/ffmpeg_normalize/_media_file.py\", line 406, in _second_pass\n",
      "    raise e\n",
      "  File \"/home/andrus/.local/lib/python3.9/site-packages/ffmpeg_normalize/_media_file.py\", line 397, in _second_pass\n",
      "    raise e\n",
      "  File \"/home/andrus/.local/lib/python3.9/site-packages/ffmpeg_normalize/_media_file.py\", line 393, in _second_pass\n",
      "    yield from CommandRunner().run_ffmpeg_command(cmd)\n",
      "  File \"/home/andrus/.local/lib/python3.9/site-packages/ffmpeg_normalize/_cmd_utils.py\", line 80, in run_ffmpeg_command\n",
      "    yield from ff.run_command_with_progress()\n",
      "  File \"/home/andrus/.local/lib/python3.9/site-packages/ffmpeg_progress_yield/ffmpeg_progress_yield.py\", line 189, in run_command_with_progress\n",
      "    raise RuntimeError(f\"Error running command {self.cmd}: {_pretty_stderr}\")\n",
      "RuntimeError: Error running command ['/usr/bin/ffmpeg', '-y', '-nostdin', '-i', '/mnt/freesound-crawler/downloads/9633__heigh-hoo__mute-1.aiff', '-filter_complex', '[0:0]loudnorm=i=-23.0:lra=7.0:tp=-2.0:offset=0.05:measured_i=-19.05:measured_lra=0.0:measured_tp=-1.48:measured_thresh=-35.06:linear=true:print_format=json[norm0]', '-map_metadata', '0', '-map_metadata:s:a:0', '0:s:a:0', '-map_chapters', '0', '-map', '[norm0]', '-c:a:0', 'pcm_s24le', '-c:s', 'copy', '/tmp/tmpc27kln50/out.aiff']: ffmpeg version 4.3.5-0+deb11u1 Copyright (c) 2000-2022 the FFmpeg developers\n",
      "built with gcc 10 (Debian 10.2.1-6)\n",
      "configuration: --prefix=/usr --extra-version=0+deb11u1 --toolchain=hardened --libdir=/usr/lib/x86_64-linux-gnu --incdir=/usr/include/x86_64-linux-gnu --arch=amd64 --enable-gpl --disable-stripping --enable-avresample --disable-filter=resample --enable-gnutls --enable-ladspa --enable-libaom --enable-libass --enable-libbluray --enable-libbs2b --enable-libcaca --enable-libcdio --enable-libcodec2 --enable-libdav1d --enable-libflite --enable-libfontconfig --enable-libfreetype --enable-libfribidi --enable-libgme --enable-libgsm --enable-libjack --enable-libmp3lame --enable-libmysofa --enable-libopenjpeg --enable-libopenmpt --enable-libopus --enable-libpulse --enable-librabbitmq --enable-librsvg --enable-librubberband --enable-libshine --enable-libsnappy --enable-libsoxr --enable-libspeex --enable-libsrt --enable-libssh --enable-libtheora --enable-libtwolame --enable-libvidstab --enable-libvorbis --enable-libvpx --enable-libwavpack --enable-libwebp --enable-libx265 --enable-libxml2 --enable-libxvid --enable-libzmq --enable-libzvbi --enable-lv2 --enable-omx --enable-openal --enable-opencl --enable-opengl --enable-sdl2 --enable-pocketsphinx --enable-libmfx --enable-libdc1394 --enable-libdrm --enable-libiec61883 --enable-chromaprint --enable-frei0r --enable-libx264 --enable-shared\n",
      "libavutil      56. 51.100 / 56. 51.100\n",
      "libavcodec     58. 91.100 / 58. 91.100\n",
      "libavformat    58. 45.100 / 58. 45.100\n",
      "libavdevice    58. 10.100 / 58. 10.100\n",
      "libavfilter     7. 85.100 /  7. 85.100\n",
      "libavresample   4.  0.  0 /  4.  0.  0\n",
      "libswscale      5.  7.100 /  5.  7.100\n",
      "libswresample   3.  7.100 /  3.  7.100\n",
      "libpostproc    55.  7.100 / 55.  7.100\n",
      "Guessed Channel Layout for Input Stream #0.0 : mono\n",
      "Input #0, aiff, from '/mnt/freesound-crawler/downloads/9633__heigh-hoo__mute-1.aiff':\n",
      "Duration: 00:00:00.85, start: 0.000000, bitrate: 2304 kb/s\n",
      "Stream #0:0: Audio: pcm_s24be, 96000 Hz, mono, s32 (24 bit), 2304 kb/s\n",
      "Stream mapping:\n",
      "Stream #0:0 (pcm_s24be) -> loudnorm\n",
      "loudnorm -> Stream #0:0 (pcm_s24le)\n",
      "Could not write header for output file #0 (incorrect codec parameters ?): Invalid argument\n",
      "Error initializing output stream 0:0 --\n",
      "[Parsed_loudnorm_0 @ 0x55a6c523f700]\n",
      "{\n",
      "\"input_i\" : \"-inf\",\n",
      "\"input_tp\" : \"-inf\",\n",
      "\"input_lra\" : \"0.00\",\n",
      "\"input_thresh\" : \"-70.00\",\n",
      "\"output_i\" : \"-inf\",\n",
      "\"output_tp\" : \"-inf\",\n",
      "\"output_lra\" : \"0.00\",\n",
      "\"output_thresh\" : \"-70.00\",\n",
      "\"normalization_type\" : \"dynamic\",\n",
      "\"target_offset\" : \"inf\"\n",
      "}\n",
      "Conversion failed!\n"
     ]
    },
    {
     "name": "stdout",
     "output_type": "stream",
     "text": [
      "Command '['ffmpeg-normalize', '/mnt/freesound-crawler/downloads/9633__heigh-hoo__mute-1.aiff', '-o', '/mnt/freesound-crawler/processed/normalized/9633__heigh-hoo__mute-1.aiff']' returned non-zero exit status 1.\n"
     ]
    },
    {
     "name": "stderr",
     "output_type": "stream",
     "text": [
      "\u001b[31mERROR: Output extension ogg does not support PCM audio. Please choose a suitable audio codec with the -c:a option.\u001b[0m\n"
     ]
    },
    {
     "name": "stdout",
     "output_type": "stream",
     "text": [
      "Command '['ffmpeg-normalize', '/mnt/freesound-crawler/downloads/448394__lordforklift__fuze-switch-flick.ogg', '-o', '/mnt/freesound-crawler/processed/normalized/448394__lordforklift__fuze-switch-flick.ogg']' returned non-zero exit status 1.\n"
     ]
    },
    {
     "name": "stderr",
     "output_type": "stream",
     "text": [
      "\u001b[31mERROR: Output extension flac does not support PCM audio. Please choose a suitable audio codec with the -c:a option.\u001b[0m\n"
     ]
    },
    {
     "name": "stdout",
     "output_type": "stream",
     "text": [
      "Command '['ffmpeg-normalize', '/mnt/freesound-crawler/downloads/60004__qubodup__fast-sword-swing-sound.flac', '-o', '/mnt/freesound-crawler/processed/normalized/60004__qubodup__fast-sword-swing-sound.flac']' returned non-zero exit status 1.\n"
     ]
    },
    {
     "name": "stderr",
     "output_type": "stream",
     "text": [
      "\u001b[31mERROR: Output extension mp3 does not support PCM audio. Please choose a suitable audio codec with the -c:a option.\u001b[0m\n"
     ]
    },
    {
     "name": "stdout",
     "output_type": "stream",
     "text": [
      "Command '['ffmpeg-normalize', '/mnt/freesound-crawler/downloads/407465__loyalty-freak-music__cancel.mp3', '-o', '/mnt/freesound-crawler/processed/normalized/407465__loyalty-freak-music__cancel.mp3']' returned non-zero exit status 1.\n"
     ]
    },
    {
     "name": "stderr",
     "output_type": "stream",
     "text": [
      "\u001b[31mERROR: Output extension mp3 does not support PCM audio. Please choose a suitable audio codec with the -c:a option.\u001b[0m\n"
     ]
    },
    {
     "name": "stdout",
     "output_type": "stream",
     "text": [
      "Command '['ffmpeg-normalize', '/mnt/freesound-crawler/downloads/537816__legnalegna55__hey-hey-you.mp3', '-o', '/mnt/freesound-crawler/processed/normalized/537816__legnalegna55__hey-hey-you.mp3']' returned non-zero exit status 1.\n"
     ]
    },
    {
     "name": "stderr",
     "output_type": "stream",
     "text": [
      "\u001b[31mERROR: Output extension flac does not support PCM audio. Please choose a suitable audio codec with the -c:a option.\u001b[0m\n"
     ]
    },
    {
     "name": "stdout",
     "output_type": "stream",
     "text": [
      "Command '['ffmpeg-normalize', '/mnt/freesound-crawler/downloads/161341__qubodup__howitzer-artillery-gun-shot-sound-effect-03.flac', '-o', '/mnt/freesound-crawler/processed/normalized/161341__qubodup__howitzer-artillery-gun-shot-sound-effect-03.flac']' returned non-zero exit status 1.\n"
     ]
    },
    {
     "name": "stderr",
     "output_type": "stream",
     "text": [
      "\u001b[31mERROR: Output extension mp3 does not support PCM audio. Please choose a suitable audio codec with the -c:a option.\u001b[0m\n"
     ]
    },
    {
     "name": "stdout",
     "output_type": "stream",
     "text": [
      "Command '['ffmpeg-normalize', '/mnt/freesound-crawler/downloads/323184__alivvie__hai-hai.mp3', '-o', '/mnt/freesound-crawler/processed/normalized/323184__alivvie__hai-hai.mp3']' returned non-zero exit status 1.\n"
     ]
    },
    {
     "name": "stderr",
     "output_type": "stream",
     "text": [
      "\u001b[31mERROR: Output extension ogg does not support PCM audio. Please choose a suitable audio codec with the -c:a option.\u001b[0m\n"
     ]
    },
    {
     "name": "stdout",
     "output_type": "stream",
     "text": [
      "Command '['ffmpeg-normalize', '/mnt/freesound-crawler/downloads/395359__ihitokage__hit-3.ogg', '-o', '/mnt/freesound-crawler/processed/normalized/395359__ihitokage__hit-3.ogg']' returned non-zero exit status 1.\n"
     ]
    },
    {
     "name": "stderr",
     "output_type": "stream",
     "text": [
      "\u001b[33mWARNING: Audio stream has a duration of less than 3 seconds. Normalization may not work. See https://github.com/slhck/ffmpeg-normalize/issues/87 for more info.\u001b[0m\n",
      "\u001b[31mERROR: Error while running command /usr/bin/ffmpeg -y -nostdin -i /mnt/freesound-crawler/downloads/625__memexikon__duoshake.wav -filter_complex '[0:0]loudnorm=i=-23.0:lra=7.0:tp=-2.0:offset=0.01:measured_i=-9.53:measured_lra=0.0:measured_tp=1.94:measured_thresh=-21.23:linear=true:print_format=json[norm0]' -map_metadata 0 -map_metadata:s:a:0 0:s:a:0 -map_chapters 0 -map '[norm0]' -c:a:0 pcm_s8 -c:s copy /tmp/tmpm5_kvj9t/out.wav! Error: Error running command ['/usr/bin/ffmpeg', '-y', '-nostdin', '-i', '/mnt/freesound-crawler/downloads/625__memexikon__duoshake.wav', '-filter_complex', '[0:0]loudnorm=i=-23.0:lra=7.0:tp=-2.0:offset=0.01:measured_i=-9.53:measured_lra=0.0:measured_tp=1.94:measured_thresh=-21.23:linear=true:print_format=json[norm0]', '-map_metadata', '0', '-map_metadata:s:a:0', '0:s:a:0', '-map_chapters', '0', '-map', '[norm0]', '-c:a:0', 'pcm_s8', '-c:s', 'copy', '/tmp/tmpm5_kvj9t/out.wav']: ffmpeg version 4.3.5-0+deb11u1 Copyright (c) 2000-2022 the FFmpeg developers\n",
      "built with gcc 10 (Debian 10.2.1-6)\n",
      "configuration: --prefix=/usr --extra-version=0+deb11u1 --toolchain=hardened --libdir=/usr/lib/x86_64-linux-gnu --incdir=/usr/include/x86_64-linux-gnu --arch=amd64 --enable-gpl --disable-stripping --enable-avresample --disable-filter=resample --enable-gnutls --enable-ladspa --enable-libaom --enable-libass --enable-libbluray --enable-libbs2b --enable-libcaca --enable-libcdio --enable-libcodec2 --enable-libdav1d --enable-libflite --enable-libfontconfig --enable-libfreetype --enable-libfribidi --enable-libgme --enable-libgsm --enable-libjack --enable-libmp3lame --enable-libmysofa --enable-libopenjpeg --enable-libopenmpt --enable-libopus --enable-libpulse --enable-librabbitmq --enable-librsvg --enable-librubberband --enable-libshine --enable-libsnappy --enable-libsoxr --enable-libspeex --enable-libsrt --enable-libssh --enable-libtheora --enable-libtwolame --enable-libvidstab --enable-libvorbis --enable-libvpx --enable-libwavpack --enable-libwebp --enable-libx265 --enable-libxml2 --enable-libxvid --enable-libzmq --enable-libzvbi --enable-lv2 --enable-omx --enable-openal --enable-opencl --enable-opengl --enable-sdl2 --enable-pocketsphinx --enable-libmfx --enable-libdc1394 --enable-libdrm --enable-libiec61883 --enable-chromaprint --enable-frei0r --enable-libx264 --enable-shared\n",
      "libavutil      56. 51.100 / 56. 51.100\n",
      "libavcodec     58. 91.100 / 58. 91.100\n",
      "libavformat    58. 45.100 / 58. 45.100\n",
      "libavdevice    58. 10.100 / 58. 10.100\n",
      "libavfilter     7. 85.100 /  7. 85.100\n",
      "libavresample   4.  0.  0 /  4.  0.  0\n",
      "libswscale      5.  7.100 /  5.  7.100\n",
      "libswresample   3.  7.100 /  3.  7.100\n",
      "libpostproc    55.  7.100 / 55.  7.100\n",
      "Guessed Channel Layout for Input Stream #0.0 : mono\n",
      "Input #0, wav, from '/mnt/freesound-crawler/downloads/625__memexikon__duoshake.wav':\n",
      "Duration: 00:00:01.52, bitrate: 176 kb/s\n",
      "Stream #0:0: Audio: pcm_u8 ([1][0][0][0] / 0x0001), 22050 Hz, mono, u8, 176 kb/s\n",
      "Stream mapping:\n",
      "Stream #0:0 (pcm_u8) -> loudnorm\n",
      "loudnorm -> Stream #0:0 (pcm_s8)\n",
      "[wav @ 0x561f912829c0] pcm_s8 codec not supported in WAVE format\n",
      "Could not write header for output file #0 (incorrect codec parameters ?): Function not implemented\n",
      "Error initializing output stream 0:0 --\n",
      "[Parsed_loudnorm_0 @ 0x561f91288440]\n",
      "{\n",
      "\"input_i\" : \"-inf\",\n",
      "\"input_tp\" : \"-inf\",\n",
      "\"input_lra\" : \"0.00\",\n",
      "\"input_thresh\" : \"-70.00\",\n",
      "\"output_i\" : \"-inf\",\n",
      "\"output_tp\" : \"-inf\",\n",
      "\"output_lra\" : \"0.00\",\n",
      "\"output_thresh\" : \"-70.00\",\n",
      "\"normalization_type\" : \"dynamic\",\n",
      "\"target_offset\" : \"inf\"\n",
      "}\n",
      "Conversion failed!\u001b[0m\n",
      "Traceback (most recent call last):\n",
      "  File \"/home/andrus/.local/bin/ffmpeg-normalize\", line 8, in <module>\n",
      "    sys.exit(main())\n",
      "  File \"/home/andrus/.local/lib/python3.9/site-packages/ffmpeg_normalize/__main__.py\", line 553, in main\n",
      "    ffmpeg_normalize.run_normalization()\n",
      "  File \"/home/andrus/.local/lib/python3.9/site-packages/ffmpeg_normalize/_ffmpeg_normalize.py\", line 237, in run_normalization\n",
      "    raise e\n",
      "  File \"/home/andrus/.local/lib/python3.9/site-packages/ffmpeg_normalize/_ffmpeg_normalize.py\", line 227, in run_normalization\n",
      "    media_file.run_normalization()\n",
      "  File \"/home/andrus/.local/lib/python3.9/site-packages/ffmpeg_normalize/_media_file.py\", line 194, in run_normalization\n",
      "    for _ in self._second_pass():\n",
      "  File \"/home/andrus/.local/lib/python3.9/site-packages/ffmpeg_normalize/_media_file.py\", line 406, in _second_pass\n",
      "    raise e\n",
      "  File \"/home/andrus/.local/lib/python3.9/site-packages/ffmpeg_normalize/_media_file.py\", line 397, in _second_pass\n",
      "    raise e\n",
      "  File \"/home/andrus/.local/lib/python3.9/site-packages/ffmpeg_normalize/_media_file.py\", line 393, in _second_pass\n",
      "    yield from CommandRunner().run_ffmpeg_command(cmd)\n",
      "  File \"/home/andrus/.local/lib/python3.9/site-packages/ffmpeg_normalize/_cmd_utils.py\", line 80, in run_ffmpeg_command\n",
      "    yield from ff.run_command_with_progress()\n",
      "  File \"/home/andrus/.local/lib/python3.9/site-packages/ffmpeg_progress_yield/ffmpeg_progress_yield.py\", line 189, in run_command_with_progress\n",
      "    raise RuntimeError(f\"Error running command {self.cmd}: {_pretty_stderr}\")\n",
      "RuntimeError: Error running command ['/usr/bin/ffmpeg', '-y', '-nostdin', '-i', '/mnt/freesound-crawler/downloads/625__memexikon__duoshake.wav', '-filter_complex', '[0:0]loudnorm=i=-23.0:lra=7.0:tp=-2.0:offset=0.01:measured_i=-9.53:measured_lra=0.0:measured_tp=1.94:measured_thresh=-21.23:linear=true:print_format=json[norm0]', '-map_metadata', '0', '-map_metadata:s:a:0', '0:s:a:0', '-map_chapters', '0', '-map', '[norm0]', '-c:a:0', 'pcm_s8', '-c:s', 'copy', '/tmp/tmpm5_kvj9t/out.wav']: ffmpeg version 4.3.5-0+deb11u1 Copyright (c) 2000-2022 the FFmpeg developers\n",
      "built with gcc 10 (Debian 10.2.1-6)\n",
      "configuration: --prefix=/usr --extra-version=0+deb11u1 --toolchain=hardened --libdir=/usr/lib/x86_64-linux-gnu --incdir=/usr/include/x86_64-linux-gnu --arch=amd64 --enable-gpl --disable-stripping --enable-avresample --disable-filter=resample --enable-gnutls --enable-ladspa --enable-libaom --enable-libass --enable-libbluray --enable-libbs2b --enable-libcaca --enable-libcdio --enable-libcodec2 --enable-libdav1d --enable-libflite --enable-libfontconfig --enable-libfreetype --enable-libfribidi --enable-libgme --enable-libgsm --enable-libjack --enable-libmp3lame --enable-libmysofa --enable-libopenjpeg --enable-libopenmpt --enable-libopus --enable-libpulse --enable-librabbitmq --enable-librsvg --enable-librubberband --enable-libshine --enable-libsnappy --enable-libsoxr --enable-libspeex --enable-libsrt --enable-libssh --enable-libtheora --enable-libtwolame --enable-libvidstab --enable-libvorbis --enable-libvpx --enable-libwavpack --enable-libwebp --enable-libx265 --enable-libxml2 --enable-libxvid --enable-libzmq --enable-libzvbi --enable-lv2 --enable-omx --enable-openal --enable-opencl --enable-opengl --enable-sdl2 --enable-pocketsphinx --enable-libmfx --enable-libdc1394 --enable-libdrm --enable-libiec61883 --enable-chromaprint --enable-frei0r --enable-libx264 --enable-shared\n",
      "libavutil      56. 51.100 / 56. 51.100\n",
      "libavcodec     58. 91.100 / 58. 91.100\n",
      "libavformat    58. 45.100 / 58. 45.100\n",
      "libavdevice    58. 10.100 / 58. 10.100\n",
      "libavfilter     7. 85.100 /  7. 85.100\n",
      "libavresample   4.  0.  0 /  4.  0.  0\n",
      "libswscale      5.  7.100 /  5.  7.100\n",
      "libswresample   3.  7.100 /  3.  7.100\n",
      "libpostproc    55.  7.100 / 55.  7.100\n",
      "Guessed Channel Layout for Input Stream #0.0 : mono\n",
      "Input #0, wav, from '/mnt/freesound-crawler/downloads/625__memexikon__duoshake.wav':\n",
      "Duration: 00:00:01.52, bitrate: 176 kb/s\n",
      "Stream #0:0: Audio: pcm_u8 ([1][0][0][0] / 0x0001), 22050 Hz, mono, u8, 176 kb/s\n",
      "Stream mapping:\n",
      "Stream #0:0 (pcm_u8) -> loudnorm\n",
      "loudnorm -> Stream #0:0 (pcm_s8)\n",
      "[wav @ 0x561f912829c0] pcm_s8 codec not supported in WAVE format\n",
      "Could not write header for output file #0 (incorrect codec parameters ?): Function not implemented\n",
      "Error initializing output stream 0:0 --\n",
      "[Parsed_loudnorm_0 @ 0x561f91288440]\n",
      "{\n",
      "\"input_i\" : \"-inf\",\n",
      "\"input_tp\" : \"-inf\",\n",
      "\"input_lra\" : \"0.00\",\n",
      "\"input_thresh\" : \"-70.00\",\n",
      "\"output_i\" : \"-inf\",\n",
      "\"output_tp\" : \"-inf\",\n",
      "\"output_lra\" : \"0.00\",\n",
      "\"output_thresh\" : \"-70.00\",\n",
      "\"normalization_type\" : \"dynamic\",\n",
      "\"target_offset\" : \"inf\"\n",
      "}\n",
      "Conversion failed!\n"
     ]
    },
    {
     "name": "stdout",
     "output_type": "stream",
     "text": [
      "Command '['ffmpeg-normalize', '/mnt/freesound-crawler/downloads/625__memexikon__duoshake.wav', '-o', '/mnt/freesound-crawler/processed/normalized/625__memexikon__duoshake.wav']' returned non-zero exit status 1.\n"
     ]
    },
    {
     "name": "stderr",
     "output_type": "stream",
     "text": [
      "\u001b[31mERROR: Output extension mp3 does not support PCM audio. Please choose a suitable audio codec with the -c:a option.\u001b[0m\n"
     ]
    },
    {
     "name": "stdout",
     "output_type": "stream",
     "text": [
      "Command '['ffmpeg-normalize', '/mnt/freesound-crawler/downloads/171619__pjkasinski3__rem-870-pump-2.mp3', '-o', '/mnt/freesound-crawler/processed/normalized/171619__pjkasinski3__rem-870-pump-2.mp3']' returned non-zero exit status 1.\n"
     ]
    },
    {
     "name": "stderr",
     "output_type": "stream",
     "text": [
      "\u001b[31mERROR: Output extension mp3 does not support PCM audio. Please choose a suitable audio codec with the -c:a option.\u001b[0m\n"
     ]
    },
    {
     "name": "stdout",
     "output_type": "stream",
     "text": [
      "Command '['ffmpeg-normalize', '/mnt/freesound-crawler/downloads/323200__alivvie__excuse-me.mp3', '-o', '/mnt/freesound-crawler/processed/normalized/323200__alivvie__excuse-me.mp3']' returned non-zero exit status 1.\n"
     ]
    },
    {
     "name": "stderr",
     "output_type": "stream",
     "text": [
      "\u001b[31mERROR: Output extension flac does not support PCM audio. Please choose a suitable audio codec with the -c:a option.\u001b[0m\n"
     ]
    },
    {
     "name": "stdout",
     "output_type": "stream",
     "text": [
      "Command '['ffmpeg-normalize', '/mnt/freesound-crawler/downloads/453347__kyles__metal-piece-heavy-drag-on-floor.flac', '-o', '/mnt/freesound-crawler/processed/normalized/453347__kyles__metal-piece-heavy-drag-on-floor.flac']' returned non-zero exit status 1.\n"
     ]
    },
    {
     "name": "stderr",
     "output_type": "stream",
     "text": [
      "\u001b[31mERROR: Output extension flac does not support PCM audio. Please choose a suitable audio codec with the -c:a option.\u001b[0m\n"
     ]
    },
    {
     "name": "stdout",
     "output_type": "stream",
     "text": [
      "Command '['ffmpeg-normalize', '/mnt/freesound-crawler/downloads/534110__pbimal__rubber-ball-01.flac', '-o', '/mnt/freesound-crawler/processed/normalized/534110__pbimal__rubber-ball-01.flac']' returned non-zero exit status 1.\n"
     ]
    },
    {
     "name": "stderr",
     "output_type": "stream",
     "text": [
      "\u001b[31mERROR: Output extension flac does not support PCM audio. Please choose a suitable audio codec with the -c:a option.\u001b[0m\n"
     ]
    },
    {
     "name": "stdout",
     "output_type": "stream",
     "text": [
      "Command '['ffmpeg-normalize', '/mnt/freesound-crawler/downloads/59990__qubodup__swosh-03.flac', '-o', '/mnt/freesound-crawler/processed/normalized/59990__qubodup__swosh-03.flac']' returned non-zero exit status 1.\n"
     ]
    },
    {
     "name": "stderr",
     "output_type": "stream",
     "text": [
      "\u001b[31mERROR: Output extension mp3 does not support PCM audio. Please choose a suitable audio codec with the -c:a option.\u001b[0m\n"
     ]
    },
    {
     "name": "stdout",
     "output_type": "stream",
     "text": [
      "Command '['ffmpeg-normalize', '/mnt/freesound-crawler/downloads/323198__alivvie__where-is-the-bathroom.mp3', '-o', '/mnt/freesound-crawler/processed/normalized/323198__alivvie__where-is-the-bathroom.mp3']' returned non-zero exit status 1.\n"
     ]
    },
    {
     "name": "stderr",
     "output_type": "stream",
     "text": [
      "\u001b[31mERROR: Output extension ogg does not support PCM audio. Please choose a suitable audio codec with the -c:a option.\u001b[0m\n"
     ]
    },
    {
     "name": "stdout",
     "output_type": "stream",
     "text": [
      "Command '['ffmpeg-normalize', '/mnt/freesound-crawler/downloads/395351__ihitokage__woosh-3.ogg', '-o', '/mnt/freesound-crawler/processed/normalized/395351__ihitokage__woosh-3.ogg']' returned non-zero exit status 1.\n"
     ]
    },
    {
     "name": "stderr",
     "output_type": "stream",
     "text": [
      "\u001b[33mWARNING: Audio stream has a duration of less than 3 seconds. Normalization may not work. See https://github.com/slhck/ffmpeg-normalize/issues/87 for more info.\u001b[0m\n",
      "\u001b[31mERROR: Error while running command /usr/bin/ffmpeg -y -nostdin -i /mnt/freesound-crawler/downloads/119077__domrodrig__door-opening-unlocking-1-2.aiff -filter_complex '[0:0]loudnorm=i=-23.0:lra=7.0:tp=-2.0:offset=16.98:measured_i=-33.75:measured_lra=0.0:measured_tp=-10.29:measured_thresh=-45.77:linear=true:print_format=json[norm0]' -map_metadata 0 -map_metadata:s:a:0 0:s:a:0 -map_chapters 0 -map '[norm0]' -c:a:0 pcm_s24le -c:s copy /tmp/tmp7jdngbtx/out.aiff! Error: Error running command ['/usr/bin/ffmpeg', '-y', '-nostdin', '-i', '/mnt/freesound-crawler/downloads/119077__domrodrig__door-opening-unlocking-1-2.aiff', '-filter_complex', '[0:0]loudnorm=i=-23.0:lra=7.0:tp=-2.0:offset=16.98:measured_i=-33.75:measured_lra=0.0:measured_tp=-10.29:measured_thresh=-45.77:linear=true:print_format=json[norm0]', '-map_metadata', '0', '-map_metadata:s:a:0', '0:s:a:0', '-map_chapters', '0', '-map', '[norm0]', '-c:a:0', 'pcm_s24le', '-c:s', 'copy', '/tmp/tmp7jdngbtx/out.aiff']: ffmpeg version 4.3.5-0+deb11u1 Copyright (c) 2000-2022 the FFmpeg developers\n",
      "built with gcc 10 (Debian 10.2.1-6)\n",
      "configuration: --prefix=/usr --extra-version=0+deb11u1 --toolchain=hardened --libdir=/usr/lib/x86_64-linux-gnu --incdir=/usr/include/x86_64-linux-gnu --arch=amd64 --enable-gpl --disable-stripping --enable-avresample --disable-filter=resample --enable-gnutls --enable-ladspa --enable-libaom --enable-libass --enable-libbluray --enable-libbs2b --enable-libcaca --enable-libcdio --enable-libcodec2 --enable-libdav1d --enable-libflite --enable-libfontconfig --enable-libfreetype --enable-libfribidi --enable-libgme --enable-libgsm --enable-libjack --enable-libmp3lame --enable-libmysofa --enable-libopenjpeg --enable-libopenmpt --enable-libopus --enable-libpulse --enable-librabbitmq --enable-librsvg --enable-librubberband --enable-libshine --enable-libsnappy --enable-libsoxr --enable-libspeex --enable-libsrt --enable-libssh --enable-libtheora --enable-libtwolame --enable-libvidstab --enable-libvorbis --enable-libvpx --enable-libwavpack --enable-libwebp --enable-libx265 --enable-libxml2 --enable-libxvid --enable-libzmq --enable-libzvbi --enable-lv2 --enable-omx --enable-openal --enable-opencl --enable-opengl --enable-sdl2 --enable-pocketsphinx --enable-libmfx --enable-libdc1394 --enable-libdrm --enable-libiec61883 --enable-chromaprint --enable-frei0r --enable-libx264 --enable-shared\n",
      "libavutil      56. 51.100 / 56. 51.100\n",
      "libavcodec     58. 91.100 / 58. 91.100\n",
      "libavformat    58. 45.100 / 58. 45.100\n",
      "libavdevice    58. 10.100 / 58. 10.100\n",
      "libavfilter     7. 85.100 /  7. 85.100\n",
      "libavresample   4.  0.  0 /  4.  0.  0\n",
      "libswscale      5.  7.100 /  5.  7.100\n",
      "libswresample   3.  7.100 /  3.  7.100\n",
      "libpostproc    55.  7.100 / 55.  7.100\n",
      "Guessed Channel Layout for Input Stream #0.0 : stereo\n",
      "Input #0, aiff, from '/mnt/freesound-crawler/downloads/119077__domrodrig__door-opening-unlocking-1-2.aiff':\n",
      "Duration: 00:00:02.79, start: 0.000000, bitrate: 2305 kb/s\n",
      "Stream #0:0: Audio: pcm_s24be, 48000 Hz, stereo, s32 (24 bit), 2304 kb/s\n",
      "Stream mapping:\n",
      "Stream #0:0 (pcm_s24be) -> loudnorm\n",
      "loudnorm -> Stream #0:0 (pcm_s24le)\n",
      "Could not write header for output file #0 (incorrect codec parameters ?): Invalid argument\n",
      "Error initializing output stream 0:0 --\n",
      "[Parsed_loudnorm_0 @ 0x563901e89980]\n",
      "{\n",
      "\"input_i\" : \"-inf\",\n",
      "\"input_tp\" : \"-inf\",\n",
      "\"input_lra\" : \"0.00\",\n",
      "\"input_thresh\" : \"-70.00\",\n",
      "\"output_i\" : \"-inf\",\n",
      "\"output_tp\" : \"-inf\",\n",
      "\"output_lra\" : \"0.00\",\n",
      "\"output_thresh\" : \"-70.00\",\n",
      "\"normalization_type\" : \"dynamic\",\n",
      "\"target_offset\" : \"inf\"\n",
      "}\n",
      "Conversion failed!\n",
      "\n",
      "\n",
      "\n",
      "\n",
      "\n",
      "\u001b[0m\n",
      "Traceback (most recent call last):\n",
      "  File \"/home/andrus/.local/bin/ffmpeg-normalize\", line 8, in <module>\n",
      "    sys.exit(main())\n",
      "  File \"/home/andrus/.local/lib/python3.9/site-packages/ffmpeg_normalize/__main__.py\", line 553, in main\n",
      "    ffmpeg_normalize.run_normalization()\n",
      "  File \"/home/andrus/.local/lib/python3.9/site-packages/ffmpeg_normalize/_ffmpeg_normalize.py\", line 237, in run_normalization\n",
      "    raise e\n",
      "  File \"/home/andrus/.local/lib/python3.9/site-packages/ffmpeg_normalize/_ffmpeg_normalize.py\", line 227, in run_normalization\n",
      "    media_file.run_normalization()\n",
      "  File \"/home/andrus/.local/lib/python3.9/site-packages/ffmpeg_normalize/_media_file.py\", line 194, in run_normalization\n",
      "    for _ in self._second_pass():\n",
      "  File \"/home/andrus/.local/lib/python3.9/site-packages/ffmpeg_normalize/_media_file.py\", line 406, in _second_pass\n",
      "    raise e\n",
      "  File \"/home/andrus/.local/lib/python3.9/site-packages/ffmpeg_normalize/_media_file.py\", line 397, in _second_pass\n",
      "    raise e\n",
      "  File \"/home/andrus/.local/lib/python3.9/site-packages/ffmpeg_normalize/_media_file.py\", line 393, in _second_pass\n",
      "    yield from CommandRunner().run_ffmpeg_command(cmd)\n",
      "  File \"/home/andrus/.local/lib/python3.9/site-packages/ffmpeg_normalize/_cmd_utils.py\", line 80, in run_ffmpeg_command\n",
      "    yield from ff.run_command_with_progress()\n",
      "  File \"/home/andrus/.local/lib/python3.9/site-packages/ffmpeg_progress_yield/ffmpeg_progress_yield.py\", line 189, in run_command_with_progress\n",
      "    raise RuntimeError(f\"Error running command {self.cmd}: {_pretty_stderr}\")\n",
      "RuntimeError: Error running command ['/usr/bin/ffmpeg', '-y', '-nostdin', '-i', '/mnt/freesound-crawler/downloads/119077__domrodrig__door-opening-unlocking-1-2.aiff', '-filter_complex', '[0:0]loudnorm=i=-23.0:lra=7.0:tp=-2.0:offset=16.98:measured_i=-33.75:measured_lra=0.0:measured_tp=-10.29:measured_thresh=-45.77:linear=true:print_format=json[norm0]', '-map_metadata', '0', '-map_metadata:s:a:0', '0:s:a:0', '-map_chapters', '0', '-map', '[norm0]', '-c:a:0', 'pcm_s24le', '-c:s', 'copy', '/tmp/tmp7jdngbtx/out.aiff']: ffmpeg version 4.3.5-0+deb11u1 Copyright (c) 2000-2022 the FFmpeg developers\n",
      "built with gcc 10 (Debian 10.2.1-6)\n",
      "configuration: --prefix=/usr --extra-version=0+deb11u1 --toolchain=hardened --libdir=/usr/lib/x86_64-linux-gnu --incdir=/usr/include/x86_64-linux-gnu --arch=amd64 --enable-gpl --disable-stripping --enable-avresample --disable-filter=resample --enable-gnutls --enable-ladspa --enable-libaom --enable-libass --enable-libbluray --enable-libbs2b --enable-libcaca --enable-libcdio --enable-libcodec2 --enable-libdav1d --enable-libflite --enable-libfontconfig --enable-libfreetype --enable-libfribidi --enable-libgme --enable-libgsm --enable-libjack --enable-libmp3lame --enable-libmysofa --enable-libopenjpeg --enable-libopenmpt --enable-libopus --enable-libpulse --enable-librabbitmq --enable-librsvg --enable-librubberband --enable-libshine --enable-libsnappy --enable-libsoxr --enable-libspeex --enable-libsrt --enable-libssh --enable-libtheora --enable-libtwolame --enable-libvidstab --enable-libvorbis --enable-libvpx --enable-libwavpack --enable-libwebp --enable-libx265 --enable-libxml2 --enable-libxvid --enable-libzmq --enable-libzvbi --enable-lv2 --enable-omx --enable-openal --enable-opencl --enable-opengl --enable-sdl2 --enable-pocketsphinx --enable-libmfx --enable-libdc1394 --enable-libdrm --enable-libiec61883 --enable-chromaprint --enable-frei0r --enable-libx264 --enable-shared\n",
      "libavutil      56. 51.100 / 56. 51.100\n",
      "libavcodec     58. 91.100 / 58. 91.100\n",
      "libavformat    58. 45.100 / 58. 45.100\n",
      "libavdevice    58. 10.100 / 58. 10.100\n",
      "libavfilter     7. 85.100 /  7. 85.100\n",
      "libavresample   4.  0.  0 /  4.  0.  0\n",
      "libswscale      5.  7.100 /  5.  7.100\n",
      "libswresample   3.  7.100 /  3.  7.100\n",
      "libpostproc    55.  7.100 / 55.  7.100\n",
      "Guessed Channel Layout for Input Stream #0.0 : stereo\n",
      "Input #0, aiff, from '/mnt/freesound-crawler/downloads/119077__domrodrig__door-opening-unlocking-1-2.aiff':\n",
      "Duration: 00:00:02.79, start: 0.000000, bitrate: 2305 kb/s\n",
      "Stream #0:0: Audio: pcm_s24be, 48000 Hz, stereo, s32 (24 bit), 2304 kb/s\n",
      "Stream mapping:\n",
      "Stream #0:0 (pcm_s24be) -> loudnorm\n",
      "loudnorm -> Stream #0:0 (pcm_s24le)\n",
      "Could not write header for output file #0 (incorrect codec parameters ?): Invalid argument\n",
      "Error initializing output stream 0:0 --\n",
      "[Parsed_loudnorm_0 @ 0x563901e89980]\n",
      "{\n",
      "\"input_i\" : \"-inf\",\n",
      "\"input_tp\" : \"-inf\",\n",
      "\"input_lra\" : \"0.00\",\n",
      "\"input_thresh\" : \"-70.00\",\n",
      "\"output_i\" : \"-inf\",\n",
      "\"output_tp\" : \"-inf\",\n",
      "\"output_lra\" : \"0.00\",\n",
      "\"output_thresh\" : \"-70.00\",\n",
      "\"normalization_type\" : \"dynamic\",\n",
      "\"target_offset\" : \"inf\"\n",
      "}\n",
      "Conversion failed!\n",
      "\n",
      "\n",
      "\n",
      "\n",
      "\n",
      "\n"
     ]
    },
    {
     "name": "stdout",
     "output_type": "stream",
     "text": [
      "Command '['ffmpeg-normalize', '/mnt/freesound-crawler/downloads/119077__domrodrig__door-opening-unlocking-1-2.aiff', '-o', '/mnt/freesound-crawler/processed/normalized/119077__domrodrig__door-opening-unlocking-1-2.aiff']' returned non-zero exit status 1.\n"
     ]
    },
    {
     "name": "stderr",
     "output_type": "stream",
     "text": [
      "\u001b[33mWARNING: Audio stream has a duration of less than 3 seconds. Normalization may not work. See https://github.com/slhck/ffmpeg-normalize/issues/87 for more info.\u001b[0m\n",
      "\u001b[31mERROR: Error while running command /usr/bin/ffmpeg -y -nostdin -i /mnt/freesound-crawler/downloads/103998__rutgermuller__wood-knocks.aiff -filter_complex '[0:0]loudnorm=i=-23.0:lra=7.0:tp=-2.0:offset=26.88:measured_i=-24.18:measured_lra=0.0:measured_tp=-1.45:measured_thresh=-35.64:linear=true:print_format=json[norm0]' -map_metadata 0 -map_metadata:s:a:0 0:s:a:0 -map_chapters 0 -map '[norm0]' -c:a:0 pcm_s24le -c:s copy /tmp/tmpnvdt8wr1/out.aiff! Error: Error running command ['/usr/bin/ffmpeg', '-y', '-nostdin', '-i', '/mnt/freesound-crawler/downloads/103998__rutgermuller__wood-knocks.aiff', '-filter_complex', '[0:0]loudnorm=i=-23.0:lra=7.0:tp=-2.0:offset=26.88:measured_i=-24.18:measured_lra=0.0:measured_tp=-1.45:measured_thresh=-35.64:linear=true:print_format=json[norm0]', '-map_metadata', '0', '-map_metadata:s:a:0', '0:s:a:0', '-map_chapters', '0', '-map', '[norm0]', '-c:a:0', 'pcm_s24le', '-c:s', 'copy', '/tmp/tmpnvdt8wr1/out.aiff']: ffmpeg version 4.3.5-0+deb11u1 Copyright (c) 2000-2022 the FFmpeg developers\n",
      "built with gcc 10 (Debian 10.2.1-6)\n",
      "configuration: --prefix=/usr --extra-version=0+deb11u1 --toolchain=hardened --libdir=/usr/lib/x86_64-linux-gnu --incdir=/usr/include/x86_64-linux-gnu --arch=amd64 --enable-gpl --disable-stripping --enable-avresample --disable-filter=resample --enable-gnutls --enable-ladspa --enable-libaom --enable-libass --enable-libbluray --enable-libbs2b --enable-libcaca --enable-libcdio --enable-libcodec2 --enable-libdav1d --enable-libflite --enable-libfontconfig --enable-libfreetype --enable-libfribidi --enable-libgme --enable-libgsm --enable-libjack --enable-libmp3lame --enable-libmysofa --enable-libopenjpeg --enable-libopenmpt --enable-libopus --enable-libpulse --enable-librabbitmq --enable-librsvg --enable-librubberband --enable-libshine --enable-libsnappy --enable-libsoxr --enable-libspeex --enable-libsrt --enable-libssh --enable-libtheora --enable-libtwolame --enable-libvidstab --enable-libvorbis --enable-libvpx --enable-libwavpack --enable-libwebp --enable-libx265 --enable-libxml2 --enable-libxvid --enable-libzmq --enable-libzvbi --enable-lv2 --enable-omx --enable-openal --enable-opencl --enable-opengl --enable-sdl2 --enable-pocketsphinx --enable-libmfx --enable-libdc1394 --enable-libdrm --enable-libiec61883 --enable-chromaprint --enable-frei0r --enable-libx264 --enable-shared\n",
      "libavutil      56. 51.100 / 56. 51.100\n",
      "libavcodec     58. 91.100 / 58. 91.100\n",
      "libavformat    58. 45.100 / 58. 45.100\n",
      "libavdevice    58. 10.100 / 58. 10.100\n",
      "libavfilter     7. 85.100 /  7. 85.100\n",
      "libavresample   4.  0.  0 /  4.  0.  0\n",
      "libswscale      5.  7.100 /  5.  7.100\n",
      "libswresample   3.  7.100 /  3.  7.100\n",
      "libpostproc    55.  7.100 / 55.  7.100\n",
      "Guessed Channel Layout for Input Stream #0.0 : stereo\n",
      "Input #0, aiff, from '/mnt/freesound-crawler/downloads/103998__rutgermuller__wood-knocks.aiff':\n",
      "Duration: 00:00:02.44, start: 0.000000, bitrate: 2304 kb/s\n",
      "Stream #0:0: Audio: pcm_s24be, 48000 Hz, stereo, s32 (24 bit), 2304 kb/s\n",
      "Stream mapping:\n",
      "Stream #0:0 (pcm_s24be) -> loudnorm\n",
      "loudnorm -> Stream #0:0 (pcm_s24le)\n",
      "Could not write header for output file #0 (incorrect codec parameters ?): Invalid argument\n",
      "Error initializing output stream 0:0 --\n",
      "[Parsed_loudnorm_0 @ 0x55d572b64780]\n",
      "{\n",
      "\"input_i\" : \"-inf\",\n",
      "\"input_tp\" : \"-inf\",\n",
      "\"input_lra\" : \"0.00\",\n",
      "\"input_thresh\" : \"-70.00\",\n",
      "\"output_i\" : \"-inf\",\n",
      "\"output_tp\" : \"-inf\",\n",
      "\"output_lra\" : \"0.00\",\n",
      "\"output_thresh\" : \"-70.00\",\n",
      "\"normalization_type\" : \"dynamic\",\n",
      "\"target_offset\" : \"inf\"\n",
      "}\n",
      "Conversion failed!\n",
      "\n",
      "\n",
      "\u001b[0m\n",
      "Traceback (most recent call last):\n",
      "  File \"/home/andrus/.local/bin/ffmpeg-normalize\", line 8, in <module>\n",
      "    sys.exit(main())\n",
      "  File \"/home/andrus/.local/lib/python3.9/site-packages/ffmpeg_normalize/__main__.py\", line 553, in main\n",
      "    ffmpeg_normalize.run_normalization()\n",
      "  File \"/home/andrus/.local/lib/python3.9/site-packages/ffmpeg_normalize/_ffmpeg_normalize.py\", line 237, in run_normalization\n",
      "    raise e\n",
      "  File \"/home/andrus/.local/lib/python3.9/site-packages/ffmpeg_normalize/_ffmpeg_normalize.py\", line 227, in run_normalization\n",
      "    media_file.run_normalization()\n",
      "  File \"/home/andrus/.local/lib/python3.9/site-packages/ffmpeg_normalize/_media_file.py\", line 194, in run_normalization\n",
      "    for _ in self._second_pass():\n",
      "  File \"/home/andrus/.local/lib/python3.9/site-packages/ffmpeg_normalize/_media_file.py\", line 406, in _second_pass\n",
      "    raise e\n",
      "  File \"/home/andrus/.local/lib/python3.9/site-packages/ffmpeg_normalize/_media_file.py\", line 397, in _second_pass\n",
      "    raise e\n",
      "  File \"/home/andrus/.local/lib/python3.9/site-packages/ffmpeg_normalize/_media_file.py\", line 393, in _second_pass\n",
      "    yield from CommandRunner().run_ffmpeg_command(cmd)\n",
      "  File \"/home/andrus/.local/lib/python3.9/site-packages/ffmpeg_normalize/_cmd_utils.py\", line 80, in run_ffmpeg_command\n",
      "    yield from ff.run_command_with_progress()\n",
      "  File \"/home/andrus/.local/lib/python3.9/site-packages/ffmpeg_progress_yield/ffmpeg_progress_yield.py\", line 189, in run_command_with_progress\n",
      "    raise RuntimeError(f\"Error running command {self.cmd}: {_pretty_stderr}\")\n",
      "RuntimeError: Error running command ['/usr/bin/ffmpeg', '-y', '-nostdin', '-i', '/mnt/freesound-crawler/downloads/103998__rutgermuller__wood-knocks.aiff', '-filter_complex', '[0:0]loudnorm=i=-23.0:lra=7.0:tp=-2.0:offset=26.88:measured_i=-24.18:measured_lra=0.0:measured_tp=-1.45:measured_thresh=-35.64:linear=true:print_format=json[norm0]', '-map_metadata', '0', '-map_metadata:s:a:0', '0:s:a:0', '-map_chapters', '0', '-map', '[norm0]', '-c:a:0', 'pcm_s24le', '-c:s', 'copy', '/tmp/tmpnvdt8wr1/out.aiff']: ffmpeg version 4.3.5-0+deb11u1 Copyright (c) 2000-2022 the FFmpeg developers\n",
      "built with gcc 10 (Debian 10.2.1-6)\n",
      "configuration: --prefix=/usr --extra-version=0+deb11u1 --toolchain=hardened --libdir=/usr/lib/x86_64-linux-gnu --incdir=/usr/include/x86_64-linux-gnu --arch=amd64 --enable-gpl --disable-stripping --enable-avresample --disable-filter=resample --enable-gnutls --enable-ladspa --enable-libaom --enable-libass --enable-libbluray --enable-libbs2b --enable-libcaca --enable-libcdio --enable-libcodec2 --enable-libdav1d --enable-libflite --enable-libfontconfig --enable-libfreetype --enable-libfribidi --enable-libgme --enable-libgsm --enable-libjack --enable-libmp3lame --enable-libmysofa --enable-libopenjpeg --enable-libopenmpt --enable-libopus --enable-libpulse --enable-librabbitmq --enable-librsvg --enable-librubberband --enable-libshine --enable-libsnappy --enable-libsoxr --enable-libspeex --enable-libsrt --enable-libssh --enable-libtheora --enable-libtwolame --enable-libvidstab --enable-libvorbis --enable-libvpx --enable-libwavpack --enable-libwebp --enable-libx265 --enable-libxml2 --enable-libxvid --enable-libzmq --enable-libzvbi --enable-lv2 --enable-omx --enable-openal --enable-opencl --enable-opengl --enable-sdl2 --enable-pocketsphinx --enable-libmfx --enable-libdc1394 --enable-libdrm --enable-libiec61883 --enable-chromaprint --enable-frei0r --enable-libx264 --enable-shared\n",
      "libavutil      56. 51.100 / 56. 51.100\n",
      "libavcodec     58. 91.100 / 58. 91.100\n",
      "libavformat    58. 45.100 / 58. 45.100\n",
      "libavdevice    58. 10.100 / 58. 10.100\n",
      "libavfilter     7. 85.100 /  7. 85.100\n",
      "libavresample   4.  0.  0 /  4.  0.  0\n",
      "libswscale      5.  7.100 /  5.  7.100\n",
      "libswresample   3.  7.100 /  3.  7.100\n",
      "libpostproc    55.  7.100 / 55.  7.100\n",
      "Guessed Channel Layout for Input Stream #0.0 : stereo\n",
      "Input #0, aiff, from '/mnt/freesound-crawler/downloads/103998__rutgermuller__wood-knocks.aiff':\n",
      "Duration: 00:00:02.44, start: 0.000000, bitrate: 2304 kb/s\n",
      "Stream #0:0: Audio: pcm_s24be, 48000 Hz, stereo, s32 (24 bit), 2304 kb/s\n",
      "Stream mapping:\n",
      "Stream #0:0 (pcm_s24be) -> loudnorm\n",
      "loudnorm -> Stream #0:0 (pcm_s24le)\n",
      "Could not write header for output file #0 (incorrect codec parameters ?): Invalid argument\n",
      "Error initializing output stream 0:0 --\n",
      "[Parsed_loudnorm_0 @ 0x55d572b64780]\n",
      "{\n",
      "\"input_i\" : \"-inf\",\n",
      "\"input_tp\" : \"-inf\",\n",
      "\"input_lra\" : \"0.00\",\n",
      "\"input_thresh\" : \"-70.00\",\n",
      "\"output_i\" : \"-inf\",\n",
      "\"output_tp\" : \"-inf\",\n",
      "\"output_lra\" : \"0.00\",\n",
      "\"output_thresh\" : \"-70.00\",\n",
      "\"normalization_type\" : \"dynamic\",\n",
      "\"target_offset\" : \"inf\"\n",
      "}\n",
      "Conversion failed!\n",
      "\n",
      "\n",
      "\n"
     ]
    },
    {
     "name": "stdout",
     "output_type": "stream",
     "text": [
      "Command '['ffmpeg-normalize', '/mnt/freesound-crawler/downloads/103998__rutgermuller__wood-knocks.aiff', '-o', '/mnt/freesound-crawler/processed/normalized/103998__rutgermuller__wood-knocks.aiff']' returned non-zero exit status 1.\n"
     ]
    },
    {
     "name": "stderr",
     "output_type": "stream",
     "text": [
      "\u001b[31mERROR: Output extension mp3 does not support PCM audio. Please choose a suitable audio codec with the -c:a option.\u001b[0m\n"
     ]
    },
    {
     "name": "stdout",
     "output_type": "stream",
     "text": [
      "Command '['ffmpeg-normalize', '/mnt/freesound-crawler/downloads/323196__alivvie__ii-high.mp3', '-o', '/mnt/freesound-crawler/processed/normalized/323196__alivvie__ii-high.mp3']' returned non-zero exit status 1.\n"
     ]
    },
    {
     "name": "stderr",
     "output_type": "stream",
     "text": [
      "\u001b[31mERROR: Output extension ogg does not support PCM audio. Please choose a suitable audio codec with the -c:a option.\u001b[0m\n"
     ]
    },
    {
     "name": "stdout",
     "output_type": "stream",
     "text": [
      "Command '['ffmpeg-normalize', '/mnt/freesound-crawler/downloads/395361__ihitokage__hit-1.ogg', '-o', '/mnt/freesound-crawler/processed/normalized/395361__ihitokage__hit-1.ogg']' returned non-zero exit status 1.\n"
     ]
    },
    {
     "name": "stderr",
     "output_type": "stream",
     "text": [
      "\u001b[31mERROR: Output extension flac does not support PCM audio. Please choose a suitable audio codec with the -c:a option.\u001b[0m\n"
     ]
    },
    {
     "name": "stdout",
     "output_type": "stream",
     "text": [
      "Command '['ffmpeg-normalize', '/mnt/freesound-crawler/downloads/340810__cabled-mess__alien-interface-communication-sound.flac', '-o', '/mnt/freesound-crawler/processed/normalized/340810__cabled-mess__alien-interface-communication-sound.flac']' returned non-zero exit status 1.\n"
     ]
    },
    {
     "name": "stderr",
     "output_type": "stream",
     "text": [
      "\u001b[31mERROR: Output extension ogg does not support PCM audio. Please choose a suitable audio codec with the -c:a option.\u001b[0m\n"
     ]
    },
    {
     "name": "stdout",
     "output_type": "stream",
     "text": [
      "Command '['ffmpeg-normalize', '/mnt/freesound-crawler/downloads/458663__jorgerosa__light-beam-1.ogg', '-o', '/mnt/freesound-crawler/processed/normalized/458663__jorgerosa__light-beam-1.ogg']' returned non-zero exit status 1.\n"
     ]
    },
    {
     "name": "stderr",
     "output_type": "stream",
     "text": [
      "\u001b[31mERROR: Output extension flac does not support PCM audio. Please choose a suitable audio codec with the -c:a option.\u001b[0m\n"
     ]
    },
    {
     "name": "stdout",
     "output_type": "stream",
     "text": [
      "Command '['ffmpeg-normalize', '/mnt/freesound-crawler/downloads/161340__qubodup__us-military-soldier-shouting-whoo.flac', '-o', '/mnt/freesound-crawler/processed/normalized/161340__qubodup__us-military-soldier-shouting-whoo.flac']' returned non-zero exit status 1.\n"
     ]
    },
    {
     "name": "stderr",
     "output_type": "stream",
     "text": [
      "\u001b[31mERROR: Output extension flac does not support PCM audio. Please choose a suitable audio codec with the -c:a option.\u001b[0m\n"
     ]
    },
    {
     "name": "stdout",
     "output_type": "stream",
     "text": [
      "Command '['ffmpeg-normalize', '/mnt/freesound-crawler/downloads/90072__qubodup__uuh.flac', '-o', '/mnt/freesound-crawler/processed/normalized/90072__qubodup__uuh.flac']' returned non-zero exit status 1.\n"
     ]
    },
    {
     "name": "stderr",
     "output_type": "stream",
     "text": [
      "\u001b[31mERROR: Output extension flac does not support PCM audio. Please choose a suitable audio codec with the -c:a option.\u001b[0m\n"
     ]
    },
    {
     "name": "stdout",
     "output_type": "stream",
     "text": [
      "Command '['ffmpeg-normalize', '/mnt/freesound-crawler/downloads/213232__unfa__huh-haaa-dry.flac', '-o', '/mnt/freesound-crawler/processed/normalized/213232__unfa__huh-haaa-dry.flac']' returned non-zero exit status 1.\n"
     ]
    },
    {
     "name": "stderr",
     "output_type": "stream",
     "text": [
      "\u001b[31mERROR: Output extension flac does not support PCM audio. Please choose a suitable audio codec with the -c:a option.\u001b[0m\n"
     ]
    },
    {
     "name": "stdout",
     "output_type": "stream",
     "text": [
      "Command '['ffmpeg-normalize', '/mnt/freesound-crawler/downloads/59996__qubodup__swoosh-wind-09.flac', '-o', '/mnt/freesound-crawler/processed/normalized/59996__qubodup__swoosh-wind-09.flac']' returned non-zero exit status 1.\n"
     ]
    },
    {
     "name": "stderr",
     "output_type": "stream",
     "text": [
      "\u001b[31mERROR: Output extension ogg does not support PCM audio. Please choose a suitable audio codec with the -c:a option.\u001b[0m\n"
     ]
    },
    {
     "name": "stdout",
     "output_type": "stream",
     "text": [
      "Command '['ffmpeg-normalize', '/mnt/freesound-crawler/downloads/395353__ihitokage__woosh-9.ogg', '-o', '/mnt/freesound-crawler/processed/normalized/395353__ihitokage__woosh-9.ogg']' returned non-zero exit status 1.\n"
     ]
    },
    {
     "name": "stderr",
     "output_type": "stream",
     "text": [
      "\u001b[33mWARNING: Audio stream has a duration of less than 3 seconds. Normalization may not work. See https://github.com/slhck/ffmpeg-normalize/issues/87 for more info.\u001b[0m\n",
      "\u001b[31mERROR: Error while running command /usr/bin/ffmpeg -y -nostdin -i /mnt/freesound-crawler/downloads/638__memexikon__lockjawnetb.wav -filter_complex '[0:0]loudnorm=i=-23.0:lra=7.0:tp=-2.0:offset=-0.02:measured_i=-9.75:measured_lra=0.0:measured_tp=-0.18:measured_thresh=-19.75:linear=true:print_format=json[norm0]' -map_metadata 0 -map_metadata:s:a:0 0:s:a:0 -map_chapters 0 -map '[norm0]' -c:a:0 pcm_s8 -c:s copy /tmp/tmpoe2szp53/out.wav! Error: Error running command ['/usr/bin/ffmpeg', '-y', '-nostdin', '-i', '/mnt/freesound-crawler/downloads/638__memexikon__lockjawnetb.wav', '-filter_complex', '[0:0]loudnorm=i=-23.0:lra=7.0:tp=-2.0:offset=-0.02:measured_i=-9.75:measured_lra=0.0:measured_tp=-0.18:measured_thresh=-19.75:linear=true:print_format=json[norm0]', '-map_metadata', '0', '-map_metadata:s:a:0', '0:s:a:0', '-map_chapters', '0', '-map', '[norm0]', '-c:a:0', 'pcm_s8', '-c:s', 'copy', '/tmp/tmpoe2szp53/out.wav']: ffmpeg version 4.3.5-0+deb11u1 Copyright (c) 2000-2022 the FFmpeg developers\n",
      "built with gcc 10 (Debian 10.2.1-6)\n",
      "configuration: --prefix=/usr --extra-version=0+deb11u1 --toolchain=hardened --libdir=/usr/lib/x86_64-linux-gnu --incdir=/usr/include/x86_64-linux-gnu --arch=amd64 --enable-gpl --disable-stripping --enable-avresample --disable-filter=resample --enable-gnutls --enable-ladspa --enable-libaom --enable-libass --enable-libbluray --enable-libbs2b --enable-libcaca --enable-libcdio --enable-libcodec2 --enable-libdav1d --enable-libflite --enable-libfontconfig --enable-libfreetype --enable-libfribidi --enable-libgme --enable-libgsm --enable-libjack --enable-libmp3lame --enable-libmysofa --enable-libopenjpeg --enable-libopenmpt --enable-libopus --enable-libpulse --enable-librabbitmq --enable-librsvg --enable-librubberband --enable-libshine --enable-libsnappy --enable-libsoxr --enable-libspeex --enable-libsrt --enable-libssh --enable-libtheora --enable-libtwolame --enable-libvidstab --enable-libvorbis --enable-libvpx --enable-libwavpack --enable-libwebp --enable-libx265 --enable-libxml2 --enable-libxvid --enable-libzmq --enable-libzvbi --enable-lv2 --enable-omx --enable-openal --enable-opencl --enable-opengl --enable-sdl2 --enable-pocketsphinx --enable-libmfx --enable-libdc1394 --enable-libdrm --enable-libiec61883 --enable-chromaprint --enable-frei0r --enable-libx264 --enable-shared\n",
      "libavutil      56. 51.100 / 56. 51.100\n",
      "libavcodec     58. 91.100 / 58. 91.100\n",
      "libavformat    58. 45.100 / 58. 45.100\n",
      "libavdevice    58. 10.100 / 58. 10.100\n",
      "libavfilter     7. 85.100 /  7. 85.100\n",
      "libavresample   4.  0.  0 /  4.  0.  0\n",
      "libswscale      5.  7.100 /  5.  7.100\n",
      "libswresample   3.  7.100 /  3.  7.100\n",
      "libpostproc    55.  7.100 / 55.  7.100\n",
      "Guessed Channel Layout for Input Stream #0.0 : mono\n",
      "Input #0, wav, from '/mnt/freesound-crawler/downloads/638__memexikon__lockjawnetb.wav':\n",
      "Duration: 00:00:02.76, bitrate: 176 kb/s\n",
      "Stream #0:0: Audio: pcm_u8 ([1][0][0][0] / 0x0001), 22050 Hz, mono, u8, 176 kb/s\n",
      "Stream mapping:\n",
      "Stream #0:0 (pcm_u8) -> loudnorm\n",
      "loudnorm -> Stream #0:0 (pcm_s8)\n",
      "[wav @ 0x56401f6fa440] pcm_s8 codec not supported in WAVE format\n",
      "Could not write header for output file #0 (incorrect codec parameters ?): Function not implemented\n",
      "Error initializing output stream 0:0 --\n",
      "[Parsed_loudnorm_0 @ 0x56401f700040]\n",
      "{\n",
      "\"input_i\" : \"-inf\",\n",
      "\"input_tp\" : \"-inf\",\n",
      "\"input_lra\" : \"0.00\",\n",
      "\"input_thresh\" : \"-70.00\",\n",
      "\"output_i\" : \"-inf\",\n",
      "\"output_tp\" : \"-inf\",\n",
      "\"output_lra\" : \"0.00\",\n",
      "\"output_thresh\" : \"-70.00\",\n",
      "\"normalization_type\" : \"dynamic\",\n",
      "\"target_offset\" : \"inf\"\n",
      "}\n",
      "Conversion failed!\n",
      "\u001b[0m\n",
      "Traceback (most recent call last):\n",
      "  File \"/home/andrus/.local/bin/ffmpeg-normalize\", line 8, in <module>\n",
      "    sys.exit(main())\n",
      "  File \"/home/andrus/.local/lib/python3.9/site-packages/ffmpeg_normalize/__main__.py\", line 553, in main\n",
      "    ffmpeg_normalize.run_normalization()\n",
      "  File \"/home/andrus/.local/lib/python3.9/site-packages/ffmpeg_normalize/_ffmpeg_normalize.py\", line 237, in run_normalization\n",
      "    raise e\n",
      "  File \"/home/andrus/.local/lib/python3.9/site-packages/ffmpeg_normalize/_ffmpeg_normalize.py\", line 227, in run_normalization\n",
      "    media_file.run_normalization()\n",
      "  File \"/home/andrus/.local/lib/python3.9/site-packages/ffmpeg_normalize/_media_file.py\", line 194, in run_normalization\n",
      "    for _ in self._second_pass():\n",
      "  File \"/home/andrus/.local/lib/python3.9/site-packages/ffmpeg_normalize/_media_file.py\", line 406, in _second_pass\n",
      "    raise e\n",
      "  File \"/home/andrus/.local/lib/python3.9/site-packages/ffmpeg_normalize/_media_file.py\", line 397, in _second_pass\n",
      "    raise e\n",
      "  File \"/home/andrus/.local/lib/python3.9/site-packages/ffmpeg_normalize/_media_file.py\", line 393, in _second_pass\n",
      "    yield from CommandRunner().run_ffmpeg_command(cmd)\n",
      "  File \"/home/andrus/.local/lib/python3.9/site-packages/ffmpeg_normalize/_cmd_utils.py\", line 80, in run_ffmpeg_command\n",
      "    yield from ff.run_command_with_progress()\n",
      "  File \"/home/andrus/.local/lib/python3.9/site-packages/ffmpeg_progress_yield/ffmpeg_progress_yield.py\", line 189, in run_command_with_progress\n",
      "    raise RuntimeError(f\"Error running command {self.cmd}: {_pretty_stderr}\")\n",
      "RuntimeError: Error running command ['/usr/bin/ffmpeg', '-y', '-nostdin', '-i', '/mnt/freesound-crawler/downloads/638__memexikon__lockjawnetb.wav', '-filter_complex', '[0:0]loudnorm=i=-23.0:lra=7.0:tp=-2.0:offset=-0.02:measured_i=-9.75:measured_lra=0.0:measured_tp=-0.18:measured_thresh=-19.75:linear=true:print_format=json[norm0]', '-map_metadata', '0', '-map_metadata:s:a:0', '0:s:a:0', '-map_chapters', '0', '-map', '[norm0]', '-c:a:0', 'pcm_s8', '-c:s', 'copy', '/tmp/tmpoe2szp53/out.wav']: ffmpeg version 4.3.5-0+deb11u1 Copyright (c) 2000-2022 the FFmpeg developers\n",
      "built with gcc 10 (Debian 10.2.1-6)\n",
      "configuration: --prefix=/usr --extra-version=0+deb11u1 --toolchain=hardened --libdir=/usr/lib/x86_64-linux-gnu --incdir=/usr/include/x86_64-linux-gnu --arch=amd64 --enable-gpl --disable-stripping --enable-avresample --disable-filter=resample --enable-gnutls --enable-ladspa --enable-libaom --enable-libass --enable-libbluray --enable-libbs2b --enable-libcaca --enable-libcdio --enable-libcodec2 --enable-libdav1d --enable-libflite --enable-libfontconfig --enable-libfreetype --enable-libfribidi --enable-libgme --enable-libgsm --enable-libjack --enable-libmp3lame --enable-libmysofa --enable-libopenjpeg --enable-libopenmpt --enable-libopus --enable-libpulse --enable-librabbitmq --enable-librsvg --enable-librubberband --enable-libshine --enable-libsnappy --enable-libsoxr --enable-libspeex --enable-libsrt --enable-libssh --enable-libtheora --enable-libtwolame --enable-libvidstab --enable-libvorbis --enable-libvpx --enable-libwavpack --enable-libwebp --enable-libx265 --enable-libxml2 --enable-libxvid --enable-libzmq --enable-libzvbi --enable-lv2 --enable-omx --enable-openal --enable-opencl --enable-opengl --enable-sdl2 --enable-pocketsphinx --enable-libmfx --enable-libdc1394 --enable-libdrm --enable-libiec61883 --enable-chromaprint --enable-frei0r --enable-libx264 --enable-shared\n",
      "libavutil      56. 51.100 / 56. 51.100\n",
      "libavcodec     58. 91.100 / 58. 91.100\n",
      "libavformat    58. 45.100 / 58. 45.100\n",
      "libavdevice    58. 10.100 / 58. 10.100\n",
      "libavfilter     7. 85.100 /  7. 85.100\n",
      "libavresample   4.  0.  0 /  4.  0.  0\n",
      "libswscale      5.  7.100 /  5.  7.100\n",
      "libswresample   3.  7.100 /  3.  7.100\n",
      "libpostproc    55.  7.100 / 55.  7.100\n",
      "Guessed Channel Layout for Input Stream #0.0 : mono\n",
      "Input #0, wav, from '/mnt/freesound-crawler/downloads/638__memexikon__lockjawnetb.wav':\n",
      "Duration: 00:00:02.76, bitrate: 176 kb/s\n",
      "Stream #0:0: Audio: pcm_u8 ([1][0][0][0] / 0x0001), 22050 Hz, mono, u8, 176 kb/s\n",
      "Stream mapping:\n",
      "Stream #0:0 (pcm_u8) -> loudnorm\n",
      "loudnorm -> Stream #0:0 (pcm_s8)\n",
      "[wav @ 0x56401f6fa440] pcm_s8 codec not supported in WAVE format\n",
      "Could not write header for output file #0 (incorrect codec parameters ?): Function not implemented\n",
      "Error initializing output stream 0:0 --\n",
      "[Parsed_loudnorm_0 @ 0x56401f700040]\n",
      "{\n",
      "\"input_i\" : \"-inf\",\n",
      "\"input_tp\" : \"-inf\",\n",
      "\"input_lra\" : \"0.00\",\n",
      "\"input_thresh\" : \"-70.00\",\n",
      "\"output_i\" : \"-inf\",\n",
      "\"output_tp\" : \"-inf\",\n",
      "\"output_lra\" : \"0.00\",\n",
      "\"output_thresh\" : \"-70.00\",\n",
      "\"normalization_type\" : \"dynamic\",\n",
      "\"target_offset\" : \"inf\"\n",
      "}\n",
      "Conversion failed!\n",
      "\n"
     ]
    },
    {
     "name": "stdout",
     "output_type": "stream",
     "text": [
      "Command '['ffmpeg-normalize', '/mnt/freesound-crawler/downloads/638__memexikon__lockjawnetb.wav', '-o', '/mnt/freesound-crawler/processed/normalized/638__memexikon__lockjawnetb.wav']' returned non-zero exit status 1.\n"
     ]
    },
    {
     "name": "stderr",
     "output_type": "stream",
     "text": [
      "\u001b[31mERROR: Output extension flac does not support PCM audio. Please choose a suitable audio codec with the -c:a option.\u001b[0m\n"
     ]
    },
    {
     "name": "stdout",
     "output_type": "stream",
     "text": [
      "Command '['ffmpeg-normalize', '/mnt/freesound-crawler/downloads/60008__qubodup__21th-air-movement-sound.flac', '-o', '/mnt/freesound-crawler/processed/normalized/60008__qubodup__21th-air-movement-sound.flac']' returned non-zero exit status 1.\n"
     ]
    },
    {
     "name": "stderr",
     "output_type": "stream",
     "text": [
      "\u001b[31mERROR: Output extension flac does not support PCM audio. Please choose a suitable audio codec with the -c:a option.\u001b[0m\n"
     ]
    },
    {
     "name": "stdout",
     "output_type": "stream",
     "text": [
      "Command '['ffmpeg-normalize', '/mnt/freesound-crawler/downloads/188488__unfa__scream-let-s-go.flac', '-o', '/mnt/freesound-crawler/processed/normalized/188488__unfa__scream-let-s-go.flac']' returned non-zero exit status 1.\n"
     ]
    },
    {
     "name": "stderr",
     "output_type": "stream",
     "text": [
      "\u001b[31mERROR: Output extension flac does not support PCM audio. Please choose a suitable audio codec with the -c:a option.\u001b[0m\n"
     ]
    },
    {
     "name": "stdout",
     "output_type": "stream",
     "text": [
      "Command '['ffmpeg-normalize', '/mnt/freesound-crawler/downloads/60016__qubodup__windy-movement-29.flac', '-o', '/mnt/freesound-crawler/processed/normalized/60016__qubodup__windy-movement-29.flac']' returned non-zero exit status 1.\n"
     ]
    },
    {
     "name": "stderr",
     "output_type": "stream",
     "text": [
      "\u001b[31mERROR: Output extension flac does not support PCM audio. Please choose a suitable audio codec with the -c:a option.\u001b[0m\n"
     ]
    },
    {
     "name": "stdout",
     "output_type": "stream",
     "text": [
      "Command '['ffmpeg-normalize', '/mnt/freesound-crawler/downloads/59995__qubodup__swosh-08.flac', '-o', '/mnt/freesound-crawler/processed/normalized/59995__qubodup__swosh-08.flac']' returned non-zero exit status 1.\n"
     ]
    },
    {
     "name": "stderr",
     "output_type": "stream",
     "text": [
      "\u001b[31mERROR: Output extension mp3 does not support PCM audio. Please choose a suitable audio codec with the -c:a option.\u001b[0m\n"
     ]
    },
    {
     "name": "stdout",
     "output_type": "stream",
     "text": [
      "Command '['ffmpeg-normalize', '/mnt/freesound-crawler/downloads/463818__se2001__another-chipmunk-laugh.mp3', '-o', '/mnt/freesound-crawler/processed/normalized/463818__se2001__another-chipmunk-laugh.mp3']' returned non-zero exit status 1.\n"
     ]
    },
    {
     "name": "stderr",
     "output_type": "stream",
     "text": [
      "\u001b[31mERROR: Output extension flac does not support PCM audio. Please choose a suitable audio codec with the -c:a option.\u001b[0m\n"
     ]
    },
    {
     "name": "stdout",
     "output_type": "stream",
     "text": [
      "Command '['ffmpeg-normalize', '/mnt/freesound-crawler/downloads/155861__unfa__alright-1.flac', '-o', '/mnt/freesound-crawler/processed/normalized/155861__unfa__alright-1.flac']' returned non-zero exit status 1.\n"
     ]
    },
    {
     "name": "stderr",
     "output_type": "stream",
     "text": [
      "\u001b[33mWARNING: Audio stream has a duration of less than 3 seconds. Normalization may not work. See https://github.com/slhck/ffmpeg-normalize/issues/87 for more info.\u001b[0m\n",
      "\u001b[31mERROR: Error while running command /usr/bin/ffmpeg -y -nostdin -i /mnt/freesound-crawler/downloads/172889__candlegravity__bell-bubbler-loop-ii.aiff -filter_complex '[0:0]loudnorm=i=-23.0:lra=7.0:tp=-2.0:offset=-0.01:measured_i=-26.39:measured_lra=0.0:measured_tp=-11.32:measured_thresh=-37.42:linear=true:print_format=json[norm0]' -map_metadata 0 -map_metadata:s:a:0 0:s:a:0 -map_chapters 0 -map '[norm0]' -c:a:0 pcm_s24le -c:s copy /tmp/tmpnhuwv5bk/out.aiff! Error: Error running command ['/usr/bin/ffmpeg', '-y', '-nostdin', '-i', '/mnt/freesound-crawler/downloads/172889__candlegravity__bell-bubbler-loop-ii.aiff', '-filter_complex', '[0:0]loudnorm=i=-23.0:lra=7.0:tp=-2.0:offset=-0.01:measured_i=-26.39:measured_lra=0.0:measured_tp=-11.32:measured_thresh=-37.42:linear=true:print_format=json[norm0]', '-map_metadata', '0', '-map_metadata:s:a:0', '0:s:a:0', '-map_chapters', '0', '-map', '[norm0]', '-c:a:0', 'pcm_s24le', '-c:s', 'copy', '/tmp/tmpnhuwv5bk/out.aiff']: ffmpeg version 4.3.5-0+deb11u1 Copyright (c) 2000-2022 the FFmpeg developers\n",
      "built with gcc 10 (Debian 10.2.1-6)\n",
      "configuration: --prefix=/usr --extra-version=0+deb11u1 --toolchain=hardened --libdir=/usr/lib/x86_64-linux-gnu --incdir=/usr/include/x86_64-linux-gnu --arch=amd64 --enable-gpl --disable-stripping --enable-avresample --disable-filter=resample --enable-gnutls --enable-ladspa --enable-libaom --enable-libass --enable-libbluray --enable-libbs2b --enable-libcaca --enable-libcdio --enable-libcodec2 --enable-libdav1d --enable-libflite --enable-libfontconfig --enable-libfreetype --enable-libfribidi --enable-libgme --enable-libgsm --enable-libjack --enable-libmp3lame --enable-libmysofa --enable-libopenjpeg --enable-libopenmpt --enable-libopus --enable-libpulse --enable-librabbitmq --enable-librsvg --enable-librubberband --enable-libshine --enable-libsnappy --enable-libsoxr --enable-libspeex --enable-libsrt --enable-libssh --enable-libtheora --enable-libtwolame --enable-libvidstab --enable-libvorbis --enable-libvpx --enable-libwavpack --enable-libwebp --enable-libx265 --enable-libxml2 --enable-libxvid --enable-libzmq --enable-libzvbi --enable-lv2 --enable-omx --enable-openal --enable-opencl --enable-opengl --enable-sdl2 --enable-pocketsphinx --enable-libmfx --enable-libdc1394 --enable-libdrm --enable-libiec61883 --enable-chromaprint --enable-frei0r --enable-libx264 --enable-shared\n",
      "libavutil      56. 51.100 / 56. 51.100\n",
      "libavcodec     58. 91.100 / 58. 91.100\n",
      "libavformat    58. 45.100 / 58. 45.100\n",
      "libavdevice    58. 10.100 / 58. 10.100\n",
      "libavfilter     7. 85.100 /  7. 85.100\n",
      "libavresample   4.  0.  0 /  4.  0.  0\n",
      "libswscale      5.  7.100 /  5.  7.100\n",
      "libswresample   3.  7.100 /  3.  7.100\n",
      "libpostproc    55.  7.100 / 55.  7.100\n",
      "Guessed Channel Layout for Input Stream #0.0 : stereo\n",
      "Input #0, aiff, from '/mnt/freesound-crawler/downloads/172889__candlegravity__bell-bubbler-loop-ii.aiff':\n",
      "Duration: 00:00:02.65, start: 0.000000, bitrate: 2116 kb/s\n",
      "Stream #0:0: Audio: pcm_s24be, 44100 Hz, stereo, s32 (24 bit), 2116 kb/s\n",
      "Stream mapping:\n",
      "Stream #0:0 (pcm_s24be) -> loudnorm\n",
      "loudnorm -> Stream #0:0 (pcm_s24le)\n",
      "Could not write header for output file #0 (incorrect codec parameters ?): Invalid argument\n",
      "Error initializing output stream 0:0 --\n",
      "[Parsed_loudnorm_0 @ 0x558caf0e0980]\n",
      "{\n",
      "\"input_i\" : \"-inf\",\n",
      "\"input_tp\" : \"-inf\",\n",
      "\"input_lra\" : \"0.00\",\n",
      "\"input_thresh\" : \"-70.00\",\n",
      "\"output_i\" : \"-inf\",\n",
      "\"output_tp\" : \"-inf\",\n",
      "\"output_lra\" : \"0.00\",\n",
      "\"output_thresh\" : \"-70.00\",\n",
      "\"normalization_type\" : \"dynamic\",\n",
      "\"target_offset\" : \"inf\"\n",
      "}\n",
      "Conversion failed!\n",
      "\n",
      "\u001b[0m\n",
      "Traceback (most recent call last):\n",
      "  File \"/home/andrus/.local/bin/ffmpeg-normalize\", line 8, in <module>\n",
      "    sys.exit(main())\n",
      "  File \"/home/andrus/.local/lib/python3.9/site-packages/ffmpeg_normalize/__main__.py\", line 553, in main\n",
      "    ffmpeg_normalize.run_normalization()\n",
      "  File \"/home/andrus/.local/lib/python3.9/site-packages/ffmpeg_normalize/_ffmpeg_normalize.py\", line 237, in run_normalization\n",
      "    raise e\n",
      "  File \"/home/andrus/.local/lib/python3.9/site-packages/ffmpeg_normalize/_ffmpeg_normalize.py\", line 227, in run_normalization\n",
      "    media_file.run_normalization()\n",
      "  File \"/home/andrus/.local/lib/python3.9/site-packages/ffmpeg_normalize/_media_file.py\", line 194, in run_normalization\n",
      "    for _ in self._second_pass():\n",
      "  File \"/home/andrus/.local/lib/python3.9/site-packages/ffmpeg_normalize/_media_file.py\", line 406, in _second_pass\n",
      "    raise e\n",
      "  File \"/home/andrus/.local/lib/python3.9/site-packages/ffmpeg_normalize/_media_file.py\", line 397, in _second_pass\n",
      "    raise e\n",
      "  File \"/home/andrus/.local/lib/python3.9/site-packages/ffmpeg_normalize/_media_file.py\", line 393, in _second_pass\n",
      "    yield from CommandRunner().run_ffmpeg_command(cmd)\n",
      "  File \"/home/andrus/.local/lib/python3.9/site-packages/ffmpeg_normalize/_cmd_utils.py\", line 80, in run_ffmpeg_command\n",
      "    yield from ff.run_command_with_progress()\n",
      "  File \"/home/andrus/.local/lib/python3.9/site-packages/ffmpeg_progress_yield/ffmpeg_progress_yield.py\", line 189, in run_command_with_progress\n",
      "    raise RuntimeError(f\"Error running command {self.cmd}: {_pretty_stderr}\")\n",
      "RuntimeError: Error running command ['/usr/bin/ffmpeg', '-y', '-nostdin', '-i', '/mnt/freesound-crawler/downloads/172889__candlegravity__bell-bubbler-loop-ii.aiff', '-filter_complex', '[0:0]loudnorm=i=-23.0:lra=7.0:tp=-2.0:offset=-0.01:measured_i=-26.39:measured_lra=0.0:measured_tp=-11.32:measured_thresh=-37.42:linear=true:print_format=json[norm0]', '-map_metadata', '0', '-map_metadata:s:a:0', '0:s:a:0', '-map_chapters', '0', '-map', '[norm0]', '-c:a:0', 'pcm_s24le', '-c:s', 'copy', '/tmp/tmpnhuwv5bk/out.aiff']: ffmpeg version 4.3.5-0+deb11u1 Copyright (c) 2000-2022 the FFmpeg developers\n",
      "built with gcc 10 (Debian 10.2.1-6)\n",
      "configuration: --prefix=/usr --extra-version=0+deb11u1 --toolchain=hardened --libdir=/usr/lib/x86_64-linux-gnu --incdir=/usr/include/x86_64-linux-gnu --arch=amd64 --enable-gpl --disable-stripping --enable-avresample --disable-filter=resample --enable-gnutls --enable-ladspa --enable-libaom --enable-libass --enable-libbluray --enable-libbs2b --enable-libcaca --enable-libcdio --enable-libcodec2 --enable-libdav1d --enable-libflite --enable-libfontconfig --enable-libfreetype --enable-libfribidi --enable-libgme --enable-libgsm --enable-libjack --enable-libmp3lame --enable-libmysofa --enable-libopenjpeg --enable-libopenmpt --enable-libopus --enable-libpulse --enable-librabbitmq --enable-librsvg --enable-librubberband --enable-libshine --enable-libsnappy --enable-libsoxr --enable-libspeex --enable-libsrt --enable-libssh --enable-libtheora --enable-libtwolame --enable-libvidstab --enable-libvorbis --enable-libvpx --enable-libwavpack --enable-libwebp --enable-libx265 --enable-libxml2 --enable-libxvid --enable-libzmq --enable-libzvbi --enable-lv2 --enable-omx --enable-openal --enable-opencl --enable-opengl --enable-sdl2 --enable-pocketsphinx --enable-libmfx --enable-libdc1394 --enable-libdrm --enable-libiec61883 --enable-chromaprint --enable-frei0r --enable-libx264 --enable-shared\n",
      "libavutil      56. 51.100 / 56. 51.100\n",
      "libavcodec     58. 91.100 / 58. 91.100\n",
      "libavformat    58. 45.100 / 58. 45.100\n",
      "libavdevice    58. 10.100 / 58. 10.100\n",
      "libavfilter     7. 85.100 /  7. 85.100\n",
      "libavresample   4.  0.  0 /  4.  0.  0\n",
      "libswscale      5.  7.100 /  5.  7.100\n",
      "libswresample   3.  7.100 /  3.  7.100\n",
      "libpostproc    55.  7.100 / 55.  7.100\n",
      "Guessed Channel Layout for Input Stream #0.0 : stereo\n",
      "Input #0, aiff, from '/mnt/freesound-crawler/downloads/172889__candlegravity__bell-bubbler-loop-ii.aiff':\n",
      "Duration: 00:00:02.65, start: 0.000000, bitrate: 2116 kb/s\n",
      "Stream #0:0: Audio: pcm_s24be, 44100 Hz, stereo, s32 (24 bit), 2116 kb/s\n",
      "Stream mapping:\n",
      "Stream #0:0 (pcm_s24be) -> loudnorm\n",
      "loudnorm -> Stream #0:0 (pcm_s24le)\n",
      "Could not write header for output file #0 (incorrect codec parameters ?): Invalid argument\n",
      "Error initializing output stream 0:0 --\n",
      "[Parsed_loudnorm_0 @ 0x558caf0e0980]\n",
      "{\n",
      "\"input_i\" : \"-inf\",\n",
      "\"input_tp\" : \"-inf\",\n",
      "\"input_lra\" : \"0.00\",\n",
      "\"input_thresh\" : \"-70.00\",\n",
      "\"output_i\" : \"-inf\",\n",
      "\"output_tp\" : \"-inf\",\n",
      "\"output_lra\" : \"0.00\",\n",
      "\"output_thresh\" : \"-70.00\",\n",
      "\"normalization_type\" : \"dynamic\",\n",
      "\"target_offset\" : \"inf\"\n",
      "}\n",
      "Conversion failed!\n",
      "\n",
      "\n"
     ]
    },
    {
     "name": "stdout",
     "output_type": "stream",
     "text": [
      "Command '['ffmpeg-normalize', '/mnt/freesound-crawler/downloads/172889__candlegravity__bell-bubbler-loop-ii.aiff', '-o', '/mnt/freesound-crawler/processed/normalized/172889__candlegravity__bell-bubbler-loop-ii.aiff']' returned non-zero exit status 1.\n"
     ]
    },
    {
     "name": "stderr",
     "output_type": "stream",
     "text": [
      "\u001b[31mERROR: Output extension mp3 does not support PCM audio. Please choose a suitable audio codec with the -c:a option.\u001b[0m\n"
     ]
    },
    {
     "name": "stdout",
     "output_type": "stream",
     "text": [
      "Command '['ffmpeg-normalize', '/mnt/freesound-crawler/downloads/162479__kastenfrosch__beam.mp3', '-o', '/mnt/freesound-crawler/processed/normalized/162479__kastenfrosch__beam.mp3']' returned non-zero exit status 1.\n"
     ]
    },
    {
     "name": "stderr",
     "output_type": "stream",
     "text": [
      "\u001b[31mERROR: Output extension ogg does not support PCM audio. Please choose a suitable audio codec with the -c:a option.\u001b[0m\n"
     ]
    },
    {
     "name": "stdout",
     "output_type": "stream",
     "text": [
      "Command '['ffmpeg-normalize', '/mnt/freesound-crawler/downloads/521950__kastenfrosch__water-impact.ogg', '-o', '/mnt/freesound-crawler/processed/normalized/521950__kastenfrosch__water-impact.ogg']' returned non-zero exit status 1.\n"
     ]
    },
    {
     "name": "stderr",
     "output_type": "stream",
     "text": [
      "\u001b[31mERROR: Output extension ogg does not support PCM audio. Please choose a suitable audio codec with the -c:a option.\u001b[0m\n"
     ]
    },
    {
     "name": "stdout",
     "output_type": "stream",
     "text": [
      "Command '['ffmpeg-normalize', '/mnt/freesound-crawler/downloads/395347__ihitokage__slap-2.ogg', '-o', '/mnt/freesound-crawler/processed/normalized/395347__ihitokage__slap-2.ogg']' returned non-zero exit status 1.\n"
     ]
    },
    {
     "name": "stderr",
     "output_type": "stream",
     "text": [
      "\u001b[31mERROR: Output extension flac does not support PCM audio. Please choose a suitable audio codec with the -c:a option.\u001b[0m\n"
     ]
    },
    {
     "name": "stdout",
     "output_type": "stream",
     "text": [
      "Command '['ffmpeg-normalize', '/mnt/freesound-crawler/downloads/59999__qubodup__sword-or-bullet-swish-swosh-12.flac', '-o', '/mnt/freesound-crawler/processed/normalized/59999__qubodup__sword-or-bullet-swish-swosh-12.flac']' returned non-zero exit status 1.\n"
     ]
    },
    {
     "name": "stderr",
     "output_type": "stream",
     "text": [
      "\u001b[31mERROR: Output extension mp3 does not support PCM audio. Please choose a suitable audio codec with the -c:a option.\u001b[0m\n"
     ]
    },
    {
     "name": "stdout",
     "output_type": "stream",
     "text": [
      "Command '['ffmpeg-normalize', '/mnt/freesound-crawler/downloads/323195__alivvie__ii-normal.mp3', '-o', '/mnt/freesound-crawler/processed/normalized/323195__alivvie__ii-normal.mp3']' returned non-zero exit status 1.\n"
     ]
    },
    {
     "name": "stderr",
     "output_type": "stream",
     "text": [
      "\u001b[33mWARNING: Input file had loudness range of 13.8. This is larger than the loudness range target (7.0). Normalization will revert to dynamic mode. Choose a higher target loudness range if you want linear normalization. Alternatively, use the --keep-loudness-range-target option to keep the target loudness range from the input.\u001b[0m\n",
      "\u001b[33mWARNING: In dynamic mode, the sample rate will automatically be set to 192 kHz by the loudnorm filter. Specify -ar/--sample-rate to override it.\u001b[0m\n",
      "\u001b[31mERROR: Error while running command /usr/bin/ffmpeg -y -nostdin -i /mnt/freesound-crawler/downloads/10439__batchku__gbell-8-1-pp.aiff -filter_complex '[0:0]loudnorm=i=-23.0:lra=7.0:tp=-2.0:offset=-1.92:measured_i=-38.3:measured_lra=13.8:measured_tp=-17.41:measured_thresh=-51.39:linear=true:print_format=json[norm0]' -map_metadata 0 -map_metadata:s:a:0 0:s:a:0 -map_chapters 0 -map '[norm0]' -c:a:0 pcm_s24le -c:s copy /tmp/tmp85vde5py/out.aiff! Error: Error running command ['/usr/bin/ffmpeg', '-y', '-nostdin', '-i', '/mnt/freesound-crawler/downloads/10439__batchku__gbell-8-1-pp.aiff', '-filter_complex', '[0:0]loudnorm=i=-23.0:lra=7.0:tp=-2.0:offset=-1.92:measured_i=-38.3:measured_lra=13.8:measured_tp=-17.41:measured_thresh=-51.39:linear=true:print_format=json[norm0]', '-map_metadata', '0', '-map_metadata:s:a:0', '0:s:a:0', '-map_chapters', '0', '-map', '[norm0]', '-c:a:0', 'pcm_s24le', '-c:s', 'copy', '/tmp/tmp85vde5py/out.aiff']: ffmpeg version 4.3.5-0+deb11u1 Copyright (c) 2000-2022 the FFmpeg developers\n",
      "built with gcc 10 (Debian 10.2.1-6)\n",
      "configuration: --prefix=/usr --extra-version=0+deb11u1 --toolchain=hardened --libdir=/usr/lib/x86_64-linux-gnu --incdir=/usr/include/x86_64-linux-gnu --arch=amd64 --enable-gpl --disable-stripping --enable-avresample --disable-filter=resample --enable-gnutls --enable-ladspa --enable-libaom --enable-libass --enable-libbluray --enable-libbs2b --enable-libcaca --enable-libcdio --enable-libcodec2 --enable-libdav1d --enable-libflite --enable-libfontconfig --enable-libfreetype --enable-libfribidi --enable-libgme --enable-libgsm --enable-libjack --enable-libmp3lame --enable-libmysofa --enable-libopenjpeg --enable-libopenmpt --enable-libopus --enable-libpulse --enable-librabbitmq --enable-librsvg --enable-librubberband --enable-libshine --enable-libsnappy --enable-libsoxr --enable-libspeex --enable-libsrt --enable-libssh --enable-libtheora --enable-libtwolame --enable-libvidstab --enable-libvorbis --enable-libvpx --enable-libwavpack --enable-libwebp --enable-libx265 --enable-libxml2 --enable-libxvid --enable-libzmq --enable-libzvbi --enable-lv2 --enable-omx --enable-openal --enable-opencl --enable-opengl --enable-sdl2 --enable-pocketsphinx --enable-libmfx --enable-libdc1394 --enable-libdrm --enable-libiec61883 --enable-chromaprint --enable-frei0r --enable-libx264 --enable-shared\n",
      "libavutil      56. 51.100 / 56. 51.100\n",
      "libavcodec     58. 91.100 / 58. 91.100\n",
      "libavformat    58. 45.100 / 58. 45.100\n",
      "libavdevice    58. 10.100 / 58. 10.100\n",
      "libavfilter     7. 85.100 /  7. 85.100\n",
      "libavresample   4.  0.  0 /  4.  0.  0\n",
      "libswscale      5.  7.100 /  5.  7.100\n",
      "libswresample   3.  7.100 /  3.  7.100\n",
      "libpostproc    55.  7.100 / 55.  7.100\n",
      "Guessed Channel Layout for Input Stream #0.0 : stereo\n",
      "Input #0, aiff, from '/mnt/freesound-crawler/downloads/10439__batchku__gbell-8-1-pp.aiff':\n",
      "Duration: 00:00:03.35, start: 0.000000, bitrate: 2117 kb/s\n",
      "Stream #0:0: Audio: pcm_s24be, 44100 Hz, stereo, s32 (24 bit), 2116 kb/s\n",
      "Stream mapping:\n",
      "Stream #0:0 (pcm_s24be) -> loudnorm\n",
      "loudnorm -> Stream #0:0 (pcm_s24le)\n",
      "Could not write header for output file #0 (incorrect codec parameters ?): Invalid argument\n",
      "Error initializing output stream 0:0 --\n",
      "[Parsed_loudnorm_0 @ 0x561c8a53a780]\n",
      "{\n",
      "\"input_i\" : \"-inf\",\n",
      "\"input_tp\" : \"-inf\",\n",
      "\"input_lra\" : \"0.00\",\n",
      "\"input_thresh\" : \"-70.00\",\n",
      "\"output_i\" : \"-inf\",\n",
      "\"output_tp\" : \"-inf\",\n",
      "\"output_lra\" : \"0.00\",\n",
      "\"output_thresh\" : \"-70.00\",\n",
      "\"normalization_type\" : \"dynamic\",\n",
      "\"target_offset\" : \"inf\"\n",
      "}\n",
      "Conversion failed!\n",
      "\n",
      "\n",
      "\n",
      "\n",
      "\n",
      "\n",
      "\n",
      "\n",
      "\n",
      "\n",
      "\n",
      "\n",
      "\n",
      "\n",
      "\n",
      "\n",
      "\n",
      "\n",
      "\n",
      "\n",
      "\n",
      "\n",
      "\n",
      "\n",
      "\n",
      "\n",
      "\n",
      "\n",
      "\n",
      "\n",
      "\n",
      "\n",
      "\n",
      "\n",
      "\n",
      "\n",
      "\n",
      "\n",
      "\n",
      "\n",
      "\n",
      "\n",
      "\n",
      "\n",
      "\n",
      "\n",
      "\n",
      "\n",
      "\n",
      "\n",
      "\n",
      "\n",
      "\n",
      "\n",
      "\n",
      "\n",
      "\n",
      "\n",
      "\n",
      "\n",
      "\n",
      "\n",
      "\n",
      "\n",
      "\n",
      "\n",
      "\n",
      "\n",
      "\n",
      "\n",
      "\n",
      "\n",
      "\n",
      "\n",
      "\n",
      "\n",
      "\n",
      "\n",
      "\n",
      "\n",
      "\n",
      "\n",
      "\n",
      "\n",
      "\n",
      "\n",
      "\n",
      "\n",
      "\n",
      "\n",
      "\n",
      "\n",
      "\n",
      "\n",
      "\n",
      "\n",
      "\n",
      "\n",
      "\n",
      "\n",
      "\n",
      "\n",
      "\n",
      "\n",
      "\n",
      "\n",
      "\n",
      "\n",
      "\n",
      "\n",
      "\n",
      "\n",
      "\n",
      "\n",
      "\n",
      "\n",
      "\n",
      "\n",
      "\n",
      "\n",
      "\n",
      "\n",
      "\n",
      "\n",
      "\n",
      "\n",
      "\n",
      "\n",
      "\n",
      "\n",
      "\n",
      "\n",
      "\n",
      "\n",
      "\n",
      "\n",
      "\n",
      "\n",
      "\n",
      "\n",
      "\n",
      "\n",
      "\n",
      "\n",
      "\n",
      "\n",
      "\n",
      "\n",
      "\n",
      "\n",
      "\n",
      "\n",
      "\n",
      "\n",
      "\n",
      "\n",
      "\n",
      "\n",
      "\n",
      "\n",
      "\n",
      "\n",
      "\n",
      "\n",
      "\n",
      "\n",
      "\n",
      "\n",
      "\n",
      "\n",
      "\n",
      "\n",
      "\n",
      "\n",
      "\n",
      "\n",
      "\n",
      "\n",
      "\n",
      "\n",
      "\n",
      "\n",
      "\n",
      "\n",
      "\n",
      "\n",
      "\n",
      "\n",
      "\n",
      "\n",
      "\n",
      "\n",
      "\n",
      "\n",
      "\n",
      "\n",
      "\n",
      "\n",
      "\n",
      "\n",
      "\n",
      "\n",
      "\n",
      "\n",
      "\n",
      "\n",
      "\n",
      "\n",
      "\n",
      "\n",
      "\n",
      "\n",
      "\n",
      "\n",
      "\n",
      "\n",
      "\n",
      "\n",
      "\n",
      "\n",
      "\n",
      "\n",
      "\n",
      "\n",
      "\n",
      "\n",
      "\n",
      "\n",
      "\n",
      "\n",
      "\n",
      "\n",
      "\n",
      "\n",
      "\n",
      "\n",
      "\n",
      "\n",
      "\n",
      "\n",
      "\n",
      "\n",
      "\n",
      "\n",
      "\n",
      "\n",
      "\n",
      "\n",
      "\n",
      "\n",
      "\n",
      "\n",
      "\n",
      "\n",
      "\n",
      "\n",
      "\n",
      "\n",
      "\n",
      "\n",
      "\n",
      "\n",
      "\n",
      "\n",
      "\n",
      "\n",
      "\n",
      "\n",
      "\n",
      "\n",
      "\n",
      "\n",
      "\n",
      "\n",
      "\n",
      "\n",
      "\n",
      "\n",
      "\n",
      "\n",
      "\n",
      "\n",
      "\n",
      "\n",
      "\n",
      "\n",
      "\n",
      "\n",
      "\n",
      "\n",
      "\n",
      "\n",
      "\n",
      "\n",
      "\n",
      "\n",
      "\n",
      "\n",
      "\n",
      "\n",
      "\n",
      "\n",
      "\n",
      "\n",
      "\n",
      "\n",
      "\n",
      "\n",
      "\n",
      "\n",
      "\n",
      "\n",
      "\n",
      "\n",
      "\n",
      "\n",
      "\n",
      "\n",
      "\n",
      "\n",
      "\n",
      "\n",
      "\n",
      "\n",
      "\n",
      "\n",
      "\n",
      "\n",
      "\n",
      "\n",
      "\n",
      "\n",
      "\u001b[0m\n",
      "Traceback (most recent call last):\n",
      "  File \"/home/andrus/.local/bin/ffmpeg-normalize\", line 8, in <module>\n",
      "    sys.exit(main())\n",
      "  File \"/home/andrus/.local/lib/python3.9/site-packages/ffmpeg_normalize/__main__.py\", line 553, in main\n",
      "    ffmpeg_normalize.run_normalization()\n",
      "  File \"/home/andrus/.local/lib/python3.9/site-packages/ffmpeg_normalize/_ffmpeg_normalize.py\", line 237, in run_normalization\n",
      "    raise e\n",
      "  File \"/home/andrus/.local/lib/python3.9/site-packages/ffmpeg_normalize/_ffmpeg_normalize.py\", line 227, in run_normalization\n",
      "    media_file.run_normalization()\n",
      "  File \"/home/andrus/.local/lib/python3.9/site-packages/ffmpeg_normalize/_media_file.py\", line 194, in run_normalization\n",
      "    for _ in self._second_pass():\n",
      "  File \"/home/andrus/.local/lib/python3.9/site-packages/ffmpeg_normalize/_media_file.py\", line 406, in _second_pass\n",
      "    raise e\n",
      "  File \"/home/andrus/.local/lib/python3.9/site-packages/ffmpeg_normalize/_media_file.py\", line 397, in _second_pass\n",
      "    raise e\n",
      "  File \"/home/andrus/.local/lib/python3.9/site-packages/ffmpeg_normalize/_media_file.py\", line 393, in _second_pass\n",
      "    yield from CommandRunner().run_ffmpeg_command(cmd)\n",
      "  File \"/home/andrus/.local/lib/python3.9/site-packages/ffmpeg_normalize/_cmd_utils.py\", line 80, in run_ffmpeg_command\n",
      "    yield from ff.run_command_with_progress()\n",
      "  File \"/home/andrus/.local/lib/python3.9/site-packages/ffmpeg_progress_yield/ffmpeg_progress_yield.py\", line 189, in run_command_with_progress\n",
      "    raise RuntimeError(f\"Error running command {self.cmd}: {_pretty_stderr}\")\n",
      "RuntimeError: Error running command ['/usr/bin/ffmpeg', '-y', '-nostdin', '-i', '/mnt/freesound-crawler/downloads/10439__batchku__gbell-8-1-pp.aiff', '-filter_complex', '[0:0]loudnorm=i=-23.0:lra=7.0:tp=-2.0:offset=-1.92:measured_i=-38.3:measured_lra=13.8:measured_tp=-17.41:measured_thresh=-51.39:linear=true:print_format=json[norm0]', '-map_metadata', '0', '-map_metadata:s:a:0', '0:s:a:0', '-map_chapters', '0', '-map', '[norm0]', '-c:a:0', 'pcm_s24le', '-c:s', 'copy', '/tmp/tmp85vde5py/out.aiff']: ffmpeg version 4.3.5-0+deb11u1 Copyright (c) 2000-2022 the FFmpeg developers\n",
      "built with gcc 10 (Debian 10.2.1-6)\n",
      "configuration: --prefix=/usr --extra-version=0+deb11u1 --toolchain=hardened --libdir=/usr/lib/x86_64-linux-gnu --incdir=/usr/include/x86_64-linux-gnu --arch=amd64 --enable-gpl --disable-stripping --enable-avresample --disable-filter=resample --enable-gnutls --enable-ladspa --enable-libaom --enable-libass --enable-libbluray --enable-libbs2b --enable-libcaca --enable-libcdio --enable-libcodec2 --enable-libdav1d --enable-libflite --enable-libfontconfig --enable-libfreetype --enable-libfribidi --enable-libgme --enable-libgsm --enable-libjack --enable-libmp3lame --enable-libmysofa --enable-libopenjpeg --enable-libopenmpt --enable-libopus --enable-libpulse --enable-librabbitmq --enable-librsvg --enable-librubberband --enable-libshine --enable-libsnappy --enable-libsoxr --enable-libspeex --enable-libsrt --enable-libssh --enable-libtheora --enable-libtwolame --enable-libvidstab --enable-libvorbis --enable-libvpx --enable-libwavpack --enable-libwebp --enable-libx265 --enable-libxml2 --enable-libxvid --enable-libzmq --enable-libzvbi --enable-lv2 --enable-omx --enable-openal --enable-opencl --enable-opengl --enable-sdl2 --enable-pocketsphinx --enable-libmfx --enable-libdc1394 --enable-libdrm --enable-libiec61883 --enable-chromaprint --enable-frei0r --enable-libx264 --enable-shared\n",
      "libavutil      56. 51.100 / 56. 51.100\n",
      "libavcodec     58. 91.100 / 58. 91.100\n",
      "libavformat    58. 45.100 / 58. 45.100\n",
      "libavdevice    58. 10.100 / 58. 10.100\n",
      "libavfilter     7. 85.100 /  7. 85.100\n",
      "libavresample   4.  0.  0 /  4.  0.  0\n",
      "libswscale      5.  7.100 /  5.  7.100\n",
      "libswresample   3.  7.100 /  3.  7.100\n",
      "libpostproc    55.  7.100 / 55.  7.100\n",
      "Guessed Channel Layout for Input Stream #0.0 : stereo\n",
      "Input #0, aiff, from '/mnt/freesound-crawler/downloads/10439__batchku__gbell-8-1-pp.aiff':\n",
      "Duration: 00:00:03.35, start: 0.000000, bitrate: 2117 kb/s\n",
      "Stream #0:0: Audio: pcm_s24be, 44100 Hz, stereo, s32 (24 bit), 2116 kb/s\n",
      "Stream mapping:\n",
      "Stream #0:0 (pcm_s24be) -> loudnorm\n",
      "loudnorm -> Stream #0:0 (pcm_s24le)\n",
      "Could not write header for output file #0 (incorrect codec parameters ?): Invalid argument\n",
      "Error initializing output stream 0:0 --\n",
      "[Parsed_loudnorm_0 @ 0x561c8a53a780]\n",
      "{\n",
      "\"input_i\" : \"-inf\",\n",
      "\"input_tp\" : \"-inf\",\n",
      "\"input_lra\" : \"0.00\",\n",
      "\"input_thresh\" : \"-70.00\",\n",
      "\"output_i\" : \"-inf\",\n",
      "\"output_tp\" : \"-inf\",\n",
      "\"output_lra\" : \"0.00\",\n",
      "\"output_thresh\" : \"-70.00\",\n",
      "\"normalization_type\" : \"dynamic\",\n",
      "\"target_offset\" : \"inf\"\n",
      "}\n",
      "Conversion failed!\n",
      "\n",
      "\n",
      "\n",
      "\n",
      "\n",
      "\n",
      "\n",
      "\n",
      "\n",
      "\n",
      "\n",
      "\n",
      "\n",
      "\n",
      "\n",
      "\n",
      "\n",
      "\n",
      "\n",
      "\n",
      "\n",
      "\n",
      "\n",
      "\n",
      "\n",
      "\n",
      "\n",
      "\n",
      "\n",
      "\n",
      "\n",
      "\n",
      "\n",
      "\n",
      "\n",
      "\n",
      "\n",
      "\n",
      "\n",
      "\n",
      "\n",
      "\n",
      "\n",
      "\n",
      "\n",
      "\n",
      "\n",
      "\n",
      "\n",
      "\n",
      "\n",
      "\n",
      "\n",
      "\n",
      "\n",
      "\n",
      "\n",
      "\n",
      "\n",
      "\n",
      "\n",
      "\n",
      "\n",
      "\n",
      "\n",
      "\n",
      "\n",
      "\n",
      "\n",
      "\n",
      "\n",
      "\n",
      "\n",
      "\n",
      "\n",
      "\n",
      "\n",
      "\n",
      "\n",
      "\n",
      "\n",
      "\n",
      "\n",
      "\n",
      "\n",
      "\n",
      "\n",
      "\n",
      "\n",
      "\n",
      "\n",
      "\n",
      "\n",
      "\n",
      "\n",
      "\n",
      "\n",
      "\n",
      "\n",
      "\n",
      "\n",
      "\n",
      "\n",
      "\n",
      "\n",
      "\n",
      "\n",
      "\n",
      "\n",
      "\n",
      "\n",
      "\n",
      "\n",
      "\n",
      "\n",
      "\n",
      "\n",
      "\n",
      "\n",
      "\n",
      "\n",
      "\n",
      "\n",
      "\n",
      "\n",
      "\n",
      "\n",
      "\n",
      "\n",
      "\n",
      "\n",
      "\n",
      "\n",
      "\n",
      "\n",
      "\n",
      "\n",
      "\n",
      "\n",
      "\n",
      "\n",
      "\n",
      "\n",
      "\n",
      "\n",
      "\n",
      "\n",
      "\n",
      "\n",
      "\n",
      "\n",
      "\n",
      "\n",
      "\n",
      "\n",
      "\n",
      "\n",
      "\n",
      "\n",
      "\n",
      "\n",
      "\n",
      "\n",
      "\n",
      "\n",
      "\n",
      "\n",
      "\n",
      "\n",
      "\n",
      "\n",
      "\n",
      "\n",
      "\n",
      "\n",
      "\n",
      "\n",
      "\n",
      "\n",
      "\n",
      "\n",
      "\n",
      "\n",
      "\n",
      "\n",
      "\n",
      "\n",
      "\n",
      "\n",
      "\n",
      "\n",
      "\n",
      "\n",
      "\n",
      "\n",
      "\n",
      "\n",
      "\n",
      "\n",
      "\n",
      "\n",
      "\n",
      "\n",
      "\n",
      "\n",
      "\n",
      "\n",
      "\n",
      "\n",
      "\n",
      "\n",
      "\n",
      "\n",
      "\n",
      "\n",
      "\n",
      "\n",
      "\n",
      "\n",
      "\n",
      "\n",
      "\n",
      "\n",
      "\n",
      "\n",
      "\n",
      "\n",
      "\n",
      "\n",
      "\n",
      "\n",
      "\n",
      "\n",
      "\n",
      "\n",
      "\n",
      "\n",
      "\n",
      "\n",
      "\n",
      "\n",
      "\n",
      "\n",
      "\n",
      "\n",
      "\n",
      "\n",
      "\n",
      "\n",
      "\n",
      "\n",
      "\n",
      "\n",
      "\n",
      "\n",
      "\n",
      "\n",
      "\n",
      "\n",
      "\n",
      "\n",
      "\n",
      "\n",
      "\n",
      "\n",
      "\n",
      "\n",
      "\n",
      "\n",
      "\n",
      "\n",
      "\n",
      "\n",
      "\n",
      "\n",
      "\n",
      "\n",
      "\n",
      "\n",
      "\n",
      "\n",
      "\n",
      "\n",
      "\n",
      "\n",
      "\n",
      "\n",
      "\n",
      "\n",
      "\n",
      "\n",
      "\n",
      "\n",
      "\n",
      "\n",
      "\n",
      "\n",
      "\n",
      "\n",
      "\n",
      "\n",
      "\n",
      "\n",
      "\n",
      "\n",
      "\n",
      "\n",
      "\n",
      "\n",
      "\n",
      "\n",
      "\n",
      "\n",
      "\n",
      "\n",
      "\n",
      "\n",
      "\n",
      "\n",
      "\n",
      "\n",
      "\n",
      "\n",
      "\n",
      "\n",
      "\n",
      "\n",
      "\n",
      "\n",
      "\n",
      "\n",
      "\n",
      "\n"
     ]
    },
    {
     "name": "stdout",
     "output_type": "stream",
     "text": [
      "Command '['ffmpeg-normalize', '/mnt/freesound-crawler/downloads/10439__batchku__gbell-8-1-pp.aiff', '-o', '/mnt/freesound-crawler/processed/normalized/10439__batchku__gbell-8-1-pp.aiff']' returned non-zero exit status 1.\n"
     ]
    },
    {
     "name": "stderr",
     "output_type": "stream",
     "text": [
      "\u001b[31mERROR: Output extension flac does not support PCM audio. Please choose a suitable audio codec with the -c:a option.\u001b[0m\n"
     ]
    },
    {
     "name": "stdout",
     "output_type": "stream",
     "text": [
      "Command '['ffmpeg-normalize', '/mnt/freesound-crawler/downloads/166535__qubodup__hidden-spike-trap.flac', '-o', '/mnt/freesound-crawler/processed/normalized/166535__qubodup__hidden-spike-trap.flac']' returned non-zero exit status 1.\n"
     ]
    },
    {
     "name": "stderr",
     "output_type": "stream",
     "text": [
      "\u001b[31mERROR: Output extension ogg does not support PCM audio. Please choose a suitable audio codec with the -c:a option.\u001b[0m\n"
     ]
    },
    {
     "name": "stdout",
     "output_type": "stream",
     "text": [
      "Command '['ffmpeg-normalize', '/mnt/freesound-crawler/downloads/215003__waveplaysfx__drumloop-119-bpm-edm-drum-loop-001.ogg', '-o', '/mnt/freesound-crawler/processed/normalized/215003__waveplaysfx__drumloop-119-bpm-edm-drum-loop-001.ogg']' returned non-zero exit status 1.\n"
     ]
    },
    {
     "name": "stderr",
     "output_type": "stream",
     "text": [
      "\u001b[31mERROR: Output extension mp3 does not support PCM audio. Please choose a suitable audio codec with the -c:a option.\u001b[0m\n"
     ]
    },
    {
     "name": "stdout",
     "output_type": "stream",
     "text": [
      "Command '['ffmpeg-normalize', '/mnt/freesound-crawler/downloads/94590__zgump__tr-loop-0501.mp3', '-o', '/mnt/freesound-crawler/processed/normalized/94590__zgump__tr-loop-0501.mp3']' returned non-zero exit status 1.\n"
     ]
    },
    {
     "name": "stderr",
     "output_type": "stream",
     "text": [
      "\u001b[31mERROR: Output extension flac does not support PCM audio. Please choose a suitable audio codec with the -c:a option.\u001b[0m\n"
     ]
    },
    {
     "name": "stdout",
     "output_type": "stream",
     "text": [
      "Command '['ffmpeg-normalize', '/mnt/freesound-crawler/downloads/340809__cabled-mess__retro-sci-fi-horror-06.flac', '-o', '/mnt/freesound-crawler/processed/normalized/340809__cabled-mess__retro-sci-fi-horror-06.flac']' returned non-zero exit status 1.\n"
     ]
    },
    {
     "name": "stderr",
     "output_type": "stream",
     "text": [
      "\u001b[31mERROR: Output extension ogg does not support PCM audio. Please choose a suitable audio codec with the -c:a option.\u001b[0m\n"
     ]
    },
    {
     "name": "stdout",
     "output_type": "stream",
     "text": [
      "Command '['ffmpeg-normalize', '/mnt/freesound-crawler/downloads/435695__samsterbirdies__big-boom.ogg', '-o', '/mnt/freesound-crawler/processed/normalized/435695__samsterbirdies__big-boom.ogg']' returned non-zero exit status 1.\n"
     ]
    },
    {
     "name": "stderr",
     "output_type": "stream",
     "text": [
      "\u001b[31mERROR: Output extension mp3 does not support PCM audio. Please choose a suitable audio codec with the -c:a option.\u001b[0m\n"
     ]
    },
    {
     "name": "stdout",
     "output_type": "stream",
     "text": [
      "Command '['ffmpeg-normalize', '/mnt/freesound-crawler/downloads/277643__coral-island-studios__button-14.mp3', '-o', '/mnt/freesound-crawler/processed/normalized/277643__coral-island-studios__button-14.mp3']' returned non-zero exit status 1.\n"
     ]
    },
    {
     "name": "stderr",
     "output_type": "stream",
     "text": [
      "\u001b[31mERROR: Output extension mp3 does not support PCM audio. Please choose a suitable audio codec with the -c:a option.\u001b[0m\n"
     ]
    },
    {
     "name": "stdout",
     "output_type": "stream",
     "text": [
      "Command '['ffmpeg-normalize', '/mnt/freesound-crawler/downloads/323190__alivvie__complain1.mp3', '-o', '/mnt/freesound-crawler/processed/normalized/323190__alivvie__complain1.mp3']' returned non-zero exit status 1.\n"
     ]
    },
    {
     "name": "stderr",
     "output_type": "stream",
     "text": [
      "\u001b[31mERROR: Output extension ogg does not support PCM audio. Please choose a suitable audio codec with the -c:a option.\u001b[0m\n"
     ]
    },
    {
     "name": "stdout",
     "output_type": "stream",
     "text": [
      "Command '['ffmpeg-normalize', '/mnt/freesound-crawler/downloads/521951__kastenfrosch__weird-grunt.ogg', '-o', '/mnt/freesound-crawler/processed/normalized/521951__kastenfrosch__weird-grunt.ogg']' returned non-zero exit status 1.\n"
     ]
    },
    {
     "name": "stderr",
     "output_type": "stream",
     "text": [
      "\u001b[31mERROR: Output extension flac does not support PCM audio. Please choose a suitable audio codec with the -c:a option.\u001b[0m\n"
     ]
    },
    {
     "name": "stdout",
     "output_type": "stream",
     "text": [
      "Command '['ffmpeg-normalize', '/mnt/freesound-crawler/downloads/451464__kyles__police-whistle-nearby-good-detail-and-echo-india.flac', '-o', '/mnt/freesound-crawler/processed/normalized/451464__kyles__police-whistle-nearby-good-detail-and-echo-india.flac']' returned non-zero exit status 1.\n"
     ]
    },
    {
     "name": "stderr",
     "output_type": "stream",
     "text": [
      "\u001b[31mERROR: Output extension ogg does not support PCM audio. Please choose a suitable audio codec with the -c:a option.\u001b[0m\n"
     ]
    },
    {
     "name": "stdout",
     "output_type": "stream",
     "text": [
      "Command '['ffmpeg-normalize', '/mnt/freesound-crawler/downloads/395327__ihitokage__block-1.ogg', '-o', '/mnt/freesound-crawler/processed/normalized/395327__ihitokage__block-1.ogg']' returned non-zero exit status 1.\n"
     ]
    },
    {
     "name": "stderr",
     "output_type": "stream",
     "text": [
      "\u001b[31mERROR: Output extension flac does not support PCM audio. Please choose a suitable audio codec with the -c:a option.\u001b[0m\n"
     ]
    },
    {
     "name": "stdout",
     "output_type": "stream",
     "text": [
      "Command '['ffmpeg-normalize', '/mnt/freesound-crawler/downloads/584179__unfa__radar.flac', '-o', '/mnt/freesound-crawler/processed/normalized/584179__unfa__radar.flac']' returned non-zero exit status 1.\n"
     ]
    },
    {
     "name": "stderr",
     "output_type": "stream",
     "text": [
      "\u001b[31mERROR: Output extension mp3 does not support PCM audio. Please choose a suitable audio codec with the -c:a option.\u001b[0m\n"
     ]
    },
    {
     "name": "stdout",
     "output_type": "stream",
     "text": [
      "Command '['ffmpeg-normalize', '/mnt/freesound-crawler/downloads/578800__nomiqbomi__sparkle-1.mp3', '-o', '/mnt/freesound-crawler/processed/normalized/578800__nomiqbomi__sparkle-1.mp3']' returned non-zero exit status 1.\n"
     ]
    },
    {
     "name": "stderr",
     "output_type": "stream",
     "text": [
      "\u001b[31mERROR: Output extension mp3 does not support PCM audio. Please choose a suitable audio codec with the -c:a option.\u001b[0m\n"
     ]
    },
    {
     "name": "stdout",
     "output_type": "stream",
     "text": [
      "Command '['ffmpeg-normalize', '/mnt/freesound-crawler/downloads/399621__soundsforhim__sigh-3.mp3', '-o', '/mnt/freesound-crawler/processed/normalized/399621__soundsforhim__sigh-3.mp3']' returned non-zero exit status 1.\n"
     ]
    },
    {
     "name": "stderr",
     "output_type": "stream",
     "text": [
      "\u001b[31mERROR: Output extension flac does not support PCM audio. Please choose a suitable audio codec with the -c:a option.\u001b[0m\n"
     ]
    },
    {
     "name": "stdout",
     "output_type": "stream",
     "text": [
      "Command '['ffmpeg-normalize', '/mnt/freesound-crawler/downloads/59991__qubodup__swosh-04.flac', '-o', '/mnt/freesound-crawler/processed/normalized/59991__qubodup__swosh-04.flac']' returned non-zero exit status 1.\n"
     ]
    },
    {
     "name": "stderr",
     "output_type": "stream",
     "text": [
      "\u001b[33mWARNING: Audio stream has a duration of less than 3 seconds. Normalization may not work. See https://github.com/slhck/ffmpeg-normalize/issues/87 for more info.\u001b[0m\n",
      "\u001b[31mERROR: Error while running command /usr/bin/ffmpeg -y -nostdin -i /mnt/freesound-crawler/downloads/119088__domrodrig__grabbing-knife-sudden-1-2.aiff -filter_complex '[0:0]loudnorm=i=-23.0:lra=7.0:tp=-2.0:offset=0.0:measured_i=-24.54:measured_lra=0.0:measured_tp=-8.22:measured_thresh=-39.28:linear=true:print_format=json[norm0]' -map_metadata 0 -map_metadata:s:a:0 0:s:a:0 -map_chapters 0 -map '[norm0]' -c:a:0 pcm_s24le -c:s copy /tmp/tmp0t81qrkf/out.aiff! Error: Error running command ['/usr/bin/ffmpeg', '-y', '-nostdin', '-i', '/mnt/freesound-crawler/downloads/119088__domrodrig__grabbing-knife-sudden-1-2.aiff', '-filter_complex', '[0:0]loudnorm=i=-23.0:lra=7.0:tp=-2.0:offset=0.0:measured_i=-24.54:measured_lra=0.0:measured_tp=-8.22:measured_thresh=-39.28:linear=true:print_format=json[norm0]', '-map_metadata', '0', '-map_metadata:s:a:0', '0:s:a:0', '-map_chapters', '0', '-map', '[norm0]', '-c:a:0', 'pcm_s24le', '-c:s', 'copy', '/tmp/tmp0t81qrkf/out.aiff']: ffmpeg version 4.3.5-0+deb11u1 Copyright (c) 2000-2022 the FFmpeg developers\n",
      "built with gcc 10 (Debian 10.2.1-6)\n",
      "configuration: --prefix=/usr --extra-version=0+deb11u1 --toolchain=hardened --libdir=/usr/lib/x86_64-linux-gnu --incdir=/usr/include/x86_64-linux-gnu --arch=amd64 --enable-gpl --disable-stripping --enable-avresample --disable-filter=resample --enable-gnutls --enable-ladspa --enable-libaom --enable-libass --enable-libbluray --enable-libbs2b --enable-libcaca --enable-libcdio --enable-libcodec2 --enable-libdav1d --enable-libflite --enable-libfontconfig --enable-libfreetype --enable-libfribidi --enable-libgme --enable-libgsm --enable-libjack --enable-libmp3lame --enable-libmysofa --enable-libopenjpeg --enable-libopenmpt --enable-libopus --enable-libpulse --enable-librabbitmq --enable-librsvg --enable-librubberband --enable-libshine --enable-libsnappy --enable-libsoxr --enable-libspeex --enable-libsrt --enable-libssh --enable-libtheora --enable-libtwolame --enable-libvidstab --enable-libvorbis --enable-libvpx --enable-libwavpack --enable-libwebp --enable-libx265 --enable-libxml2 --enable-libxvid --enable-libzmq --enable-libzvbi --enable-lv2 --enable-omx --enable-openal --enable-opencl --enable-opengl --enable-sdl2 --enable-pocketsphinx --enable-libmfx --enable-libdc1394 --enable-libdrm --enable-libiec61883 --enable-chromaprint --enable-frei0r --enable-libx264 --enable-shared\n",
      "libavutil      56. 51.100 / 56. 51.100\n",
      "libavcodec     58. 91.100 / 58. 91.100\n",
      "libavformat    58. 45.100 / 58. 45.100\n",
      "libavdevice    58. 10.100 / 58. 10.100\n",
      "libavfilter     7. 85.100 /  7. 85.100\n",
      "libavresample   4.  0.  0 /  4.  0.  0\n",
      "libswscale      5.  7.100 /  5.  7.100\n",
      "libswresample   3.  7.100 /  3.  7.100\n",
      "libpostproc    55.  7.100 / 55.  7.100\n",
      "Guessed Channel Layout for Input Stream #0.0 : stereo\n",
      "Input #0, aiff, from '/mnt/freesound-crawler/downloads/119088__domrodrig__grabbing-knife-sudden-1-2.aiff':\n",
      "Duration: 00:00:01.50, start: 0.000000, bitrate: 2306 kb/s\n",
      "Stream #0:0: Audio: pcm_s24be, 48000 Hz, stereo, s32 (24 bit), 2304 kb/s\n",
      "Stream mapping:\n",
      "Stream #0:0 (pcm_s24be) -> loudnorm\n",
      "loudnorm -> Stream #0:0 (pcm_s24le)\n",
      "Could not write header for output file #0 (incorrect codec parameters ?): Invalid argument\n",
      "Error initializing output stream 0:0 --\n",
      "[Parsed_loudnorm_0 @ 0x55fea57c0980]\n",
      "{\n",
      "\"input_i\" : \"-inf\",\n",
      "\"input_tp\" : \"-inf\",\n",
      "\"input_lra\" : \"0.00\",\n",
      "\"input_thresh\" : \"-70.00\",\n",
      "\"output_i\" : \"-inf\",\n",
      "\"output_tp\" : \"-inf\",\n",
      "\"output_lra\" : \"0.00\",\n",
      "\"output_thresh\" : \"-70.00\",\n",
      "\"normalization_type\" : \"dynamic\",\n",
      "\"target_offset\" : \"inf\"\n",
      "}\n",
      "Conversion failed!\u001b[0m\n",
      "Traceback (most recent call last):\n",
      "  File \"/home/andrus/.local/bin/ffmpeg-normalize\", line 8, in <module>\n",
      "    sys.exit(main())\n",
      "  File \"/home/andrus/.local/lib/python3.9/site-packages/ffmpeg_normalize/__main__.py\", line 553, in main\n",
      "    ffmpeg_normalize.run_normalization()\n",
      "  File \"/home/andrus/.local/lib/python3.9/site-packages/ffmpeg_normalize/_ffmpeg_normalize.py\", line 237, in run_normalization\n",
      "    raise e\n",
      "  File \"/home/andrus/.local/lib/python3.9/site-packages/ffmpeg_normalize/_ffmpeg_normalize.py\", line 227, in run_normalization\n",
      "    media_file.run_normalization()\n",
      "  File \"/home/andrus/.local/lib/python3.9/site-packages/ffmpeg_normalize/_media_file.py\", line 194, in run_normalization\n",
      "    for _ in self._second_pass():\n",
      "  File \"/home/andrus/.local/lib/python3.9/site-packages/ffmpeg_normalize/_media_file.py\", line 406, in _second_pass\n",
      "    raise e\n",
      "  File \"/home/andrus/.local/lib/python3.9/site-packages/ffmpeg_normalize/_media_file.py\", line 397, in _second_pass\n",
      "    raise e\n",
      "  File \"/home/andrus/.local/lib/python3.9/site-packages/ffmpeg_normalize/_media_file.py\", line 393, in _second_pass\n",
      "    yield from CommandRunner().run_ffmpeg_command(cmd)\n",
      "  File \"/home/andrus/.local/lib/python3.9/site-packages/ffmpeg_normalize/_cmd_utils.py\", line 80, in run_ffmpeg_command\n",
      "    yield from ff.run_command_with_progress()\n",
      "  File \"/home/andrus/.local/lib/python3.9/site-packages/ffmpeg_progress_yield/ffmpeg_progress_yield.py\", line 189, in run_command_with_progress\n",
      "    raise RuntimeError(f\"Error running command {self.cmd}: {_pretty_stderr}\")\n",
      "RuntimeError: Error running command ['/usr/bin/ffmpeg', '-y', '-nostdin', '-i', '/mnt/freesound-crawler/downloads/119088__domrodrig__grabbing-knife-sudden-1-2.aiff', '-filter_complex', '[0:0]loudnorm=i=-23.0:lra=7.0:tp=-2.0:offset=0.0:measured_i=-24.54:measured_lra=0.0:measured_tp=-8.22:measured_thresh=-39.28:linear=true:print_format=json[norm0]', '-map_metadata', '0', '-map_metadata:s:a:0', '0:s:a:0', '-map_chapters', '0', '-map', '[norm0]', '-c:a:0', 'pcm_s24le', '-c:s', 'copy', '/tmp/tmp0t81qrkf/out.aiff']: ffmpeg version 4.3.5-0+deb11u1 Copyright (c) 2000-2022 the FFmpeg developers\n",
      "built with gcc 10 (Debian 10.2.1-6)\n",
      "configuration: --prefix=/usr --extra-version=0+deb11u1 --toolchain=hardened --libdir=/usr/lib/x86_64-linux-gnu --incdir=/usr/include/x86_64-linux-gnu --arch=amd64 --enable-gpl --disable-stripping --enable-avresample --disable-filter=resample --enable-gnutls --enable-ladspa --enable-libaom --enable-libass --enable-libbluray --enable-libbs2b --enable-libcaca --enable-libcdio --enable-libcodec2 --enable-libdav1d --enable-libflite --enable-libfontconfig --enable-libfreetype --enable-libfribidi --enable-libgme --enable-libgsm --enable-libjack --enable-libmp3lame --enable-libmysofa --enable-libopenjpeg --enable-libopenmpt --enable-libopus --enable-libpulse --enable-librabbitmq --enable-librsvg --enable-librubberband --enable-libshine --enable-libsnappy --enable-libsoxr --enable-libspeex --enable-libsrt --enable-libssh --enable-libtheora --enable-libtwolame --enable-libvidstab --enable-libvorbis --enable-libvpx --enable-libwavpack --enable-libwebp --enable-libx265 --enable-libxml2 --enable-libxvid --enable-libzmq --enable-libzvbi --enable-lv2 --enable-omx --enable-openal --enable-opencl --enable-opengl --enable-sdl2 --enable-pocketsphinx --enable-libmfx --enable-libdc1394 --enable-libdrm --enable-libiec61883 --enable-chromaprint --enable-frei0r --enable-libx264 --enable-shared\n",
      "libavutil      56. 51.100 / 56. 51.100\n",
      "libavcodec     58. 91.100 / 58. 91.100\n",
      "libavformat    58. 45.100 / 58. 45.100\n",
      "libavdevice    58. 10.100 / 58. 10.100\n",
      "libavfilter     7. 85.100 /  7. 85.100\n",
      "libavresample   4.  0.  0 /  4.  0.  0\n",
      "libswscale      5.  7.100 /  5.  7.100\n",
      "libswresample   3.  7.100 /  3.  7.100\n",
      "libpostproc    55.  7.100 / 55.  7.100\n",
      "Guessed Channel Layout for Input Stream #0.0 : stereo\n",
      "Input #0, aiff, from '/mnt/freesound-crawler/downloads/119088__domrodrig__grabbing-knife-sudden-1-2.aiff':\n",
      "Duration: 00:00:01.50, start: 0.000000, bitrate: 2306 kb/s\n",
      "Stream #0:0: Audio: pcm_s24be, 48000 Hz, stereo, s32 (24 bit), 2304 kb/s\n",
      "Stream mapping:\n",
      "Stream #0:0 (pcm_s24be) -> loudnorm\n",
      "loudnorm -> Stream #0:0 (pcm_s24le)\n",
      "Could not write header for output file #0 (incorrect codec parameters ?): Invalid argument\n",
      "Error initializing output stream 0:0 --\n",
      "[Parsed_loudnorm_0 @ 0x55fea57c0980]\n",
      "{\n",
      "\"input_i\" : \"-inf\",\n",
      "\"input_tp\" : \"-inf\",\n",
      "\"input_lra\" : \"0.00\",\n",
      "\"input_thresh\" : \"-70.00\",\n",
      "\"output_i\" : \"-inf\",\n",
      "\"output_tp\" : \"-inf\",\n",
      "\"output_lra\" : \"0.00\",\n",
      "\"output_thresh\" : \"-70.00\",\n",
      "\"normalization_type\" : \"dynamic\",\n",
      "\"target_offset\" : \"inf\"\n",
      "}\n",
      "Conversion failed!\n"
     ]
    },
    {
     "name": "stdout",
     "output_type": "stream",
     "text": [
      "Command '['ffmpeg-normalize', '/mnt/freesound-crawler/downloads/119088__domrodrig__grabbing-knife-sudden-1-2.aiff', '-o', '/mnt/freesound-crawler/processed/normalized/119088__domrodrig__grabbing-knife-sudden-1-2.aiff']' returned non-zero exit status 1.\n"
     ]
    },
    {
     "name": "stderr",
     "output_type": "stream",
     "text": [
      "\u001b[31mERROR: Output extension flac does not support PCM audio. Please choose a suitable audio codec with the -c:a option.\u001b[0m\n"
     ]
    },
    {
     "name": "stdout",
     "output_type": "stream",
     "text": [
      "Command '['ffmpeg-normalize', '/mnt/freesound-crawler/downloads/60005__qubodup__sharp-swosh-18.flac', '-o', '/mnt/freesound-crawler/processed/normalized/60005__qubodup__sharp-swosh-18.flac']' returned non-zero exit status 1.\n"
     ]
    },
    {
     "name": "stderr",
     "output_type": "stream",
     "text": [
      "\u001b[31mERROR: Output extension ogg does not support PCM audio. Please choose a suitable audio codec with the -c:a option.\u001b[0m\n"
     ]
    },
    {
     "name": "stdout",
     "output_type": "stream",
     "text": [
      "Command '['ffmpeg-normalize', '/mnt/freesound-crawler/downloads/395325__ihitokage__body-falling-on-the-ground-2.ogg', '-o', '/mnt/freesound-crawler/processed/normalized/395325__ihitokage__body-falling-on-the-ground-2.ogg']' returned non-zero exit status 1.\n"
     ]
    },
    {
     "name": "stderr",
     "output_type": "stream",
     "text": [
      "\u001b[31mERROR: Output extension mp3 does not support PCM audio. Please choose a suitable audio codec with the -c:a option.\u001b[0m\n"
     ]
    },
    {
     "name": "stdout",
     "output_type": "stream",
     "text": [
      "Command '['ffmpeg-normalize', '/mnt/freesound-crawler/downloads/49042__suspiciononline__moca-style-basedrum-02.mp3', '-o', '/mnt/freesound-crawler/processed/normalized/49042__suspiciononline__moca-style-basedrum-02.mp3']' returned non-zero exit status 1.\n"
     ]
    },
    {
     "name": "stderr",
     "output_type": "stream",
     "text": [
      "\u001b[31mERROR: Output extension ogg does not support PCM audio. Please choose a suitable audio codec with the -c:a option.\u001b[0m\n"
     ]
    },
    {
     "name": "stdout",
     "output_type": "stream",
     "text": [
      "Command '['ffmpeg-normalize', '/mnt/freesound-crawler/downloads/395348__ihitokage__slap-3.ogg', '-o', '/mnt/freesound-crawler/processed/normalized/395348__ihitokage__slap-3.ogg']' returned non-zero exit status 1.\n"
     ]
    },
    {
     "name": "stderr",
     "output_type": "stream",
     "text": [
      "\u001b[31mERROR: Output extension mp3 does not support PCM audio. Please choose a suitable audio codec with the -c:a option.\u001b[0m\n"
     ]
    },
    {
     "name": "stdout",
     "output_type": "stream",
     "text": [
      "Command '['ffmpeg-normalize', '/mnt/freesound-crawler/downloads/407466__loyalty-freak-music__buzzer.mp3', '-o', '/mnt/freesound-crawler/processed/normalized/407466__loyalty-freak-music__buzzer.mp3']' returned non-zero exit status 1.\n"
     ]
    },
    {
     "name": "stderr",
     "output_type": "stream",
     "text": [
      "\u001b[31mERROR: Output extension ogg does not support PCM audio. Please choose a suitable audio codec with the -c:a option.\u001b[0m\n"
     ]
    },
    {
     "name": "stdout",
     "output_type": "stream",
     "text": [
      "Command '['ffmpeg-normalize', '/mnt/freesound-crawler/downloads/395352__ihitokage__woosh-8.ogg', '-o', '/mnt/freesound-crawler/processed/normalized/395352__ihitokage__woosh-8.ogg']' returned non-zero exit status 1.\n"
     ]
    },
    {
     "name": "stderr",
     "output_type": "stream",
     "text": [
      "\u001b[31mERROR: Output extension mp3 does not support PCM audio. Please choose a suitable audio codec with the -c:a option.\u001b[0m\n"
     ]
    },
    {
     "name": "stdout",
     "output_type": "stream",
     "text": [
      "Command '['ffmpeg-normalize', '/mnt/freesound-crawler/downloads/171615__pjkasinski3__holster-1.mp3', '-o', '/mnt/freesound-crawler/processed/normalized/171615__pjkasinski3__holster-1.mp3']' returned non-zero exit status 1.\n"
     ]
    },
    {
     "name": "stderr",
     "output_type": "stream",
     "text": [
      "\u001b[31mERROR: Output extension ogg does not support PCM audio. Please choose a suitable audio codec with the -c:a option.\u001b[0m\n"
     ]
    },
    {
     "name": "stdout",
     "output_type": "stream",
     "text": [
      "Command '['ffmpeg-normalize', '/mnt/freesound-crawler/downloads/536750__egomassive__gruntf.ogg', '-o', '/mnt/freesound-crawler/processed/normalized/536750__egomassive__gruntf.ogg']' returned non-zero exit status 1.\n"
     ]
    },
    {
     "name": "stderr",
     "output_type": "stream",
     "text": [
      "\u001b[31mERROR: Output extension mp3 does not support PCM audio. Please choose a suitable audio codec with the -c:a option.\u001b[0m\n"
     ]
    },
    {
     "name": "stdout",
     "output_type": "stream",
     "text": [
      "Command '['ffmpeg-normalize', '/mnt/freesound-crawler/downloads/399626__soundsforhim__male-grunt.mp3', '-o', '/mnt/freesound-crawler/processed/normalized/399626__soundsforhim__male-grunt.mp3']' returned non-zero exit status 1.\n"
     ]
    },
    {
     "name": "stderr",
     "output_type": "stream",
     "text": [
      "\u001b[31mERROR: Output extension mp3 does not support PCM audio. Please choose a suitable audio codec with the -c:a option.\u001b[0m\n"
     ]
    },
    {
     "name": "stdout",
     "output_type": "stream",
     "text": [
      "Command '['ffmpeg-normalize', '/mnt/freesound-crawler/downloads/49028__suspiciononline__kit-tamb.mp3', '-o', '/mnt/freesound-crawler/processed/normalized/49028__suspiciononline__kit-tamb.mp3']' returned non-zero exit status 1.\n"
     ]
    },
    {
     "name": "stderr",
     "output_type": "stream",
     "text": [
      "\u001b[31mERROR: Output extension ogg does not support PCM audio. Please choose a suitable audio codec with the -c:a option.\u001b[0m\n"
     ]
    },
    {
     "name": "stdout",
     "output_type": "stream",
     "text": [
      "Command '['ffmpeg-normalize', '/mnt/freesound-crawler/downloads/448393__lordforklift__satisfying-plastic-handle-unlock.ogg', '-o', '/mnt/freesound-crawler/processed/normalized/448393__lordforklift__satisfying-plastic-handle-unlock.ogg']' returned non-zero exit status 1.\n"
     ]
    },
    {
     "name": "stderr",
     "output_type": "stream",
     "text": [
      "\u001b[31mERROR: Output extension mp3 does not support PCM audio. Please choose a suitable audio codec with the -c:a option.\u001b[0m\n"
     ]
    },
    {
     "name": "stdout",
     "output_type": "stream",
     "text": [
      "Command '['ffmpeg-normalize', '/mnt/freesound-crawler/downloads/18934__roil-noise__rgs-breakcore-glitch-loop1.mp3', '-o', '/mnt/freesound-crawler/processed/normalized/18934__roil-noise__rgs-breakcore-glitch-loop1.mp3']' returned non-zero exit status 1.\n"
     ]
    },
    {
     "name": "stderr",
     "output_type": "stream",
     "text": [
      "\u001b[31mERROR: Output extension mp3 does not support PCM audio. Please choose a suitable audio codec with the -c:a option.\u001b[0m\n"
     ]
    },
    {
     "name": "stdout",
     "output_type": "stream",
     "text": [
      "Command '['ffmpeg-normalize', '/mnt/freesound-crawler/downloads/578376__nomiqbomi__shock-stab-02.mp3', '-o', '/mnt/freesound-crawler/processed/normalized/578376__nomiqbomi__shock-stab-02.mp3']' returned non-zero exit status 1.\n"
     ]
    },
    {
     "name": "stderr",
     "output_type": "stream",
     "text": [
      "\u001b[31mERROR: Output extension ogg does not support PCM audio. Please choose a suitable audio codec with the -c:a option.\u001b[0m\n"
     ]
    },
    {
     "name": "stdout",
     "output_type": "stream",
     "text": [
      "Command '['ffmpeg-normalize', '/mnt/freesound-crawler/downloads/395366__ihitokage__swish-3.ogg', '-o', '/mnt/freesound-crawler/processed/normalized/395366__ihitokage__swish-3.ogg']' returned non-zero exit status 1.\n"
     ]
    },
    {
     "name": "stderr",
     "output_type": "stream",
     "text": [
      "\u001b[31mERROR: Output extension ogg does not support PCM audio. Please choose a suitable audio codec with the -c:a option.\u001b[0m\n"
     ]
    },
    {
     "name": "stdout",
     "output_type": "stream",
     "text": [
      "Command '['ffmpeg-normalize', '/mnt/freesound-crawler/downloads/218043__waveplaysfx__sfx-bird-chirp-click-thing-hi-bip-thing-thinger.ogg', '-o', '/mnt/freesound-crawler/processed/normalized/218043__waveplaysfx__sfx-bird-chirp-click-thing-hi-bip-thing-thinger.ogg']' returned non-zero exit status 1.\n"
     ]
    },
    {
     "name": "stderr",
     "output_type": "stream",
     "text": [
      "\u001b[33mWARNING: Audio stream has a duration of less than 3 seconds. Normalization may not work. See https://github.com/slhck/ffmpeg-normalize/issues/87 for more info.\u001b[0m\n",
      "\u001b[31mERROR: Error while running command /usr/bin/ffmpeg -y -nostdin -i /mnt/freesound-crawler/downloads/128256__rebeat__dainty-break.aiff -filter_complex '[0:0]loudnorm=i=-23.0:lra=7.0:tp=-2.0:offset=13.58:measured_i=-24.8:measured_lra=0.0:measured_tp=0.44:measured_thresh=-34.8:linear=true:print_format=json[norm0]' -map_metadata 0 -map_metadata:s:a:0 0:s:a:0 -map_chapters 0 -map '[norm0]' -c:a:0 pcm_s24le -c:s copy /tmp/tmp0pi1o547/out.aiff! Error: Error running command ['/usr/bin/ffmpeg', '-y', '-nostdin', '-i', '/mnt/freesound-crawler/downloads/128256__rebeat__dainty-break.aiff', '-filter_complex', '[0:0]loudnorm=i=-23.0:lra=7.0:tp=-2.0:offset=13.58:measured_i=-24.8:measured_lra=0.0:measured_tp=0.44:measured_thresh=-34.8:linear=true:print_format=json[norm0]', '-map_metadata', '0', '-map_metadata:s:a:0', '0:s:a:0', '-map_chapters', '0', '-map', '[norm0]', '-c:a:0', 'pcm_s24le', '-c:s', 'copy', '/tmp/tmp0pi1o547/out.aiff']: ffmpeg version 4.3.5-0+deb11u1 Copyright (c) 2000-2022 the FFmpeg developers\n",
      "built with gcc 10 (Debian 10.2.1-6)\n",
      "configuration: --prefix=/usr --extra-version=0+deb11u1 --toolchain=hardened --libdir=/usr/lib/x86_64-linux-gnu --incdir=/usr/include/x86_64-linux-gnu --arch=amd64 --enable-gpl --disable-stripping --enable-avresample --disable-filter=resample --enable-gnutls --enable-ladspa --enable-libaom --enable-libass --enable-libbluray --enable-libbs2b --enable-libcaca --enable-libcdio --enable-libcodec2 --enable-libdav1d --enable-libflite --enable-libfontconfig --enable-libfreetype --enable-libfribidi --enable-libgme --enable-libgsm --enable-libjack --enable-libmp3lame --enable-libmysofa --enable-libopenjpeg --enable-libopenmpt --enable-libopus --enable-libpulse --enable-librabbitmq --enable-librsvg --enable-librubberband --enable-libshine --enable-libsnappy --enable-libsoxr --enable-libspeex --enable-libsrt --enable-libssh --enable-libtheora --enable-libtwolame --enable-libvidstab --enable-libvorbis --enable-libvpx --enable-libwavpack --enable-libwebp --enable-libx265 --enable-libxml2 --enable-libxvid --enable-libzmq --enable-libzvbi --enable-lv2 --enable-omx --enable-openal --enable-opencl --enable-opengl --enable-sdl2 --enable-pocketsphinx --enable-libmfx --enable-libdc1394 --enable-libdrm --enable-libiec61883 --enable-chromaprint --enable-frei0r --enable-libx264 --enable-shared\n",
      "libavutil      56. 51.100 / 56. 51.100\n",
      "libavcodec     58. 91.100 / 58. 91.100\n",
      "libavformat    58. 45.100 / 58. 45.100\n",
      "libavdevice    58. 10.100 / 58. 10.100\n",
      "libavfilter     7. 85.100 /  7. 85.100\n",
      "libavresample   4.  0.  0 /  4.  0.  0\n",
      "libswscale      5.  7.100 /  5.  7.100\n",
      "libswresample   3.  7.100 /  3.  7.100\n",
      "libpostproc    55.  7.100 / 55.  7.100\n",
      "Guessed Channel Layout for Input Stream #0.0 : mono\n",
      "Input #0, aiff, from '/mnt/freesound-crawler/downloads/128256__rebeat__dainty-break.aiff':\n",
      "Duration: 00:00:01.08, start: 0.000000, bitrate: 1159 kb/s\n",
      "Stream #0:0: Audio: pcm_s24be, 48000 Hz, mono, s32 (24 bit), 1152 kb/s\n",
      "Stream mapping:\n",
      "Stream #0:0 (pcm_s24be) -> loudnorm\n",
      "loudnorm -> Stream #0:0 (pcm_s24le)\n",
      "Could not write header for output file #0 (incorrect codec parameters ?): Invalid argument\n",
      "Error initializing output stream 0:0 --\n",
      "[Parsed_loudnorm_0 @ 0x56543ae26840]\n",
      "{\n",
      "\"input_i\" : \"-inf\",\n",
      "\"input_tp\" : \"-inf\",\n",
      "\"input_lra\" : \"0.00\",\n",
      "\"input_thresh\" : \"-70.00\",\n",
      "\"output_i\" : \"-inf\",\n",
      "\"output_tp\" : \"-inf\",\n",
      "\"output_lra\" : \"0.00\",\n",
      "\"output_thresh\" : \"-70.00\",\n",
      "\"normalization_type\" : \"dynamic\",\n",
      "\"target_offset\" : \"inf\"\n",
      "}\n",
      "Conversion failed!\u001b[0m\n",
      "Traceback (most recent call last):\n",
      "  File \"/home/andrus/.local/bin/ffmpeg-normalize\", line 8, in <module>\n",
      "    sys.exit(main())\n",
      "  File \"/home/andrus/.local/lib/python3.9/site-packages/ffmpeg_normalize/__main__.py\", line 553, in main\n",
      "    ffmpeg_normalize.run_normalization()\n",
      "  File \"/home/andrus/.local/lib/python3.9/site-packages/ffmpeg_normalize/_ffmpeg_normalize.py\", line 237, in run_normalization\n",
      "    raise e\n",
      "  File \"/home/andrus/.local/lib/python3.9/site-packages/ffmpeg_normalize/_ffmpeg_normalize.py\", line 227, in run_normalization\n",
      "    media_file.run_normalization()\n",
      "  File \"/home/andrus/.local/lib/python3.9/site-packages/ffmpeg_normalize/_media_file.py\", line 194, in run_normalization\n",
      "    for _ in self._second_pass():\n",
      "  File \"/home/andrus/.local/lib/python3.9/site-packages/ffmpeg_normalize/_media_file.py\", line 406, in _second_pass\n",
      "    raise e\n",
      "  File \"/home/andrus/.local/lib/python3.9/site-packages/ffmpeg_normalize/_media_file.py\", line 397, in _second_pass\n",
      "    raise e\n",
      "  File \"/home/andrus/.local/lib/python3.9/site-packages/ffmpeg_normalize/_media_file.py\", line 393, in _second_pass\n",
      "    yield from CommandRunner().run_ffmpeg_command(cmd)\n",
      "  File \"/home/andrus/.local/lib/python3.9/site-packages/ffmpeg_normalize/_cmd_utils.py\", line 80, in run_ffmpeg_command\n",
      "    yield from ff.run_command_with_progress()\n",
      "  File \"/home/andrus/.local/lib/python3.9/site-packages/ffmpeg_progress_yield/ffmpeg_progress_yield.py\", line 189, in run_command_with_progress\n",
      "    raise RuntimeError(f\"Error running command {self.cmd}: {_pretty_stderr}\")\n",
      "RuntimeError: Error running command ['/usr/bin/ffmpeg', '-y', '-nostdin', '-i', '/mnt/freesound-crawler/downloads/128256__rebeat__dainty-break.aiff', '-filter_complex', '[0:0]loudnorm=i=-23.0:lra=7.0:tp=-2.0:offset=13.58:measured_i=-24.8:measured_lra=0.0:measured_tp=0.44:measured_thresh=-34.8:linear=true:print_format=json[norm0]', '-map_metadata', '0', '-map_metadata:s:a:0', '0:s:a:0', '-map_chapters', '0', '-map', '[norm0]', '-c:a:0', 'pcm_s24le', '-c:s', 'copy', '/tmp/tmp0pi1o547/out.aiff']: ffmpeg version 4.3.5-0+deb11u1 Copyright (c) 2000-2022 the FFmpeg developers\n",
      "built with gcc 10 (Debian 10.2.1-6)\n",
      "configuration: --prefix=/usr --extra-version=0+deb11u1 --toolchain=hardened --libdir=/usr/lib/x86_64-linux-gnu --incdir=/usr/include/x86_64-linux-gnu --arch=amd64 --enable-gpl --disable-stripping --enable-avresample --disable-filter=resample --enable-gnutls --enable-ladspa --enable-libaom --enable-libass --enable-libbluray --enable-libbs2b --enable-libcaca --enable-libcdio --enable-libcodec2 --enable-libdav1d --enable-libflite --enable-libfontconfig --enable-libfreetype --enable-libfribidi --enable-libgme --enable-libgsm --enable-libjack --enable-libmp3lame --enable-libmysofa --enable-libopenjpeg --enable-libopenmpt --enable-libopus --enable-libpulse --enable-librabbitmq --enable-librsvg --enable-librubberband --enable-libshine --enable-libsnappy --enable-libsoxr --enable-libspeex --enable-libsrt --enable-libssh --enable-libtheora --enable-libtwolame --enable-libvidstab --enable-libvorbis --enable-libvpx --enable-libwavpack --enable-libwebp --enable-libx265 --enable-libxml2 --enable-libxvid --enable-libzmq --enable-libzvbi --enable-lv2 --enable-omx --enable-openal --enable-opencl --enable-opengl --enable-sdl2 --enable-pocketsphinx --enable-libmfx --enable-libdc1394 --enable-libdrm --enable-libiec61883 --enable-chromaprint --enable-frei0r --enable-libx264 --enable-shared\n",
      "libavutil      56. 51.100 / 56. 51.100\n",
      "libavcodec     58. 91.100 / 58. 91.100\n",
      "libavformat    58. 45.100 / 58. 45.100\n",
      "libavdevice    58. 10.100 / 58. 10.100\n",
      "libavfilter     7. 85.100 /  7. 85.100\n",
      "libavresample   4.  0.  0 /  4.  0.  0\n",
      "libswscale      5.  7.100 /  5.  7.100\n",
      "libswresample   3.  7.100 /  3.  7.100\n",
      "libpostproc    55.  7.100 / 55.  7.100\n",
      "Guessed Channel Layout for Input Stream #0.0 : mono\n",
      "Input #0, aiff, from '/mnt/freesound-crawler/downloads/128256__rebeat__dainty-break.aiff':\n",
      "Duration: 00:00:01.08, start: 0.000000, bitrate: 1159 kb/s\n",
      "Stream #0:0: Audio: pcm_s24be, 48000 Hz, mono, s32 (24 bit), 1152 kb/s\n",
      "Stream mapping:\n",
      "Stream #0:0 (pcm_s24be) -> loudnorm\n",
      "loudnorm -> Stream #0:0 (pcm_s24le)\n",
      "Could not write header for output file #0 (incorrect codec parameters ?): Invalid argument\n",
      "Error initializing output stream 0:0 --\n",
      "[Parsed_loudnorm_0 @ 0x56543ae26840]\n",
      "{\n",
      "\"input_i\" : \"-inf\",\n",
      "\"input_tp\" : \"-inf\",\n",
      "\"input_lra\" : \"0.00\",\n",
      "\"input_thresh\" : \"-70.00\",\n",
      "\"output_i\" : \"-inf\",\n",
      "\"output_tp\" : \"-inf\",\n",
      "\"output_lra\" : \"0.00\",\n",
      "\"output_thresh\" : \"-70.00\",\n",
      "\"normalization_type\" : \"dynamic\",\n",
      "\"target_offset\" : \"inf\"\n",
      "}\n",
      "Conversion failed!\n"
     ]
    },
    {
     "name": "stdout",
     "output_type": "stream",
     "text": [
      "Command '['ffmpeg-normalize', '/mnt/freesound-crawler/downloads/128256__rebeat__dainty-break.aiff', '-o', '/mnt/freesound-crawler/processed/normalized/128256__rebeat__dainty-break.aiff']' returned non-zero exit status 1.\n"
     ]
    },
    {
     "name": "stderr",
     "output_type": "stream",
     "text": [
      "\u001b[31mERROR: Output extension flac does not support PCM audio. Please choose a suitable audio codec with the -c:a option.\u001b[0m\n"
     ]
    },
    {
     "name": "stdout",
     "output_type": "stream",
     "text": [
      "Command '['ffmpeg-normalize', '/mnt/freesound-crawler/downloads/59989__qubodup__swosh-02.flac', '-o', '/mnt/freesound-crawler/processed/normalized/59989__qubodup__swosh-02.flac']' returned non-zero exit status 1.\n"
     ]
    },
    {
     "name": "stderr",
     "output_type": "stream",
     "text": [
      "\u001b[31mERROR: Output extension mp3 does not support PCM audio. Please choose a suitable audio codec with the -c:a option.\u001b[0m\n"
     ]
    },
    {
     "name": "stdout",
     "output_type": "stream",
     "text": [
      "Command '['ffmpeg-normalize', '/mnt/freesound-crawler/downloads/618994__mrrap4food__gun-silencer.mp3', '-o', '/mnt/freesound-crawler/processed/normalized/618994__mrrap4food__gun-silencer.mp3']' returned non-zero exit status 1.\n"
     ]
    },
    {
     "name": "stderr",
     "output_type": "stream",
     "text": [
      "\u001b[31mERROR: Output extension mp3 does not support PCM audio. Please choose a suitable audio codec with the -c:a option.\u001b[0m\n"
     ]
    },
    {
     "name": "stdout",
     "output_type": "stream",
     "text": [
      "Command '['ffmpeg-normalize', '/mnt/freesound-crawler/downloads/463817__se2001__chipmunk-laugh.mp3', '-o', '/mnt/freesound-crawler/processed/normalized/463817__se2001__chipmunk-laugh.mp3']' returned non-zero exit status 1.\n"
     ]
    },
    {
     "name": "stderr",
     "output_type": "stream",
     "text": [
      "\u001b[31mERROR: Output extension ogg does not support PCM audio. Please choose a suitable audio codec with the -c:a option.\u001b[0m\n"
     ]
    },
    {
     "name": "stdout",
     "output_type": "stream",
     "text": [
      "Command '['ffmpeg-normalize', '/mnt/freesound-crawler/downloads/536732__egomassive__caw.ogg', '-o', '/mnt/freesound-crawler/processed/normalized/536732__egomassive__caw.ogg']' returned non-zero exit status 1.\n"
     ]
    },
    {
     "name": "stderr",
     "output_type": "stream",
     "text": [
      "\u001b[31mERROR: Output extension flac does not support PCM audio. Please choose a suitable audio codec with the -c:a option.\u001b[0m\n"
     ]
    },
    {
     "name": "stdout",
     "output_type": "stream",
     "text": [
      "Command '['ffmpeg-normalize', '/mnt/freesound-crawler/downloads/60002__qubodup__swoosh-15-windy.flac', '-o', '/mnt/freesound-crawler/processed/normalized/60002__qubodup__swoosh-15-windy.flac']' returned non-zero exit status 1.\n"
     ]
    },
    {
     "name": "stderr",
     "output_type": "stream",
     "text": [
      "\u001b[31mERROR: Output extension flac does not support PCM audio. Please choose a suitable audio codec with the -c:a option.\u001b[0m\n"
     ]
    },
    {
     "name": "stdout",
     "output_type": "stream",
     "text": [
      "Command '['ffmpeg-normalize', '/mnt/freesound-crawler/downloads/161343__qubodup__howitzer-artillery-gun-shot-sound-effect-01.flac', '-o', '/mnt/freesound-crawler/processed/normalized/161343__qubodup__howitzer-artillery-gun-shot-sound-effect-01.flac']' returned non-zero exit status 1.\n"
     ]
    },
    {
     "name": "stderr",
     "output_type": "stream",
     "text": [
      "\u001b[31mERROR: Output extension ogg does not support PCM audio. Please choose a suitable audio codec with the -c:a option.\u001b[0m\n"
     ]
    },
    {
     "name": "stdout",
     "output_type": "stream",
     "text": [
      "Command '['ffmpeg-normalize', '/mnt/freesound-crawler/downloads/349655__insanity54__c4-beep1.ogg', '-o', '/mnt/freesound-crawler/processed/normalized/349655__insanity54__c4-beep1.ogg']' returned non-zero exit status 1.\n"
     ]
    },
    {
     "name": "stderr",
     "output_type": "stream",
     "text": [
      "\u001b[31mERROR: Output extension ogg does not support PCM audio. Please choose a suitable audio codec with the -c:a option.\u001b[0m\n"
     ]
    },
    {
     "name": "stdout",
     "output_type": "stream",
     "text": [
      "Command '['ffmpeg-normalize', '/mnt/freesound-crawler/downloads/395360__ihitokage__hit-2.ogg', '-o', '/mnt/freesound-crawler/processed/normalized/395360__ihitokage__hit-2.ogg']' returned non-zero exit status 1.\n"
     ]
    },
    {
     "name": "stderr",
     "output_type": "stream",
     "text": [
      "\u001b[31mERROR: Output extension flac does not support PCM audio. Please choose a suitable audio codec with the -c:a option.\u001b[0m\n"
     ]
    },
    {
     "name": "stdout",
     "output_type": "stream",
     "text": [
      "Command '['ffmpeg-normalize', '/mnt/freesound-crawler/downloads/67662__qubodup__voice-male-radio-roger-that-2.flac', '-o', '/mnt/freesound-crawler/processed/normalized/67662__qubodup__voice-male-radio-roger-that-2.flac']' returned non-zero exit status 1.\n"
     ]
    },
    {
     "name": "stderr",
     "output_type": "stream",
     "text": [
      "\u001b[31mERROR: Output extension mp3 does not support PCM audio. Please choose a suitable audio codec with the -c:a option.\u001b[0m\n"
     ]
    },
    {
     "name": "stdout",
     "output_type": "stream",
     "text": [
      "Command '['ffmpeg-normalize', '/mnt/freesound-crawler/downloads/162470__kastenfrosch__sprunginnen.mp3', '-o', '/mnt/freesound-crawler/processed/normalized/162470__kastenfrosch__sprunginnen.mp3']' returned non-zero exit status 1.\n"
     ]
    },
    {
     "name": "stderr",
     "output_type": "stream",
     "text": [
      "\u001b[31mERROR: Output extension flac does not support PCM audio. Please choose a suitable audio codec with the -c:a option.\u001b[0m\n"
     ]
    },
    {
     "name": "stdout",
     "output_type": "stream",
     "text": [
      "Command '['ffmpeg-normalize', '/mnt/freesound-crawler/downloads/162402__qubodup__m203-grenade-launcher-1.flac', '-o', '/mnt/freesound-crawler/processed/normalized/162402__qubodup__m203-grenade-launcher-1.flac']' returned non-zero exit status 1.\n"
     ]
    },
    {
     "name": "stderr",
     "output_type": "stream",
     "text": [
      "\u001b[31mERROR: Output extension ogg does not support PCM audio. Please choose a suitable audio codec with the -c:a option.\u001b[0m\n"
     ]
    },
    {
     "name": "stdout",
     "output_type": "stream",
     "text": [
      "Command '['ffmpeg-normalize', '/mnt/freesound-crawler/downloads/395362__ihitokage__hit-6.ogg', '-o', '/mnt/freesound-crawler/processed/normalized/395362__ihitokage__hit-6.ogg']' returned non-zero exit status 1.\n"
     ]
    },
    {
     "name": "stderr",
     "output_type": "stream",
     "text": [
      "\u001b[31mERROR: Output extension mp3 does not support PCM audio. Please choose a suitable audio codec with the -c:a option.\u001b[0m\n"
     ]
    },
    {
     "name": "stdout",
     "output_type": "stream",
     "text": [
      "Command '['ffmpeg-normalize', '/mnt/freesound-crawler/downloads/323199__alivvie__welcome-back.mp3', '-o', '/mnt/freesound-crawler/processed/normalized/323199__alivvie__welcome-back.mp3']' returned non-zero exit status 1.\n",
      "Command '['ffmpeg-normalize', '/mnt/freesound-crawler/downloads/198248__unfa__laughter-04.flac', '-o', '/mnt/freesound-crawler/processed/normalized/198248__unfa__laughter-04.flac']' returned non-zero exit status 1.\n",
      "['188383.m4a', '473578.m4a', '329355.m4a', '396447.m4a', '69920.m4a', '3569.m4a', '244437.m4a', '194071.m4a', '404747.m4a', '164642.m4a', '341250.m4a', '220178.m4a', '406735.m4a', '13858.m4a', '9925.m4a', '325270.m4a', '508027.m4a', '194080.m4a', '158896.m4a', '194060.m4a', '381773.m4a', '433820.m4a', '386611.m4a', '325262.m4a', '11557.m4a', '272460.m4a', '166886.m4a', '190112.m4a', '422971.m4a', '361252.m4a', '194112.m4a', '25706.m4a', '341248.m4a', '336615.m4a', '153277.m4a', '3558.m4a', '140459.m4a', '233650.m4a', '190096.m4a', '422742.m4a', '548117.m4a', '69919.m4a', '404778.m4a', '436653.m4a', '148979.m4a', '148998.m4a', '9928.m4a', '334864.m4a', '14066.m4a', '341245.m4a', '220190.m4a', '78849.m4a', '406217.m4a', '582898.m4a', '330359.m4a', '245951.m4a', '164640.m4a', '25694.m4a', '135479.m4a', '100052.m4a', '433824.m4a', '425727.m4a', '194072.m4a', '402183.m4a', '336914.m4a', '220156.m4a', '582708.m4a', '233646.m4a', '445345.m4a', '341236.m4a', '153519.m4a', '346709.m4a', '433821.m4a', '233649.m4a', '13957.m4a', '244450.m4a', '194105.m4a', '341243.m4a', '99730.m4a', '25708.m4a', '316573.m4a', '206152.m4a', '346703.m4a', '25670.m4a', '233647.m4a', '341229.m4a', '404769.m4a', '8835.m4a', '404764.m4a', '13857.m4a', '220196.m4a', '443042.m4a', '507725.m4a', '233651.m4a', '180966.m4a', '13119.m4a', '13964.m4a', '346704.m4a']\n",
      "98\n"
     ]
    },
    {
     "name": "stderr",
     "output_type": "stream",
     "text": [
      "\u001b[31mERROR: Output extension flac does not support PCM audio. Please choose a suitable audio codec with the -c:a option.\u001b[0m\n"
     ]
    }
   ],
   "source": [
    "def process(command, cwd=\"/\"):\n",
    "    subprocess.check_output(command, cwd=cwd)\n",
    "\n",
    "res = []\n",
    "for filename in filenames:\n",
    "    try:\n",
    "        fileartist = filename.split(\"__\")[1].split(\"__\")[0]\n",
    "        fileid = filename.split('__')[0]\n",
    "        audiofilename = fileid + '.' + audiofileformat\n",
    "        \n",
    "        if samples[fileid]['duration'] > MAX_AUDIO_DURATION_MS:\n",
    "            continue\n",
    "\n",
    "        if audiofilename not in processedfilenames:\n",
    "            process(['ffmpeg-normalize', librarypath + filename, '-o', normalizedpath + filename])\n",
    "            process(['ffmpeg', '-loglevel', 'error', '-i', normalizedpath + filename, '-acodec', 'pcm_s16le', '-ac', '1', '-ar', '100', '-threads', '6', '-y', wavpath + fileid + '.wav'])\n",
    "            process(['ffmpeg', '-loglevel', 'error', '-i', normalizedpath + filename, '-c:a', 'aac', '-ar', '44100', '-threads', '6', '-y', audiopath + audiofilename])\n",
    "        \n",
    "        res.append(audiofilename)\n",
    "    except Exception as e:\n",
    "        print(e)\n",
    "\n",
    "filenames = res\n",
    "print(filenames)\n",
    "print(len(filenames))"
   ]
  },
  {
   "cell_type": "code",
   "execution_count": 11,
   "id": "87e1f329",
   "metadata": {},
   "outputs": [
    {
     "name": "stdout",
     "output_type": "stream",
     "text": [
      "0 / 98000\n",
      "0 / 98000\n"
     ]
    },
    {
     "name": "stderr",
     "output_type": "stream",
     "text": [
      "/home/andrus/Projects/breathic/dtw.py:28: RuntimeWarning: invalid value encountered in divide\n",
      "  normalized_samples = samples / max(samples)\n"
     ]
    },
    {
     "name": "stdout",
     "output_type": "stream",
     "text": [
      "0 / 98000\n",
      "0 / 98000\n",
      "0 / 98000\n",
      "0 / 98000\n",
      "0 / 98000\n",
      "0 / 98000\n",
      "0 / 98000\n",
      "0 / 98000\n",
      "0 / 98000\n",
      "0 / 98000\n"
     ]
    },
    {
     "name": "stderr",
     "output_type": "stream",
     "text": [
      "/home/andrus/Projects/breathic/dtw.py:28: RuntimeWarning: invalid value encountered in divide\n",
      "  normalized_samples = samples / max(samples)\n",
      "/home/andrus/Projects/breathic/dtw.py:28: RuntimeWarning: divide by zero encountered in divide\n",
      "  normalized_samples = samples / max(samples)\n"
     ]
    },
    {
     "name": "stdout",
     "output_type": "stream",
     "text": [
      "600 / 98000\n",
      "600 / 98000\n",
      "600 / 98000\n",
      "600 / 98000\n",
      "600 / 98000\n",
      "600 / 98000\n",
      "600\n"
     ]
    }
   ],
   "source": [
    "df = pd.DataFrame()\n",
    "out_distances = {}\n",
    "full_distances = []\n",
    "\n",
    "for leftfilename in filenames:\n",
    "    leftid = leftfilename.split('.')[0]\n",
    "    rightfilenames = filenames\n",
    "    \n",
    "    for righti, rightfilename in enumerate(rightfilenames):\n",
    "        if (len(full_distances) % 100) == 0 and righti == 0:\n",
    "            print(str(len(full_distances)) + \" / \" + str(len(filenames) * MAX_SAMPLE_COMPARISON_COUNT))\n",
    "            \n",
    "        if righti >= MAX_SAMPLE_COMPARISON_COUNT:\n",
    "            continue\n",
    "        \n",
    "        if leftfilename == rightfilename:\n",
    "            continue\n",
    "            \n",
    "        rightid = rightfilename.split('.')[0]\n",
    "            \n",
    "        try:\n",
    "            correlation = correlate(wavpath, leftid, rightid, 'wav', dtwpath)\n",
    "            \n",
    "            if math.isinf(float(correlation)):\n",
    "                continue\n",
    "                \n",
    "            if math.isnan(float(correlation)):\n",
    "                continue\n",
    "            \n",
    "            df.loc[leftid, rightid] = correlation\n",
    "            df.loc[rightid, leftid] = correlation\n",
    "\n",
    "            if leftid not in out_distances:\n",
    "                out_distances[leftid] = []\n",
    "            \n",
    "            duration = samples[leftid]['duration']\n",
    "            out_distances[leftid].append([correlation, duration, int(rightid)])\n",
    "            full_distances.append([correlation, leftid, rightid])\n",
    "\n",
    "        except Exception as e:\n",
    "            pass\n",
    "\n",
    "for filename in out_distances:\n",
    "    out_distances[filename] = sorted(out_distances[filename])\n",
    "    \n",
    "full_distances = sorted(full_distances)\n",
    "print(len(full_distances))"
   ]
  },
  {
   "cell_type": "code",
   "execution_count": 12,
   "id": "1b701c71",
   "metadata": {},
   "outputs": [],
   "source": [
    "delimiter = '|'\n",
    "samples = {}\n",
    "filtered_filenames = [f for f in os.listdir(dtwpath) if f.endswith('.dtw')]\n",
    "\n",
    "for filename in filtered_filenames:\n",
    "    filename = filename.split('.dtw')[0]\n",
    "    left, right = filename.split(delimiter)\n",
    "    \n",
    "    if left not in samples:\n",
    "        samples[left] = []\n",
    "        \n",
    "    if right not in samples:\n",
    "        samples[right] = []\n",
    "        \n",
    "    samples[left].append(right)\n",
    "    samples[right].append(left)"
   ]
  },
  {
   "cell_type": "code",
   "execution_count": 26,
   "id": "9f1df240",
   "metadata": {},
   "outputs": [],
   "source": [
    "BREATHE_OUT_RATE = 0.5\n",
    "saved = []\n",
    "\n",
    "for distance in full_distances:\n",
    "    leftid = distance[1]\n",
    "    \n",
    "    if leftid in saved:\n",
    "        continue\n",
    "\n",
    "    source = audiopath + leftid + '.' + audiofileformat\n",
    "    target = extensionsamplepath + leftid + '.' + audiofileformat\n",
    "    target_breathe_out = extensionsamplepath + leftid + '-breathe-out.' + audiofileformat\n",
    "    process(['cp', source, target])\n",
    "    process(['ffmpeg', '-loglevel', 'error', '-i', target, '-af', 'asetrate=44100*' + str(BREATHE_OUT_RATE) + ',aresample=44100,atempo=1/' + str(BREATHE_OUT_RATE), '-y', target_breathe_out])\n",
    "    saved.append(leftid)\n",
    "\n",
    "with open(extensionpath + 'distances.json', 'w') as fp:\n",
    "    json.dump(out_distances, fp)"
   ]
  },
  {
   "cell_type": "code",
   "execution_count": null,
   "id": "53c94ebc",
   "metadata": {},
   "outputs": [],
   "source": [
    "plot = sns.heatmap(df, xticklabels=False, yticklabels=False)\n",
    "handles, labels = plot.get_legend_handles_labels()\n",
    "plot.legend(reversed(handles), reversed(labels), title='', loc=\"lower right\")\n",
    "fig = plot.get_figure()\n",
    "fig.tight_layout()"
   ]
  },
  {
   "cell_type": "code",
   "execution_count": null,
   "id": "bf93cebc",
   "metadata": {},
   "outputs": [],
   "source": [
    "def show_audio(comparison):\n",
    "    distance, leftid, rightid = comparison\n",
    "    print(distance, leftid, rightid)\n",
    "\n",
    "    data, rate = librosa.core.load(audiopath + leftid + '.' + audiofileformat)\n",
    "    ipd.display(ipd.Audio(data, rate=rate))\n",
    "\n",
    "    data, rate = librosa.core.load(audiopath + rightid + '.' + audiofileformat)\n",
    "    ipd.display(ipd.Audio(data, rate=rate))\n",
    "\n",
    "display_count = 10\n",
    "for i in range(display_count):\n",
    "    if (i % 2) == 0:\n",
    "        show_audio(full_distances[i])\n",
    "        \n",
    "for i in range(display_count):\n",
    "    if (i % 2) == 0:\n",
    "        show_audio(full_distances[i - display_count])"
   ]
  },
  {
   "cell_type": "code",
   "execution_count": null,
   "id": "780146ef",
   "metadata": {},
   "outputs": [],
   "source": []
  }
 ],
 "metadata": {
  "kernelspec": {
   "display_name": "Python 3 (ipykernel)",
   "language": "python",
   "name": "python3"
  },
  "language_info": {
   "codemirror_mode": {
    "name": "ipython",
    "version": 3
   },
   "file_extension": ".py",
   "mimetype": "text/x-python",
   "name": "python",
   "nbconvert_exporter": "python",
   "pygments_lexer": "ipython3",
   "version": "3.9.2"
  }
 },
 "nbformat": 4,
 "nbformat_minor": 5
}
